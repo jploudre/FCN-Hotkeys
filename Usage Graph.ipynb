{
 "cells": [
  {
   "cell_type": "code",
   "execution_count": 77,
   "metadata": {},
   "outputs": [
    {
     "ename": "ModuleNotFoundError",
     "evalue": "No module named 'matplotlib'",
     "output_type": "error",
     "traceback": [
      "\u001b[0;31m---------------------------------------------------------------------------\u001b[0m",
      "\u001b[0;31mModuleNotFoundError\u001b[0m                       Traceback (most recent call last)",
      "\u001b[0;32m<ipython-input-77-f91a7a01920e>\u001b[0m in \u001b[0;36m<module>\u001b[0;34m\u001b[0m\n\u001b[1;32m      3\u001b[0m \u001b[0;34m\u001b[0m\u001b[0m\n\u001b[1;32m      4\u001b[0m \u001b[0;32mimport\u001b[0m \u001b[0mpandas\u001b[0m \u001b[0;32mas\u001b[0m \u001b[0mpd\u001b[0m\u001b[0;34m\u001b[0m\u001b[0;34m\u001b[0m\u001b[0m\n\u001b[0;32m----> 5\u001b[0;31m \u001b[0;32mimport\u001b[0m \u001b[0mmatplotlib\u001b[0m \u001b[0;32mas\u001b[0m \u001b[0mplt\u001b[0m\u001b[0;34m\u001b[0m\u001b[0;34m\u001b[0m\u001b[0m\n\u001b[0m\u001b[1;32m      6\u001b[0m \u001b[0;32mimport\u001b[0m \u001b[0maltair\u001b[0m \u001b[0;32mas\u001b[0m \u001b[0malt\u001b[0m\u001b[0;34m\u001b[0m\u001b[0;34m\u001b[0m\u001b[0m\n",
      "\u001b[0;31mModuleNotFoundError\u001b[0m: No module named 'matplotlib'"
     ]
    }
   ],
   "source": [
    "import glob as glob\n",
    "import datetime as datetime\n",
    "\n",
    "import pandas as pd\n",
    "import altair as alt"
   ]
  },
  {
   "cell_type": "code",
   "execution_count": 74,
   "metadata": {},
   "outputs": [],
   "source": [
    "df = pd.DataFrame()\n",
    "\n",
    "files = glob.iglob(\"./*.csv\")\n",
    "for file in files:\n",
    "    file_df = pd.read_csv(file, names=[\"User\",\"Date\"], parse_dates=[\"Date\"])\n",
    "    df = df.append(file_df)"
   ]
  },
  {
   "cell_type": "code",
   "execution_count": 94,
   "metadata": {},
   "outputs": [
    {
     "data": {
      "application/vnd.vegalite.v2+json": {
       "$schema": "https://vega.github.io/schema/vega-lite/v2.6.0.json",
       "config": {
        "view": {
         "height": 300,
         "width": 400
        }
       },
       "data": {
        "name": "data-1a2e053fe881c2f9cbe0b47fba9907b3"
       },
       "datasets": {
        "data-1a2e053fe881c2f9cbe0b47fba9907b3": [
         {
          "Date": "2019-01-22T00:00:00",
          "User": "jjallinson"
         },
         {
          "Date": "2019-01-24T00:00:00",
          "User": "jjallinson"
         },
         {
          "Date": "2019-01-09T00:00:00",
          "User": "kljacobs"
         },
         {
          "Date": "2019-01-09T00:00:00",
          "User": "kljacobs"
         },
         {
          "Date": "2019-01-09T00:00:00",
          "User": "kljacobs"
         },
         {
          "Date": "2019-01-09T00:00:00",
          "User": "kljacobs"
         },
         {
          "Date": "2019-01-09T00:00:00",
          "User": "kljacobs"
         },
         {
          "Date": "2019-01-09T00:00:00",
          "User": "kljacobs"
         },
         {
          "Date": "2019-01-09T00:00:00",
          "User": "kljacobs"
         },
         {
          "Date": "2019-01-09T00:00:00",
          "User": "kljacobs"
         },
         {
          "Date": "2019-01-09T00:00:00",
          "User": "kljacobs"
         },
         {
          "Date": "2019-01-18T00:00:00",
          "User": "kljacobs"
         },
         {
          "Date": "2019-01-22T00:00:00",
          "User": "kljacobs"
         },
         {
          "Date": "2019-01-22T00:00:00",
          "User": "kljacobs"
         },
         {
          "Date": "2019-01-22T00:00:00",
          "User": "kljacobs"
         },
         {
          "Date": "2019-01-22T00:00:00",
          "User": "kljacobs"
         },
         {
          "Date": "2019-01-22T00:00:00",
          "User": "kljacobs"
         },
         {
          "Date": "2019-01-22T00:00:00",
          "User": "kljacobs"
         },
         {
          "Date": "2019-01-22T00:00:00",
          "User": "kljacobs"
         },
         {
          "Date": "2019-01-22T00:00:00",
          "User": "kljacobs"
         },
         {
          "Date": "2019-01-22T00:00:00",
          "User": "kljacobs"
         },
         {
          "Date": "2019-01-22T00:00:00",
          "User": "kljacobs"
         },
         {
          "Date": "2019-01-22T00:00:00",
          "User": "kljacobs"
         },
         {
          "Date": "2019-01-22T00:00:00",
          "User": "kljacobs"
         },
         {
          "Date": "2019-01-22T00:00:00",
          "User": "kljacobs"
         },
         {
          "Date": "2019-01-22T00:00:00",
          "User": "kljacobs"
         },
         {
          "Date": "2019-01-22T00:00:00",
          "User": "kljacobs"
         },
         {
          "Date": "2019-01-22T00:00:00",
          "User": "kljacobs"
         },
         {
          "Date": "2019-01-22T00:00:00",
          "User": "srrutherford"
         },
         {
          "Date": "2019-01-23T00:00:00",
          "User": "klharris"
         },
         {
          "Date": "2019-01-08T00:00:00",
          "User": "sfumagalli1"
         },
         {
          "Date": "2019-01-16T00:00:00",
          "User": "sfumagalli1"
         },
         {
          "Date": "2019-01-08T00:00:00",
          "User": "pomclaughlin"
         },
         {
          "Date": "2019-01-08T00:00:00",
          "User": "pomclaughlin"
         },
         {
          "Date": "2019-01-09T00:00:00",
          "User": "pomclaughlin"
         },
         {
          "Date": "2019-01-10T00:00:00",
          "User": "cywu"
         },
         {
          "Date": "2019-01-10T00:00:00",
          "User": "cywu"
         },
         {
          "Date": "2019-01-10T00:00:00",
          "User": "cywu"
         },
         {
          "Date": "2019-01-10T00:00:00",
          "User": "cywu"
         },
         {
          "Date": "2019-01-14T00:00:00",
          "User": "cywu"
         },
         {
          "Date": "2019-01-15T00:00:00",
          "User": "cywu"
         },
         {
          "Date": "2019-01-15T00:00:00",
          "User": "cywu"
         },
         {
          "Date": "2019-01-17T00:00:00",
          "User": "cywu"
         },
         {
          "Date": "2019-01-22T00:00:00",
          "User": "cywu"
         },
         {
          "Date": "2019-01-23T00:00:00",
          "User": "cywu"
         },
         {
          "Date": "2019-01-24T00:00:00",
          "User": "cywu"
         },
         {
          "Date": "2019-01-10T00:00:00",
          "User": "dahall"
         },
         {
          "Date": "2019-01-11T00:00:00",
          "User": "dahall"
         },
         {
          "Date": "2019-01-13T00:00:00",
          "User": "dahall"
         },
         {
          "Date": "2019-01-14T00:00:00",
          "User": "dahall"
         },
         {
          "Date": "2019-01-15T00:00:00",
          "User": "dahall"
         },
         {
          "Date": "2019-01-16T00:00:00",
          "User": "dahall"
         },
         {
          "Date": "2019-01-17T00:00:00",
          "User": "dahall"
         },
         {
          "Date": "2019-01-17T00:00:00",
          "User": "dahall"
         },
         {
          "Date": "2019-01-18T00:00:00",
          "User": "dahall"
         },
         {
          "Date": "2019-01-19T00:00:00",
          "User": "dahall"
         },
         {
          "Date": "2019-01-21T00:00:00",
          "User": "dahall"
         },
         {
          "Date": "2019-01-22T00:00:00",
          "User": "dahall"
         },
         {
          "Date": "2019-01-23T00:00:00",
          "User": "dahall"
         },
         {
          "Date": "2019-01-24T00:00:00",
          "User": "dahall"
         },
         {
          "Date": "2019-01-23T00:00:00",
          "User": "jrjohnson"
         },
         {
          "Date": "2019-01-10T00:00:00",
          "User": "mhburden"
         },
         {
          "Date": "2019-01-22T00:00:00",
          "User": "jmwelty"
         },
         {
          "Date": "2019-01-22T00:00:00",
          "User": "jmwelty"
         },
         {
          "Date": "2019-01-22T00:00:00",
          "User": "jmwelty"
         },
         {
          "Date": "2019-01-22T00:00:00",
          "User": "jmwelty"
         },
         {
          "Date": "2019-01-23T00:00:00",
          "User": "jmwelty"
         },
         {
          "Date": "2019-01-18T00:00:00",
          "User": "jghansom"
         },
         {
          "Date": "2019-01-22T00:00:00",
          "User": "jghansom"
         },
         {
          "Date": "2019-01-23T00:00:00",
          "User": "jghansom"
         },
         {
          "Date": "2019-01-24T00:00:00",
          "User": "jghansom"
         },
         {
          "Date": "2019-01-22T00:00:00",
          "User": "ewbloom"
         },
         {
          "Date": "2019-01-22T00:00:00",
          "User": "ewbloom"
         },
         {
          "Date": "2019-01-21T00:00:00",
          "User": "kmcampbell"
         },
         {
          "Date": "2019-01-23T00:00:00",
          "User": "kmcampbell"
         },
         {
          "Date": "2019-01-24T00:00:00",
          "User": "kmcampbell"
         },
         {
          "Date": "2019-01-21T00:00:00",
          "User": "jghopper"
         },
         {
          "Date": "2019-01-23T00:00:00",
          "User": "jghopper"
         },
         {
          "Date": "2019-01-23T00:00:00",
          "User": "jghopper"
         },
         {
          "Date": "2019-01-18T00:00:00",
          "User": "keirish"
         },
         {
          "Date": "2019-01-11T00:00:00",
          "User": "jbradakovich"
         },
         {
          "Date": "2019-01-15T00:00:00",
          "User": "jbradakovich"
         },
         {
          "Date": "2019-01-15T00:00:00",
          "User": "jbradakovich"
         },
         {
          "Date": "2019-01-15T00:00:00",
          "User": "jbradakovich"
         },
         {
          "Date": "2019-01-15T00:00:00",
          "User": "jbradakovich"
         },
         {
          "Date": "2019-01-15T00:00:00",
          "User": "jbradakovich"
         },
         {
          "Date": "2019-01-20T00:00:00",
          "User": "jbradakovich"
         },
         {
          "Date": "2019-01-20T00:00:00",
          "User": "jbradakovich"
         },
         {
          "Date": "2019-01-20T00:00:00",
          "User": "jbradakovich"
         },
         {
          "Date": "2019-01-20T00:00:00",
          "User": "jbradakovich"
         },
         {
          "Date": "2019-01-21T00:00:00",
          "User": "jbradakovich"
         },
         {
          "Date": "2019-01-21T00:00:00",
          "User": "jbradakovich"
         },
         {
          "Date": "2019-01-21T00:00:00",
          "User": "jbradakovich"
         },
         {
          "Date": "2019-01-22T00:00:00",
          "User": "jbradakovich"
         },
         {
          "Date": "2019-01-22T00:00:00",
          "User": "jbradakovich"
         },
         {
          "Date": "2019-01-23T00:00:00",
          "User": "jbradakovich"
         },
         {
          "Date": "2019-01-24T00:00:00",
          "User": "jbradakovich"
         },
         {
          "Date": "2019-01-24T00:00:00",
          "User": "lcmuller"
         },
         {
          "Date": "2019-01-24T00:00:00",
          "User": "lcmuller"
         },
         {
          "Date": "2019-01-22T00:00:00",
          "User": "jjbloom"
         },
         {
          "Date": "2019-01-22T00:00:00",
          "User": "jjbloom"
         },
         {
          "Date": "2019-01-22T00:00:00",
          "User": "jjbloom"
         },
         {
          "Date": "2019-01-22T00:00:00",
          "User": "jjbloom"
         },
         {
          "Date": "2019-01-07T00:00:00",
          "User": "hlhoney"
         },
         {
          "Date": "2019-01-08T00:00:00",
          "User": "hlhoney"
         },
         {
          "Date": "2019-01-09T00:00:00",
          "User": "hlhoney"
         },
         {
          "Date": "2019-01-10T00:00:00",
          "User": "hlhoney"
         },
         {
          "Date": "2019-01-11T00:00:00",
          "User": "hlhoney"
         },
         {
          "Date": "2019-01-14T00:00:00",
          "User": "hlhoney"
         },
         {
          "Date": "2019-01-16T00:00:00",
          "User": "hlhoney"
         },
         {
          "Date": "2019-01-17T00:00:00",
          "User": "hlhoney"
         },
         {
          "Date": "2019-01-18T00:00:00",
          "User": "hlhoney"
         },
         {
          "Date": "2019-01-07T00:00:00",
          "User": "jwraduege"
         },
         {
          "Date": "2019-01-08T00:00:00",
          "User": "jwraduege"
         },
         {
          "Date": "2019-01-08T00:00:00",
          "User": "jwraduege"
         },
         {
          "Date": "2019-01-09T00:00:00",
          "User": "jwraduege"
         },
         {
          "Date": "2019-01-10T00:00:00",
          "User": "jwraduege"
         },
         {
          "Date": "2019-01-11T00:00:00",
          "User": "jwraduege"
         },
         {
          "Date": "2019-01-14T00:00:00",
          "User": "jwraduege"
         },
         {
          "Date": "2019-01-16T00:00:00",
          "User": "jwraduege"
         },
         {
          "Date": "2019-01-17T00:00:00",
          "User": "jwraduege"
         },
         {
          "Date": "2019-01-18T00:00:00",
          "User": "jwraduege"
         },
         {
          "Date": "2019-01-21T00:00:00",
          "User": "jwraduege"
         },
         {
          "Date": "2019-01-23T00:00:00",
          "User": "jwraduege"
         },
         {
          "Date": "2019-01-23T00:00:00",
          "User": "jwraduege"
         },
         {
          "Date": "2019-01-24T00:00:00",
          "User": "jwraduege"
         },
         {
          "Date": "2019-01-10T00:00:00",
          "User": "ahfloyd"
         },
         {
          "Date": "2019-01-11T00:00:00",
          "User": "ahfloyd"
         },
         {
          "Date": "2019-01-18T00:00:00",
          "User": "ahfloyd"
         },
         {
          "Date": "2019-01-18T00:00:00",
          "User": "ahfloyd"
         },
         {
          "Date": "2019-01-21T00:00:00",
          "User": "ahfloyd"
         },
         {
          "Date": "2019-01-23T00:00:00",
          "User": "ahfloyd"
         },
         {
          "Date": "2019-01-23T00:00:00",
          "User": "ahfloyd"
         },
         {
          "Date": "2019-01-24T00:00:00",
          "User": "ahfloyd"
         },
         {
          "Date": "2019-01-09T00:00:00",
          "User": "mrshapiro"
         },
         {
          "Date": "2019-01-09T00:00:00",
          "User": "mrshapiro"
         },
         {
          "Date": "2019-01-09T00:00:00",
          "User": "mrshapiro"
         },
         {
          "Date": "2019-01-09T00:00:00",
          "User": "mrshapiro"
         },
         {
          "Date": "2019-01-09T00:00:00",
          "User": "mrshapiro"
         },
         {
          "Date": "2019-01-09T00:00:00",
          "User": "mrshapiro"
         },
         {
          "Date": "2019-01-09T00:00:00",
          "User": "mrshapiro"
         },
         {
          "Date": "2019-01-09T00:00:00",
          "User": "mrshapiro"
         },
         {
          "Date": "2019-01-09T00:00:00",
          "User": "mrshapiro"
         },
         {
          "Date": "2019-01-09T00:00:00",
          "User": "mrshapiro"
         },
         {
          "Date": "2019-01-09T00:00:00",
          "User": "mrshapiro"
         },
         {
          "Date": "2019-01-09T00:00:00",
          "User": "mrshapiro"
         },
         {
          "Date": "2019-01-09T00:00:00",
          "User": "mrshapiro"
         },
         {
          "Date": "2019-01-09T00:00:00",
          "User": "mrshapiro"
         },
         {
          "Date": "2019-01-09T00:00:00",
          "User": "mrshapiro"
         },
         {
          "Date": "2019-01-09T00:00:00",
          "User": "mrshapiro"
         },
         {
          "Date": "2019-01-09T00:00:00",
          "User": "mrshapiro"
         },
         {
          "Date": "2019-01-09T00:00:00",
          "User": "mrshapiro"
         },
         {
          "Date": "2019-01-10T00:00:00",
          "User": "mrshapiro"
         },
         {
          "Date": "2019-01-10T00:00:00",
          "User": "mrshapiro"
         },
         {
          "Date": "2019-01-10T00:00:00",
          "User": "mrshapiro"
         },
         {
          "Date": "2019-01-10T00:00:00",
          "User": "mrshapiro"
         },
         {
          "Date": "2019-01-10T00:00:00",
          "User": "mrshapiro"
         },
         {
          "Date": "2019-01-10T00:00:00",
          "User": "mrshapiro"
         },
         {
          "Date": "2019-01-11T00:00:00",
          "User": "mrshapiro"
         },
         {
          "Date": "2019-01-14T00:00:00",
          "User": "mrshapiro"
         },
         {
          "Date": "2019-01-14T00:00:00",
          "User": "mrshapiro"
         },
         {
          "Date": "2019-01-14T00:00:00",
          "User": "mrshapiro"
         },
         {
          "Date": "2019-01-14T00:00:00",
          "User": "mrshapiro"
         },
         {
          "Date": "2019-01-15T00:00:00",
          "User": "mrshapiro"
         },
         {
          "Date": "2019-01-16T00:00:00",
          "User": "mrshapiro"
         },
         {
          "Date": "2019-01-17T00:00:00",
          "User": "mrshapiro"
         },
         {
          "Date": "2019-01-17T00:00:00",
          "User": "mrshapiro"
         },
         {
          "Date": "2019-01-18T00:00:00",
          "User": "mrshapiro"
         },
         {
          "Date": "2019-01-18T00:00:00",
          "User": "mrshapiro"
         },
         {
          "Date": "2019-01-21T00:00:00",
          "User": "mrshapiro"
         },
         {
          "Date": "2019-01-22T00:00:00",
          "User": "mrshapiro"
         },
         {
          "Date": "2019-01-23T00:00:00",
          "User": "mrshapiro"
         },
         {
          "Date": "2019-01-23T00:00:00",
          "User": "mrshapiro"
         },
         {
          "Date": "2019-01-24T00:00:00",
          "User": "mrshapiro"
         },
         {
          "Date": "2019-01-24T00:00:00",
          "User": "mrshapiro"
         },
         {
          "Date": "2019-01-20T00:00:00",
          "User": "jlklassen"
         },
         {
          "Date": "2019-01-20T00:00:00",
          "User": "jlklassen"
         },
         {
          "Date": "2019-01-21T00:00:00",
          "User": "jlklassen"
         },
         {
          "Date": "2019-01-22T00:00:00",
          "User": "jlklassen"
         },
         {
          "Date": "2019-01-22T00:00:00",
          "User": "jlklassen"
         },
         {
          "Date": "2019-01-22T00:00:00",
          "User": "jlklassen"
         },
         {
          "Date": "2019-01-23T00:00:00",
          "User": "jlklassen"
         },
         {
          "Date": "2019-01-23T00:00:00",
          "User": "jlklassen"
         },
         {
          "Date": "2019-01-23T00:00:00",
          "User": "jlklassen"
         },
         {
          "Date": "2019-01-23T00:00:00",
          "User": "jlklassen"
         },
         {
          "Date": "2019-01-15T00:00:00",
          "User": "ergaylord"
         },
         {
          "Date": "2019-01-08T00:00:00",
          "User": "rprieger"
         },
         {
          "Date": "2019-01-10T00:00:00",
          "User": "rprieger"
         },
         {
          "Date": "2019-01-08T00:00:00",
          "User": "febjorseth"
         },
         {
          "Date": "2019-01-08T00:00:00",
          "User": "febjorseth"
         },
         {
          "Date": "2019-01-22T00:00:00",
          "User": "lvfox"
         },
         {
          "Date": "2019-01-08T00:00:00",
          "User": "shein"
         },
         {
          "Date": "2019-01-09T00:00:00",
          "User": "shein"
         },
         {
          "Date": "2019-01-10T00:00:00",
          "User": "shein"
         },
         {
          "Date": "2019-01-14T00:00:00",
          "User": "shein"
         },
         {
          "Date": "2019-01-15T00:00:00",
          "User": "shein"
         },
         {
          "Date": "2019-01-16T00:00:00",
          "User": "shein"
         },
         {
          "Date": "2019-01-17T00:00:00",
          "User": "shein"
         },
         {
          "Date": "2019-01-11T00:00:00",
          "User": "fha10"
         },
         {
          "Date": "2019-01-09T00:00:00",
          "User": "hcviereck"
         },
         {
          "Date": "2019-01-22T00:00:00",
          "User": "arsnyder"
         },
         {
          "Date": "2019-01-23T00:00:00",
          "User": "mgboyd"
         },
         {
          "Date": "2019-01-06T00:00:00",
          "User": "kdokeefe"
         },
         {
          "Date": "2019-01-06T00:00:00",
          "User": "kdokeefe"
         },
         {
          "Date": "2019-01-07T00:00:00",
          "User": "kdokeefe"
         },
         {
          "Date": "2019-01-08T00:00:00",
          "User": "kdokeefe"
         },
         {
          "Date": "2019-01-08T00:00:00",
          "User": "kdokeefe"
         },
         {
          "Date": "2019-01-09T00:00:00",
          "User": "kdokeefe"
         },
         {
          "Date": "2019-01-09T00:00:00",
          "User": "kdokeefe"
         },
         {
          "Date": "2019-01-10T00:00:00",
          "User": "kdokeefe"
         },
         {
          "Date": "2019-01-13T00:00:00",
          "User": "kdokeefe"
         },
         {
          "Date": "2019-01-14T00:00:00",
          "User": "kdokeefe"
         },
         {
          "Date": "2019-01-14T00:00:00",
          "User": "kdokeefe"
         },
         {
          "Date": "2019-01-15T00:00:00",
          "User": "kdokeefe"
         },
         {
          "Date": "2019-01-17T00:00:00",
          "User": "kdokeefe"
         },
         {
          "Date": "2019-01-19T00:00:00",
          "User": "kdokeefe"
         },
         {
          "Date": "2019-01-20T00:00:00",
          "User": "kdokeefe"
         },
         {
          "Date": "2019-01-21T00:00:00",
          "User": "kdokeefe"
         },
         {
          "Date": "2019-01-21T00:00:00",
          "User": "kdokeefe"
         },
         {
          "Date": "2019-01-22T00:00:00",
          "User": "kdokeefe"
         },
         {
          "Date": "2019-01-23T00:00:00",
          "User": "kdokeefe"
         },
         {
          "Date": "2019-01-24T00:00:00",
          "User": "kdokeefe"
         },
         {
          "Date": "2019-01-08T00:00:00",
          "User": "ljhartwell"
         },
         {
          "Date": "2019-01-08T00:00:00",
          "User": "ljhartwell"
         },
         {
          "Date": "2019-01-08T00:00:00",
          "User": "ljhartwell"
         },
         {
          "Date": "2019-01-08T00:00:00",
          "User": "ljhartwell"
         },
         {
          "Date": "2019-01-08T00:00:00",
          "User": "sjalexande"
         },
         {
          "Date": "2019-01-11T00:00:00",
          "User": "mmlelonek"
         },
         {
          "Date": "2019-01-11T00:00:00",
          "User": "mmlelonek"
         },
         {
          "Date": "2019-01-11T00:00:00",
          "User": "mmlelonek"
         },
         {
          "Date": "2019-01-11T00:00:00",
          "User": "mmlelonek"
         },
         {
          "Date": "2019-01-09T00:00:00",
          "User": "amwalls"
         },
         {
          "Date": "2019-01-10T00:00:00",
          "User": "amwalls"
         },
         {
          "Date": "2019-01-11T00:00:00",
          "User": "amwalls"
         },
         {
          "Date": "2019-01-13T00:00:00",
          "User": "amwalls"
         },
         {
          "Date": "2019-01-14T00:00:00",
          "User": "amwalls"
         },
         {
          "Date": "2019-01-14T00:00:00",
          "User": "amwalls"
         },
         {
          "Date": "2019-01-16T00:00:00",
          "User": "amwalls"
         },
         {
          "Date": "2019-01-17T00:00:00",
          "User": "amwalls"
         },
         {
          "Date": "2019-01-18T00:00:00",
          "User": "amwalls"
         },
         {
          "Date": "2019-01-21T00:00:00",
          "User": "amwalls"
         },
         {
          "Date": "2019-01-21T00:00:00",
          "User": "amwalls"
         },
         {
          "Date": "2019-01-23T00:00:00",
          "User": "amwalls"
         },
         {
          "Date": "2019-01-23T00:00:00",
          "User": "amwalls"
         },
         {
          "Date": "2019-01-24T00:00:00",
          "User": "amwalls"
         },
         {
          "Date": "2019-01-08T00:00:00",
          "User": "lmvanhofwegen"
         },
         {
          "Date": "2019-01-10T00:00:00",
          "User": "lmvanhofwegen"
         },
         {
          "Date": "2019-01-10T00:00:00",
          "User": "lmvanhofwegen"
         },
         {
          "Date": "2019-01-14T00:00:00",
          "User": "lmvanhofwegen"
         },
         {
          "Date": "2019-01-14T00:00:00",
          "User": "lmvanhofwegen"
         },
         {
          "Date": "2019-01-15T00:00:00",
          "User": "lmvanhofwegen"
         },
         {
          "Date": "2019-01-17T00:00:00",
          "User": "lmvanhofwegen"
         },
         {
          "Date": "2019-01-21T00:00:00",
          "User": "lmvanhofwegen"
         },
         {
          "Date": "2019-01-22T00:00:00",
          "User": "lmvanhofwegen"
         },
         {
          "Date": "2019-01-22T00:00:00",
          "User": "lmvanhofwegen"
         },
         {
          "Date": "2019-01-24T00:00:00",
          "User": "lmvanhofwegen"
         },
         {
          "Date": "2019-01-08T00:00:00",
          "User": "masweeney"
         },
         {
          "Date": "2019-01-23T00:00:00",
          "User": "hmcoe"
         },
         {
          "Date": "2019-01-24T00:00:00",
          "User": "hmcoe"
         },
         {
          "Date": "2019-01-06T00:00:00",
          "User": "rrhoney"
         },
         {
          "Date": "2019-01-07T00:00:00",
          "User": "rrhoney"
         },
         {
          "Date": "2019-01-07T00:00:00",
          "User": "rrhoney"
         },
         {
          "Date": "2019-01-08T00:00:00",
          "User": "rrhoney"
         },
         {
          "Date": "2019-01-10T00:00:00",
          "User": "rrhoney"
         },
         {
          "Date": "2019-01-10T00:00:00",
          "User": "rrhoney"
         },
         {
          "Date": "2019-01-10T00:00:00",
          "User": "rrhoney"
         },
         {
          "Date": "2019-01-11T00:00:00",
          "User": "rrhoney"
         },
         {
          "Date": "2019-01-11T00:00:00",
          "User": "rrhoney"
         },
         {
          "Date": "2019-01-14T00:00:00",
          "User": "rrhoney"
         },
         {
          "Date": "2019-01-15T00:00:00",
          "User": "rrhoney"
         },
         {
          "Date": "2019-01-16T00:00:00",
          "User": "rrhoney"
         },
         {
          "Date": "2019-01-16T00:00:00",
          "User": "rrhoney"
         },
         {
          "Date": "2019-01-16T00:00:00",
          "User": "rrhoney"
         },
         {
          "Date": "2019-01-17T00:00:00",
          "User": "rrhoney"
         },
         {
          "Date": "2019-01-18T00:00:00",
          "User": "rrhoney"
         },
         {
          "Date": "2019-01-18T00:00:00",
          "User": "rrhoney"
         },
         {
          "Date": "2019-01-21T00:00:00",
          "User": "rrhoney"
         },
         {
          "Date": "2019-01-09T00:00:00",
          "User": "sgyengich"
         },
         {
          "Date": "2019-01-24T00:00:00",
          "User": "sgyengich"
         },
         {
          "Date": "2019-01-08T00:00:00",
          "User": "slfalkowski"
         },
         {
          "Date": "2019-01-23T00:00:00",
          "User": "slfalkowski"
         },
         {
          "Date": "2019-01-23T00:00:00",
          "User": "slfalkowski"
         },
         {
          "Date": "2019-01-23T00:00:00",
          "User": "slfalkowski"
         },
         {
          "Date": "2019-01-23T00:00:00",
          "User": "slfalkowski"
         },
         {
          "Date": "2019-01-23T00:00:00",
          "User": "slfalkowski"
         },
         {
          "Date": "2019-01-23T00:00:00",
          "User": "slfalkowski"
         },
         {
          "Date": "2019-01-07T00:00:00",
          "User": "llsauve"
         },
         {
          "Date": "2019-01-08T00:00:00",
          "User": "llsauve"
         },
         {
          "Date": "2019-01-08T00:00:00",
          "User": "llsauve"
         },
         {
          "Date": "2019-01-09T00:00:00",
          "User": "llsauve"
         },
         {
          "Date": "2019-01-10T00:00:00",
          "User": "llsauve"
         },
         {
          "Date": "2019-01-11T00:00:00",
          "User": "llsauve"
         },
         {
          "Date": "2019-01-12T00:00:00",
          "User": "llsauve"
         },
         {
          "Date": "2019-01-12T00:00:00",
          "User": "llsauve"
         },
         {
          "Date": "2019-01-13T00:00:00",
          "User": "llsauve"
         },
         {
          "Date": "2019-01-14T00:00:00",
          "User": "llsauve"
         },
         {
          "Date": "2019-01-14T00:00:00",
          "User": "llsauve"
         },
         {
          "Date": "2019-01-15T00:00:00",
          "User": "llsauve"
         },
         {
          "Date": "2019-01-16T00:00:00",
          "User": "llsauve"
         },
         {
          "Date": "2019-01-17T00:00:00",
          "User": "llsauve"
         },
         {
          "Date": "2019-01-18T00:00:00",
          "User": "llsauve"
         },
         {
          "Date": "2019-01-19T00:00:00",
          "User": "llsauve"
         },
         {
          "Date": "2019-01-20T00:00:00",
          "User": "llsauve"
         },
         {
          "Date": "2019-01-21T00:00:00",
          "User": "llsauve"
         },
         {
          "Date": "2019-01-21T00:00:00",
          "User": "llsauve"
         },
         {
          "Date": "2019-01-22T00:00:00",
          "User": "llsauve"
         },
         {
          "Date": "2019-01-23T00:00:00",
          "User": "llsauve"
         },
         {
          "Date": "2019-01-23T00:00:00",
          "User": "llsauve"
         },
         {
          "Date": "2019-01-24T00:00:00",
          "User": "llsauve"
         },
         {
          "Date": "2019-01-23T00:00:00",
          "User": "healthco"
         },
         {
          "Date": "2019-01-08T00:00:00",
          "User": "rjanderson"
         },
         {
          "Date": "2019-01-08T00:00:00",
          "User": "rjanderson"
         },
         {
          "Date": "2019-01-15T00:00:00",
          "User": "rjanderson"
         },
         {
          "Date": "2019-01-22T00:00:00",
          "User": "rjanderson"
         },
         {
          "Date": "2019-01-22T00:00:00",
          "User": "rjanderson"
         },
         {
          "Date": "2019-01-23T00:00:00",
          "User": "rjanderson"
         },
         {
          "Date": "2019-01-24T00:00:00",
          "User": "rjanderson"
         },
         {
          "Date": "2019-01-24T00:00:00",
          "User": "rjanderson"
         },
         {
          "Date": "2019-01-10T00:00:00",
          "User": "akwakefield"
         },
         {
          "Date": "2019-01-24T00:00:00",
          "User": "akwakefield"
         },
         {
          "Date": "2019-01-21T00:00:00",
          "User": "eprieger"
         },
         {
          "Date": "2019-01-22T00:00:00",
          "User": "eprieger"
         },
         {
          "Date": "2019-01-23T00:00:00",
          "User": "eprieger"
         },
         {
          "Date": "2019-01-16T00:00:00",
          "User": "fha4"
         },
         {
          "Date": "2019-01-15T00:00:00",
          "User": "tldingle"
         },
         {
          "Date": "2019-01-23T00:00:00",
          "User": "aabogaards"
         },
         {
          "Date": "2019-01-08T00:00:00",
          "User": "mafleming"
         },
         {
          "Date": "2019-01-17T00:00:00",
          "User": "mafleming"
         },
         {
          "Date": "2019-01-21T00:00:00",
          "User": "mafleming"
         },
         {
          "Date": "2019-01-22T00:00:00",
          "User": "mafleming"
         },
         {
          "Date": "2019-01-22T00:00:00",
          "User": "mafleming"
         },
         {
          "Date": "2019-01-22T00:00:00",
          "User": "mafleming"
         },
         {
          "Date": "2019-01-23T00:00:00",
          "User": "mafleming"
         },
         {
          "Date": "2019-01-23T00:00:00",
          "User": "mafleming"
         },
         {
          "Date": "2019-01-24T00:00:00",
          "User": "mafleming"
         },
         {
          "Date": "2019-01-24T00:00:00",
          "User": "mafleming"
         },
         {
          "Date": "2019-01-16T00:00:00",
          "User": "fha5"
         },
         {
          "Date": "2019-01-23T00:00:00",
          "User": "jtshort"
         },
         {
          "Date": "2019-01-24T00:00:00",
          "User": "jtshort"
         },
         {
          "Date": "2019-01-24T00:00:00",
          "User": "jtshort"
         },
         {
          "Date": "2019-01-08T00:00:00",
          "User": "avlittle"
         },
         {
          "Date": "2019-01-09T00:00:00",
          "User": "avlittle"
         },
         {
          "Date": "2019-01-10T00:00:00",
          "User": "avlittle"
         },
         {
          "Date": "2019-01-11T00:00:00",
          "User": "avlittle"
         },
         {
          "Date": "2019-01-11T00:00:00",
          "User": "avlittle"
         },
         {
          "Date": "2019-01-13T00:00:00",
          "User": "avlittle"
         },
         {
          "Date": "2019-01-14T00:00:00",
          "User": "avlittle"
         },
         {
          "Date": "2019-01-15T00:00:00",
          "User": "avlittle"
         },
         {
          "Date": "2019-01-16T00:00:00",
          "User": "avlittle"
         },
         {
          "Date": "2019-01-18T00:00:00",
          "User": "avlittle"
         },
         {
          "Date": "2019-01-18T00:00:00",
          "User": "avlittle"
         },
         {
          "Date": "2019-01-20T00:00:00",
          "User": "avlittle"
         },
         {
          "Date": "2019-01-22T00:00:00",
          "User": "avlittle"
         },
         {
          "Date": "2019-01-22T00:00:00",
          "User": "avlittle"
         },
         {
          "Date": "2019-01-23T00:00:00",
          "User": "avlittle"
         },
         {
          "Date": "2019-01-23T00:00:00",
          "User": "avlittle"
         },
         {
          "Date": "2019-01-06T00:00:00",
          "User": "jkploudre"
         },
         {
          "Date": "2019-01-06T00:00:00",
          "User": "jkploudre"
         },
         {
          "Date": "2019-01-08T00:00:00",
          "User": "jkploudre"
         },
         {
          "Date": "2019-01-08T00:00:00",
          "User": "jkploudre"
         },
         {
          "Date": "2019-01-09T00:00:00",
          "User": "jkploudre"
         },
         {
          "Date": "2019-01-10T00:00:00",
          "User": "jkploudre"
         },
         {
          "Date": "2019-01-11T00:00:00",
          "User": "jkploudre"
         },
         {
          "Date": "2019-01-15T00:00:00",
          "User": "jkploudre"
         },
         {
          "Date": "2019-01-16T00:00:00",
          "User": "jkploudre"
         },
         {
          "Date": "2019-01-17T00:00:00",
          "User": "jkploudre"
         },
         {
          "Date": "2019-01-17T00:00:00",
          "User": "jkploudre"
         },
         {
          "Date": "2019-01-17T00:00:00",
          "User": "jkploudre"
         },
         {
          "Date": "2019-01-17T00:00:00",
          "User": "jkploudre"
         },
         {
          "Date": "2019-01-18T00:00:00",
          "User": "jkploudre"
         },
         {
          "Date": "2019-01-20T00:00:00",
          "User": "jkploudre"
         },
         {
          "Date": "2019-01-20T00:00:00",
          "User": "jkploudre"
         },
         {
          "Date": "2019-01-22T00:00:00",
          "User": "jkploudre"
         },
         {
          "Date": "2019-01-23T00:00:00",
          "User": "jkploudre"
         },
         {
          "Date": "2019-01-23T00:00:00",
          "User": "jkploudre"
         },
         {
          "Date": "2019-01-24T00:00:00",
          "User": "jkploudre"
         },
         {
          "Date": "2019-01-24T00:00:00",
          "User": "jkploudre"
         },
         {
          "Date": "2019-01-22T00:00:00",
          "User": "dmroessler"
         },
         {
          "Date": "2019-01-23T00:00:00",
          "User": "dmroessler"
         },
         {
          "Date": "2019-01-22T00:00:00",
          "User": "arybak"
         },
         {
          "Date": "2019-01-06T00:00:00",
          "User": "gjanderson"
         },
         {
          "Date": "2019-01-07T00:00:00",
          "User": "gjanderson"
         },
         {
          "Date": "2019-01-07T00:00:00",
          "User": "gjanderson"
         },
         {
          "Date": "2019-01-08T00:00:00",
          "User": "gjanderson"
         },
         {
          "Date": "2019-01-08T00:00:00",
          "User": "gjanderson"
         },
         {
          "Date": "2019-01-09T00:00:00",
          "User": "gjanderson"
         },
         {
          "Date": "2019-01-09T00:00:00",
          "User": "gjanderson"
         },
         {
          "Date": "2019-01-09T00:00:00",
          "User": "gjanderson"
         },
         {
          "Date": "2019-01-10T00:00:00",
          "User": "gjanderson"
         },
         {
          "Date": "2019-01-10T00:00:00",
          "User": "gjanderson"
         },
         {
          "Date": "2019-01-10T00:00:00",
          "User": "gjanderson"
         },
         {
          "Date": "2019-01-11T00:00:00",
          "User": "gjanderson"
         },
         {
          "Date": "2019-01-12T00:00:00",
          "User": "gjanderson"
         },
         {
          "Date": "2019-01-13T00:00:00",
          "User": "gjanderson"
         },
         {
          "Date": "2019-01-14T00:00:00",
          "User": "gjanderson"
         },
         {
          "Date": "2019-01-14T00:00:00",
          "User": "gjanderson"
         },
         {
          "Date": "2019-01-15T00:00:00",
          "User": "gjanderson"
         },
         {
          "Date": "2019-01-16T00:00:00",
          "User": "gjanderson"
         },
         {
          "Date": "2019-01-16T00:00:00",
          "User": "gjanderson"
         },
         {
          "Date": "2019-01-17T00:00:00",
          "User": "gjanderson"
         },
         {
          "Date": "2019-01-17T00:00:00",
          "User": "gjanderson"
         },
         {
          "Date": "2019-01-17T00:00:00",
          "User": "gjanderson"
         },
         {
          "Date": "2019-01-17T00:00:00",
          "User": "gjanderson"
         },
         {
          "Date": "2019-01-17T00:00:00",
          "User": "gjanderson"
         },
         {
          "Date": "2019-01-17T00:00:00",
          "User": "gjanderson"
         },
         {
          "Date": "2019-01-18T00:00:00",
          "User": "gjanderson"
         },
         {
          "Date": "2019-01-19T00:00:00",
          "User": "gjanderson"
         },
         {
          "Date": "2019-01-19T00:00:00",
          "User": "gjanderson"
         },
         {
          "Date": "2019-01-19T00:00:00",
          "User": "gjanderson"
         },
         {
          "Date": "2019-01-20T00:00:00",
          "User": "gjanderson"
         },
         {
          "Date": "2019-01-20T00:00:00",
          "User": "gjanderson"
         },
         {
          "Date": "2019-01-21T00:00:00",
          "User": "gjanderson"
         },
         {
          "Date": "2019-01-21T00:00:00",
          "User": "gjanderson"
         },
         {
          "Date": "2019-01-21T00:00:00",
          "User": "gjanderson"
         },
         {
          "Date": "2019-01-21T00:00:00",
          "User": "gjanderson"
         },
         {
          "Date": "2019-01-22T00:00:00",
          "User": "gjanderson"
         },
         {
          "Date": "2019-01-22T00:00:00",
          "User": "gjanderson"
         },
         {
          "Date": "2019-01-23T00:00:00",
          "User": "gjanderson"
         },
         {
          "Date": "2019-01-23T00:00:00",
          "User": "gjanderson"
         },
         {
          "Date": "2019-01-24T00:00:00",
          "User": "gjanderson"
         },
         {
          "Date": "2019-01-24T00:00:00",
          "User": "gjanderson"
         },
         {
          "Date": "2019-01-22T00:00:00",
          "User": "kjcampbell"
         },
         {
          "Date": "2019-01-23T00:00:00",
          "User": "amtripp"
         },
         {
          "Date": "2019-01-23T00:00:00",
          "User": "amtripp"
         },
         {
          "Date": "2019-01-23T00:00:00",
          "User": "amtripp"
         },
         {
          "Date": "2019-01-23T00:00:00",
          "User": "amtripp"
         },
         {
          "Date": "2019-01-23T00:00:00",
          "User": "amtripp"
         },
         {
          "Date": "2019-01-23T00:00:00",
          "User": "amtripp"
         },
         {
          "Date": "2019-01-23T00:00:00",
          "User": "amtripp"
         },
         {
          "Date": "2019-01-23T00:00:00",
          "User": "amtripp"
         },
         {
          "Date": "2019-01-07T00:00:00",
          "User": "wsnyder"
         },
         {
          "Date": "2019-01-08T00:00:00",
          "User": "wsnyder"
         },
         {
          "Date": "2019-01-09T00:00:00",
          "User": "wsnyder"
         },
         {
          "Date": "2019-01-09T00:00:00",
          "User": "wsnyder"
         },
         {
          "Date": "2019-01-09T00:00:00",
          "User": "wsnyder"
         },
         {
          "Date": "2019-01-09T00:00:00",
          "User": "wsnyder"
         },
         {
          "Date": "2019-01-10T00:00:00",
          "User": "wsnyder"
         },
         {
          "Date": "2019-01-10T00:00:00",
          "User": "wsnyder"
         },
         {
          "Date": "2019-01-11T00:00:00",
          "User": "wsnyder"
         },
         {
          "Date": "2019-01-13T00:00:00",
          "User": "wsnyder"
         },
         {
          "Date": "2019-01-14T00:00:00",
          "User": "wsnyder"
         },
         {
          "Date": "2019-01-14T00:00:00",
          "User": "wsnyder"
         },
         {
          "Date": "2019-01-15T00:00:00",
          "User": "wsnyder"
         },
         {
          "Date": "2019-01-15T00:00:00",
          "User": "wsnyder"
         },
         {
          "Date": "2019-01-16T00:00:00",
          "User": "wsnyder"
         },
         {
          "Date": "2019-01-17T00:00:00",
          "User": "wsnyder"
         },
         {
          "Date": "2019-01-18T00:00:00",
          "User": "wsnyder"
         },
         {
          "Date": "2019-01-18T00:00:00",
          "User": "wsnyder"
         },
         {
          "Date": "2019-01-18T00:00:00",
          "User": "wsnyder"
         },
         {
          "Date": "2019-01-18T00:00:00",
          "User": "wsnyder"
         },
         {
          "Date": "2019-01-19T00:00:00",
          "User": "wsnyder"
         },
         {
          "Date": "2019-01-24T00:00:00",
          "User": "hllockwood"
         },
         {
          "Date": "2019-01-24T00:00:00",
          "User": "hllockwood"
         },
         {
          "Date": "2019-01-24T00:00:00",
          "User": "hllockwood"
         },
         {
          "Date": "2019-01-21T00:00:00",
          "User": "lclark"
         },
         {
          "Date": "2019-01-23T00:00:00",
          "User": "lclark"
         },
         {
          "Date": "2019-01-23T00:00:00",
          "User": "lclark"
         },
         {
          "Date": "2019-01-24T00:00:00",
          "User": "lclark"
         },
         {
          "Date": "2019-01-15T00:00:00",
          "User": "jcgamson"
         },
         {
          "Date": "2019-01-21T00:00:00",
          "User": "jcgamson"
         },
         {
          "Date": "2019-01-23T00:00:00",
          "User": "jcgamson"
         },
         {
          "Date": "2019-01-24T00:00:00",
          "User": "jcgamson"
         },
         {
          "Date": "2019-01-08T00:00:00",
          "User": "djgavaresk"
         },
         {
          "Date": "2019-01-14T00:00:00",
          "User": "fha1"
         },
         {
          "Date": "2019-01-08T00:00:00",
          "User": "dmjacobson"
         },
         {
          "Date": "2019-01-08T00:00:00",
          "User": "clwoodard"
         }
        ]
       },
       "encoding": {
        "x": {
         "field": "Date",
         "type": "temporal"
        },
        "y": {
         "aggregate": "distinct",
         "field": "User",
         "type": "nominal"
        }
       },
       "mark": "bar"
      },
      "image/png": "[encoded data removed]",
      "text/plain": [
       "<VegaLite 2 object>\n",
       "\n",
       "If you see this message, it means the renderer has not been properly enabled\n",
       "for the frontend that you are using. For more information, see\n",
       "https://altair-viz.github.io/user_guide/troubleshooting.html\n"
      ]
     },
     "execution_count": 94,
     "metadata": {},
     "output_type": "execute_result"
    }
   ],
   "source": [
    "alt.Chart(df).mark_bar().encode(\n",
    "    x='Date:T',\n",
    "    y='distinct(User)'\n",
    ")"
   ]
  },
  {
   "cell_type": "code",
   "execution_count": 104,
   "metadata": {},
   "outputs": [],
   "source": [
    "date_df = df.groupby([\"Date\"])"
   ]
  },
  {
   "cell_type": "code",
   "execution_count": null,
   "metadata": {},
   "outputs": [],
   "source": []
  }
 ],
 "metadata": {
  "kernelspec": {
   "display_name": "Python 3",
   "language": "python",
   "name": "python3"
  },
  "language_info": {
   "codemirror_mode": {
    "name": "ipython",
    "version": 3
   },
   "file_extension": ".py",
   "mimetype": "text/x-python",
   "name": "python",
   "nbconvert_exporter": "python",
   "pygments_lexer": "ipython3",
   "version": "3.7.1"
  }
 },
 "nbformat": 4,
 "nbformat_minor": 2
}
