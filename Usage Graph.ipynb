{
 "cells": [
  {
   "cell_type": "code",
   "execution_count": 19,
   "metadata": {},
   "outputs": [],
   "source": [
    "import glob as glob\n",
    "import pandas as pd\n",
    "import altair as alt"
   ]
  },
  {
   "cell_type": "code",
   "execution_count": 20,
   "metadata": {},
   "outputs": [],
   "source": [
    "df = pd.DataFrame()\n",
    "\n",
    "files = glob.iglob(\"./*.csv\")\n",
    "for file in files:\n",
    "    file_df = pd.read_csv(file, names=[\"User\",\"Date\"], parse_dates=[\"Date\"])\n",
    "    df = df.append(file_df)"
   ]
  },
  {
   "cell_type": "code",
   "execution_count": 22,
   "metadata": {},
   "outputs": [
    {
     "data": {
      "application/vnd.vegalite.v2+json": {
       "$schema": "https://vega.github.io/schema/vega-lite/v2.4.3.json",
       "config": {
        "view": {
         "height": 300,
         "width": 400
        }
       },
       "data": {
        "values": [
         {
          "Date": "2019-01-22",
          "User": "jjallinson"
         },
         {
          "Date": "2019-01-24",
          "User": "jjallinson"
         },
         {
          "Date": "2019-01-28",
          "User": "jjallinson"
         },
         {
          "Date": "2019-01-09",
          "User": "kljacobs"
         },
         {
          "Date": "2019-01-09",
          "User": "kljacobs"
         },
         {
          "Date": "2019-01-09",
          "User": "kljacobs"
         },
         {
          "Date": "2019-01-09",
          "User": "kljacobs"
         },
         {
          "Date": "2019-01-09",
          "User": "kljacobs"
         },
         {
          "Date": "2019-01-09",
          "User": "kljacobs"
         },
         {
          "Date": "2019-01-09",
          "User": "kljacobs"
         },
         {
          "Date": "2019-01-09",
          "User": "kljacobs"
         },
         {
          "Date": "2019-01-09",
          "User": "kljacobs"
         },
         {
          "Date": "2019-01-18",
          "User": "kljacobs"
         },
         {
          "Date": "2019-01-22",
          "User": "kljacobs"
         },
         {
          "Date": "2019-01-22",
          "User": "kljacobs"
         },
         {
          "Date": "2019-01-22",
          "User": "kljacobs"
         },
         {
          "Date": "2019-01-22",
          "User": "kljacobs"
         },
         {
          "Date": "2019-01-22",
          "User": "kljacobs"
         },
         {
          "Date": "2019-01-22",
          "User": "kljacobs"
         },
         {
          "Date": "2019-01-22",
          "User": "kljacobs"
         },
         {
          "Date": "2019-01-22",
          "User": "kljacobs"
         },
         {
          "Date": "2019-01-22",
          "User": "kljacobs"
         },
         {
          "Date": "2019-01-22",
          "User": "kljacobs"
         },
         {
          "Date": "2019-01-22",
          "User": "kljacobs"
         },
         {
          "Date": "2019-01-22",
          "User": "kljacobs"
         },
         {
          "Date": "2019-01-22",
          "User": "kljacobs"
         },
         {
          "Date": "2019-01-22",
          "User": "kljacobs"
         },
         {
          "Date": "2019-01-22",
          "User": "kljacobs"
         },
         {
          "Date": "2019-01-22",
          "User": "kljacobs"
         },
         {
          "Date": "2019-01-28",
          "User": "kljacobs"
         },
         {
          "Date": "2019-01-30",
          "User": "kljacobs"
         },
         {
          "Date": "2019-02-06",
          "User": "kljacobs"
         },
         {
          "Date": "2019-02-08",
          "User": "rpestep"
         },
         {
          "Date": "2019-02-08",
          "User": "rpestep"
         },
         {
          "Date": "2019-01-22",
          "User": "srrutherford"
         },
         {
          "Date": "2019-02-06",
          "User": "aamehta"
         },
         {
          "Date": "2019-02-06",
          "User": "aamehta"
         },
         {
          "Date": "2019-01-23",
          "User": "klharris"
         },
         {
          "Date": "2019-01-08",
          "User": "sfumagalli1"
         },
         {
          "Date": "2019-01-16",
          "User": "sfumagalli1"
         },
         {
          "Date": "2019-01-08",
          "User": "pomclaughlin"
         },
         {
          "Date": "2019-01-08",
          "User": "pomclaughlin"
         },
         {
          "Date": "2019-01-09",
          "User": "pomclaughlin"
         },
         {
          "Date": "2019-01-10",
          "User": "cywu"
         },
         {
          "Date": "2019-01-10",
          "User": "cywu"
         },
         {
          "Date": "2019-01-10",
          "User": "cywu"
         },
         {
          "Date": "2019-01-10",
          "User": "cywu"
         },
         {
          "Date": "2019-01-14",
          "User": "cywu"
         },
         {
          "Date": "2019-01-15",
          "User": "cywu"
         },
         {
          "Date": "2019-01-15",
          "User": "cywu"
         },
         {
          "Date": "2019-01-17",
          "User": "cywu"
         },
         {
          "Date": "2019-01-22",
          "User": "cywu"
         },
         {
          "Date": "2019-01-23",
          "User": "cywu"
         },
         {
          "Date": "2019-01-24",
          "User": "cywu"
         },
         {
          "Date": "2019-01-25",
          "User": "cywu"
         },
         {
          "Date": "2019-01-25",
          "User": "cywu"
         },
         {
          "Date": "2019-01-25",
          "User": "cywu"
         },
         {
          "Date": "2019-01-26",
          "User": "cywu"
         },
         {
          "Date": "2019-01-26",
          "User": "cywu"
         },
         {
          "Date": "2019-01-28",
          "User": "cywu"
         },
         {
          "Date": "2019-01-28",
          "User": "cywu"
         },
         {
          "Date": "2019-01-28",
          "User": "cywu"
         },
         {
          "Date": "2019-01-28",
          "User": "cywu"
         },
         {
          "Date": "2019-01-29",
          "User": "cywu"
         },
         {
          "Date": "2019-01-29",
          "User": "cywu"
         },
         {
          "Date": "2019-01-30",
          "User": "cywu"
         },
         {
          "Date": "2019-01-30",
          "User": "cywu"
         },
         {
          "Date": "2019-01-30",
          "User": "cywu"
         },
         {
          "Date": "2019-02-03",
          "User": "cywu"
         },
         {
          "Date": "2019-02-03",
          "User": "cywu"
         },
         {
          "Date": "2019-02-03",
          "User": "cywu"
         },
         {
          "Date": "2019-02-04",
          "User": "cywu"
         },
         {
          "Date": "2019-02-04",
          "User": "cywu"
         },
         {
          "Date": "2019-02-05",
          "User": "cywu"
         },
         {
          "Date": "2019-02-05",
          "User": "cywu"
         },
         {
          "Date": "2019-02-06",
          "User": "cywu"
         },
         {
          "Date": "2019-02-06",
          "User": "cywu"
         },
         {
          "Date": "2019-02-06",
          "User": "cywu"
         },
         {
          "Date": "2019-02-07",
          "User": "cywu"
         },
         {
          "Date": "2019-02-08",
          "User": "cywu"
         },
         {
          "Date": "2019-01-10",
          "User": "dahall"
         },
         {
          "Date": "2019-01-11",
          "User": "dahall"
         },
         {
          "Date": "2019-01-13",
          "User": "dahall"
         },
         {
          "Date": "2019-01-14",
          "User": "dahall"
         },
         {
          "Date": "2019-01-15",
          "User": "dahall"
         },
         {
          "Date": "2019-01-16",
          "User": "dahall"
         },
         {
          "Date": "2019-01-17",
          "User": "dahall"
         },
         {
          "Date": "2019-01-17",
          "User": "dahall"
         },
         {
          "Date": "2019-01-18",
          "User": "dahall"
         },
         {
          "Date": "2019-01-19",
          "User": "dahall"
         },
         {
          "Date": "2019-01-21",
          "User": "dahall"
         },
         {
          "Date": "2019-01-22",
          "User": "dahall"
         },
         {
          "Date": "2019-01-23",
          "User": "dahall"
         },
         {
          "Date": "2019-01-24",
          "User": "dahall"
         },
         {
          "Date": "2019-01-25",
          "User": "dahall"
         },
         {
          "Date": "2019-01-26",
          "User": "dahall"
         },
         {
          "Date": "2019-01-28",
          "User": "dahall"
         },
         {
          "Date": "2019-01-28",
          "User": "dahall"
         },
         {
          "Date": "2019-01-29",
          "User": "dahall"
         },
         {
          "Date": "2019-01-29",
          "User": "dahall"
         },
         {
          "Date": "2019-01-29",
          "User": "dahall"
         },
         {
          "Date": "2019-01-30",
          "User": "dahall"
         },
         {
          "Date": "2019-01-30",
          "User": "dahall"
         },
         {
          "Date": "2019-01-31",
          "User": "dahall"
         },
         {
          "Date": "2019-02-01",
          "User": "dahall"
         },
         {
          "Date": "2019-02-01",
          "User": "dahall"
         },
         {
          "Date": "2019-02-01",
          "User": "dahall"
         },
         {
          "Date": "2019-02-01",
          "User": "dahall"
         },
         {
          "Date": "2019-02-01",
          "User": "dahall"
         },
         {
          "Date": "2019-02-03",
          "User": "dahall"
         },
         {
          "Date": "2019-02-03",
          "User": "dahall"
         },
         {
          "Date": "2019-02-04",
          "User": "dahall"
         },
         {
          "Date": "2019-02-05",
          "User": "dahall"
         },
         {
          "Date": "2019-02-05",
          "User": "dahall"
         },
         {
          "Date": "2019-02-06",
          "User": "dahall"
         },
         {
          "Date": "2019-02-06",
          "User": "dahall"
         },
         {
          "Date": "2019-02-07",
          "User": "dahall"
         },
         {
          "Date": "2019-02-07",
          "User": "dahall"
         },
         {
          "Date": "2019-02-07",
          "User": "dahall"
         },
         {
          "Date": "2019-02-07",
          "User": "dahall"
         },
         {
          "Date": "2019-02-07",
          "User": "dahall"
         },
         {
          "Date": "2019-02-07",
          "User": "dahall"
         },
         {
          "Date": "2019-02-08",
          "User": "dahall"
         },
         {
          "Date": "2019-02-08",
          "User": "dahall"
         },
         {
          "Date": "2019-02-08",
          "User": "dahall"
         },
         {
          "Date": "2019-01-23",
          "User": "jrjohnson"
         },
         {
          "Date": "2019-02-07",
          "User": "kjbaar"
         },
         {
          "Date": "2019-01-28",
          "User": "mjvenema"
         },
         {
          "Date": "2019-02-04",
          "User": "mjvenema"
         },
         {
          "Date": "2019-02-07",
          "User": "mjvenema"
         },
         {
          "Date": "2019-02-07",
          "User": "mjvenema"
         },
         {
          "Date": "2019-01-31",
          "User": "gcpearson"
         },
         {
          "Date": "2019-01-31",
          "User": "gcpearson"
         },
         {
          "Date": "2019-01-10",
          "User": "mhburden"
         },
         {
          "Date": "2019-01-28",
          "User": "rlbrejcha"
         },
         {
          "Date": "2019-01-22",
          "User": "jmwelty"
         },
         {
          "Date": "2019-01-22",
          "User": "jmwelty"
         },
         {
          "Date": "2019-01-22",
          "User": "jmwelty"
         },
         {
          "Date": "2019-01-22",
          "User": "jmwelty"
         },
         {
          "Date": "2019-01-23",
          "User": "jmwelty"
         },
         {
          "Date": "2019-01-25",
          "User": "jmwelty"
         },
         {
          "Date": "2019-01-27",
          "User": "jmwelty"
         },
         {
          "Date": "2019-01-27",
          "User": "jmwelty"
         },
         {
          "Date": "2019-01-27",
          "User": "jmwelty"
         },
         {
          "Date": "2019-01-28",
          "User": "jmwelty"
         },
         {
          "Date": "2019-01-28",
          "User": "jmwelty"
         },
         {
          "Date": "2019-01-28",
          "User": "jmwelty"
         },
         {
          "Date": "2019-01-28",
          "User": "jmwelty"
         },
         {
          "Date": "2019-01-29",
          "User": "jmwelty"
         },
         {
          "Date": "2019-01-31",
          "User": "jmwelty"
         },
         {
          "Date": "2019-02-01",
          "User": "jmwelty"
         },
         {
          "Date": "2019-02-03",
          "User": "jmwelty"
         },
         {
          "Date": "2019-02-03",
          "User": "jmwelty"
         },
         {
          "Date": "2019-02-04",
          "User": "jmwelty"
         },
         {
          "Date": "2019-02-04",
          "User": "jmwelty"
         },
         {
          "Date": "2019-02-05",
          "User": "jmwelty"
         },
         {
          "Date": "2019-02-05",
          "User": "jmwelty"
         },
         {
          "Date": "2019-02-08",
          "User": "jmwelty"
         },
         {
          "Date": "2019-01-28",
          "User": "smbillau"
         },
         {
          "Date": "2019-01-28",
          "User": "smbillau"
         },
         {
          "Date": "2019-01-29",
          "User": "smbillau"
         },
         {
          "Date": "2019-01-30",
          "User": "smbillau"
         },
         {
          "Date": "2019-02-01",
          "User": "smbillau"
         },
         {
          "Date": "2019-02-04",
          "User": "smbillau"
         },
         {
          "Date": "2019-02-05",
          "User": "smbillau"
         },
         {
          "Date": "2019-02-06",
          "User": "smbillau"
         },
         {
          "Date": "2019-02-08",
          "User": "smbillau"
         },
         {
          "Date": "2019-01-18",
          "User": "jghansom"
         },
         {
          "Date": "2019-01-22",
          "User": "jghansom"
         },
         {
          "Date": "2019-01-23",
          "User": "jghansom"
         },
         {
          "Date": "2019-01-24",
          "User": "jghansom"
         },
         {
          "Date": "2019-01-25",
          "User": "jghansom"
         },
         {
          "Date": "2019-01-28",
          "User": "jghansom"
         },
         {
          "Date": "2019-01-29",
          "User": "jghansom"
         },
         {
          "Date": "2019-01-30",
          "User": "jghansom"
         },
         {
          "Date": "2019-01-30",
          "User": "jghansom"
         },
         {
          "Date": "2019-01-31",
          "User": "jghansom"
         },
         {
          "Date": "2019-02-04",
          "User": "jghansom"
         },
         {
          "Date": "2019-02-04",
          "User": "jghansom"
         },
         {
          "Date": "2019-02-05",
          "User": "jghansom"
         },
         {
          "Date": "2019-02-05",
          "User": "jghansom"
         },
         {
          "Date": "2019-02-06",
          "User": "jghansom"
         },
         {
          "Date": "2019-02-06",
          "User": "jghansom"
         },
         {
          "Date": "2019-02-07",
          "User": "jghansom"
         },
         {
          "Date": "2019-02-08",
          "User": "jghansom"
         },
         {
          "Date": "2019-01-22",
          "User": "ewbloom"
         },
         {
          "Date": "2019-01-22",
          "User": "ewbloom"
         },
         {
          "Date": "2019-01-21",
          "User": "kmcampbell"
         },
         {
          "Date": "2019-01-23",
          "User": "kmcampbell"
         },
         {
          "Date": "2019-01-24",
          "User": "kmcampbell"
         },
         {
          "Date": "2019-01-25",
          "User": "kmcampbell"
         },
         {
          "Date": "2019-01-28",
          "User": "kmcampbell"
         },
         {
          "Date": "2019-01-30",
          "User": "kmcampbell"
         },
         {
          "Date": "2019-01-31",
          "User": "kmcampbell"
         },
         {
          "Date": "2019-02-01",
          "User": "kmcampbell"
         },
         {
          "Date": "2019-02-04",
          "User": "kmcampbell"
         },
         {
          "Date": "2019-02-07",
          "User": "kmcampbell"
         },
         {
          "Date": "2019-02-08",
          "User": "kmcampbell"
         },
         {
          "Date": "2019-02-02",
          "User": "vlshort"
         },
         {
          "Date": "2019-02-02",
          "User": "vlshort"
         },
         {
          "Date": "2019-02-03",
          "User": "vlshort"
         },
         {
          "Date": "2019-02-03",
          "User": "vlshort"
         },
         {
          "Date": "2019-02-04",
          "User": "vlshort"
         },
         {
          "Date": "2019-02-05",
          "User": "vlshort"
         },
         {
          "Date": "2019-02-05",
          "User": "vlshort"
         },
         {
          "Date": "2019-02-08",
          "User": "vlshort"
         },
         {
          "Date": "2019-01-21",
          "User": "jghopper"
         },
         {
          "Date": "2019-01-23",
          "User": "jghopper"
         },
         {
          "Date": "2019-01-23",
          "User": "jghopper"
         },
         {
          "Date": "2019-01-25",
          "User": "jghopper"
         },
         {
          "Date": "2019-01-25",
          "User": "jghopper"
         },
         {
          "Date": "2019-01-25",
          "User": "jghopper"
         },
         {
          "Date": "2019-01-28",
          "User": "jghopper"
         },
         {
          "Date": "2019-01-28",
          "User": "jghopper"
         },
         {
          "Date": "2019-01-29",
          "User": "jghopper"
         },
         {
          "Date": "2019-01-29",
          "User": "jghopper"
         },
         {
          "Date": "2019-02-03",
          "User": "jghopper"
         },
         {
          "Date": "2019-02-04",
          "User": "jghopper"
         },
         {
          "Date": "2019-02-06",
          "User": "jghopper"
         },
         {
          "Date": "2019-02-08",
          "User": "jghopper"
         },
         {
          "Date": "2019-01-31",
          "User": "FHA8"
         },
         {
          "Date": "2019-02-01",
          "User": "fha8"
         },
         {
          "Date": "2019-02-05",
          "User": "fha8"
         },
         {
          "Date": "2019-02-07",
          "User": "FHA8"
         },
         {
          "Date": "2019-01-18",
          "User": "keirish"
         },
         {
          "Date": "2019-01-11",
          "User": "jbradakovich"
         },
         {
          "Date": "2019-01-15",
          "User": "jbradakovich"
         },
         {
          "Date": "2019-01-15",
          "User": "jbradakovich"
         },
         {
          "Date": "2019-01-15",
          "User": "jbradakovich"
         },
         {
          "Date": "2019-01-15",
          "User": "jbradakovich"
         },
         {
          "Date": "2019-01-15",
          "User": "jbradakovich"
         },
         {
          "Date": "2019-01-20",
          "User": "jbradakovich"
         },
         {
          "Date": "2019-01-20",
          "User": "jbradakovich"
         },
         {
          "Date": "2019-01-20",
          "User": "jbradakovich"
         },
         {
          "Date": "2019-01-20",
          "User": "jbradakovich"
         },
         {
          "Date": "2019-01-21",
          "User": "jbradakovich"
         },
         {
          "Date": "2019-01-21",
          "User": "jbradakovich"
         },
         {
          "Date": "2019-01-21",
          "User": "jbradakovich"
         },
         {
          "Date": "2019-01-22",
          "User": "jbradakovich"
         },
         {
          "Date": "2019-01-22",
          "User": "jbradakovich"
         },
         {
          "Date": "2019-01-23",
          "User": "jbradakovich"
         },
         {
          "Date": "2019-01-24",
          "User": "jbradakovich"
         },
         {
          "Date": "2019-01-24",
          "User": "jbradakovich"
         },
         {
          "Date": "2019-01-25",
          "User": "jbradakovich"
         },
         {
          "Date": "2019-01-25",
          "User": "jbradakovich"
         },
         {
          "Date": "2019-01-25",
          "User": "jbradakovich"
         },
         {
          "Date": "2019-01-27",
          "User": "jbradakovich"
         },
         {
          "Date": "2019-01-28",
          "User": "jbradakovich"
         },
         {
          "Date": "2019-01-28",
          "User": "jbradakovich"
         },
         {
          "Date": "2019-01-29",
          "User": "jbradakovich"
         },
         {
          "Date": "2019-01-29",
          "User": "jbradakovich"
         },
         {
          "Date": "2019-01-30",
          "User": "jbradakovich"
         },
         {
          "Date": "2019-01-30",
          "User": "jbradakovich"
         },
         {
          "Date": "2019-01-30",
          "User": "jbradakovich"
         },
         {
          "Date": "2019-01-31",
          "User": "jbradakovich"
         },
         {
          "Date": "2019-01-31",
          "User": "jbradakovich"
         },
         {
          "Date": "2019-01-31",
          "User": "jbradakovich"
         },
         {
          "Date": "2019-02-01",
          "User": "jbradakovich"
         },
         {
          "Date": "2019-02-01",
          "User": "jbradakovich"
         },
         {
          "Date": "2019-02-02",
          "User": "jbradakovich"
         },
         {
          "Date": "2019-02-03",
          "User": "jbradakovich"
         },
         {
          "Date": "2019-02-04",
          "User": "jbradakovich"
         },
         {
          "Date": "2019-02-04",
          "User": "jbradakovich"
         },
         {
          "Date": "2019-02-04",
          "User": "jbradakovich"
         },
         {
          "Date": "2019-02-05",
          "User": "jbradakovich"
         },
         {
          "Date": "2019-02-05",
          "User": "jbradakovich"
         },
         {
          "Date": "2019-02-05",
          "User": "jbradakovich"
         },
         {
          "Date": "2019-02-06",
          "User": "jbradakovich"
         },
         {
          "Date": "2019-02-06",
          "User": "jbradakovich"
         },
         {
          "Date": "2019-02-06",
          "User": "jbradakovich"
         },
         {
          "Date": "2019-02-07",
          "User": "jbradakovich"
         },
         {
          "Date": "2019-02-07",
          "User": "jbradakovich"
         },
         {
          "Date": "2019-01-24",
          "User": "lcmuller"
         },
         {
          "Date": "2019-01-24",
          "User": "lcmuller"
         },
         {
          "Date": "2019-01-29",
          "User": "lcmuller"
         },
         {
          "Date": "2019-01-29",
          "User": "lcmuller"
         },
         {
          "Date": "2019-01-30",
          "User": "lcmuller"
         },
         {
          "Date": "2019-01-31",
          "User": "lcmuller"
         },
         {
          "Date": "2019-01-31",
          "User": "lcmuller"
         },
         {
          "Date": "2019-01-22",
          "User": "jjbloom"
         },
         {
          "Date": "2019-01-22",
          "User": "jjbloom"
         },
         {
          "Date": "2019-01-22",
          "User": "jjbloom"
         },
         {
          "Date": "2019-01-22",
          "User": "jjbloom"
         },
         {
          "Date": "2019-01-29",
          "User": "jjbloom"
         },
         {
          "Date": "2019-01-29",
          "User": "jjbloom"
         },
         {
          "Date": "2019-01-29",
          "User": "jjbloom"
         },
         {
          "Date": "2019-01-29",
          "User": "jjbloom"
         },
         {
          "Date": "2019-01-29",
          "User": "jjbloom"
         },
         {
          "Date": "2019-01-29",
          "User": "jjbloom"
         },
         {
          "Date": "2019-01-30",
          "User": "jjbloom"
         },
         {
          "Date": "2019-02-06",
          "User": "jjbloom"
         },
         {
          "Date": "2019-02-06",
          "User": "jjbloom"
         },
         {
          "Date": "2019-02-06",
          "User": "jjbloom"
         },
         {
          "Date": "2019-02-06",
          "User": "jjbloom"
         },
         {
          "Date": "2019-02-07",
          "User": "jjbloom"
         },
         {
          "Date": "2019-02-05",
          "User": "fha9"
         },
         {
          "Date": "2019-02-07",
          "User": "FHA9"
         },
         {
          "Date": "2019-01-07",
          "User": "hlhoney"
         },
         {
          "Date": "2019-01-08",
          "User": "hlhoney"
         },
         {
          "Date": "2019-01-09",
          "User": "hlhoney"
         },
         {
          "Date": "2019-01-10",
          "User": "hlhoney"
         },
         {
          "Date": "2019-01-11",
          "User": "hlhoney"
         },
         {
          "Date": "2019-01-14",
          "User": "hlhoney"
         },
         {
          "Date": "2019-01-16",
          "User": "hlhoney"
         },
         {
          "Date": "2019-01-17",
          "User": "hlhoney"
         },
         {
          "Date": "2019-01-18",
          "User": "hlhoney"
         },
         {
          "Date": "2019-01-28",
          "User": "hlhoney"
         },
         {
          "Date": "2019-01-29",
          "User": "hlhoney"
         },
         {
          "Date": "2019-01-29",
          "User": "hlhoney"
         },
         {
          "Date": "2019-01-30",
          "User": "hlhoney"
         },
         {
          "Date": "2019-01-31",
          "User": "hlhoney"
         },
         {
          "Date": "2019-01-31",
          "User": "hlhoney"
         },
         {
          "Date": "2019-02-04",
          "User": "hlhoney"
         },
         {
          "Date": "2019-02-04",
          "User": "hlhoney"
         },
         {
          "Date": "2019-02-05",
          "User": "hlhoney"
         },
         {
          "Date": "2019-02-06",
          "User": "hlhoney"
         },
         {
          "Date": "2019-02-07",
          "User": "hlhoney"
         },
         {
          "Date": "2019-02-08",
          "User": "hlhoney"
         },
         {
          "Date": "2019-01-24",
          "User": "idbonner"
         },
         {
          "Date": "2019-01-25",
          "User": "idbonner"
         },
         {
          "Date": "2019-01-25",
          "User": "idbonner"
         },
         {
          "Date": "2019-02-01",
          "User": "idbonner"
         },
         {
          "Date": "2019-02-04",
          "User": "idbonner"
         },
         {
          "Date": "2019-02-07",
          "User": "idbonner"
         },
         {
          "Date": "2019-01-07",
          "User": "jwraduege"
         },
         {
          "Date": "2019-01-08",
          "User": "jwraduege"
         },
         {
          "Date": "2019-01-08",
          "User": "jwraduege"
         },
         {
          "Date": "2019-01-09",
          "User": "jwraduege"
         },
         {
          "Date": "2019-01-10",
          "User": "jwraduege"
         },
         {
          "Date": "2019-01-11",
          "User": "jwraduege"
         },
         {
          "Date": "2019-01-14",
          "User": "jwraduege"
         },
         {
          "Date": "2019-01-16",
          "User": "jwraduege"
         },
         {
          "Date": "2019-01-17",
          "User": "jwraduege"
         },
         {
          "Date": "2019-01-18",
          "User": "jwraduege"
         },
         {
          "Date": "2019-01-21",
          "User": "jwraduege"
         },
         {
          "Date": "2019-01-23",
          "User": "jwraduege"
         },
         {
          "Date": "2019-01-23",
          "User": "jwraduege"
         },
         {
          "Date": "2019-01-24",
          "User": "jwraduege"
         },
         {
          "Date": "2019-01-25",
          "User": "jwraduege"
         },
         {
          "Date": "2019-01-28",
          "User": "jwraduege"
         },
         {
          "Date": "2019-01-29",
          "User": "jwraduege"
         },
         {
          "Date": "2019-01-30",
          "User": "jwraduege"
         },
         {
          "Date": "2019-01-31",
          "User": "jwraduege"
         },
         {
          "Date": "2019-02-01",
          "User": "jwraduege"
         },
         {
          "Date": "2019-02-04",
          "User": "jwraduege"
         },
         {
          "Date": "2019-02-06",
          "User": "jwraduege"
         },
         {
          "Date": "2019-02-07",
          "User": "jwraduege"
         },
         {
          "Date": "2019-02-08",
          "User": "jwraduege"
         },
         {
          "Date": "2019-02-01",
          "User": "rbnolan"
         },
         {
          "Date": "2019-02-06",
          "User": "rbnolan"
         },
         {
          "Date": "2019-02-07",
          "User": "rbnolan"
         },
         {
          "Date": "2019-01-10",
          "User": "ahfloyd"
         },
         {
          "Date": "2019-01-11",
          "User": "ahfloyd"
         },
         {
          "Date": "2019-01-18",
          "User": "ahfloyd"
         },
         {
          "Date": "2019-01-18",
          "User": "ahfloyd"
         },
         {
          "Date": "2019-01-21",
          "User": "ahfloyd"
         },
         {
          "Date": "2019-01-23",
          "User": "ahfloyd"
         },
         {
          "Date": "2019-01-23",
          "User": "ahfloyd"
         },
         {
          "Date": "2019-01-24",
          "User": "ahfloyd"
         },
         {
          "Date": "2019-01-28",
          "User": "ahfloyd"
         },
         {
          "Date": "2019-01-29",
          "User": "ahfloyd"
         },
         {
          "Date": "2019-01-29",
          "User": "ahfloyd"
         },
         {
          "Date": "2019-01-30",
          "User": "ahfloyd"
         },
         {
          "Date": "2019-01-31",
          "User": "ahfloyd"
         },
         {
          "Date": "2019-01-09",
          "User": "mrshapiro"
         },
         {
          "Date": "2019-01-09",
          "User": "mrshapiro"
         },
         {
          "Date": "2019-01-09",
          "User": "mrshapiro"
         },
         {
          "Date": "2019-01-09",
          "User": "mrshapiro"
         },
         {
          "Date": "2019-01-09",
          "User": "mrshapiro"
         },
         {
          "Date": "2019-01-09",
          "User": "mrshapiro"
         },
         {
          "Date": "2019-01-09",
          "User": "mrshapiro"
         },
         {
          "Date": "2019-01-09",
          "User": "mrshapiro"
         },
         {
          "Date": "2019-01-09",
          "User": "mrshapiro"
         },
         {
          "Date": "2019-01-09",
          "User": "mrshapiro"
         },
         {
          "Date": "2019-01-09",
          "User": "mrshapiro"
         },
         {
          "Date": "2019-01-09",
          "User": "mrshapiro"
         },
         {
          "Date": "2019-01-09",
          "User": "mrshapiro"
         },
         {
          "Date": "2019-01-09",
          "User": "mrshapiro"
         },
         {
          "Date": "2019-01-09",
          "User": "mrshapiro"
         },
         {
          "Date": "2019-01-09",
          "User": "mrshapiro"
         },
         {
          "Date": "2019-01-09",
          "User": "mrshapiro"
         },
         {
          "Date": "2019-01-09",
          "User": "mrshapiro"
         },
         {
          "Date": "2019-01-10",
          "User": "mrshapiro"
         },
         {
          "Date": "2019-01-10",
          "User": "mrshapiro"
         },
         {
          "Date": "2019-01-10",
          "User": "mrshapiro"
         },
         {
          "Date": "2019-01-10",
          "User": "mrshapiro"
         },
         {
          "Date": "2019-01-10",
          "User": "mrshapiro"
         },
         {
          "Date": "2019-01-10",
          "User": "mrshapiro"
         },
         {
          "Date": "2019-01-11",
          "User": "mrshapiro"
         },
         {
          "Date": "2019-01-14",
          "User": "mrshapiro"
         },
         {
          "Date": "2019-01-14",
          "User": "mrshapiro"
         },
         {
          "Date": "2019-01-14",
          "User": "mrshapiro"
         },
         {
          "Date": "2019-01-14",
          "User": "mrshapiro"
         },
         {
          "Date": "2019-01-15",
          "User": "mrshapiro"
         },
         {
          "Date": "2019-01-16",
          "User": "mrshapiro"
         },
         {
          "Date": "2019-01-17",
          "User": "mrshapiro"
         },
         {
          "Date": "2019-01-17",
          "User": "mrshapiro"
         },
         {
          "Date": "2019-01-18",
          "User": "mrshapiro"
         },
         {
          "Date": "2019-01-18",
          "User": "mrshapiro"
         },
         {
          "Date": "2019-01-21",
          "User": "mrshapiro"
         },
         {
          "Date": "2019-01-22",
          "User": "mrshapiro"
         },
         {
          "Date": "2019-01-23",
          "User": "mrshapiro"
         },
         {
          "Date": "2019-01-23",
          "User": "mrshapiro"
         },
         {
          "Date": "2019-01-24",
          "User": "mrshapiro"
         },
         {
          "Date": "2019-01-24",
          "User": "mrshapiro"
         },
         {
          "Date": "2019-01-24",
          "User": "mrshapiro"
         },
         {
          "Date": "2019-01-25",
          "User": "mrshapiro"
         },
         {
          "Date": "2019-01-25",
          "User": "mrshapiro"
         },
         {
          "Date": "2019-01-25",
          "User": "mrshapiro"
         },
         {
          "Date": "2019-01-25",
          "User": "mrshapiro"
         },
         {
          "Date": "2019-01-25",
          "User": "mrshapiro"
         },
         {
          "Date": "2019-01-26",
          "User": "mrshapiro"
         },
         {
          "Date": "2019-01-27",
          "User": "mrshapiro"
         },
         {
          "Date": "2019-01-28",
          "User": "mrshapiro"
         },
         {
          "Date": "2019-01-30",
          "User": "mrshapiro"
         },
         {
          "Date": "2019-01-31",
          "User": "mrshapiro"
         },
         {
          "Date": "2019-01-31",
          "User": "mrshapiro"
         },
         {
          "Date": "2019-01-31",
          "User": "mrshapiro"
         },
         {
          "Date": "2019-01-31",
          "User": "mrshapiro"
         },
         {
          "Date": "2019-01-31",
          "User": "mrshapiro"
         },
         {
          "Date": "2019-02-01",
          "User": "mrshapiro"
         },
         {
          "Date": "2019-02-01",
          "User": "mrshapiro"
         },
         {
          "Date": "2019-02-01",
          "User": "mrshapiro"
         },
         {
          "Date": "2019-02-01",
          "User": "mrshapiro"
         },
         {
          "Date": "2019-02-01",
          "User": "mrshapiro"
         },
         {
          "Date": "2019-02-02",
          "User": "mrshapiro"
         },
         {
          "Date": "2019-02-02",
          "User": "mrshapiro"
         },
         {
          "Date": "2019-02-04",
          "User": "mrshapiro"
         },
         {
          "Date": "2019-02-06",
          "User": "mrshapiro"
         },
         {
          "Date": "2019-02-06",
          "User": "mrshapiro"
         },
         {
          "Date": "2019-02-06",
          "User": "mrshapiro"
         },
         {
          "Date": "2019-02-06",
          "User": "mrshapiro"
         },
         {
          "Date": "2019-02-06",
          "User": "mrshapiro"
         },
         {
          "Date": "2019-01-20",
          "User": "jlklassen"
         },
         {
          "Date": "2019-01-20",
          "User": "jlklassen"
         },
         {
          "Date": "2019-01-21",
          "User": "jlklassen"
         },
         {
          "Date": "2019-01-22",
          "User": "jlklassen"
         },
         {
          "Date": "2019-01-22",
          "User": "jlklassen"
         },
         {
          "Date": "2019-01-22",
          "User": "jlklassen"
         },
         {
          "Date": "2019-01-23",
          "User": "jlklassen"
         },
         {
          "Date": "2019-01-23",
          "User": "jlklassen"
         },
         {
          "Date": "2019-01-23",
          "User": "jlklassen"
         },
         {
          "Date": "2019-01-23",
          "User": "jlklassen"
         },
         {
          "Date": "2019-01-28",
          "User": "jlklassen"
         },
         {
          "Date": "2019-01-30",
          "User": "jlklassen"
         },
         {
          "Date": "2019-01-30",
          "User": "jlklassen"
         },
         {
          "Date": "2019-01-30",
          "User": "jlklassen"
         },
         {
          "Date": "2019-02-04",
          "User": "jlklassen"
         },
         {
          "Date": "2019-02-06",
          "User": "jlklassen"
         },
         {
          "Date": "2019-01-15",
          "User": "ergaylord"
         },
         {
          "Date": "2019-01-25",
          "User": "ergaylord"
         },
         {
          "Date": "2019-01-28",
          "User": "ergaylord"
         },
         {
          "Date": "2019-01-29",
          "User": "ergaylord"
         },
         {
          "Date": "2019-01-31",
          "User": "ergaylord"
         },
         {
          "Date": "2019-02-01",
          "User": "ergaylord"
         },
         {
          "Date": "2019-02-04",
          "User": "ergaylord"
         },
         {
          "Date": "2019-02-08",
          "User": "ergaylord"
         },
         {
          "Date": "2019-02-06",
          "User": "samcpherson"
         },
         {
          "Date": "2019-02-08",
          "User": "samcpherson"
         },
         {
          "Date": "2019-01-08",
          "User": "rprieger"
         },
         {
          "Date": "2019-01-10",
          "User": "rprieger"
         },
         {
          "Date": "2019-02-02",
          "User": "rprieger"
         },
         {
          "Date": "2019-02-06",
          "User": "rprieger"
         },
         {
          "Date": "2019-02-07",
          "User": "kupper"
         },
         {
          "Date": "2019-01-08",
          "User": "febjorseth"
         },
         {
          "Date": "2019-01-08",
          "User": "febjorseth"
         },
         {
          "Date": "2019-02-08",
          "User": "fha11"
         },
         {
          "Date": "2019-01-22",
          "User": "lvfox"
         },
         {
          "Date": "2019-02-01",
          "User": "lvfox"
         },
         {
          "Date": "2019-02-05",
          "User": "lvfox"
         },
         {
          "Date": "2019-02-06",
          "User": "lvfox"
         },
         {
          "Date": "2019-02-06",
          "User": "lvfox"
         },
         {
          "Date": "2019-02-08",
          "User": "lvfox"
         },
         {
          "Date": "2019-02-08",
          "User": "lvfox"
         },
         {
          "Date": "2019-01-31",
          "User": "mkschimke"
         },
         {
          "Date": "2019-01-08",
          "User": "shein"
         },
         {
          "Date": "2019-01-09",
          "User": "shein"
         },
         {
          "Date": "2019-01-10",
          "User": "shein"
         },
         {
          "Date": "2019-01-14",
          "User": "shein"
         },
         {
          "Date": "2019-01-15",
          "User": "shein"
         },
         {
          "Date": "2019-01-16",
          "User": "shein"
         },
         {
          "Date": "2019-01-17",
          "User": "shein"
         },
         {
          "Date": "2019-01-28",
          "User": "shein"
         },
         {
          "Date": "2019-01-30",
          "User": "shein"
         },
         {
          "Date": "2019-02-07",
          "User": "shein"
         },
         {
          "Date": "2019-01-11",
          "User": "fha10"
         },
         {
          "Date": "2019-02-04",
          "User": "fha10"
         },
         {
          "Date": "2019-02-08",
          "User": "fha10"
         },
         {
          "Date": "2019-01-09",
          "User": "hcviereck"
         },
         {
          "Date": "2019-01-31",
          "User": "hcviereck"
         },
         {
          "Date": "2019-01-22",
          "User": "arsnyder"
         },
         {
          "Date": "2019-01-23",
          "User": "mgboyd"
         },
         {
          "Date": "2019-01-25",
          "User": "mgboyd"
         },
         {
          "Date": "2019-01-25",
          "User": "mgboyd"
         },
         {
          "Date": "2019-01-25",
          "User": "mgboyd"
         },
         {
          "Date": "2019-01-28",
          "User": "mgboyd"
         },
         {
          "Date": "2019-01-28",
          "User": "mgboyd"
         },
         {
          "Date": "2019-01-28",
          "User": "mgboyd"
         },
         {
          "Date": "2019-01-29",
          "User": "mgboyd"
         },
         {
          "Date": "2019-01-07",
          "User": "kdokeefe"
         },
         {
          "Date": "2019-01-08",
          "User": "kdokeefe"
         },
         {
          "Date": "2019-01-08",
          "User": "kdokeefe"
         },
         {
          "Date": "2019-01-09",
          "User": "kdokeefe"
         },
         {
          "Date": "2019-01-09",
          "User": "kdokeefe"
         },
         {
          "Date": "2019-01-10",
          "User": "kdokeefe"
         },
         {
          "Date": "2019-01-13",
          "User": "kdokeefe"
         },
         {
          "Date": "2019-01-14",
          "User": "kdokeefe"
         },
         {
          "Date": "2019-01-14",
          "User": "kdokeefe"
         },
         {
          "Date": "2019-01-15",
          "User": "kdokeefe"
         },
         {
          "Date": "2019-01-17",
          "User": "kdokeefe"
         },
         {
          "Date": "2019-01-19",
          "User": "kdokeefe"
         },
         {
          "Date": "2019-01-20",
          "User": "kdokeefe"
         },
         {
          "Date": "2019-01-21",
          "User": "kdokeefe"
         },
         {
          "Date": "2019-01-21",
          "User": "kdokeefe"
         },
         {
          "Date": "2019-01-22",
          "User": "kdokeefe"
         },
         {
          "Date": "2019-01-23",
          "User": "kdokeefe"
         },
         {
          "Date": "2019-01-24",
          "User": "kdokeefe"
         },
         {
          "Date": "2019-01-24",
          "User": "kdokeefe"
         },
         {
          "Date": "2019-01-25",
          "User": "kdokeefe"
         },
         {
          "Date": "2019-01-25",
          "User": "kdokeefe"
         },
         {
          "Date": "2019-01-25",
          "User": "kdokeefe"
         },
         {
          "Date": "2019-01-27",
          "User": "kdokeefe"
         },
         {
          "Date": "2019-01-27",
          "User": "kdokeefe"
         },
         {
          "Date": "2019-01-28",
          "User": "kdokeefe"
         },
         {
          "Date": "2019-01-30",
          "User": "kdokeefe"
         },
         {
          "Date": "2019-01-31",
          "User": "kdokeefe"
         },
         {
          "Date": "2019-02-02",
          "User": "kdokeefe"
         },
         {
          "Date": "2019-02-02",
          "User": "kdokeefe"
         },
         {
          "Date": "2019-02-02",
          "User": "kdokeefe"
         },
         {
          "Date": "2019-02-03",
          "User": "kdokeefe"
         },
         {
          "Date": "2019-02-04",
          "User": "kdokeefe"
         },
         {
          "Date": "2019-02-04",
          "User": "kdokeefe"
         },
         {
          "Date": "2019-02-05",
          "User": "kdokeefe"
         },
         {
          "Date": "2019-02-06",
          "User": "kdokeefe"
         },
         {
          "Date": "2019-02-07",
          "User": "kdokeefe"
         },
         {
          "Date": "2019-02-07",
          "User": "kdokeefe"
         },
         {
          "Date": "2019-01-28",
          "User": "crrey"
         },
         {
          "Date": "2019-02-06",
          "User": "crrey"
         },
         {
          "Date": "2019-02-07",
          "User": "crrey"
         },
         {
          "Date": "2019-02-08",
          "User": "crrey"
         },
         {
          "Date": "2019-01-08",
          "User": "ljhartwell"
         },
         {
          "Date": "2019-01-08",
          "User": "ljhartwell"
         },
         {
          "Date": "2019-01-08",
          "User": "ljhartwell"
         },
         {
          "Date": "2019-01-08",
          "User": "ljhartwell"
         },
         {
          "Date": "2019-01-24",
          "User": "ljhartwell"
         },
         {
          "Date": "2019-01-24",
          "User": "ljhartwell"
         },
         {
          "Date": "2019-01-24",
          "User": "ljhartwell"
         },
         {
          "Date": "2019-01-24",
          "User": "ljhartwell"
         },
         {
          "Date": "2019-01-24",
          "User": "ljhartwell"
         },
         {
          "Date": "2019-01-24",
          "User": "ljhartwell"
         },
         {
          "Date": "2019-01-24",
          "User": "ljhartwell"
         },
         {
          "Date": "2019-01-25",
          "User": "ljhartwell"
         },
         {
          "Date": "2019-01-30",
          "User": "ljhartwell"
         },
         {
          "Date": "2019-01-30",
          "User": "ljhartwell"
         },
         {
          "Date": "2019-01-30",
          "User": "ljhartwell"
         },
         {
          "Date": "2019-02-05",
          "User": "ljhartwell"
         },
         {
          "Date": "2019-01-28",
          "User": "sskerlin"
         },
         {
          "Date": "2019-01-28",
          "User": "sskerlin"
         },
         {
          "Date": "2019-01-30",
          "User": "sskerlin"
         },
         {
          "Date": "2019-01-31",
          "User": "sskerlin"
         },
         {
          "Date": "2019-01-31",
          "User": "sskerlin"
         },
         {
          "Date": "2019-02-04",
          "User": "sskerlin"
         },
         {
          "Date": "2019-02-06",
          "User": "sskerlin"
         },
         {
          "Date": "2019-02-07",
          "User": "sskerlin"
         },
         {
          "Date": "2019-02-08",
          "User": "amboehm"
         },
         {
          "Date": "2019-01-08",
          "User": "sjalexande"
         },
         {
          "Date": "2019-01-11",
          "User": "mmlelonek"
         },
         {
          "Date": "2019-01-11",
          "User": "mmlelonek"
         },
         {
          "Date": "2019-01-11",
          "User": "mmlelonek"
         },
         {
          "Date": "2019-01-11",
          "User": "mmlelonek"
         },
         {
          "Date": "2019-01-25",
          "User": "mmlelonek"
         },
         {
          "Date": "2019-01-28",
          "User": "mmlelonek"
         },
         {
          "Date": "2019-01-29",
          "User": "mmlelonek"
         },
         {
          "Date": "2019-01-30",
          "User": "mmlelonek"
         },
         {
          "Date": "2019-02-01",
          "User": "mmlelonek"
         },
         {
          "Date": "2019-02-04",
          "User": "mmlelonek"
         },
         {
          "Date": "2019-02-05",
          "User": "mmlelonek"
         },
         {
          "Date": "2019-02-05",
          "User": "mmlelonek"
         },
         {
          "Date": "2019-02-06",
          "User": "mmlelonek"
         },
         {
          "Date": "2019-02-07",
          "User": "mmlelonek"
         },
         {
          "Date": "2019-02-08",
          "User": "mmlelonek"
         },
         {
          "Date": "2019-01-30",
          "User": "ffm13"
         },
         {
          "Date": "2019-01-09",
          "User": "amwalls"
         },
         {
          "Date": "2019-01-10",
          "User": "amwalls"
         },
         {
          "Date": "2019-01-11",
          "User": "amwalls"
         },
         {
          "Date": "2019-01-13",
          "User": "amwalls"
         },
         {
          "Date": "2019-01-14",
          "User": "amwalls"
         },
         {
          "Date": "2019-01-14",
          "User": "amwalls"
         },
         {
          "Date": "2019-01-16",
          "User": "amwalls"
         },
         {
          "Date": "2019-01-17",
          "User": "amwalls"
         },
         {
          "Date": "2019-01-18",
          "User": "amwalls"
         },
         {
          "Date": "2019-01-21",
          "User": "amwalls"
         },
         {
          "Date": "2019-01-21",
          "User": "amwalls"
         },
         {
          "Date": "2019-01-23",
          "User": "amwalls"
         },
         {
          "Date": "2019-01-23",
          "User": "amwalls"
         },
         {
          "Date": "2019-01-24",
          "User": "amwalls"
         },
         {
          "Date": "2019-01-24",
          "User": "amwalls"
         },
         {
          "Date": "2019-01-25",
          "User": "amwalls"
         },
         {
          "Date": "2019-01-28",
          "User": "amwalls"
         },
         {
          "Date": "2019-01-30",
          "User": "amwalls"
         },
         {
          "Date": "2019-02-03",
          "User": "amwalls"
         },
         {
          "Date": "2019-02-07",
          "User": "amwalls"
         },
         {
          "Date": "2019-01-08",
          "User": "lmvanhofwegen"
         },
         {
          "Date": "2019-01-10",
          "User": "lmvanhofwegen"
         },
         {
          "Date": "2019-01-10",
          "User": "lmvanhofwegen"
         },
         {
          "Date": "2019-01-14",
          "User": "lmvanhofwegen"
         },
         {
          "Date": "2019-01-14",
          "User": "lmvanhofwegen"
         },
         {
          "Date": "2019-01-15",
          "User": "lmvanhofwegen"
         },
         {
          "Date": "2019-01-17",
          "User": "lmvanhofwegen"
         },
         {
          "Date": "2019-01-21",
          "User": "lmvanhofwegen"
         },
         {
          "Date": "2019-01-22",
          "User": "lmvanhofwegen"
         },
         {
          "Date": "2019-01-22",
          "User": "lmvanhofwegen"
         },
         {
          "Date": "2019-01-24",
          "User": "lmvanhofwegen"
         },
         {
          "Date": "2019-01-24",
          "User": "lmvanhofwegen"
         },
         {
          "Date": "2019-01-28",
          "User": "lmvanhofwegen"
         },
         {
          "Date": "2019-01-28",
          "User": "lmvanhofwegen"
         },
         {
          "Date": "2019-01-29",
          "User": "lmvanhofwegen"
         },
         {
          "Date": "2019-01-31",
          "User": "lmvanhofwegen"
         },
         {
          "Date": "2019-02-04",
          "User": "lmvanhofwegen"
         },
         {
          "Date": "2019-02-05",
          "User": "lmvanhofwegen"
         },
         {
          "Date": "2019-02-07",
          "User": "lmvanhofwegen"
         },
         {
          "Date": "2019-02-07",
          "User": "lmvanhofwegen"
         },
         {
          "Date": "2019-02-07",
          "User": "lmvanhofwegen"
         },
         {
          "Date": "2019-01-08",
          "User": "masweeney"
         },
         {
          "Date": "2019-01-25",
          "User": "ardegouveia"
         },
         {
          "Date": "2019-01-29",
          "User": "ardegouveia"
         },
         {
          "Date": "2019-01-30",
          "User": "linfante1"
         },
         {
          "Date": "2019-01-23",
          "User": "hmcoe"
         },
         {
          "Date": "2019-01-24",
          "User": "hmcoe"
         },
         {
          "Date": "2019-01-07",
          "User": "rrhoney"
         },
         {
          "Date": "2019-01-07",
          "User": "rrhoney"
         },
         {
          "Date": "2019-01-08",
          "User": "rrhoney"
         },
         {
          "Date": "2019-01-10",
          "User": "rrhoney"
         },
         {
          "Date": "2019-01-10",
          "User": "rrhoney"
         },
         {
          "Date": "2019-01-10",
          "User": "rrhoney"
         },
         {
          "Date": "2019-01-11",
          "User": "rrhoney"
         },
         {
          "Date": "2019-01-11",
          "User": "rrhoney"
         },
         {
          "Date": "2019-01-14",
          "User": "rrhoney"
         },
         {
          "Date": "2019-01-15",
          "User": "rrhoney"
         },
         {
          "Date": "2019-01-16",
          "User": "rrhoney"
         },
         {
          "Date": "2019-01-16",
          "User": "rrhoney"
         },
         {
          "Date": "2019-01-16",
          "User": "rrhoney"
         },
         {
          "Date": "2019-01-17",
          "User": "rrhoney"
         },
         {
          "Date": "2019-01-18",
          "User": "rrhoney"
         },
         {
          "Date": "2019-01-18",
          "User": "rrhoney"
         },
         {
          "Date": "2019-01-21",
          "User": "rrhoney"
         },
         {
          "Date": "2019-01-28",
          "User": "rrhoney"
         },
         {
          "Date": "2019-01-28",
          "User": "rrhoney"
         },
         {
          "Date": "2019-01-29",
          "User": "rrhoney"
         },
         {
          "Date": "2019-01-29",
          "User": "rrhoney"
         },
         {
          "Date": "2019-01-29",
          "User": "rrhoney"
         },
         {
          "Date": "2019-01-30",
          "User": "rrhoney"
         },
         {
          "Date": "2019-01-30",
          "User": "rrhoney"
         },
         {
          "Date": "2019-01-31",
          "User": "rrhoney"
         },
         {
          "Date": "2019-02-01",
          "User": "rrhoney"
         },
         {
          "Date": "2019-02-04",
          "User": "rrhoney"
         },
         {
          "Date": "2019-02-05",
          "User": "rrhoney"
         },
         {
          "Date": "2019-02-07",
          "User": "rrhoney"
         },
         {
          "Date": "2019-02-08",
          "User": "rrhoney"
         },
         {
          "Date": "2019-02-08",
          "User": "rrhoney"
         },
         {
          "Date": "2019-01-09",
          "User": "sgyengich"
         },
         {
          "Date": "2019-01-24",
          "User": "sgyengich"
         },
         {
          "Date": "2019-01-30",
          "User": "ffm15"
         },
         {
          "Date": "2019-01-08",
          "User": "slfalkowski"
         },
         {
          "Date": "2019-01-23",
          "User": "slfalkowski"
         },
         {
          "Date": "2019-01-23",
          "User": "slfalkowski"
         },
         {
          "Date": "2019-01-23",
          "User": "slfalkowski"
         },
         {
          "Date": "2019-01-23",
          "User": "slfalkowski"
         },
         {
          "Date": "2019-01-23",
          "User": "slfalkowski"
         },
         {
          "Date": "2019-01-23",
          "User": "slfalkowski"
         },
         {
          "Date": "2019-01-07",
          "User": "llsauve"
         },
         {
          "Date": "2019-01-08",
          "User": "llsauve"
         },
         {
          "Date": "2019-01-08",
          "User": "llsauve"
         },
         {
          "Date": "2019-01-09",
          "User": "llsauve"
         },
         {
          "Date": "2019-01-10",
          "User": "llsauve"
         },
         {
          "Date": "2019-01-11",
          "User": "llsauve"
         },
         {
          "Date": "2019-01-12",
          "User": "llsauve"
         },
         {
          "Date": "2019-01-12",
          "User": "llsauve"
         },
         {
          "Date": "2019-01-13",
          "User": "llsauve"
         },
         {
          "Date": "2019-01-14",
          "User": "llsauve"
         },
         {
          "Date": "2019-01-14",
          "User": "llsauve"
         },
         {
          "Date": "2019-01-15",
          "User": "llsauve"
         },
         {
          "Date": "2019-01-16",
          "User": "llsauve"
         },
         {
          "Date": "2019-01-17",
          "User": "llsauve"
         },
         {
          "Date": "2019-01-18",
          "User": "llsauve"
         },
         {
          "Date": "2019-01-19",
          "User": "llsauve"
         },
         {
          "Date": "2019-01-20",
          "User": "llsauve"
         },
         {
          "Date": "2019-01-21",
          "User": "llsauve"
         },
         {
          "Date": "2019-01-21",
          "User": "llsauve"
         },
         {
          "Date": "2019-01-22",
          "User": "llsauve"
         },
         {
          "Date": "2019-01-23",
          "User": "llsauve"
         },
         {
          "Date": "2019-01-23",
          "User": "llsauve"
         },
         {
          "Date": "2019-01-24",
          "User": "llsauve"
         },
         {
          "Date": "2019-01-25",
          "User": "llsauve"
         },
         {
          "Date": "2019-01-26",
          "User": "llsauve"
         },
         {
          "Date": "2019-01-26",
          "User": "llsauve"
         },
         {
          "Date": "2019-01-27",
          "User": "llsauve"
         },
         {
          "Date": "2019-01-27",
          "User": "llsauve"
         },
         {
          "Date": "2019-01-28",
          "User": "llsauve"
         },
         {
          "Date": "2019-01-29",
          "User": "llsauve"
         },
         {
          "Date": "2019-01-30",
          "User": "llsauve"
         },
         {
          "Date": "2019-01-31",
          "User": "llsauve"
         },
         {
          "Date": "2019-02-01",
          "User": "llsauve"
         },
         {
          "Date": "2019-02-02",
          "User": "llsauve"
         },
         {
          "Date": "2019-02-02",
          "User": "llsauve"
         },
         {
          "Date": "2019-02-03",
          "User": "llsauve"
         },
         {
          "Date": "2019-02-03",
          "User": "llsauve"
         },
         {
          "Date": "2019-02-04",
          "User": "llsauve"
         },
         {
          "Date": "2019-02-04",
          "User": "llsauve"
         },
         {
          "Date": "2019-02-05",
          "User": "llsauve"
         },
         {
          "Date": "2019-02-06",
          "User": "llsauve"
         },
         {
          "Date": "2019-02-07",
          "User": "llsauve"
         },
         {
          "Date": "2019-02-07",
          "User": "llsauve"
         },
         {
          "Date": "2019-02-07",
          "User": "llsauve"
         },
         {
          "Date": "2019-01-23",
          "User": "healthco"
         },
         {
          "Date": "2019-01-31",
          "User": "sblasco"
         },
         {
          "Date": "2019-01-28",
          "User": "ffm14"
         },
         {
          "Date": "2019-02-06",
          "User": "hsherdman"
         },
         {
          "Date": "2019-02-07",
          "User": "jmjohnson"
         },
         {
          "Date": "2019-02-07",
          "User": "jmjohnson"
         },
         {
          "Date": "2019-02-07",
          "User": "jmjohnson"
         },
         {
          "Date": "2019-02-07",
          "User": "jmjohnson"
         },
         {
          "Date": "2019-01-08",
          "User": "rjanderson"
         },
         {
          "Date": "2019-01-08",
          "User": "rjanderson"
         },
         {
          "Date": "2019-01-15",
          "User": "rjanderson"
         },
         {
          "Date": "2019-01-22",
          "User": "rjanderson"
         },
         {
          "Date": "2019-01-22",
          "User": "rjanderson"
         },
         {
          "Date": "2019-01-23",
          "User": "rjanderson"
         },
         {
          "Date": "2019-01-24",
          "User": "rjanderson"
         },
         {
          "Date": "2019-01-24",
          "User": "rjanderson"
         },
         {
          "Date": "2019-01-26",
          "User": "rjanderson"
         },
         {
          "Date": "2019-01-29",
          "User": "rjanderson"
         },
         {
          "Date": "2019-01-29",
          "User": "rjanderson"
         },
         {
          "Date": "2019-01-30",
          "User": "rjanderson"
         },
         {
          "Date": "2019-02-01",
          "User": "rjanderson"
         },
         {
          "Date": "2019-02-04",
          "User": "rjanderson"
         },
         {
          "Date": "2019-02-05",
          "User": "rjanderson"
         },
         {
          "Date": "2019-02-05",
          "User": "rjanderson"
         },
         {
          "Date": "2019-02-06",
          "User": "rjanderson"
         },
         {
          "Date": "2019-02-07",
          "User": "rjanderson"
         },
         {
          "Date": "2019-01-10",
          "User": "akwakefield"
         },
         {
          "Date": "2019-01-24",
          "User": "akwakefield"
         },
         {
          "Date": "2019-01-28",
          "User": "akwakefield"
         },
         {
          "Date": "2019-01-29",
          "User": "akwakefield"
         },
         {
          "Date": "2019-01-30",
          "User": "akwakefield"
         },
         {
          "Date": "2019-01-30",
          "User": "akwakefield"
         },
         {
          "Date": "2019-01-31",
          "User": "akwakefield"
         },
         {
          "Date": "2019-02-01",
          "User": "akwakefield"
         },
         {
          "Date": "2019-02-04",
          "User": "akwakefield"
         },
         {
          "Date": "2019-02-06",
          "User": "akwakefield"
         },
         {
          "Date": "2019-02-07",
          "User": "akwakefield"
         },
         {
          "Date": "2019-02-01",
          "User": "jlhammon"
         },
         {
          "Date": "2019-02-01",
          "User": "jlhammon"
         },
         {
          "Date": "2019-01-24",
          "User": "mburgos"
         },
         {
          "Date": "2019-01-31",
          "User": "stmcallister"
         },
         {
          "Date": "2019-01-31",
          "User": "stmcallister"
         },
         {
          "Date": "2019-02-01",
          "User": "stmcallister"
         },
         {
          "Date": "2019-02-02",
          "User": "stmcallister"
         },
         {
          "Date": "2019-02-04",
          "User": "stmcallister"
         },
         {
          "Date": "2019-02-05",
          "User": "stmcallister"
         },
         {
          "Date": "2019-02-05",
          "User": "stmcallister"
         },
         {
          "Date": "2019-02-05",
          "User": "stmcallister"
         },
         {
          "Date": "2019-02-06",
          "User": "stmcallister"
         },
         {
          "Date": "2019-02-06",
          "User": "stmcallister"
         },
         {
          "Date": "2019-02-06",
          "User": "stmcallister"
         },
         {
          "Date": "2019-02-06",
          "User": "stmcallister"
         },
         {
          "Date": "2019-02-07",
          "User": "stmcallister"
         },
         {
          "Date": "2019-02-08",
          "User": "stmcallister"
         },
         {
          "Date": "2019-02-08",
          "User": "stmcallister"
         },
         {
          "Date": "2019-01-21",
          "User": "eprieger"
         },
         {
          "Date": "2019-01-22",
          "User": "eprieger"
         },
         {
          "Date": "2019-01-23",
          "User": "eprieger"
         },
         {
          "Date": "2019-01-29",
          "User": "eprieger"
         },
         {
          "Date": "2019-01-30",
          "User": "eprieger"
         },
         {
          "Date": "2019-02-04",
          "User": "eprieger"
         },
         {
          "Date": "2019-02-06",
          "User": "eprieger"
         },
         {
          "Date": "2019-02-06",
          "User": "eprieger"
         },
         {
          "Date": "2019-01-16",
          "User": "fha4"
         },
         {
          "Date": "2019-01-15",
          "User": "tldingle"
         },
         {
          "Date": "2019-01-23",
          "User": "aabogaards"
         },
         {
          "Date": "2019-01-08",
          "User": "mafleming"
         },
         {
          "Date": "2019-01-17",
          "User": "mafleming"
         },
         {
          "Date": "2019-01-21",
          "User": "mafleming"
         },
         {
          "Date": "2019-01-22",
          "User": "mafleming"
         },
         {
          "Date": "2019-01-22",
          "User": "mafleming"
         },
         {
          "Date": "2019-01-22",
          "User": "mafleming"
         },
         {
          "Date": "2019-01-23",
          "User": "mafleming"
         },
         {
          "Date": "2019-01-23",
          "User": "mafleming"
         },
         {
          "Date": "2019-01-24",
          "User": "mafleming"
         },
         {
          "Date": "2019-01-24",
          "User": "mafleming"
         },
         {
          "Date": "2019-01-25",
          "User": "mafleming"
         },
         {
          "Date": "2019-01-25",
          "User": "mafleming"
         },
         {
          "Date": "2019-01-25",
          "User": "mafleming"
         },
         {
          "Date": "2019-01-26",
          "User": "mafleming"
         },
         {
          "Date": "2019-01-27",
          "User": "mafleming"
         },
         {
          "Date": "2019-01-28",
          "User": "mafleming"
         },
         {
          "Date": "2019-01-28",
          "User": "mafleming"
         },
         {
          "Date": "2019-01-28",
          "User": "mafleming"
         },
         {
          "Date": "2019-01-28",
          "User": "mafleming"
         },
         {
          "Date": "2019-01-29",
          "User": "mafleming"
         },
         {
          "Date": "2019-01-30",
          "User": "mafleming"
         },
         {
          "Date": "2019-01-30",
          "User": "mafleming"
         },
         {
          "Date": "2019-01-30",
          "User": "mafleming"
         },
         {
          "Date": "2019-01-31",
          "User": "mafleming"
         },
         {
          "Date": "2019-01-31",
          "User": "mafleming"
         },
         {
          "Date": "2019-02-01",
          "User": "mafleming"
         },
         {
          "Date": "2019-02-01",
          "User": "mafleming"
         },
         {
          "Date": "2019-02-01",
          "User": "mafleming"
         },
         {
          "Date": "2019-02-01",
          "User": "mafleming"
         },
         {
          "Date": "2019-02-01",
          "User": "mafleming"
         },
         {
          "Date": "2019-02-03",
          "User": "mafleming"
         },
         {
          "Date": "2019-02-04",
          "User": "mafleming"
         },
         {
          "Date": "2019-02-04",
          "User": "mafleming"
         },
         {
          "Date": "2019-02-04",
          "User": "mafleming"
         },
         {
          "Date": "2019-02-05",
          "User": "mafleming"
         },
         {
          "Date": "2019-02-06",
          "User": "mafleming"
         },
         {
          "Date": "2019-02-06",
          "User": "mafleming"
         },
         {
          "Date": "2019-02-07",
          "User": "mafleming"
         },
         {
          "Date": "2019-02-07",
          "User": "mafleming"
         },
         {
          "Date": "2019-02-07",
          "User": "mafleming"
         },
         {
          "Date": "2019-02-07",
          "User": "mafleming"
         },
         {
          "Date": "2019-02-08",
          "User": "mafleming"
         },
         {
          "Date": "2019-02-08",
          "User": "mafleming"
         },
         {
          "Date": "2019-01-16",
          "User": "fha5"
         },
         {
          "Date": "2019-02-03",
          "User": "wreiford"
         },
         {
          "Date": "2019-01-23",
          "User": "jtshort"
         },
         {
          "Date": "2019-01-24",
          "User": "jtshort"
         },
         {
          "Date": "2019-01-24",
          "User": "jtshort"
         },
         {
          "Date": "2019-01-25",
          "User": "jtshort"
         },
         {
          "Date": "2019-01-29",
          "User": "jtshort"
         },
         {
          "Date": "2019-01-30",
          "User": "jtshort"
         },
         {
          "Date": "2019-01-31",
          "User": "jtshort"
         },
         {
          "Date": "2019-02-01",
          "User": "jtshort"
         },
         {
          "Date": "2019-02-01",
          "User": "jtshort"
         },
         {
          "Date": "2019-02-02",
          "User": "jtshort"
         },
         {
          "Date": "2019-02-03",
          "User": "jtshort"
         },
         {
          "Date": "2019-02-05",
          "User": "jtshort"
         },
         {
          "Date": "2019-02-06",
          "User": "jtshort"
         },
         {
          "Date": "2019-02-07",
          "User": "jtshort"
         },
         {
          "Date": "2019-02-08",
          "User": "jtshort"
         },
         {
          "Date": "2019-01-08",
          "User": "avlittle"
         },
         {
          "Date": "2019-01-09",
          "User": "avlittle"
         },
         {
          "Date": "2019-01-10",
          "User": "avlittle"
         },
         {
          "Date": "2019-01-11",
          "User": "avlittle"
         },
         {
          "Date": "2019-01-11",
          "User": "avlittle"
         },
         {
          "Date": "2019-01-13",
          "User": "avlittle"
         },
         {
          "Date": "2019-01-14",
          "User": "avlittle"
         },
         {
          "Date": "2019-01-15",
          "User": "avlittle"
         },
         {
          "Date": "2019-01-16",
          "User": "avlittle"
         },
         {
          "Date": "2019-01-18",
          "User": "avlittle"
         },
         {
          "Date": "2019-01-18",
          "User": "avlittle"
         },
         {
          "Date": "2019-01-20",
          "User": "avlittle"
         },
         {
          "Date": "2019-01-22",
          "User": "avlittle"
         },
         {
          "Date": "2019-01-22",
          "User": "avlittle"
         },
         {
          "Date": "2019-01-23",
          "User": "avlittle"
         },
         {
          "Date": "2019-01-23",
          "User": "avlittle"
         },
         {
          "Date": "2019-01-24",
          "User": "avlittle"
         },
         {
          "Date": "2019-01-25",
          "User": "avlittle"
         },
         {
          "Date": "2019-01-25",
          "User": "avlittle"
         },
         {
          "Date": "2019-01-26",
          "User": "avlittle"
         },
         {
          "Date": "2019-01-27",
          "User": "avlittle"
         },
         {
          "Date": "2019-01-27",
          "User": "avlittle"
         },
         {
          "Date": "2019-01-28",
          "User": "avlittle"
         },
         {
          "Date": "2019-01-29",
          "User": "avlittle"
         },
         {
          "Date": "2019-01-30",
          "User": "avlittle"
         },
         {
          "Date": "2019-01-30",
          "User": "avlittle"
         },
         {
          "Date": "2019-01-31",
          "User": "avlittle"
         },
         {
          "Date": "2019-02-01",
          "User": "avlittle"
         },
         {
          "Date": "2019-02-03",
          "User": "avlittle"
         },
         {
          "Date": "2019-02-05",
          "User": "avlittle"
         },
         {
          "Date": "2019-02-06",
          "User": "avlittle"
         },
         {
          "Date": "2019-02-06",
          "User": "avlittle"
         },
         {
          "Date": "2019-02-07",
          "User": "avlittle"
         },
         {
          "Date": "2019-02-08",
          "User": "avlittle"
         },
         {
          "Date": "2019-01-25",
          "User": "salewis"
         },
         {
          "Date": "2019-01-30",
          "User": "salewis"
         },
         {
          "Date": "2019-01-31",
          "User": "salewis"
         },
         {
          "Date": "2019-01-31",
          "User": "salewis"
         },
         {
          "Date": "2019-02-03",
          "User": "salewis"
         },
         {
          "Date": "2019-02-04",
          "User": "salewis"
         },
         {
          "Date": "2019-02-05",
          "User": "salewis"
         },
         {
          "Date": "2019-02-07",
          "User": "salewis"
         },
         {
          "Date": "2019-02-08",
          "User": "salewis"
         },
         {
          "Date": "2019-01-08",
          "User": "jkploudre"
         },
         {
          "Date": "2019-01-08",
          "User": "jkploudre"
         },
         {
          "Date": "2019-01-09",
          "User": "jkploudre"
         },
         {
          "Date": "2019-01-10",
          "User": "jkploudre"
         },
         {
          "Date": "2019-01-11",
          "User": "jkploudre"
         },
         {
          "Date": "2019-01-15",
          "User": "jkploudre"
         },
         {
          "Date": "2019-01-16",
          "User": "jkploudre"
         },
         {
          "Date": "2019-01-17",
          "User": "jkploudre"
         },
         {
          "Date": "2019-01-17",
          "User": "jkploudre"
         },
         {
          "Date": "2019-01-17",
          "User": "jkploudre"
         },
         {
          "Date": "2019-01-17",
          "User": "jkploudre"
         },
         {
          "Date": "2019-01-18",
          "User": "jkploudre"
         },
         {
          "Date": "2019-01-20",
          "User": "jkploudre"
         },
         {
          "Date": "2019-01-20",
          "User": "jkploudre"
         },
         {
          "Date": "2019-01-22",
          "User": "jkploudre"
         },
         {
          "Date": "2019-01-23",
          "User": "jkploudre"
         },
         {
          "Date": "2019-01-23",
          "User": "jkploudre"
         },
         {
          "Date": "2019-01-24",
          "User": "jkploudre"
         },
         {
          "Date": "2019-01-24",
          "User": "jkploudre"
         },
         {
          "Date": "2019-01-25",
          "User": "jkploudre"
         },
         {
          "Date": "2019-01-27",
          "User": "jkploudre"
         },
         {
          "Date": "2019-01-27",
          "User": "jkploudre"
         },
         {
          "Date": "2019-01-29",
          "User": "jkploudre"
         },
         {
          "Date": "2019-01-29",
          "User": "jkploudre"
         },
         {
          "Date": "2019-01-30",
          "User": "jkploudre"
         },
         {
          "Date": "2019-01-30",
          "User": "jkploudre"
         },
         {
          "Date": "2019-01-31",
          "User": "jkploudre"
         },
         {
          "Date": "2019-01-31",
          "User": "jkploudre"
         },
         {
          "Date": "2019-01-31",
          "User": "jkploudre"
         },
         {
          "Date": "2019-02-01",
          "User": "jkploudre"
         },
         {
          "Date": "2019-02-01",
          "User": "jkploudre"
         },
         {
          "Date": "2019-02-01",
          "User": "jkploudre"
         },
         {
          "Date": "2019-02-01",
          "User": "jkploudre"
         },
         {
          "Date": "2019-02-03",
          "User": "jkploudre"
         },
         {
          "Date": "2019-02-05",
          "User": "jkploudre"
         },
         {
          "Date": "2019-02-05",
          "User": "jkploudre"
         },
         {
          "Date": "2019-02-06",
          "User": "jkploudre"
         },
         {
          "Date": "2019-02-07",
          "User": "jkploudre"
         },
         {
          "Date": "2019-02-07",
          "User": "jkploudre"
         },
         {
          "Date": "2019-02-07",
          "User": "jkploudre"
         },
         {
          "Date": "2019-02-07",
          "User": "jkploudre"
         },
         {
          "Date": "2019-02-08",
          "User": "jkploudre"
         },
         {
          "Date": "2019-02-04",
          "User": "rlwatson"
         },
         {
          "Date": "2019-02-04",
          "User": "rlwatson"
         },
         {
          "Date": "2019-02-04",
          "User": "rlwatson"
         },
         {
          "Date": "2019-02-04",
          "User": "rlwatson"
         },
         {
          "Date": "2019-02-04",
          "User": "rlwatson"
         },
         {
          "Date": "2019-02-04",
          "User": "rlwatson"
         },
         {
          "Date": "2019-01-31",
          "User": "FHA7"
         },
         {
          "Date": "2019-02-01",
          "User": "fha7"
         },
         {
          "Date": "2019-02-07",
          "User": "fha7"
         },
         {
          "Date": "2019-01-22",
          "User": "dmroessler"
         },
         {
          "Date": "2019-01-23",
          "User": "dmroessler"
         },
         {
          "Date": "2019-01-30",
          "User": "dmroessler"
         },
         {
          "Date": "2019-02-05",
          "User": "dmroessler"
         },
         {
          "Date": "2019-02-05",
          "User": "dmroessler"
         },
         {
          "Date": "2019-02-06",
          "User": "dmroessler"
         },
         {
          "Date": "2019-02-07",
          "User": "dmroessler"
         },
         {
          "Date": "2019-01-22",
          "User": "arybak"
         },
         {
          "Date": "2019-01-25",
          "User": "ammontour"
         },
         {
          "Date": "2019-01-07",
          "User": "gjanderson"
         },
         {
          "Date": "2019-01-07",
          "User": "gjanderson"
         },
         {
          "Date": "2019-01-08",
          "User": "gjanderson"
         },
         {
          "Date": "2019-01-08",
          "User": "gjanderson"
         },
         {
          "Date": "2019-01-09",
          "User": "gjanderson"
         },
         {
          "Date": "2019-01-09",
          "User": "gjanderson"
         },
         {
          "Date": "2019-01-09",
          "User": "gjanderson"
         },
         {
          "Date": "2019-01-10",
          "User": "gjanderson"
         },
         {
          "Date": "2019-01-10",
          "User": "gjanderson"
         },
         {
          "Date": "2019-01-10",
          "User": "gjanderson"
         },
         {
          "Date": "2019-01-11",
          "User": "gjanderson"
         },
         {
          "Date": "2019-01-12",
          "User": "gjanderson"
         },
         {
          "Date": "2019-01-13",
          "User": "gjanderson"
         },
         {
          "Date": "2019-01-14",
          "User": "gjanderson"
         },
         {
          "Date": "2019-01-14",
          "User": "gjanderson"
         },
         {
          "Date": "2019-01-15",
          "User": "gjanderson"
         },
         {
          "Date": "2019-01-16",
          "User": "gjanderson"
         },
         {
          "Date": "2019-01-16",
          "User": "gjanderson"
         },
         {
          "Date": "2019-01-17",
          "User": "gjanderson"
         },
         {
          "Date": "2019-01-17",
          "User": "gjanderson"
         },
         {
          "Date": "2019-01-17",
          "User": "gjanderson"
         },
         {
          "Date": "2019-01-17",
          "User": "gjanderson"
         },
         {
          "Date": "2019-01-17",
          "User": "gjanderson"
         },
         {
          "Date": "2019-01-17",
          "User": "gjanderson"
         },
         {
          "Date": "2019-01-18",
          "User": "gjanderson"
         },
         {
          "Date": "2019-01-19",
          "User": "gjanderson"
         },
         {
          "Date": "2019-01-19",
          "User": "gjanderson"
         },
         {
          "Date": "2019-01-19",
          "User": "gjanderson"
         },
         {
          "Date": "2019-01-20",
          "User": "gjanderson"
         },
         {
          "Date": "2019-01-20",
          "User": "gjanderson"
         },
         {
          "Date": "2019-01-21",
          "User": "gjanderson"
         },
         {
          "Date": "2019-01-21",
          "User": "gjanderson"
         },
         {
          "Date": "2019-01-21",
          "User": "gjanderson"
         },
         {
          "Date": "2019-01-21",
          "User": "gjanderson"
         },
         {
          "Date": "2019-01-22",
          "User": "gjanderson"
         },
         {
          "Date": "2019-01-22",
          "User": "gjanderson"
         },
         {
          "Date": "2019-01-23",
          "User": "gjanderson"
         },
         {
          "Date": "2019-01-23",
          "User": "gjanderson"
         },
         {
          "Date": "2019-01-24",
          "User": "gjanderson"
         },
         {
          "Date": "2019-01-24",
          "User": "gjanderson"
         },
         {
          "Date": "2019-01-25",
          "User": "gjanderson"
         },
         {
          "Date": "2019-01-26",
          "User": "gjanderson"
         },
         {
          "Date": "2019-01-26",
          "User": "gjanderson"
         },
         {
          "Date": "2019-01-26",
          "User": "gjanderson"
         },
         {
          "Date": "2019-01-27",
          "User": "gjanderson"
         },
         {
          "Date": "2019-01-27",
          "User": "gjanderson"
         },
         {
          "Date": "2019-01-27",
          "User": "gjanderson"
         },
         {
          "Date": "2019-01-27",
          "User": "gjanderson"
         },
         {
          "Date": "2019-01-27",
          "User": "gjanderson"
         },
         {
          "Date": "2019-01-28",
          "User": "gjanderson"
         },
         {
          "Date": "2019-01-28",
          "User": "gjanderson"
         },
         {
          "Date": "2019-01-29",
          "User": "gjanderson"
         },
         {
          "Date": "2019-01-29",
          "User": "gjanderson"
         },
         {
          "Date": "2019-01-30",
          "User": "gjanderson"
         },
         {
          "Date": "2019-01-30",
          "User": "gjanderson"
         },
         {
          "Date": "2019-01-31",
          "User": "gjanderson"
         },
         {
          "Date": "2019-01-31",
          "User": "gjanderson"
         },
         {
          "Date": "2019-01-31",
          "User": "gjanderson"
         },
         {
          "Date": "2019-01-31",
          "User": "gjanderson"
         },
         {
          "Date": "2019-02-01",
          "User": "gjanderson"
         },
         {
          "Date": "2019-02-02",
          "User": "gjanderson"
         },
         {
          "Date": "2019-02-03",
          "User": "gjanderson"
         },
         {
          "Date": "2019-02-03",
          "User": "gjanderson"
         },
         {
          "Date": "2019-02-03",
          "User": "gjanderson"
         },
         {
          "Date": "2019-02-04",
          "User": "gjanderson"
         },
         {
          "Date": "2019-02-04",
          "User": "gjanderson"
         },
         {
          "Date": "2019-02-05",
          "User": "gjanderson"
         },
         {
          "Date": "2019-02-05",
          "User": "gjanderson"
         },
         {
          "Date": "2019-02-06",
          "User": "gjanderson"
         },
         {
          "Date": "2019-02-06",
          "User": "gjanderson"
         },
         {
          "Date": "2019-02-06",
          "User": "gjanderson"
         },
         {
          "Date": "2019-02-07",
          "User": "gjanderson"
         },
         {
          "Date": "2019-02-07",
          "User": "gjanderson"
         },
         {
          "Date": "2019-02-08",
          "User": "gjanderson"
         },
         {
          "Date": "2019-02-08",
          "User": "gjanderson"
         },
         {
          "Date": "2019-01-22",
          "User": "kjcampbell"
         },
         {
          "Date": "2019-01-23",
          "User": "amtripp"
         },
         {
          "Date": "2019-01-23",
          "User": "amtripp"
         },
         {
          "Date": "2019-01-23",
          "User": "amtripp"
         },
         {
          "Date": "2019-01-23",
          "User": "amtripp"
         },
         {
          "Date": "2019-01-23",
          "User": "amtripp"
         },
         {
          "Date": "2019-01-23",
          "User": "amtripp"
         },
         {
          "Date": "2019-01-23",
          "User": "amtripp"
         },
         {
          "Date": "2019-01-23",
          "User": "amtripp"
         },
         {
          "Date": "2019-01-07",
          "User": "wsnyder"
         },
         {
          "Date": "2019-01-08",
          "User": "wsnyder"
         },
         {
          "Date": "2019-01-09",
          "User": "wsnyder"
         },
         {
          "Date": "2019-01-09",
          "User": "wsnyder"
         },
         {
          "Date": "2019-01-09",
          "User": "wsnyder"
         },
         {
          "Date": "2019-01-09",
          "User": "wsnyder"
         },
         {
          "Date": "2019-01-10",
          "User": "wsnyder"
         },
         {
          "Date": "2019-01-10",
          "User": "wsnyder"
         },
         {
          "Date": "2019-01-11",
          "User": "wsnyder"
         },
         {
          "Date": "2019-01-13",
          "User": "wsnyder"
         },
         {
          "Date": "2019-01-14",
          "User": "wsnyder"
         },
         {
          "Date": "2019-01-14",
          "User": "wsnyder"
         },
         {
          "Date": "2019-01-15",
          "User": "wsnyder"
         },
         {
          "Date": "2019-01-15",
          "User": "wsnyder"
         },
         {
          "Date": "2019-01-16",
          "User": "wsnyder"
         },
         {
          "Date": "2019-01-17",
          "User": "wsnyder"
         },
         {
          "Date": "2019-01-18",
          "User": "wsnyder"
         },
         {
          "Date": "2019-01-18",
          "User": "wsnyder"
         },
         {
          "Date": "2019-01-18",
          "User": "wsnyder"
         },
         {
          "Date": "2019-01-18",
          "User": "wsnyder"
         },
         {
          "Date": "2019-01-19",
          "User": "wsnyder"
         },
         {
          "Date": "2019-01-28",
          "User": "wsnyder"
         },
         {
          "Date": "2019-01-28",
          "User": "wsnyder"
         },
         {
          "Date": "2019-01-28",
          "User": "wsnyder"
         },
         {
          "Date": "2019-01-29",
          "User": "wsnyder"
         },
         {
          "Date": "2019-01-29",
          "User": "wsnyder"
         },
         {
          "Date": "2019-01-30",
          "User": "wsnyder"
         },
         {
          "Date": "2019-01-30",
          "User": "wsnyder"
         },
         {
          "Date": "2019-01-31",
          "User": "wsnyder"
         },
         {
          "Date": "2019-02-01",
          "User": "wsnyder"
         },
         {
          "Date": "2019-02-02",
          "User": "wsnyder"
         },
         {
          "Date": "2019-02-03",
          "User": "wsnyder"
         },
         {
          "Date": "2019-02-04",
          "User": "wsnyder"
         },
         {
          "Date": "2019-02-04",
          "User": "wsnyder"
         },
         {
          "Date": "2019-02-05",
          "User": "wsnyder"
         },
         {
          "Date": "2019-02-06",
          "User": "wsnyder"
         },
         {
          "Date": "2019-02-06",
          "User": "wsnyder"
         },
         {
          "Date": "2019-02-06",
          "User": "wsnyder"
         },
         {
          "Date": "2019-02-07",
          "User": "wsnyder"
         },
         {
          "Date": "2019-02-08",
          "User": "wsnyder"
         },
         {
          "Date": "2019-02-08",
          "User": "wsnyder"
         },
         {
          "Date": "2019-02-08",
          "User": "wsnyder"
         },
         {
          "Date": "2019-02-08",
          "User": "wsnyder"
         },
         {
          "Date": "2019-02-08",
          "User": "wsnyder"
         },
         {
          "Date": "2019-02-08",
          "User": "wsnyder"
         },
         {
          "Date": "2019-02-08",
          "User": "wsnyder"
         },
         {
          "Date": "2019-01-24",
          "User": "hllockwood"
         },
         {
          "Date": "2019-01-24",
          "User": "hllockwood"
         },
         {
          "Date": "2019-01-24",
          "User": "hllockwood"
         },
         {
          "Date": "2019-01-28",
          "User": "hllockwood"
         },
         {
          "Date": "2019-01-30",
          "User": "fha2"
         },
         {
          "Date": "2019-01-21",
          "User": "lclark"
         },
         {
          "Date": "2019-01-23",
          "User": "lclark"
         },
         {
          "Date": "2019-01-23",
          "User": "lclark"
         },
         {
          "Date": "2019-01-24",
          "User": "lclark"
         },
         {
          "Date": "2019-01-25",
          "User": "lclark"
         },
         {
          "Date": "2019-01-31",
          "User": "lclark"
         },
         {
          "Date": "2019-02-01",
          "User": "lclark"
         },
         {
          "Date": "2019-01-15",
          "User": "jcgamson"
         },
         {
          "Date": "2019-01-21",
          "User": "jcgamson"
         },
         {
          "Date": "2019-01-23",
          "User": "jcgamson"
         },
         {
          "Date": "2019-01-24",
          "User": "jcgamson"
         },
         {
          "Date": "2019-01-28",
          "User": "jcgamson"
         },
         {
          "Date": "2019-01-28",
          "User": "jcgamson"
         },
         {
          "Date": "2019-01-31",
          "User": "jcgamson"
         },
         {
          "Date": "2019-02-01",
          "User": "jcgamson"
         },
         {
          "Date": "2019-02-05",
          "User": "jcgamson"
         },
         {
          "Date": "2019-02-08",
          "User": "jcgamson"
         },
         {
          "Date": "2019-01-08",
          "User": "djgavaresk"
         },
         {
          "Date": "2019-01-14",
          "User": "fha1"
         },
         {
          "Date": "2019-01-30",
          "User": "fha1"
         },
         {
          "Date": "2019-01-08",
          "User": "dmjacobson"
         },
         {
          "Date": "2019-01-08",
          "User": "clwoodard"
         }
        ]
       },
       "encoding": {
        "x": {
         "field": "Date",
         "type": "temporal"
        },
        "y": {
         "aggregate": "distinct",
         "field": "User",
         "type": "nominal"
        }
       },
       "mark": "bar"
      },
      "image/png": "[encoded data removed]",
      "text/plain": [
       "<VegaLite 2 object>\n",
       "\n",
       "If you see this message, it means the renderer has not been properly enabled\n",
       "for the frontend that you are using. For more information, see\n",
       "https://altair-viz.github.io/user_guide/troubleshooting.html\n"
      ]
     },
     "execution_count": 22,
     "metadata": {},
     "output_type": "execute_result"
    }
   ],
   "source": [
    "data_range = df[(df['Date'] > '2019-01-06') & (df['Date'] < '2019-02-09')]\n",
    "\n",
    "alt.Chart(data_range).mark_bar().encode(\n",
    "    x='Date:T',\n",
    "    y='distinct(User)'\n",
    ")"
   ]
  },
  {
   "cell_type": "code",
   "execution_count": null,
   "metadata": {},
   "outputs": [],
   "source": []
  },
  {
   "cell_type": "code",
   "execution_count": null,
   "metadata": {},
   "outputs": [],
   "source": []
  },
  {
   "cell_type": "code",
   "execution_count": null,
   "metadata": {},
   "outputs": [],
   "source": []
  }
 ],
 "metadata": {
  "kernelspec": {
   "display_name": "Python 3",
   "language": "python",
   "name": "python3"
  },
  "language_info": {
   "codemirror_mode": {
    "name": "ipython",
    "version": 3
   },
   "file_extension": ".py",
   "mimetype": "text/x-python",
   "name": "python",
   "nbconvert_exporter": "python",
   "pygments_lexer": "ipython3",
   "version": "3.6.6"
  }
 },
 "nbformat": 4,
 "nbformat_minor": 2
}
