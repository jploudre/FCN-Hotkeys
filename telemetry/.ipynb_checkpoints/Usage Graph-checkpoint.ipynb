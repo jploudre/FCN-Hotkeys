{
 "cells": [
  {
   "cell_type": "code",
   "execution_count": 1,
   "metadata": {},
   "outputs": [],
   "source": [
    "import glob as glob\n",
    "import pandas as pd\n",
    "import altair as alt"
   ]
  },
  {
   "cell_type": "code",
   "execution_count": 2,
   "metadata": {},
   "outputs": [],
   "source": [
    "df = pd.DataFrame()\n",
    "\n",
    "files = glob.iglob(\"./*.csv\")\n",
    "for file in files:\n",
    "    file_df = pd.read_csv(file, names=[\"User\",\"Date\"], parse_dates=[\"Date\"])\n",
    "    df = df.append(file_df)"
   ]
  },
  {
   "cell_type": "code",
   "execution_count": 3,
   "metadata": {},
   "outputs": [
    {
     "name": "stderr",
     "output_type": "stream",
     "text": [
      "/Users/jonathan/miniconda3/lib/python3.7/site-packages/altair/utils/core.py:294: FutureWarning: A future version of pandas will default to `skipna=True`. To silence this warning, pass `skipna=True|False` explicitly.\n",
      "  attrs['type'] = infer_vegalite_type(data[attrs['field']])\n"
     ]
    },
    {
     "data": {
      "application/vnd.vegalite.v2+json": {
       "$schema": "https://vega.github.io/schema/vega-lite/v2.6.0.json",
       "config": {
        "view": {
         "height": 300,
         "width": 400
        }
       },
       "data": {
        "name": "data-dcc5f8acd6632450bcc48c90f61826df"
       },
       "datasets": {
        "data-dcc5f8acd6632450bcc48c90f61826df": [
         {
          "Date": "2019-01-22T00:00:00",
          "User": "jjallinson"
         },
         {
          "Date": "2019-01-24T00:00:00",
          "User": "jjallinson"
         },
         {
          "Date": "2019-01-28T00:00:00",
          "User": "jjallinson"
         },
         {
          "Date": "2019-01-09T00:00:00",
          "User": "kljacobs"
         },
         {
          "Date": "2019-01-09T00:00:00",
          "User": "kljacobs"
         },
         {
          "Date": "2019-01-09T00:00:00",
          "User": "kljacobs"
         },
         {
          "Date": "2019-01-09T00:00:00",
          "User": "kljacobs"
         },
         {
          "Date": "2019-01-09T00:00:00",
          "User": "kljacobs"
         },
         {
          "Date": "2019-01-09T00:00:00",
          "User": "kljacobs"
         },
         {
          "Date": "2019-01-09T00:00:00",
          "User": "kljacobs"
         },
         {
          "Date": "2019-01-09T00:00:00",
          "User": "kljacobs"
         },
         {
          "Date": "2019-01-09T00:00:00",
          "User": "kljacobs"
         },
         {
          "Date": "2019-01-18T00:00:00",
          "User": "kljacobs"
         },
         {
          "Date": "2019-01-22T00:00:00",
          "User": "kljacobs"
         },
         {
          "Date": "2019-01-22T00:00:00",
          "User": "kljacobs"
         },
         {
          "Date": "2019-01-22T00:00:00",
          "User": "kljacobs"
         },
         {
          "Date": "2019-01-22T00:00:00",
          "User": "kljacobs"
         },
         {
          "Date": "2019-01-22T00:00:00",
          "User": "kljacobs"
         },
         {
          "Date": "2019-01-22T00:00:00",
          "User": "kljacobs"
         },
         {
          "Date": "2019-01-22T00:00:00",
          "User": "kljacobs"
         },
         {
          "Date": "2019-01-22T00:00:00",
          "User": "kljacobs"
         },
         {
          "Date": "2019-01-22T00:00:00",
          "User": "kljacobs"
         },
         {
          "Date": "2019-01-22T00:00:00",
          "User": "kljacobs"
         },
         {
          "Date": "2019-01-22T00:00:00",
          "User": "kljacobs"
         },
         {
          "Date": "2019-01-22T00:00:00",
          "User": "kljacobs"
         },
         {
          "Date": "2019-01-22T00:00:00",
          "User": "kljacobs"
         },
         {
          "Date": "2019-01-22T00:00:00",
          "User": "kljacobs"
         },
         {
          "Date": "2019-01-22T00:00:00",
          "User": "kljacobs"
         },
         {
          "Date": "2019-01-22T00:00:00",
          "User": "kljacobs"
         },
         {
          "Date": "2019-01-28T00:00:00",
          "User": "kljacobs"
         },
         {
          "Date": "2019-01-30T00:00:00",
          "User": "kljacobs"
         },
         {
          "Date": "2019-02-06T00:00:00",
          "User": "kljacobs"
         },
         {
          "Date": "2019-02-13T00:00:00",
          "User": "kljacobs"
         },
         {
          "Date": "2019-02-13T00:00:00",
          "User": "kljacobs"
         },
         {
          "Date": "2019-02-13T00:00:00",
          "User": "kljacobs"
         },
         {
          "Date": "2019-02-13T00:00:00",
          "User": "kljacobs"
         },
         {
          "Date": "2019-02-13T00:00:00",
          "User": "kljacobs"
         },
         {
          "Date": "2019-02-14T00:00:00",
          "User": "kljacobs"
         },
         {
          "Date": "2019-02-15T00:00:00",
          "User": "kljacobs"
         },
         {
          "Date": "2019-02-19T00:00:00",
          "User": "kljacobs"
         },
         {
          "Date": "2019-02-20T00:00:00",
          "User": "kljacobs"
         },
         {
          "Date": "2019-02-20T00:00:00",
          "User": "kljacobs"
         },
         {
          "Date": "2019-02-20T00:00:00",
          "User": "kljacobs"
         },
         {
          "Date": "2019-02-22T00:00:00",
          "User": "kljacobs"
         },
         {
          "Date": "2019-02-22T00:00:00",
          "User": "kljacobs"
         },
         {
          "Date": "2019-02-24T00:00:00",
          "User": "kljacobs"
         },
         {
          "Date": "2019-02-25T00:00:00",
          "User": "kljacobs"
         },
         {
          "Date": "2019-02-25T00:00:00",
          "User": "kljacobs"
         },
         {
          "Date": "2019-02-26T00:00:00",
          "User": "kljacobs"
         },
         {
          "Date": "2019-02-27T00:00:00",
          "User": "kljacobs"
         },
         {
          "Date": "2019-02-27T00:00:00",
          "User": "kljacobs"
         },
         {
          "Date": "2019-02-27T00:00:00",
          "User": "kljacobs"
         },
         {
          "Date": "2019-02-27T00:00:00",
          "User": "kljacobs"
         },
         {
          "Date": "2019-03-01T00:00:00",
          "User": "kljacobs"
         },
         {
          "Date": "2019-03-01T00:00:00",
          "User": "kljacobs"
         },
         {
          "Date": "2019-03-01T00:00:00",
          "User": "kljacobs"
         },
         {
          "Date": "2019-03-03T00:00:00",
          "User": "kljacobs"
         },
         {
          "Date": "2019-03-04T00:00:00",
          "User": "kljacobs"
         },
         {
          "Date": "2019-03-04T00:00:00",
          "User": "kljacobs"
         },
         {
          "Date": "2019-03-05T00:00:00",
          "User": "kljacobs"
         },
         {
          "Date": "2019-03-05T00:00:00",
          "User": "kljacobs"
         },
         {
          "Date": "2019-03-06T00:00:00",
          "User": "kljacobs"
         },
         {
          "Date": "2019-03-06T00:00:00",
          "User": "kljacobs"
         },
         {
          "Date": "2019-03-06T00:00:00",
          "User": "kljacobs"
         },
         {
          "Date": "2019-03-07T00:00:00",
          "User": "kljacobs"
         },
         {
          "Date": "2019-03-08T00:00:00",
          "User": "kljacobs"
         },
         {
          "Date": "2019-03-08T00:00:00",
          "User": "kljacobs"
         },
         {
          "Date": "2019-03-08T00:00:00",
          "User": "kljacobs"
         },
         {
          "Date": "2019-03-08T00:00:00",
          "User": "kljacobs"
         },
         {
          "Date": "2019-03-08T00:00:00",
          "User": "kljacobs"
         },
         {
          "Date": "2019-03-09T00:00:00",
          "User": "kljacobs"
         },
         {
          "Date": "2019-03-11T00:00:00",
          "User": "kljacobs"
         },
         {
          "Date": "2019-03-12T00:00:00",
          "User": "kljacobs"
         },
         {
          "Date": "2019-03-12T00:00:00",
          "User": "kljacobs"
         },
         {
          "Date": "2019-03-13T00:00:00",
          "User": "kljacobs"
         },
         {
          "Date": "2019-03-18T00:00:00",
          "User": "kljacobs"
         },
         {
          "Date": "2019-03-19T00:00:00",
          "User": "kljacobs"
         },
         {
          "Date": "2019-03-20T00:00:00",
          "User": "kljacobs"
         },
         {
          "Date": "2019-03-22T00:00:00",
          "User": "kljacobs"
         },
         {
          "Date": "2019-04-01T00:00:00",
          "User": "kljacobs"
         },
         {
          "Date": "2019-04-02T00:00:00",
          "User": "kljacobs"
         },
         {
          "Date": "2019-04-02T00:00:00",
          "User": "kljacobs"
         },
         {
          "Date": "2019-04-03T00:00:00",
          "User": "kljacobs"
         },
         {
          "Date": "2019-04-04T00:00:00",
          "User": "kljacobs"
         },
         {
          "Date": "2019-04-05T00:00:00",
          "User": "kljacobs"
         },
         {
          "Date": "2019-04-08T00:00:00",
          "User": "kljacobs"
         },
         {
          "Date": "2019-04-08T00:00:00",
          "User": "kljacobs"
         },
         {
          "Date": "2019-04-09T00:00:00",
          "User": "kljacobs"
         },
         {
          "Date": "2019-03-12T00:00:00",
          "User": "smhollstein"
         },
         {
          "Date": "2019-03-12T00:00:00",
          "User": "smhollstein"
         },
         {
          "Date": "2019-02-19T00:00:00",
          "User": "jeallbaugh"
         },
         {
          "Date": "2019-02-08T00:00:00",
          "User": "rpestep"
         },
         {
          "Date": "2019-02-08T00:00:00",
          "User": "rpestep"
         },
         {
          "Date": "2019-02-09T00:00:00",
          "User": "rpestep"
         },
         {
          "Date": "2019-02-10T00:00:00",
          "User": "rpestep"
         },
         {
          "Date": "2019-02-11T00:00:00",
          "User": "rpestep"
         },
         {
          "Date": "2019-02-11T00:00:00",
          "User": "rpestep"
         },
         {
          "Date": "2019-02-12T00:00:00",
          "User": "rpestep"
         },
         {
          "Date": "2019-02-13T00:00:00",
          "User": "rpestep"
         },
         {
          "Date": "2019-02-14T00:00:00",
          "User": "rpestep"
         },
         {
          "Date": "2019-02-15T00:00:00",
          "User": "rpestep"
         },
         {
          "Date": "2019-02-15T00:00:00",
          "User": "rpestep"
         },
         {
          "Date": "2019-02-16T00:00:00",
          "User": "rpestep"
         },
         {
          "Date": "2019-02-18T00:00:00",
          "User": "rpestep"
         },
         {
          "Date": "2019-02-18T00:00:00",
          "User": "rpestep"
         },
         {
          "Date": "2019-02-19T00:00:00",
          "User": "rpestep"
         },
         {
          "Date": "2019-02-19T00:00:00",
          "User": "rpestep"
         },
         {
          "Date": "2019-02-20T00:00:00",
          "User": "rpestep"
         },
         {
          "Date": "2019-02-20T00:00:00",
          "User": "rpestep"
         },
         {
          "Date": "2019-02-21T00:00:00",
          "User": "rpestep"
         },
         {
          "Date": "2019-02-21T00:00:00",
          "User": "rpestep"
         },
         {
          "Date": "2019-02-22T00:00:00",
          "User": "rpestep"
         },
         {
          "Date": "2019-02-25T00:00:00",
          "User": "rpestep"
         },
         {
          "Date": "2019-02-25T00:00:00",
          "User": "rpestep"
         },
         {
          "Date": "2019-02-26T00:00:00",
          "User": "rpestep"
         },
         {
          "Date": "2019-02-27T00:00:00",
          "User": "rpestep"
         },
         {
          "Date": "2019-02-28T00:00:00",
          "User": "rpestep"
         },
         {
          "Date": "2019-02-28T00:00:00",
          "User": "rpestep"
         },
         {
          "Date": "2019-02-28T00:00:00",
          "User": "rpestep"
         },
         {
          "Date": "2019-02-28T00:00:00",
          "User": "rpestep"
         },
         {
          "Date": "2019-03-01T00:00:00",
          "User": "rpestep"
         },
         {
          "Date": "2019-03-02T00:00:00",
          "User": "rpestep"
         },
         {
          "Date": "2019-03-04T00:00:00",
          "User": "rpestep"
         },
         {
          "Date": "2019-03-05T00:00:00",
          "User": "rpestep"
         },
         {
          "Date": "2019-03-06T00:00:00",
          "User": "rpestep"
         },
         {
          "Date": "2019-03-07T00:00:00",
          "User": "rpestep"
         },
         {
          "Date": "2019-03-08T00:00:00",
          "User": "rpestep"
         },
         {
          "Date": "2019-03-11T00:00:00",
          "User": "rpestep"
         },
         {
          "Date": "2019-03-11T00:00:00",
          "User": "rpestep"
         },
         {
          "Date": "2019-03-12T00:00:00",
          "User": "rpestep"
         },
         {
          "Date": "2019-03-13T00:00:00",
          "User": "rpestep"
         },
         {
          "Date": "2019-03-14T00:00:00",
          "User": "rpestep"
         },
         {
          "Date": "2019-03-14T00:00:00",
          "User": "rpestep"
         },
         {
          "Date": "2019-03-14T00:00:00",
          "User": "rpestep"
         },
         {
          "Date": "2019-03-15T00:00:00",
          "User": "rpestep"
         },
         {
          "Date": "2019-03-15T00:00:00",
          "User": "rpestep"
         },
         {
          "Date": "2019-03-16T00:00:00",
          "User": "rpestep"
         },
         {
          "Date": "2019-03-18T00:00:00",
          "User": "rpestep"
         },
         {
          "Date": "2019-03-18T00:00:00",
          "User": "rpestep"
         },
         {
          "Date": "2019-03-19T00:00:00",
          "User": "rpestep"
         },
         {
          "Date": "2019-03-20T00:00:00",
          "User": "rpestep"
         },
         {
          "Date": "2019-03-20T00:00:00",
          "User": "rpestep"
         },
         {
          "Date": "2019-03-21T00:00:00",
          "User": "rpestep"
         },
         {
          "Date": "2019-03-21T00:00:00",
          "User": "rpestep"
         },
         {
          "Date": "2019-03-22T00:00:00",
          "User": "rpestep"
         },
         {
          "Date": "2019-03-22T00:00:00",
          "User": "rpestep"
         },
         {
          "Date": "2019-03-24T00:00:00",
          "User": "rpestep"
         },
         {
          "Date": "2019-03-24T00:00:00",
          "User": "rpestep"
         },
         {
          "Date": "2019-03-25T00:00:00",
          "User": "rpestep"
         },
         {
          "Date": "2019-03-25T00:00:00",
          "User": "rpestep"
         },
         {
          "Date": "2019-03-26T00:00:00",
          "User": "rpestep"
         },
         {
          "Date": "2019-03-26T00:00:00",
          "User": "rpestep"
         },
         {
          "Date": "2019-03-26T00:00:00",
          "User": "rpestep"
         },
         {
          "Date": "2019-03-26T00:00:00",
          "User": "rpestep"
         },
         {
          "Date": "2019-03-26T00:00:00",
          "User": "rpestep"
         },
         {
          "Date": "2019-03-27T00:00:00",
          "User": "rpestep"
         },
         {
          "Date": "2019-03-27T00:00:00",
          "User": "rpestep"
         },
         {
          "Date": "2019-03-28T00:00:00",
          "User": "rpestep"
         },
         {
          "Date": "2019-03-28T00:00:00",
          "User": "rpestep"
         },
         {
          "Date": "2019-03-28T00:00:00",
          "User": "rpestep"
         },
         {
          "Date": "2019-03-29T00:00:00",
          "User": "rpestep"
         },
         {
          "Date": "2019-03-30T00:00:00",
          "User": "rpestep"
         },
         {
          "Date": "2019-03-30T00:00:00",
          "User": "rpestep"
         },
         {
          "Date": "2019-03-31T00:00:00",
          "User": "rpestep"
         },
         {
          "Date": "2019-04-02T00:00:00",
          "User": "rpestep"
         },
         {
          "Date": "2019-04-02T00:00:00",
          "User": "rpestep"
         },
         {
          "Date": "2019-04-03T00:00:00",
          "User": "rpestep"
         },
         {
          "Date": "2019-04-03T00:00:00",
          "User": "rpestep"
         },
         {
          "Date": "2019-04-04T00:00:00",
          "User": "rpestep"
         },
         {
          "Date": "2019-04-04T00:00:00",
          "User": "rpestep"
         },
         {
          "Date": "2019-04-05T00:00:00",
          "User": "rpestep"
         },
         {
          "Date": "2019-04-07T00:00:00",
          "User": "rpestep"
         },
         {
          "Date": "2019-04-07T00:00:00",
          "User": "rpestep"
         },
         {
          "Date": "2019-04-08T00:00:00",
          "User": "rpestep"
         },
         {
          "Date": "2019-04-09T00:00:00",
          "User": "rpestep"
         },
         {
          "Date": "2019-01-22T00:00:00",
          "User": "srrutherford"
         },
         {
          "Date": "2019-02-06T00:00:00",
          "User": "aamehta"
         },
         {
          "Date": "2019-02-06T00:00:00",
          "User": "aamehta"
         },
         {
          "Date": "2019-03-07T00:00:00",
          "User": "aamehta"
         },
         {
          "Date": "2019-01-23T00:00:00",
          "User": "klharris"
         },
         {
          "Date": "2019-04-01T00:00:00",
          "User": "dmbovenkamp"
         },
         {
          "Date": "2019-04-01T00:00:00",
          "User": "dmbovenkamp"
         },
         {
          "Date": "2019-04-02T00:00:00",
          "User": "dmbovenkamp"
         },
         {
          "Date": "2019-04-02T00:00:00",
          "User": "dmbovenkamp"
         },
         {
          "Date": "2019-04-02T00:00:00",
          "User": "dmbovenkamp"
         },
         {
          "Date": "2019-04-02T00:00:00",
          "User": "dmbovenkamp"
         },
         {
          "Date": "2019-04-02T00:00:00",
          "User": "dmbovenkamp"
         },
         {
          "Date": "2019-04-04T00:00:00",
          "User": "dmbovenkamp"
         },
         {
          "Date": "2019-01-08T00:00:00",
          "User": "sfumagalli1"
         },
         {
          "Date": "2019-01-16T00:00:00",
          "User": "sfumagalli1"
         },
         {
          "Date": "2019-04-08T00:00:00",
          "User": "sfumagalli1"
         },
         {
          "Date": "2019-03-25T00:00:00",
          "User": "jmsanderson"
         },
         {
          "Date": "2019-03-26T00:00:00",
          "User": "jmsanderson"
         },
         {
          "Date": "2019-03-26T00:00:00",
          "User": "jmsanderson"
         },
         {
          "Date": "2019-04-01T00:00:00",
          "User": "jmsanderson"
         },
         {
          "Date": "2019-04-04T00:00:00",
          "User": "jmsanderson"
         },
         {
          "Date": "2019-04-04T00:00:00",
          "User": "jmsanderson"
         },
         {
          "Date": "2019-04-09T00:00:00",
          "User": "jmsanderson"
         },
         {
          "Date": "2019-04-09T00:00:00",
          "User": "jmsanderson"
         },
         {
          "Date": "2019-02-22T00:00:00",
          "User": "kekaplan"
         },
         {
          "Date": "2019-02-22T00:00:00",
          "User": "kekaplan"
         },
         {
          "Date": "2019-02-26T00:00:00",
          "User": "kekaplan"
         },
         {
          "Date": "2019-02-26T00:00:00",
          "User": "kekaplan"
         },
         {
          "Date": "2019-02-28T00:00:00",
          "User": "kekaplan"
         },
         {
          "Date": "2019-02-28T00:00:00",
          "User": "kekaplan"
         },
         {
          "Date": "2019-03-05T00:00:00",
          "User": "kekaplan"
         },
         {
          "Date": "2019-03-05T00:00:00",
          "User": "kekaplan"
         },
         {
          "Date": "2019-03-07T00:00:00",
          "User": "kekaplan"
         },
         {
          "Date": "2019-03-07T00:00:00",
          "User": "kekaplan"
         },
         {
          "Date": "2019-03-08T00:00:00",
          "User": "kekaplan"
         },
         {
          "Date": "2019-03-08T00:00:00",
          "User": "kekaplan"
         },
         {
          "Date": "2019-03-12T00:00:00",
          "User": "kekaplan"
         },
         {
          "Date": "2019-03-12T00:00:00",
          "User": "kekaplan"
         },
         {
          "Date": "2019-03-12T00:00:00",
          "User": "kekaplan"
         },
         {
          "Date": "2019-03-12T00:00:00",
          "User": "kekaplan"
         },
         {
          "Date": "2019-03-19T00:00:00",
          "User": "kekaplan"
         },
         {
          "Date": "2019-03-21T00:00:00",
          "User": "kekaplan"
         },
         {
          "Date": "2019-03-21T00:00:00",
          "User": "kekaplan"
         },
         {
          "Date": "2019-03-22T00:00:00",
          "User": "kekaplan"
         },
         {
          "Date": "2019-03-22T00:00:00",
          "User": "kekaplan"
         },
         {
          "Date": "2019-03-25T00:00:00",
          "User": "kekaplan"
         },
         {
          "Date": "2019-03-26T00:00:00",
          "User": "kekaplan"
         },
         {
          "Date": "2019-03-28T00:00:00",
          "User": "kekaplan"
         },
         {
          "Date": "2019-03-29T00:00:00",
          "User": "kekaplan"
         },
         {
          "Date": "2019-04-02T00:00:00",
          "User": "kekaplan"
         },
         {
          "Date": "2019-04-02T00:00:00",
          "User": "kekaplan"
         },
         {
          "Date": "2019-04-04T00:00:00",
          "User": "kekaplan"
         },
         {
          "Date": "2019-04-04T00:00:00",
          "User": "kekaplan"
         },
         {
          "Date": "2019-04-05T00:00:00",
          "User": "kekaplan"
         },
         {
          "Date": "2019-04-09T00:00:00",
          "User": "kekaplan"
         },
         {
          "Date": "2019-01-08T00:00:00",
          "User": "pomclaughlin"
         },
         {
          "Date": "2019-01-08T00:00:00",
          "User": "pomclaughlin"
         },
         {
          "Date": "2019-01-09T00:00:00",
          "User": "pomclaughlin"
         },
         {
          "Date": "2019-04-03T00:00:00",
          "User": "dastalkfleet"
         },
         {
          "Date": "2019-04-03T00:00:00",
          "User": "dastalkfleet"
         },
         {
          "Date": "2019-01-10T00:00:00",
          "User": "cywu"
         },
         {
          "Date": "2019-01-10T00:00:00",
          "User": "cywu"
         },
         {
          "Date": "2019-01-10T00:00:00",
          "User": "cywu"
         },
         {
          "Date": "2019-01-10T00:00:00",
          "User": "cywu"
         },
         {
          "Date": "2019-01-14T00:00:00",
          "User": "cywu"
         },
         {
          "Date": "2019-01-15T00:00:00",
          "User": "cywu"
         },
         {
          "Date": "2019-01-15T00:00:00",
          "User": "cywu"
         },
         {
          "Date": "2019-01-17T00:00:00",
          "User": "cywu"
         },
         {
          "Date": "2019-01-22T00:00:00",
          "User": "cywu"
         },
         {
          "Date": "2019-01-23T00:00:00",
          "User": "cywu"
         },
         {
          "Date": "2019-01-24T00:00:00",
          "User": "cywu"
         },
         {
          "Date": "2019-01-25T00:00:00",
          "User": "cywu"
         },
         {
          "Date": "2019-01-25T00:00:00",
          "User": "cywu"
         },
         {
          "Date": "2019-01-25T00:00:00",
          "User": "cywu"
         },
         {
          "Date": "2019-01-26T00:00:00",
          "User": "cywu"
         },
         {
          "Date": "2019-01-26T00:00:00",
          "User": "cywu"
         },
         {
          "Date": "2019-01-28T00:00:00",
          "User": "cywu"
         },
         {
          "Date": "2019-01-28T00:00:00",
          "User": "cywu"
         },
         {
          "Date": "2019-01-28T00:00:00",
          "User": "cywu"
         },
         {
          "Date": "2019-01-28T00:00:00",
          "User": "cywu"
         },
         {
          "Date": "2019-01-29T00:00:00",
          "User": "cywu"
         },
         {
          "Date": "2019-01-29T00:00:00",
          "User": "cywu"
         },
         {
          "Date": "2019-01-30T00:00:00",
          "User": "cywu"
         },
         {
          "Date": "2019-01-30T00:00:00",
          "User": "cywu"
         },
         {
          "Date": "2019-01-30T00:00:00",
          "User": "cywu"
         },
         {
          "Date": "2019-02-03T00:00:00",
          "User": "cywu"
         },
         {
          "Date": "2019-02-03T00:00:00",
          "User": "cywu"
         },
         {
          "Date": "2019-02-03T00:00:00",
          "User": "cywu"
         },
         {
          "Date": "2019-02-04T00:00:00",
          "User": "cywu"
         },
         {
          "Date": "2019-02-04T00:00:00",
          "User": "cywu"
         },
         {
          "Date": "2019-02-05T00:00:00",
          "User": "cywu"
         },
         {
          "Date": "2019-02-05T00:00:00",
          "User": "cywu"
         },
         {
          "Date": "2019-02-06T00:00:00",
          "User": "cywu"
         },
         {
          "Date": "2019-02-06T00:00:00",
          "User": "cywu"
         },
         {
          "Date": "2019-02-06T00:00:00",
          "User": "cywu"
         },
         {
          "Date": "2019-02-07T00:00:00",
          "User": "cywu"
         },
         {
          "Date": "2019-02-08T00:00:00",
          "User": "cywu"
         },
         {
          "Date": "2019-02-11T00:00:00",
          "User": "cywu"
         },
         {
          "Date": "2019-02-11T00:00:00",
          "User": "cywu"
         },
         {
          "Date": "2019-02-13T00:00:00",
          "User": "cywu"
         },
         {
          "Date": "2019-02-14T00:00:00",
          "User": "cywu"
         },
         {
          "Date": "2019-02-14T00:00:00",
          "User": "cywu"
         },
         {
          "Date": "2019-02-15T00:00:00",
          "User": "cywu"
         },
         {
          "Date": "2019-02-25T00:00:00",
          "User": "cywu"
         },
         {
          "Date": "2019-02-25T00:00:00",
          "User": "cywu"
         },
         {
          "Date": "2019-02-26T00:00:00",
          "User": "cywu"
         },
         {
          "Date": "2019-02-26T00:00:00",
          "User": "cywu"
         },
         {
          "Date": "2019-02-27T00:00:00",
          "User": "cywu"
         },
         {
          "Date": "2019-02-27T00:00:00",
          "User": "cywu"
         },
         {
          "Date": "2019-02-28T00:00:00",
          "User": "cywu"
         },
         {
          "Date": "2019-02-28T00:00:00",
          "User": "cywu"
         },
         {
          "Date": "2019-02-28T00:00:00",
          "User": "cywu"
         },
         {
          "Date": "2019-03-01T00:00:00",
          "User": "cywu"
         },
         {
          "Date": "2019-03-04T00:00:00",
          "User": "cywu"
         },
         {
          "Date": "2019-03-05T00:00:00",
          "User": "cywu"
         },
         {
          "Date": "2019-03-05T00:00:00",
          "User": "cywu"
         },
         {
          "Date": "2019-03-06T00:00:00",
          "User": "cywu"
         },
         {
          "Date": "2019-03-06T00:00:00",
          "User": "cywu"
         },
         {
          "Date": "2019-03-07T00:00:00",
          "User": "cywu"
         },
         {
          "Date": "2019-03-07T00:00:00",
          "User": "cywu"
         },
         {
          "Date": "2019-03-07T00:00:00",
          "User": "cywu"
         },
         {
          "Date": "2019-03-11T00:00:00",
          "User": "cywu"
         },
         {
          "Date": "2019-03-11T00:00:00",
          "User": "cywu"
         },
         {
          "Date": "2019-03-12T00:00:00",
          "User": "cywu"
         },
         {
          "Date": "2019-03-12T00:00:00",
          "User": "cywu"
         },
         {
          "Date": "2019-03-13T00:00:00",
          "User": "cywu"
         },
         {
          "Date": "2019-03-13T00:00:00",
          "User": "cywu"
         },
         {
          "Date": "2019-03-13T00:00:00",
          "User": "cywu"
         },
         {
          "Date": "2019-03-13T00:00:00",
          "User": "cywu"
         },
         {
          "Date": "2019-03-14T00:00:00",
          "User": "cywu"
         },
         {
          "Date": "2019-03-14T00:00:00",
          "User": "cywu"
         },
         {
          "Date": "2019-03-14T00:00:00",
          "User": "cywu"
         },
         {
          "Date": "2019-03-15T00:00:00",
          "User": "cywu"
         },
         {
          "Date": "2019-03-15T00:00:00",
          "User": "cywu"
         },
         {
          "Date": "2019-03-16T00:00:00",
          "User": "cywu"
         },
         {
          "Date": "2019-03-17T00:00:00",
          "User": "cywu"
         },
         {
          "Date": "2019-03-18T00:00:00",
          "User": "cywu"
         },
         {
          "Date": "2019-03-19T00:00:00",
          "User": "cywu"
         },
         {
          "Date": "2019-03-19T00:00:00",
          "User": "cywu"
         },
         {
          "Date": "2019-03-19T00:00:00",
          "User": "cywu"
         },
         {
          "Date": "2019-03-20T00:00:00",
          "User": "cywu"
         },
         {
          "Date": "2019-03-20T00:00:00",
          "User": "cywu"
         },
         {
          "Date": "2019-03-20T00:00:00",
          "User": "cywu"
         },
         {
          "Date": "2019-03-21T00:00:00",
          "User": "cywu"
         },
         {
          "Date": "2019-03-21T00:00:00",
          "User": "cywu"
         },
         {
          "Date": "2019-03-21T00:00:00",
          "User": "cywu"
         },
         {
          "Date": "2019-03-21T00:00:00",
          "User": "cywu"
         },
         {
          "Date": "2019-03-22T00:00:00",
          "User": "cywu"
         },
         {
          "Date": "2019-04-01T00:00:00",
          "User": "cywu"
         },
         {
          "Date": "2019-04-01T00:00:00",
          "User": "cywu"
         },
         {
          "Date": "2019-04-02T00:00:00",
          "User": "cywu"
         },
         {
          "Date": "2019-04-03T00:00:00",
          "User": "cywu"
         },
         {
          "Date": "2019-04-03T00:00:00",
          "User": "cywu"
         },
         {
          "Date": "2019-04-04T00:00:00",
          "User": "cywu"
         },
         {
          "Date": "2019-04-04T00:00:00",
          "User": "cywu"
         },
         {
          "Date": "2019-04-04T00:00:00",
          "User": "cywu"
         },
         {
          "Date": "2019-04-05T00:00:00",
          "User": "cywu"
         },
         {
          "Date": "2019-04-05T00:00:00",
          "User": "cywu"
         },
         {
          "Date": "2019-04-06T00:00:00",
          "User": "cywu"
         },
         {
          "Date": "2019-04-08T00:00:00",
          "User": "cywu"
         },
         {
          "Date": "2019-04-08T00:00:00",
          "User": "cywu"
         },
         {
          "Date": "2019-04-09T00:00:00",
          "User": "cywu"
         },
         {
          "Date": "2019-01-10T00:00:00",
          "User": "dahall"
         },
         {
          "Date": "2019-01-11T00:00:00",
          "User": "dahall"
         },
         {
          "Date": "2019-01-13T00:00:00",
          "User": "dahall"
         },
         {
          "Date": "2019-01-14T00:00:00",
          "User": "dahall"
         },
         {
          "Date": "2019-01-15T00:00:00",
          "User": "dahall"
         },
         {
          "Date": "2019-01-16T00:00:00",
          "User": "dahall"
         },
         {
          "Date": "2019-01-17T00:00:00",
          "User": "dahall"
         },
         {
          "Date": "2019-01-17T00:00:00",
          "User": "dahall"
         },
         {
          "Date": "2019-01-18T00:00:00",
          "User": "dahall"
         },
         {
          "Date": "2019-01-19T00:00:00",
          "User": "dahall"
         },
         {
          "Date": "2019-01-21T00:00:00",
          "User": "dahall"
         },
         {
          "Date": "2019-01-22T00:00:00",
          "User": "dahall"
         },
         {
          "Date": "2019-01-23T00:00:00",
          "User": "dahall"
         },
         {
          "Date": "2019-01-24T00:00:00",
          "User": "dahall"
         },
         {
          "Date": "2019-01-25T00:00:00",
          "User": "dahall"
         },
         {
          "Date": "2019-01-26T00:00:00",
          "User": "dahall"
         },
         {
          "Date": "2019-01-28T00:00:00",
          "User": "dahall"
         },
         {
          "Date": "2019-01-28T00:00:00",
          "User": "dahall"
         },
         {
          "Date": "2019-01-29T00:00:00",
          "User": "dahall"
         },
         {
          "Date": "2019-01-29T00:00:00",
          "User": "dahall"
         },
         {
          "Date": "2019-01-29T00:00:00",
          "User": "dahall"
         },
         {
          "Date": "2019-01-30T00:00:00",
          "User": "dahall"
         },
         {
          "Date": "2019-01-30T00:00:00",
          "User": "dahall"
         },
         {
          "Date": "2019-01-31T00:00:00",
          "User": "dahall"
         },
         {
          "Date": "2019-02-01T00:00:00",
          "User": "dahall"
         },
         {
          "Date": "2019-02-01T00:00:00",
          "User": "dahall"
         },
         {
          "Date": "2019-02-01T00:00:00",
          "User": "dahall"
         },
         {
          "Date": "2019-02-01T00:00:00",
          "User": "dahall"
         },
         {
          "Date": "2019-02-01T00:00:00",
          "User": "dahall"
         },
         {
          "Date": "2019-02-03T00:00:00",
          "User": "dahall"
         },
         {
          "Date": "2019-02-03T00:00:00",
          "User": "dahall"
         },
         {
          "Date": "2019-02-04T00:00:00",
          "User": "dahall"
         },
         {
          "Date": "2019-02-05T00:00:00",
          "User": "dahall"
         },
         {
          "Date": "2019-02-05T00:00:00",
          "User": "dahall"
         },
         {
          "Date": "2019-02-06T00:00:00",
          "User": "dahall"
         },
         {
          "Date": "2019-02-06T00:00:00",
          "User": "dahall"
         },
         {
          "Date": "2019-02-07T00:00:00",
          "User": "dahall"
         },
         {
          "Date": "2019-02-07T00:00:00",
          "User": "dahall"
         },
         {
          "Date": "2019-02-07T00:00:00",
          "User": "dahall"
         },
         {
          "Date": "2019-02-07T00:00:00",
          "User": "dahall"
         },
         {
          "Date": "2019-02-07T00:00:00",
          "User": "dahall"
         },
         {
          "Date": "2019-02-07T00:00:00",
          "User": "dahall"
         },
         {
          "Date": "2019-02-08T00:00:00",
          "User": "dahall"
         },
         {
          "Date": "2019-02-08T00:00:00",
          "User": "dahall"
         },
         {
          "Date": "2019-02-08T00:00:00",
          "User": "dahall"
         },
         {
          "Date": "2019-02-09T00:00:00",
          "User": "dahall"
         },
         {
          "Date": "2019-02-09T00:00:00",
          "User": "dahall"
         },
         {
          "Date": "2019-02-09T00:00:00",
          "User": "dahall"
         },
         {
          "Date": "2019-02-11T00:00:00",
          "User": "dahall"
         },
         {
          "Date": "2019-02-12T00:00:00",
          "User": "dahall"
         },
         {
          "Date": "2019-02-13T00:00:00",
          "User": "dahall"
         },
         {
          "Date": "2019-02-14T00:00:00",
          "User": "dahall"
         },
         {
          "Date": "2019-02-14T00:00:00",
          "User": "dahall"
         },
         {
          "Date": "2019-02-19T00:00:00",
          "User": "dahall"
         },
         {
          "Date": "2019-02-20T00:00:00",
          "User": "dahall"
         },
         {
          "Date": "2019-02-21T00:00:00",
          "User": "dahall"
         },
         {
          "Date": "2019-02-22T00:00:00",
          "User": "dahall"
         },
         {
          "Date": "2019-02-25T00:00:00",
          "User": "dahall"
         },
         {
          "Date": "2019-02-26T00:00:00",
          "User": "dahall"
         },
         {
          "Date": "2019-02-27T00:00:00",
          "User": "dahall"
         },
         {
          "Date": "2019-02-28T00:00:00",
          "User": "dahall"
         },
         {
          "Date": "2019-02-28T00:00:00",
          "User": "dahall"
         },
         {
          "Date": "2019-03-01T00:00:00",
          "User": "dahall"
         },
         {
          "Date": "2019-03-06T00:00:00",
          "User": "dahall"
         },
         {
          "Date": "2019-03-08T00:00:00",
          "User": "dahall"
         },
         {
          "Date": "2019-03-11T00:00:00",
          "User": "dahall"
         },
         {
          "Date": "2019-03-11T00:00:00",
          "User": "dahall"
         },
         {
          "Date": "2019-03-14T00:00:00",
          "User": "dahall"
         },
         {
          "Date": "2019-03-15T00:00:00",
          "User": "dahall"
         },
         {
          "Date": "2019-03-18T00:00:00",
          "User": "dahall"
         },
         {
          "Date": "2019-03-20T00:00:00",
          "User": "dahall"
         },
         {
          "Date": "2019-03-26T00:00:00",
          "User": "dahall"
         },
         {
          "Date": "2019-03-26T00:00:00",
          "User": "dahall"
         },
         {
          "Date": "2019-03-27T00:00:00",
          "User": "dahall"
         },
         {
          "Date": "2019-03-28T00:00:00",
          "User": "dahall"
         },
         {
          "Date": "2019-03-29T00:00:00",
          "User": "dahall"
         },
         {
          "Date": "2019-03-30T00:00:00",
          "User": "dahall"
         },
         {
          "Date": "2019-03-31T00:00:00",
          "User": "dahall"
         },
         {
          "Date": "2019-04-01T00:00:00",
          "User": "dahall"
         },
         {
          "Date": "2019-04-01T00:00:00",
          "User": "dahall"
         },
         {
          "Date": "2019-04-02T00:00:00",
          "User": "dahall"
         },
         {
          "Date": "2019-04-03T00:00:00",
          "User": "dahall"
         },
         {
          "Date": "2019-04-03T00:00:00",
          "User": "dahall"
         },
         {
          "Date": "2019-04-04T00:00:00",
          "User": "dahall"
         },
         {
          "Date": "2019-04-04T00:00:00",
          "User": "dahall"
         },
         {
          "Date": "2019-04-05T00:00:00",
          "User": "dahall"
         },
         {
          "Date": "2019-04-06T00:00:00",
          "User": "dahall"
         },
         {
          "Date": "2019-04-08T00:00:00",
          "User": "dahall"
         },
         {
          "Date": "2019-04-09T00:00:00",
          "User": "dahall"
         },
         {
          "Date": "2019-02-20T00:00:00",
          "User": "rcleland"
         },
         {
          "Date": "2019-03-25T00:00:00",
          "User": "rcleland"
         },
         {
          "Date": "2019-02-15T00:00:00",
          "User": "jrhiemstra"
         },
         {
          "Date": "2019-03-11T00:00:00",
          "User": "jrhiemstra"
         },
         {
          "Date": "2019-03-11T00:00:00",
          "User": "jrhiemstra"
         },
         {
          "Date": "2019-03-12T00:00:00",
          "User": "jrhiemstra"
         },
         {
          "Date": "2019-03-12T00:00:00",
          "User": "jrhiemstra"
         },
         {
          "Date": "2019-03-13T00:00:00",
          "User": "jrhiemstra"
         },
         {
          "Date": "2019-03-15T00:00:00",
          "User": "jrhiemstra"
         },
         {
          "Date": "2019-03-16T00:00:00",
          "User": "jrhiemstra"
         },
         {
          "Date": "2019-03-18T00:00:00",
          "User": "jrhiemstra"
         },
         {
          "Date": "2019-03-19T00:00:00",
          "User": "jrhiemstra"
         },
         {
          "Date": "2019-03-20T00:00:00",
          "User": "jrhiemstra"
         },
         {
          "Date": "2019-03-22T00:00:00",
          "User": "jrhiemstra"
         },
         {
          "Date": "2019-03-24T00:00:00",
          "User": "jrhiemstra"
         },
         {
          "Date": "2019-03-25T00:00:00",
          "User": "jrhiemstra"
         },
         {
          "Date": "2019-03-25T00:00:00",
          "User": "jrhiemstra"
         },
         {
          "Date": "2019-03-26T00:00:00",
          "User": "jrhiemstra"
         },
         {
          "Date": "2019-03-27T00:00:00",
          "User": "jrhiemstra"
         },
         {
          "Date": "2019-03-29T00:00:00",
          "User": "jrhiemstra"
         },
         {
          "Date": "2019-04-01T00:00:00",
          "User": "jrhiemstra"
         },
         {
          "Date": "2019-04-02T00:00:00",
          "User": "jrhiemstra"
         },
         {
          "Date": "2019-04-03T00:00:00",
          "User": "jrhiemstra"
         },
         {
          "Date": "2019-04-08T00:00:00",
          "User": "jrhiemstra"
         },
         {
          "Date": "2019-04-09T00:00:00",
          "User": "jrhiemstra"
         },
         {
          "Date": "2019-01-23T00:00:00",
          "User": "jrjohnson"
         },
         {
          "Date": "2019-02-07T00:00:00",
          "User": "kjbaar"
         },
         {
          "Date": "2019-04-03T00:00:00",
          "User": "tmmunkres"
         },
         {
          "Date": "2019-04-03T00:00:00",
          "User": "tmmunkres"
         },
         {
          "Date": "2019-04-03T00:00:00",
          "User": "tmmunkres"
         },
         {
          "Date": "2019-04-03T00:00:00",
          "User": "tmmunkres"
         },
         {
          "Date": "2019-04-08T00:00:00",
          "User": "tmmunkres"
         },
         {
          "Date": "2019-04-08T00:00:00",
          "User": "tmmunkres"
         },
         {
          "Date": "2019-04-08T00:00:00",
          "User": "tmmunkres"
         },
         {
          "Date": "2019-04-08T00:00:00",
          "User": "tmmunkres"
         },
         {
          "Date": "2019-04-08T00:00:00",
          "User": "tmmunkres"
         },
         {
          "Date": "2019-04-08T00:00:00",
          "User": "tmmunkres"
         },
         {
          "Date": "2019-02-20T00:00:00",
          "User": "rkfredette"
         },
         {
          "Date": "2019-02-20T00:00:00",
          "User": "rkfredette"
         },
         {
          "Date": "2019-02-20T00:00:00",
          "User": "rkfredette"
         },
         {
          "Date": "2019-03-14T00:00:00",
          "User": "rkfredette"
         },
         {
          "Date": "2019-03-14T00:00:00",
          "User": "rkfredette"
         },
         {
          "Date": "2019-03-14T00:00:00",
          "User": "rkfredette"
         },
         {
          "Date": "2019-03-14T00:00:00",
          "User": "rkfredette"
         },
         {
          "Date": "2019-03-14T00:00:00",
          "User": "rkfredette"
         },
         {
          "Date": "2019-03-14T00:00:00",
          "User": "rkfredette"
         },
         {
          "Date": "2019-03-21T00:00:00",
          "User": "rkfredette"
         },
         {
          "Date": "2019-01-28T00:00:00",
          "User": "mjvenema"
         },
         {
          "Date": "2019-02-04T00:00:00",
          "User": "mjvenema"
         },
         {
          "Date": "2019-02-07T00:00:00",
          "User": "mjvenema"
         },
         {
          "Date": "2019-02-07T00:00:00",
          "User": "mjvenema"
         },
         {
          "Date": "2019-03-26T00:00:00",
          "User": "mjvenema"
         },
         {
          "Date": "2019-03-27T00:00:00",
          "User": "mjvenema"
         },
         {
          "Date": "2019-03-27T00:00:00",
          "User": "mjvenema"
         },
         {
          "Date": "2019-04-02T00:00:00",
          "User": "mjvenema"
         },
         {
          "Date": "2019-01-31T00:00:00",
          "User": "gcpearson"
         },
         {
          "Date": "2019-01-31T00:00:00",
          "User": "gcpearson"
         },
         {
          "Date": "2019-03-26T00:00:00",
          "User": "gcpearson"
         },
         {
          "Date": "2019-01-10T00:00:00",
          "User": "mhburden"
         },
         {
          "Date": "2019-03-11T00:00:00",
          "User": "mhburden"
         },
         {
          "Date": "2019-03-14T00:00:00",
          "User": "mhburden"
         },
         {
          "Date": "2019-03-14T00:00:00",
          "User": "mhburden"
         },
         {
          "Date": "2019-03-14T00:00:00",
          "User": "mhburden"
         },
         {
          "Date": "2019-03-15T00:00:00",
          "User": "mhburden"
         },
         {
          "Date": "2019-03-17T00:00:00",
          "User": "mhburden"
         },
         {
          "Date": "2019-03-17T00:00:00",
          "User": "mhburden"
         },
         {
          "Date": "2019-03-18T00:00:00",
          "User": "mhburden"
         },
         {
          "Date": "2019-03-19T00:00:00",
          "User": "mhburden"
         },
         {
          "Date": "2019-03-21T00:00:00",
          "User": "mhburden"
         },
         {
          "Date": "2019-03-25T00:00:00",
          "User": "mhburden"
         },
         {
          "Date": "2019-03-26T00:00:00",
          "User": "mhburden"
         },
         {
          "Date": "2019-04-01T00:00:00",
          "User": "mhburden"
         },
         {
          "Date": "2019-04-02T00:00:00",
          "User": "mhburden"
         },
         {
          "Date": "2019-04-05T00:00:00",
          "User": "mhburden"
         },
         {
          "Date": "2019-04-05T00:00:00",
          "User": "mhburden"
         },
         {
          "Date": "2019-04-06T00:00:00",
          "User": "mhburden"
         },
         {
          "Date": "2019-04-09T00:00:00",
          "User": "mhburden"
         },
         {
          "Date": "2019-04-09T00:00:00",
          "User": "mhburden"
         },
         {
          "Date": "2019-03-28T00:00:00",
          "User": "racaro"
         },
         {
          "Date": "2019-01-28T00:00:00",
          "User": "rlbrejcha"
         },
         {
          "Date": "2019-01-22T00:00:00",
          "User": "jmwelty"
         },
         {
          "Date": "2019-01-22T00:00:00",
          "User": "jmwelty"
         },
         {
          "Date": "2019-01-22T00:00:00",
          "User": "jmwelty"
         },
         {
          "Date": "2019-01-22T00:00:00",
          "User": "jmwelty"
         },
         {
          "Date": "2019-01-23T00:00:00",
          "User": "jmwelty"
         },
         {
          "Date": "2019-01-25T00:00:00",
          "User": "jmwelty"
         },
         {
          "Date": "2019-01-27T00:00:00",
          "User": "jmwelty"
         },
         {
          "Date": "2019-01-27T00:00:00",
          "User": "jmwelty"
         },
         {
          "Date": "2019-01-27T00:00:00",
          "User": "jmwelty"
         },
         {
          "Date": "2019-01-28T00:00:00",
          "User": "jmwelty"
         },
         {
          "Date": "2019-01-28T00:00:00",
          "User": "jmwelty"
         },
         {
          "Date": "2019-01-28T00:00:00",
          "User": "jmwelty"
         },
         {
          "Date": "2019-01-28T00:00:00",
          "User": "jmwelty"
         },
         {
          "Date": "2019-01-29T00:00:00",
          "User": "jmwelty"
         },
         {
          "Date": "2019-01-31T00:00:00",
          "User": "jmwelty"
         },
         {
          "Date": "2019-02-01T00:00:00",
          "User": "jmwelty"
         },
         {
          "Date": "2019-02-03T00:00:00",
          "User": "jmwelty"
         },
         {
          "Date": "2019-02-03T00:00:00",
          "User": "jmwelty"
         },
         {
          "Date": "2019-02-04T00:00:00",
          "User": "jmwelty"
         },
         {
          "Date": "2019-02-04T00:00:00",
          "User": "jmwelty"
         },
         {
          "Date": "2019-02-05T00:00:00",
          "User": "jmwelty"
         },
         {
          "Date": "2019-02-05T00:00:00",
          "User": "jmwelty"
         },
         {
          "Date": "2019-02-08T00:00:00",
          "User": "jmwelty"
         },
         {
          "Date": "2019-02-09T00:00:00",
          "User": "jmwelty"
         },
         {
          "Date": "2019-02-12T00:00:00",
          "User": "jmwelty"
         },
         {
          "Date": "2019-02-14T00:00:00",
          "User": "jmwelty"
         },
         {
          "Date": "2019-02-15T00:00:00",
          "User": "jmwelty"
         },
         {
          "Date": "2019-02-17T00:00:00",
          "User": "jmwelty"
         },
         {
          "Date": "2019-02-18T00:00:00",
          "User": "jmwelty"
         },
         {
          "Date": "2019-02-18T00:00:00",
          "User": "jmwelty"
         },
         {
          "Date": "2019-02-18T00:00:00",
          "User": "jmwelty"
         },
         {
          "Date": "2019-02-28T00:00:00",
          "User": "jmwelty"
         },
         {
          "Date": "2019-02-28T00:00:00",
          "User": "jmwelty"
         },
         {
          "Date": "2019-03-01T00:00:00",
          "User": "jmwelty"
         },
         {
          "Date": "2019-03-03T00:00:00",
          "User": "jmwelty"
         },
         {
          "Date": "2019-03-04T00:00:00",
          "User": "jmwelty"
         },
         {
          "Date": "2019-03-04T00:00:00",
          "User": "jmwelty"
         },
         {
          "Date": "2019-03-05T00:00:00",
          "User": "jmwelty"
         },
         {
          "Date": "2019-03-08T00:00:00",
          "User": "jmwelty"
         },
         {
          "Date": "2019-03-09T00:00:00",
          "User": "jmwelty"
         },
         {
          "Date": "2019-03-11T00:00:00",
          "User": "jmwelty"
         },
         {
          "Date": "2019-03-11T00:00:00",
          "User": "jmwelty"
         },
         {
          "Date": "2019-03-12T00:00:00",
          "User": "jmwelty"
         },
         {
          "Date": "2019-03-14T00:00:00",
          "User": "jmwelty"
         },
         {
          "Date": "2019-03-15T00:00:00",
          "User": "jmwelty"
         },
         {
          "Date": "2019-03-15T00:00:00",
          "User": "jmwelty"
         },
         {
          "Date": "2019-03-15T00:00:00",
          "User": "jmwelty"
         },
         {
          "Date": "2019-03-17T00:00:00",
          "User": "jmwelty"
         },
         {
          "Date": "2019-03-18T00:00:00",
          "User": "jmwelty"
         },
         {
          "Date": "2019-03-18T00:00:00",
          "User": "jmwelty"
         },
         {
          "Date": "2019-03-19T00:00:00",
          "User": "jmwelty"
         },
         {
          "Date": "2019-03-21T00:00:00",
          "User": "jmwelty"
         },
         {
          "Date": "2019-03-22T00:00:00",
          "User": "jmwelty"
         },
         {
          "Date": "2019-03-24T00:00:00",
          "User": "jmwelty"
         },
         {
          "Date": "2019-03-25T00:00:00",
          "User": "jmwelty"
         },
         {
          "Date": "2019-03-26T00:00:00",
          "User": "jmwelty"
         },
         {
          "Date": "2019-03-26T00:00:00",
          "User": "jmwelty"
         },
         {
          "Date": "2019-03-26T00:00:00",
          "User": "jmwelty"
         },
         {
          "Date": "2019-03-26T00:00:00",
          "User": "jmwelty"
         },
         {
          "Date": "2019-03-26T00:00:00",
          "User": "jmwelty"
         },
         {
          "Date": "2019-03-27T00:00:00",
          "User": "jmwelty"
         },
         {
          "Date": "2019-03-27T00:00:00",
          "User": "jmwelty"
         },
         {
          "Date": "2019-03-28T00:00:00",
          "User": "jmwelty"
         },
         {
          "Date": "2019-03-29T00:00:00",
          "User": "jmwelty"
         },
         {
          "Date": "2019-04-01T00:00:00",
          "User": "jmwelty"
         },
         {
          "Date": "2019-04-02T00:00:00",
          "User": "jmwelty"
         },
         {
          "Date": "2019-04-04T00:00:00",
          "User": "jmwelty"
         },
         {
          "Date": "2019-04-05T00:00:00",
          "User": "jmwelty"
         },
         {
          "Date": "2019-04-08T00:00:00",
          "User": "jmwelty"
         },
         {
          "Date": "2019-04-09T00:00:00",
          "User": "jmwelty"
         },
         {
          "Date": "2019-04-09T00:00:00",
          "User": "jmwelty"
         },
         {
          "Date": "2019-04-09T00:00:00",
          "User": "jmwelty"
         },
         {
          "Date": "2019-01-28T00:00:00",
          "User": "smbillau"
         },
         {
          "Date": "2019-01-28T00:00:00",
          "User": "smbillau"
         },
         {
          "Date": "2019-01-29T00:00:00",
          "User": "smbillau"
         },
         {
          "Date": "2019-01-30T00:00:00",
          "User": "smbillau"
         },
         {
          "Date": "2019-02-01T00:00:00",
          "User": "smbillau"
         },
         {
          "Date": "2019-02-04T00:00:00",
          "User": "smbillau"
         },
         {
          "Date": "2019-02-05T00:00:00",
          "User": "smbillau"
         },
         {
          "Date": "2019-02-06T00:00:00",
          "User": "smbillau"
         },
         {
          "Date": "2019-02-08T00:00:00",
          "User": "smbillau"
         },
         {
          "Date": "2019-02-14T00:00:00",
          "User": "smbillau"
         },
         {
          "Date": "2019-02-15T00:00:00",
          "User": "smbillau"
         },
         {
          "Date": "2019-02-18T00:00:00",
          "User": "smbillau"
         },
         {
          "Date": "2019-02-18T00:00:00",
          "User": "smbillau"
         },
         {
          "Date": "2019-02-19T00:00:00",
          "User": "smbillau"
         },
         {
          "Date": "2019-02-20T00:00:00",
          "User": "smbillau"
         },
         {
          "Date": "2019-02-22T00:00:00",
          "User": "smbillau"
         },
         {
          "Date": "2019-02-25T00:00:00",
          "User": "smbillau"
         },
         {
          "Date": "2019-02-26T00:00:00",
          "User": "smbillau"
         },
         {
          "Date": "2019-02-27T00:00:00",
          "User": "smbillau"
         },
         {
          "Date": "2019-03-01T00:00:00",
          "User": "smbillau"
         },
         {
          "Date": "2019-03-01T00:00:00",
          "User": "smbillau"
         },
         {
          "Date": "2019-03-01T00:00:00",
          "User": "smbillau"
         },
         {
          "Date": "2019-03-04T00:00:00",
          "User": "smbillau"
         },
         {
          "Date": "2019-03-05T00:00:00",
          "User": "smbillau"
         },
         {
          "Date": "2019-03-06T00:00:00",
          "User": "smbillau"
         },
         {
          "Date": "2019-03-08T00:00:00",
          "User": "smbillau"
         },
         {
          "Date": "2019-03-11T00:00:00",
          "User": "smbillau"
         },
         {
          "Date": "2019-03-12T00:00:00",
          "User": "smbillau"
         },
         {
          "Date": "2019-03-13T00:00:00",
          "User": "smbillau"
         },
         {
          "Date": "2019-03-15T00:00:00",
          "User": "smbillau"
         },
         {
          "Date": "2019-03-18T00:00:00",
          "User": "smbillau"
         },
         {
          "Date": "2019-03-19T00:00:00",
          "User": "smbillau"
         },
         {
          "Date": "2019-03-25T00:00:00",
          "User": "smbillau"
         },
         {
          "Date": "2019-03-26T00:00:00",
          "User": "smbillau"
         },
         {
          "Date": "2019-03-27T00:00:00",
          "User": "smbillau"
         },
         {
          "Date": "2019-03-27T00:00:00",
          "User": "smbillau"
         },
         {
          "Date": "2019-03-29T00:00:00",
          "User": "smbillau"
         },
         {
          "Date": "2019-04-01T00:00:00",
          "User": "smbillau"
         },
         {
          "Date": "2019-04-02T00:00:00",
          "User": "smbillau"
         },
         {
          "Date": "2019-04-03T00:00:00",
          "User": "smbillau"
         },
         {
          "Date": "2019-04-03T00:00:00",
          "User": "smbillau"
         },
         {
          "Date": "2019-04-05T00:00:00",
          "User": "smbillau"
         },
         {
          "Date": "2019-04-08T00:00:00",
          "User": "smbillau"
         },
         {
          "Date": "2019-04-09T00:00:00",
          "User": "smbillau"
         },
         {
          "Date": "2019-01-18T00:00:00",
          "User": "jghansom"
         },
         {
          "Date": "2019-01-22T00:00:00",
          "User": "jghansom"
         },
         {
          "Date": "2019-01-23T00:00:00",
          "User": "jghansom"
         },
         {
          "Date": "2019-01-24T00:00:00",
          "User": "jghansom"
         },
         {
          "Date": "2019-01-25T00:00:00",
          "User": "jghansom"
         },
         {
          "Date": "2019-01-28T00:00:00",
          "User": "jghansom"
         },
         {
          "Date": "2019-01-29T00:00:00",
          "User": "jghansom"
         },
         {
          "Date": "2019-01-30T00:00:00",
          "User": "jghansom"
         },
         {
          "Date": "2019-01-30T00:00:00",
          "User": "jghansom"
         },
         {
          "Date": "2019-01-31T00:00:00",
          "User": "jghansom"
         },
         {
          "Date": "2019-02-04T00:00:00",
          "User": "jghansom"
         },
         {
          "Date": "2019-02-04T00:00:00",
          "User": "jghansom"
         },
         {
          "Date": "2019-02-05T00:00:00",
          "User": "jghansom"
         },
         {
          "Date": "2019-02-05T00:00:00",
          "User": "jghansom"
         },
         {
          "Date": "2019-02-06T00:00:00",
          "User": "jghansom"
         },
         {
          "Date": "2019-02-06T00:00:00",
          "User": "jghansom"
         },
         {
          "Date": "2019-02-07T00:00:00",
          "User": "jghansom"
         },
         {
          "Date": "2019-02-08T00:00:00",
          "User": "jghansom"
         },
         {
          "Date": "2019-02-11T00:00:00",
          "User": "jghansom"
         },
         {
          "Date": "2019-02-12T00:00:00",
          "User": "jghansom"
         },
         {
          "Date": "2019-02-13T00:00:00",
          "User": "jghansom"
         },
         {
          "Date": "2019-02-15T00:00:00",
          "User": "jghansom"
         },
         {
          "Date": "2019-02-16T00:00:00",
          "User": "jghansom"
         },
         {
          "Date": "2019-02-16T00:00:00",
          "User": "jghansom"
         },
         {
          "Date": "2019-02-18T00:00:00",
          "User": "jghansom"
         },
         {
          "Date": "2019-02-19T00:00:00",
          "User": "jghansom"
         },
         {
          "Date": "2019-02-20T00:00:00",
          "User": "jghansom"
         },
         {
          "Date": "2019-02-21T00:00:00",
          "User": "jghansom"
         },
         {
          "Date": "2019-02-22T00:00:00",
          "User": "jghansom"
         },
         {
          "Date": "2019-02-25T00:00:00",
          "User": "jghansom"
         },
         {
          "Date": "2019-02-26T00:00:00",
          "User": "jghansom"
         },
         {
          "Date": "2019-02-27T00:00:00",
          "User": "jghansom"
         },
         {
          "Date": "2019-02-28T00:00:00",
          "User": "jghansom"
         },
         {
          "Date": "2019-03-01T00:00:00",
          "User": "jghansom"
         },
         {
          "Date": "2019-03-02T00:00:00",
          "User": "jghansom"
         },
         {
          "Date": "2019-03-05T00:00:00",
          "User": "jghansom"
         },
         {
          "Date": "2019-03-06T00:00:00",
          "User": "jghansom"
         },
         {
          "Date": "2019-03-07T00:00:00",
          "User": "jghansom"
         },
         {
          "Date": "2019-03-08T00:00:00",
          "User": "jghansom"
         },
         {
          "Date": "2019-03-11T00:00:00",
          "User": "jghansom"
         },
         {
          "Date": "2019-03-12T00:00:00",
          "User": "jghansom"
         },
         {
          "Date": "2019-03-13T00:00:00",
          "User": "jghansom"
         },
         {
          "Date": "2019-03-13T00:00:00",
          "User": "jghansom"
         },
         {
          "Date": "2019-03-14T00:00:00",
          "User": "jghansom"
         },
         {
          "Date": "2019-03-14T00:00:00",
          "User": "jghansom"
         },
         {
          "Date": "2019-03-15T00:00:00",
          "User": "jghansom"
         },
         {
          "Date": "2019-03-16T00:00:00",
          "User": "jghansom"
         },
         {
          "Date": "2019-03-16T00:00:00",
          "User": "jghansom"
         },
         {
          "Date": "2019-03-17T00:00:00",
          "User": "jghansom"
         },
         {
          "Date": "2019-03-18T00:00:00",
          "User": "jghansom"
         },
         {
          "Date": "2019-03-19T00:00:00",
          "User": "jghansom"
         },
         {
          "Date": "2019-03-20T00:00:00",
          "User": "jghansom"
         },
         {
          "Date": "2019-03-31T00:00:00",
          "User": "jghansom"
         },
         {
          "Date": "2019-04-01T00:00:00",
          "User": "jghansom"
         },
         {
          "Date": "2019-04-02T00:00:00",
          "User": "jghansom"
         },
         {
          "Date": "2019-04-03T00:00:00",
          "User": "jghansom"
         },
         {
          "Date": "2019-04-05T00:00:00",
          "User": "jghansom"
         },
         {
          "Date": "2019-04-09T00:00:00",
          "User": "jghansom"
         },
         {
          "Date": "2019-04-09T00:00:00",
          "User": "jghansom"
         },
         {
          "Date": "2019-01-22T00:00:00",
          "User": "ewbloom"
         },
         {
          "Date": "2019-01-22T00:00:00",
          "User": "ewbloom"
         },
         {
          "Date": "2019-02-13T00:00:00",
          "User": "ewbloom"
         },
         {
          "Date": "2019-02-13T00:00:00",
          "User": "ewbloom"
         },
         {
          "Date": "2019-02-13T00:00:00",
          "User": "ewbloom"
         },
         {
          "Date": "2019-02-15T00:00:00",
          "User": "ewbloom"
         },
         {
          "Date": "2019-02-15T00:00:00",
          "User": "ewbloom"
         },
         {
          "Date": "2019-02-19T00:00:00",
          "User": "ewbloom"
         },
         {
          "Date": "2019-02-20T00:00:00",
          "User": "ewbloom"
         },
         {
          "Date": "2019-03-05T00:00:00",
          "User": "ewbloom"
         },
         {
          "Date": "2019-03-11T00:00:00",
          "User": "ewbloom"
         },
         {
          "Date": "2019-03-27T00:00:00",
          "User": "ewbloom"
         },
         {
          "Date": "2019-03-27T00:00:00",
          "User": "ewbloom"
         },
         {
          "Date": "2019-03-28T00:00:00",
          "User": "ewbloom"
         },
         {
          "Date": "2019-03-29T00:00:00",
          "User": "ewbloom"
         },
         {
          "Date": "2019-04-08T00:00:00",
          "User": "ewbloom"
         },
         {
          "Date": "2019-04-08T00:00:00",
          "User": "ewbloom"
         },
         {
          "Date": "2019-04-09T00:00:00",
          "User": "ewbloom"
         },
         {
          "Date": "2019-04-09T00:00:00",
          "User": "ewbloom"
         },
         {
          "Date": "2019-01-21T00:00:00",
          "User": "kmcampbell"
         },
         {
          "Date": "2019-01-23T00:00:00",
          "User": "kmcampbell"
         },
         {
          "Date": "2019-01-24T00:00:00",
          "User": "kmcampbell"
         },
         {
          "Date": "2019-01-25T00:00:00",
          "User": "kmcampbell"
         },
         {
          "Date": "2019-01-28T00:00:00",
          "User": "kmcampbell"
         },
         {
          "Date": "2019-01-30T00:00:00",
          "User": "kmcampbell"
         },
         {
          "Date": "2019-01-31T00:00:00",
          "User": "kmcampbell"
         },
         {
          "Date": "2019-02-01T00:00:00",
          "User": "kmcampbell"
         },
         {
          "Date": "2019-02-04T00:00:00",
          "User": "kmcampbell"
         },
         {
          "Date": "2019-02-07T00:00:00",
          "User": "kmcampbell"
         },
         {
          "Date": "2019-02-08T00:00:00",
          "User": "kmcampbell"
         },
         {
          "Date": "2019-02-20T00:00:00",
          "User": "kmcampbell"
         },
         {
          "Date": "2019-02-25T00:00:00",
          "User": "kmcampbell"
         },
         {
          "Date": "2019-03-15T00:00:00",
          "User": "kmcampbell"
         },
         {
          "Date": "2019-04-04T00:00:00",
          "User": "kmcampbell"
         },
         {
          "Date": "2019-04-05T00:00:00",
          "User": "kmcampbell"
         },
         {
          "Date": "2019-04-09T00:00:00",
          "User": "lcrogers"
         },
         {
          "Date": "2019-03-26T00:00:00",
          "User": "ksamano"
         },
         {
          "Date": "2019-03-26T00:00:00",
          "User": "ksamano"
         },
         {
          "Date": "2019-03-26T00:00:00",
          "User": "ksamano"
         },
         {
          "Date": "2019-03-26T00:00:00",
          "User": "ksamano"
         },
         {
          "Date": "2019-02-02T00:00:00",
          "User": "vlshort"
         },
         {
          "Date": "2019-02-02T00:00:00",
          "User": "vlshort"
         },
         {
          "Date": "2019-02-03T00:00:00",
          "User": "vlshort"
         },
         {
          "Date": "2019-02-03T00:00:00",
          "User": "vlshort"
         },
         {
          "Date": "2019-02-04T00:00:00",
          "User": "vlshort"
         },
         {
          "Date": "2019-02-05T00:00:00",
          "User": "vlshort"
         },
         {
          "Date": "2019-02-05T00:00:00",
          "User": "vlshort"
         },
         {
          "Date": "2019-02-08T00:00:00",
          "User": "vlshort"
         },
         {
          "Date": "2019-02-18T00:00:00",
          "User": "vlshort"
         },
         {
          "Date": "2019-02-19T00:00:00",
          "User": "vlshort"
         },
         {
          "Date": "2019-02-19T00:00:00",
          "User": "vlshort"
         },
         {
          "Date": "2019-03-11T00:00:00",
          "User": "vlshort"
         },
         {
          "Date": "2019-03-18T00:00:00",
          "User": "vlshort"
         },
         {
          "Date": "2019-03-22T00:00:00",
          "User": "vlshort"
         },
         {
          "Date": "2019-03-26T00:00:00",
          "User": "vlshort"
         },
         {
          "Date": "2019-03-26T00:00:00",
          "User": "vlshort"
         },
         {
          "Date": "2019-04-02T00:00:00",
          "User": "vlshort"
         },
         {
          "Date": "2019-04-05T00:00:00",
          "User": "vlshort"
         },
         {
          "Date": "2019-04-05T00:00:00",
          "User": "vlshort"
         },
         {
          "Date": "2019-04-09T00:00:00",
          "User": "vlshort"
         },
         {
          "Date": "2019-01-21T00:00:00",
          "User": "jghopper"
         },
         {
          "Date": "2019-01-23T00:00:00",
          "User": "jghopper"
         },
         {
          "Date": "2019-01-23T00:00:00",
          "User": "jghopper"
         },
         {
          "Date": "2019-01-25T00:00:00",
          "User": "jghopper"
         },
         {
          "Date": "2019-01-25T00:00:00",
          "User": "jghopper"
         },
         {
          "Date": "2019-01-25T00:00:00",
          "User": "jghopper"
         },
         {
          "Date": "2019-01-28T00:00:00",
          "User": "jghopper"
         },
         {
          "Date": "2019-01-28T00:00:00",
          "User": "jghopper"
         },
         {
          "Date": "2019-01-29T00:00:00",
          "User": "jghopper"
         },
         {
          "Date": "2019-01-29T00:00:00",
          "User": "jghopper"
         },
         {
          "Date": "2019-02-03T00:00:00",
          "User": "jghopper"
         },
         {
          "Date": "2019-02-04T00:00:00",
          "User": "jghopper"
         },
         {
          "Date": "2019-02-06T00:00:00",
          "User": "jghopper"
         },
         {
          "Date": "2019-02-08T00:00:00",
          "User": "jghopper"
         },
         {
          "Date": "2019-02-11T00:00:00",
          "User": "jghopper"
         },
         {
          "Date": "2019-02-12T00:00:00",
          "User": "jghopper"
         },
         {
          "Date": "2019-02-15T00:00:00",
          "User": "jghopper"
         },
         {
          "Date": "2019-02-18T00:00:00",
          "User": "jghopper"
         },
         {
          "Date": "2019-02-18T00:00:00",
          "User": "jghopper"
         },
         {
          "Date": "2019-03-04T00:00:00",
          "User": "jghopper"
         },
         {
          "Date": "2019-03-08T00:00:00",
          "User": "jghopper"
         },
         {
          "Date": "2019-03-10T00:00:00",
          "User": "jghopper"
         },
         {
          "Date": "2019-03-11T00:00:00",
          "User": "jghopper"
         },
         {
          "Date": "2019-03-11T00:00:00",
          "User": "jghopper"
         },
         {
          "Date": "2019-03-18T00:00:00",
          "User": "jghopper"
         },
         {
          "Date": "2019-03-24T00:00:00",
          "User": "jghopper"
         },
         {
          "Date": "2019-03-25T00:00:00",
          "User": "jghopper"
         },
         {
          "Date": "2019-03-26T00:00:00",
          "User": "jghopper"
         },
         {
          "Date": "2019-03-29T00:00:00",
          "User": "jghopper"
         },
         {
          "Date": "2019-03-31T00:00:00",
          "User": "jghopper"
         },
         {
          "Date": "2019-04-01T00:00:00",
          "User": "jghopper"
         },
         {
          "Date": "2019-04-01T00:00:00",
          "User": "jghopper"
         },
         {
          "Date": "2019-04-05T00:00:00",
          "User": "jghopper"
         },
         {
          "Date": "2019-04-08T00:00:00",
          "User": "jghopper"
         },
         {
          "Date": "2019-01-31T00:00:00",
          "User": "FHA8"
         },
         {
          "Date": "2019-02-01T00:00:00",
          "User": "fha8"
         },
         {
          "Date": "2019-02-05T00:00:00",
          "User": "fha8"
         },
         {
          "Date": "2019-02-07T00:00:00",
          "User": "FHA8"
         },
         {
          "Date": "2019-02-12T00:00:00",
          "User": "fha8"
         },
         {
          "Date": "2019-02-14T00:00:00",
          "User": "fha8"
         },
         {
          "Date": "2019-02-21T00:00:00",
          "User": "FHA8"
         },
         {
          "Date": "2019-02-28T00:00:00",
          "User": "FHA8"
         },
         {
          "Date": "2019-03-05T00:00:00",
          "User": "fha8"
         },
         {
          "Date": "2019-03-05T00:00:00",
          "User": "fha8"
         },
         {
          "Date": "2019-03-07T00:00:00",
          "User": "fha8"
         },
         {
          "Date": "2019-03-12T00:00:00",
          "User": "fha8"
         },
         {
          "Date": "2019-03-14T00:00:00",
          "User": "fha8"
         },
         {
          "Date": "2019-03-14T00:00:00",
          "User": "fha8"
         },
         {
          "Date": "2019-03-15T00:00:00",
          "User": "fha8"
         },
         {
          "Date": "2019-03-18T00:00:00",
          "User": "fha8"
         },
         {
          "Date": "2019-03-19T00:00:00",
          "User": "fha8"
         },
         {
          "Date": "2019-04-04T00:00:00",
          "User": "fha8"
         },
         {
          "Date": "2019-01-18T00:00:00",
          "User": "keirish"
         },
         {
          "Date": "2019-03-28T00:00:00",
          "User": "keirish"
         },
         {
          "Date": "2019-03-28T00:00:00",
          "User": "keirish"
         },
         {
          "Date": "2019-01-11T00:00:00",
          "User": "jbradakovich"
         },
         {
          "Date": "2019-01-15T00:00:00",
          "User": "jbradakovich"
         },
         {
          "Date": "2019-01-15T00:00:00",
          "User": "jbradakovich"
         },
         {
          "Date": "2019-01-15T00:00:00",
          "User": "jbradakovich"
         },
         {
          "Date": "2019-01-15T00:00:00",
          "User": "jbradakovich"
         },
         {
          "Date": "2019-01-15T00:00:00",
          "User": "jbradakovich"
         },
         {
          "Date": "2019-01-20T00:00:00",
          "User": "jbradakovich"
         },
         {
          "Date": "2019-01-20T00:00:00",
          "User": "jbradakovich"
         },
         {
          "Date": "2019-01-20T00:00:00",
          "User": "jbradakovich"
         },
         {
          "Date": "2019-01-20T00:00:00",
          "User": "jbradakovich"
         },
         {
          "Date": "2019-01-21T00:00:00",
          "User": "jbradakovich"
         },
         {
          "Date": "2019-01-21T00:00:00",
          "User": "jbradakovich"
         },
         {
          "Date": "2019-01-21T00:00:00",
          "User": "jbradakovich"
         },
         {
          "Date": "2019-01-22T00:00:00",
          "User": "jbradakovich"
         },
         {
          "Date": "2019-01-22T00:00:00",
          "User": "jbradakovich"
         },
         {
          "Date": "2019-01-23T00:00:00",
          "User": "jbradakovich"
         },
         {
          "Date": "2019-01-24T00:00:00",
          "User": "jbradakovich"
         },
         {
          "Date": "2019-01-24T00:00:00",
          "User": "jbradakovich"
         },
         {
          "Date": "2019-01-25T00:00:00",
          "User": "jbradakovich"
         },
         {
          "Date": "2019-01-25T00:00:00",
          "User": "jbradakovich"
         },
         {
          "Date": "2019-01-25T00:00:00",
          "User": "jbradakovich"
         },
         {
          "Date": "2019-01-27T00:00:00",
          "User": "jbradakovich"
         },
         {
          "Date": "2019-01-28T00:00:00",
          "User": "jbradakovich"
         },
         {
          "Date": "2019-01-28T00:00:00",
          "User": "jbradakovich"
         },
         {
          "Date": "2019-01-29T00:00:00",
          "User": "jbradakovich"
         },
         {
          "Date": "2019-01-29T00:00:00",
          "User": "jbradakovich"
         },
         {
          "Date": "2019-01-30T00:00:00",
          "User": "jbradakovich"
         },
         {
          "Date": "2019-01-30T00:00:00",
          "User": "jbradakovich"
         },
         {
          "Date": "2019-01-30T00:00:00",
          "User": "jbradakovich"
         },
         {
          "Date": "2019-01-31T00:00:00",
          "User": "jbradakovich"
         },
         {
          "Date": "2019-01-31T00:00:00",
          "User": "jbradakovich"
         },
         {
          "Date": "2019-01-31T00:00:00",
          "User": "jbradakovich"
         },
         {
          "Date": "2019-02-01T00:00:00",
          "User": "jbradakovich"
         },
         {
          "Date": "2019-02-01T00:00:00",
          "User": "jbradakovich"
         },
         {
          "Date": "2019-02-02T00:00:00",
          "User": "jbradakovich"
         },
         {
          "Date": "2019-02-03T00:00:00",
          "User": "jbradakovich"
         },
         {
          "Date": "2019-02-04T00:00:00",
          "User": "jbradakovich"
         },
         {
          "Date": "2019-02-04T00:00:00",
          "User": "jbradakovich"
         },
         {
          "Date": "2019-02-04T00:00:00",
          "User": "jbradakovich"
         },
         {
          "Date": "2019-02-05T00:00:00",
          "User": "jbradakovich"
         },
         {
          "Date": "2019-02-05T00:00:00",
          "User": "jbradakovich"
         },
         {
          "Date": "2019-02-05T00:00:00",
          "User": "jbradakovich"
         },
         {
          "Date": "2019-02-06T00:00:00",
          "User": "jbradakovich"
         },
         {
          "Date": "2019-02-06T00:00:00",
          "User": "jbradakovich"
         },
         {
          "Date": "2019-02-06T00:00:00",
          "User": "jbradakovich"
         },
         {
          "Date": "2019-02-07T00:00:00",
          "User": "jbradakovich"
         },
         {
          "Date": "2019-02-07T00:00:00",
          "User": "jbradakovich"
         },
         {
          "Date": "2019-02-10T00:00:00",
          "User": "jbradakovich"
         },
         {
          "Date": "2019-02-11T00:00:00",
          "User": "jbradakovich"
         },
         {
          "Date": "2019-02-11T00:00:00",
          "User": "jbradakovich"
         },
         {
          "Date": "2019-02-11T00:00:00",
          "User": "jbradakovich"
         },
         {
          "Date": "2019-02-11T00:00:00",
          "User": "jbradakovich"
         },
         {
          "Date": "2019-02-11T00:00:00",
          "User": "jbradakovich"
         },
         {
          "Date": "2019-02-12T00:00:00",
          "User": "jbradakovich"
         },
         {
          "Date": "2019-02-12T00:00:00",
          "User": "jbradakovich"
         },
         {
          "Date": "2019-02-13T00:00:00",
          "User": "jbradakovich"
         },
         {
          "Date": "2019-02-13T00:00:00",
          "User": "jbradakovich"
         },
         {
          "Date": "2019-02-13T00:00:00",
          "User": "jbradakovich"
         },
         {
          "Date": "2019-02-14T00:00:00",
          "User": "jbradakovich"
         },
         {
          "Date": "2019-02-14T00:00:00",
          "User": "jbradakovich"
         },
         {
          "Date": "2019-02-14T00:00:00",
          "User": "jbradakovich"
         },
         {
          "Date": "2019-02-15T00:00:00",
          "User": "jbradakovich"
         },
         {
          "Date": "2019-02-17T00:00:00",
          "User": "jbradakovich"
         },
         {
          "Date": "2019-02-18T00:00:00",
          "User": "jbradakovich"
         },
         {
          "Date": "2019-02-18T00:00:00",
          "User": "jbradakovich"
         },
         {
          "Date": "2019-02-19T00:00:00",
          "User": "jbradakovich"
         },
         {
          "Date": "2019-02-20T00:00:00",
          "User": "jbradakovich"
         },
         {
          "Date": "2019-02-21T00:00:00",
          "User": "jbradakovich"
         },
         {
          "Date": "2019-02-21T00:00:00",
          "User": "jbradakovich"
         },
         {
          "Date": "2019-02-21T00:00:00",
          "User": "jbradakovich"
         },
         {
          "Date": "2019-02-22T00:00:00",
          "User": "jbradakovich"
         },
         {
          "Date": "2019-02-24T00:00:00",
          "User": "jbradakovich"
         },
         {
          "Date": "2019-02-25T00:00:00",
          "User": "jbradakovich"
         },
         {
          "Date": "2019-02-25T00:00:00",
          "User": "jbradakovich"
         },
         {
          "Date": "2019-02-26T00:00:00",
          "User": "jbradakovich"
         },
         {
          "Date": "2019-02-27T00:00:00",
          "User": "jbradakovich"
         },
         {
          "Date": "2019-02-28T00:00:00",
          "User": "jbradakovich"
         },
         {
          "Date": "2019-02-28T00:00:00",
          "User": "jbradakovich"
         },
         {
          "Date": "2019-02-28T00:00:00",
          "User": "jbradakovich"
         },
         {
          "Date": "2019-03-01T00:00:00",
          "User": "jbradakovich"
         },
         {
          "Date": "2019-03-03T00:00:00",
          "User": "jbradakovich"
         },
         {
          "Date": "2019-03-03T00:00:00",
          "User": "jbradakovich"
         },
         {
          "Date": "2019-03-04T00:00:00",
          "User": "jbradakovich"
         },
         {
          "Date": "2019-03-04T00:00:00",
          "User": "jbradakovich"
         },
         {
          "Date": "2019-03-05T00:00:00",
          "User": "jbradakovich"
         },
         {
          "Date": "2019-03-05T00:00:00",
          "User": "jbradakovich"
         },
         {
          "Date": "2019-03-06T00:00:00",
          "User": "jbradakovich"
         },
         {
          "Date": "2019-03-07T00:00:00",
          "User": "jbradakovich"
         },
         {
          "Date": "2019-03-07T00:00:00",
          "User": "jbradakovich"
         },
         {
          "Date": "2019-03-07T00:00:00",
          "User": "jbradakovich"
         },
         {
          "Date": "2019-03-08T00:00:00",
          "User": "jbradakovich"
         },
         {
          "Date": "2019-03-09T00:00:00",
          "User": "jbradakovich"
         },
         {
          "Date": "2019-03-10T00:00:00",
          "User": "jbradakovich"
         },
         {
          "Date": "2019-03-11T00:00:00",
          "User": "jbradakovich"
         },
         {
          "Date": "2019-03-11T00:00:00",
          "User": "jbradakovich"
         },
         {
          "Date": "2019-03-12T00:00:00",
          "User": "jbradakovich"
         },
         {
          "Date": "2019-03-12T00:00:00",
          "User": "jbradakovich"
         },
         {
          "Date": "2019-03-13T00:00:00",
          "User": "jbradakovich"
         },
         {
          "Date": "2019-03-14T00:00:00",
          "User": "jbradakovich"
         },
         {
          "Date": "2019-03-14T00:00:00",
          "User": "jbradakovich"
         },
         {
          "Date": "2019-03-14T00:00:00",
          "User": "jbradakovich"
         },
         {
          "Date": "2019-03-14T00:00:00",
          "User": "jbradakovich"
         },
         {
          "Date": "2019-03-15T00:00:00",
          "User": "jbradakovich"
         },
         {
          "Date": "2019-03-17T00:00:00",
          "User": "jbradakovich"
         },
         {
          "Date": "2019-03-18T00:00:00",
          "User": "jbradakovich"
         },
         {
          "Date": "2019-03-18T00:00:00",
          "User": "jbradakovich"
         },
         {
          "Date": "2019-03-19T00:00:00",
          "User": "jbradakovich"
         },
         {
          "Date": "2019-03-19T00:00:00",
          "User": "jbradakovich"
         },
         {
          "Date": "2019-03-19T00:00:00",
          "User": "jbradakovich"
         },
         {
          "Date": "2019-03-20T00:00:00",
          "User": "jbradakovich"
         },
         {
          "Date": "2019-03-20T00:00:00",
          "User": "jbradakovich"
         },
         {
          "Date": "2019-03-21T00:00:00",
          "User": "jbradakovich"
         },
         {
          "Date": "2019-03-21T00:00:00",
          "User": "jbradakovich"
         },
         {
          "Date": "2019-03-21T00:00:00",
          "User": "jbradakovich"
         },
         {
          "Date": "2019-03-22T00:00:00",
          "User": "jbradakovich"
         },
         {
          "Date": "2019-03-22T00:00:00",
          "User": "jbradakovich"
         },
         {
          "Date": "2019-03-22T00:00:00",
          "User": "jbradakovich"
         },
         {
          "Date": "2019-03-23T00:00:00",
          "User": "jbradakovich"
         },
         {
          "Date": "2019-03-24T00:00:00",
          "User": "jbradakovich"
         },
         {
          "Date": "2019-03-25T00:00:00",
          "User": "jbradakovich"
         },
         {
          "Date": "2019-03-26T00:00:00",
          "User": "jbradakovich"
         },
         {
          "Date": "2019-03-26T00:00:00",
          "User": "jbradakovich"
         },
         {
          "Date": "2019-03-27T00:00:00",
          "User": "jbradakovich"
         },
         {
          "Date": "2019-03-27T00:00:00",
          "User": "jbradakovich"
         },
         {
          "Date": "2019-03-31T00:00:00",
          "User": "jbradakovich"
         },
         {
          "Date": "2019-03-31T00:00:00",
          "User": "jbradakovich"
         },
         {
          "Date": "2019-04-01T00:00:00",
          "User": "jbradakovich"
         },
         {
          "Date": "2019-04-01T00:00:00",
          "User": "jbradakovich"
         },
         {
          "Date": "2019-04-02T00:00:00",
          "User": "jbradakovich"
         },
         {
          "Date": "2019-04-02T00:00:00",
          "User": "jbradakovich"
         },
         {
          "Date": "2019-04-03T00:00:00",
          "User": "jbradakovich"
         },
         {
          "Date": "2019-04-04T00:00:00",
          "User": "jbradakovich"
         },
         {
          "Date": "2019-04-04T00:00:00",
          "User": "jbradakovich"
         },
         {
          "Date": "2019-04-04T00:00:00",
          "User": "jbradakovich"
         },
         {
          "Date": "2019-04-05T00:00:00",
          "User": "jbradakovich"
         },
         {
          "Date": "2019-04-05T00:00:00",
          "User": "jbradakovich"
         },
         {
          "Date": "2019-04-06T00:00:00",
          "User": "jbradakovich"
         },
         {
          "Date": "2019-04-07T00:00:00",
          "User": "jbradakovich"
         },
         {
          "Date": "2019-04-08T00:00:00",
          "User": "jbradakovich"
         },
         {
          "Date": "2019-04-08T00:00:00",
          "User": "jbradakovich"
         },
         {
          "Date": "2019-04-09T00:00:00",
          "User": "jbradakovich"
         },
         {
          "Date": "2019-04-09T00:00:00",
          "User": "jbradakovich"
         },
         {
          "Date": "2019-04-09T00:00:00",
          "User": "jbradakovich"
         },
         {
          "Date": "2019-01-24T00:00:00",
          "User": "lcmuller"
         },
         {
          "Date": "2019-01-24T00:00:00",
          "User": "lcmuller"
         },
         {
          "Date": "2019-01-29T00:00:00",
          "User": "lcmuller"
         },
         {
          "Date": "2019-01-29T00:00:00",
          "User": "lcmuller"
         },
         {
          "Date": "2019-01-30T00:00:00",
          "User": "lcmuller"
         },
         {
          "Date": "2019-01-31T00:00:00",
          "User": "lcmuller"
         },
         {
          "Date": "2019-01-31T00:00:00",
          "User": "lcmuller"
         },
         {
          "Date": "2019-02-12T00:00:00",
          "User": "lcmuller"
         },
         {
          "Date": "2019-02-13T00:00:00",
          "User": "lcmuller"
         },
         {
          "Date": "2019-02-14T00:00:00",
          "User": "lcmuller"
         },
         {
          "Date": "2019-02-15T00:00:00",
          "User": "lcmuller"
         },
         {
          "Date": "2019-04-08T00:00:00",
          "User": "lcmuller"
         },
         {
          "Date": "2019-04-08T00:00:00",
          "User": "lcmuller"
         },
         {
          "Date": "2019-04-05T00:00:00",
          "User": "wmrazote"
         },
         {
          "Date": "2019-04-05T00:00:00",
          "User": "wmrazote"
         },
         {
          "Date": "2019-04-08T00:00:00",
          "User": "wmrazote"
         },
         {
          "Date": "2019-04-08T00:00:00",
          "User": "wmrazote"
         },
         {
          "Date": "2019-04-08T00:00:00",
          "User": "wmrazote"
         },
         {
          "Date": "2019-04-08T00:00:00",
          "User": "wmrazote"
         },
         {
          "Date": "2019-01-22T00:00:00",
          "User": "jjbloom"
         },
         {
          "Date": "2019-01-22T00:00:00",
          "User": "jjbloom"
         },
         {
          "Date": "2019-01-22T00:00:00",
          "User": "jjbloom"
         },
         {
          "Date": "2019-01-22T00:00:00",
          "User": "jjbloom"
         },
         {
          "Date": "2019-01-29T00:00:00",
          "User": "jjbloom"
         },
         {
          "Date": "2019-01-29T00:00:00",
          "User": "jjbloom"
         },
         {
          "Date": "2019-01-29T00:00:00",
          "User": "jjbloom"
         },
         {
          "Date": "2019-01-29T00:00:00",
          "User": "jjbloom"
         },
         {
          "Date": "2019-01-29T00:00:00",
          "User": "jjbloom"
         },
         {
          "Date": "2019-01-29T00:00:00",
          "User": "jjbloom"
         },
         {
          "Date": "2019-01-30T00:00:00",
          "User": "jjbloom"
         },
         {
          "Date": "2019-02-06T00:00:00",
          "User": "jjbloom"
         },
         {
          "Date": "2019-02-06T00:00:00",
          "User": "jjbloom"
         },
         {
          "Date": "2019-02-06T00:00:00",
          "User": "jjbloom"
         },
         {
          "Date": "2019-02-06T00:00:00",
          "User": "jjbloom"
         },
         {
          "Date": "2019-02-07T00:00:00",
          "User": "jjbloom"
         },
         {
          "Date": "2019-02-13T00:00:00",
          "User": "jjbloom"
         },
         {
          "Date": "2019-02-14T00:00:00",
          "User": "jjbloom"
         },
         {
          "Date": "2019-02-15T00:00:00",
          "User": "jjbloom"
         },
         {
          "Date": "2019-02-26T00:00:00",
          "User": "jjbloom"
         },
         {
          "Date": "2019-02-27T00:00:00",
          "User": "jjbloom"
         },
         {
          "Date": "2019-02-27T00:00:00",
          "User": "jjbloom"
         },
         {
          "Date": "2019-03-04T00:00:00",
          "User": "jjbloom"
         },
         {
          "Date": "2019-03-05T00:00:00",
          "User": "jjbloom"
         },
         {
          "Date": "2019-03-07T00:00:00",
          "User": "jjbloom"
         },
         {
          "Date": "2019-03-12T00:00:00",
          "User": "jjbloom"
         },
         {
          "Date": "2019-03-13T00:00:00",
          "User": "jjbloom"
         },
         {
          "Date": "2019-03-13T00:00:00",
          "User": "jjbloom"
         },
         {
          "Date": "2019-03-14T00:00:00",
          "User": "jjbloom"
         },
         {
          "Date": "2019-03-19T00:00:00",
          "User": "jjbloom"
         },
         {
          "Date": "2019-03-20T00:00:00",
          "User": "jjbloom"
         },
         {
          "Date": "2019-03-21T00:00:00",
          "User": "jjbloom"
         },
         {
          "Date": "2019-03-21T00:00:00",
          "User": "jjbloom"
         },
         {
          "Date": "2019-03-26T00:00:00",
          "User": "jjbloom"
         },
         {
          "Date": "2019-03-26T00:00:00",
          "User": "jjbloom"
         },
         {
          "Date": "2019-03-26T00:00:00",
          "User": "jjbloom"
         },
         {
          "Date": "2019-03-27T00:00:00",
          "User": "jjbloom"
         },
         {
          "Date": "2019-03-28T00:00:00",
          "User": "jjbloom"
         },
         {
          "Date": "2019-03-28T00:00:00",
          "User": "jjbloom"
         },
         {
          "Date": "2019-03-29T00:00:00",
          "User": "jjbloom"
         },
         {
          "Date": "2019-04-05T00:00:00",
          "User": "jjbloom"
         },
         {
          "Date": "2019-04-09T00:00:00",
          "User": "jjbloom"
         },
         {
          "Date": "2019-04-09T00:00:00",
          "User": "jjbloom"
         },
         {
          "Date": "2019-02-13T00:00:00",
          "User": "aymata"
         },
         {
          "Date": "2019-02-13T00:00:00",
          "User": "aymata"
         },
         {
          "Date": "2019-03-01T00:00:00",
          "User": "kazemler"
         },
         {
          "Date": "2019-02-05T00:00:00",
          "User": "fha9"
         },
         {
          "Date": "2019-02-07T00:00:00",
          "User": "FHA9"
         },
         {
          "Date": "2019-02-21T00:00:00",
          "User": "FHA9"
         },
         {
          "Date": "2019-02-28T00:00:00",
          "User": "FHA9"
         },
         {
          "Date": "2019-03-07T00:00:00",
          "User": "fha9"
         },
         {
          "Date": "2019-03-12T00:00:00",
          "User": "fha9"
         },
         {
          "Date": "2019-03-14T00:00:00",
          "User": "fha9"
         },
         {
          "Date": "2019-03-18T00:00:00",
          "User": "fha9"
         },
         {
          "Date": "2019-04-04T00:00:00",
          "User": "fha9"
         },
         {
          "Date": "2019-01-07T00:00:00",
          "User": "hlhoney"
         },
         {
          "Date": "2019-01-08T00:00:00",
          "User": "hlhoney"
         },
         {
          "Date": "2019-01-09T00:00:00",
          "User": "hlhoney"
         },
         {
          "Date": "2019-01-10T00:00:00",
          "User": "hlhoney"
         },
         {
          "Date": "2019-01-11T00:00:00",
          "User": "hlhoney"
         },
         {
          "Date": "2019-01-14T00:00:00",
          "User": "hlhoney"
         },
         {
          "Date": "2019-01-16T00:00:00",
          "User": "hlhoney"
         },
         {
          "Date": "2019-01-17T00:00:00",
          "User": "hlhoney"
         },
         {
          "Date": "2019-01-18T00:00:00",
          "User": "hlhoney"
         },
         {
          "Date": "2019-01-28T00:00:00",
          "User": "hlhoney"
         },
         {
          "Date": "2019-01-29T00:00:00",
          "User": "hlhoney"
         },
         {
          "Date": "2019-01-29T00:00:00",
          "User": "hlhoney"
         },
         {
          "Date": "2019-01-30T00:00:00",
          "User": "hlhoney"
         },
         {
          "Date": "2019-01-31T00:00:00",
          "User": "hlhoney"
         },
         {
          "Date": "2019-01-31T00:00:00",
          "User": "hlhoney"
         },
         {
          "Date": "2019-02-04T00:00:00",
          "User": "hlhoney"
         },
         {
          "Date": "2019-02-04T00:00:00",
          "User": "hlhoney"
         },
         {
          "Date": "2019-02-05T00:00:00",
          "User": "hlhoney"
         },
         {
          "Date": "2019-02-06T00:00:00",
          "User": "hlhoney"
         },
         {
          "Date": "2019-02-07T00:00:00",
          "User": "hlhoney"
         },
         {
          "Date": "2019-02-08T00:00:00",
          "User": "hlhoney"
         },
         {
          "Date": "2019-02-10T00:00:00",
          "User": "hlhoney"
         },
         {
          "Date": "2019-02-11T00:00:00",
          "User": "hlhoney"
         },
         {
          "Date": "2019-02-13T00:00:00",
          "User": "hlhoney"
         },
         {
          "Date": "2019-02-20T00:00:00",
          "User": "hlhoney"
         },
         {
          "Date": "2019-02-21T00:00:00",
          "User": "hlhoney"
         },
         {
          "Date": "2019-02-22T00:00:00",
          "User": "hlhoney"
         },
         {
          "Date": "2019-02-22T00:00:00",
          "User": "hlhoney"
         },
         {
          "Date": "2019-02-25T00:00:00",
          "User": "hlhoney"
         },
         {
          "Date": "2019-02-26T00:00:00",
          "User": "hlhoney"
         },
         {
          "Date": "2019-02-27T00:00:00",
          "User": "hlhoney"
         },
         {
          "Date": "2019-02-28T00:00:00",
          "User": "hlhoney"
         },
         {
          "Date": "2019-03-01T00:00:00",
          "User": "hlhoney"
         },
         {
          "Date": "2019-03-03T00:00:00",
          "User": "hlhoney"
         },
         {
          "Date": "2019-03-04T00:00:00",
          "User": "hlhoney"
         },
         {
          "Date": "2019-03-06T00:00:00",
          "User": "hlhoney"
         },
         {
          "Date": "2019-03-07T00:00:00",
          "User": "hlhoney"
         },
         {
          "Date": "2019-03-08T00:00:00",
          "User": "hlhoney"
         },
         {
          "Date": "2019-03-11T00:00:00",
          "User": "hlhoney"
         },
         {
          "Date": "2019-03-12T00:00:00",
          "User": "hlhoney"
         },
         {
          "Date": "2019-03-13T00:00:00",
          "User": "hlhoney"
         },
         {
          "Date": "2019-03-14T00:00:00",
          "User": "hlhoney"
         },
         {
          "Date": "2019-03-15T00:00:00",
          "User": "hlhoney"
         },
         {
          "Date": "2019-03-20T00:00:00",
          "User": "hlhoney"
         },
         {
          "Date": "2019-03-20T00:00:00",
          "User": "hlhoney"
         },
         {
          "Date": "2019-04-04T00:00:00",
          "User": "hlhoney"
         },
         {
          "Date": "2019-04-04T00:00:00",
          "User": "hlhoney"
         },
         {
          "Date": "2019-04-05T00:00:00",
          "User": "hlhoney"
         },
         {
          "Date": "2019-04-09T00:00:00",
          "User": "hlhoney"
         },
         {
          "Date": "2019-01-24T00:00:00",
          "User": "idbonner"
         },
         {
          "Date": "2019-01-25T00:00:00",
          "User": "idbonner"
         },
         {
          "Date": "2019-01-25T00:00:00",
          "User": "idbonner"
         },
         {
          "Date": "2019-02-01T00:00:00",
          "User": "idbonner"
         },
         {
          "Date": "2019-02-04T00:00:00",
          "User": "idbonner"
         },
         {
          "Date": "2019-02-07T00:00:00",
          "User": "idbonner"
         },
         {
          "Date": "2019-02-16T00:00:00",
          "User": "idbonner"
         },
         {
          "Date": "2019-02-22T00:00:00",
          "User": "idbonner"
         },
         {
          "Date": "2019-02-27T00:00:00",
          "User": "idbonner"
         },
         {
          "Date": "2019-02-27T00:00:00",
          "User": "idbonner"
         },
         {
          "Date": "2019-02-27T00:00:00",
          "User": "idbonner"
         },
         {
          "Date": "2019-02-27T00:00:00",
          "User": "idbonner"
         },
         {
          "Date": "2019-02-28T00:00:00",
          "User": "idbonner"
         },
         {
          "Date": "2019-02-28T00:00:00",
          "User": "idbonner"
         },
         {
          "Date": "2019-03-01T00:00:00",
          "User": "idbonner"
         },
         {
          "Date": "2019-03-01T00:00:00",
          "User": "idbonner"
         },
         {
          "Date": "2019-03-02T00:00:00",
          "User": "idbonner"
         },
         {
          "Date": "2019-03-04T00:00:00",
          "User": "idbonner"
         },
         {
          "Date": "2019-03-05T00:00:00",
          "User": "idbonner"
         },
         {
          "Date": "2019-03-06T00:00:00",
          "User": "idbonner"
         },
         {
          "Date": "2019-03-06T00:00:00",
          "User": "idbonner"
         },
         {
          "Date": "2019-03-07T00:00:00",
          "User": "idbonner"
         },
         {
          "Date": "2019-03-07T00:00:00",
          "User": "idbonner"
         },
         {
          "Date": "2019-03-08T00:00:00",
          "User": "idbonner"
         },
         {
          "Date": "2019-03-08T00:00:00",
          "User": "idbonner"
         },
         {
          "Date": "2019-03-14T00:00:00",
          "User": "idbonner"
         },
         {
          "Date": "2019-03-16T00:00:00",
          "User": "idbonner"
         },
         {
          "Date": "2019-03-18T00:00:00",
          "User": "idbonner"
         },
         {
          "Date": "2019-03-19T00:00:00",
          "User": "idbonner"
         },
         {
          "Date": "2019-03-20T00:00:00",
          "User": "idbonner"
         },
         {
          "Date": "2019-03-21T00:00:00",
          "User": "idbonner"
         },
         {
          "Date": "2019-03-22T00:00:00",
          "User": "idbonner"
         },
         {
          "Date": "2019-04-03T00:00:00",
          "User": "idbonner"
         },
         {
          "Date": "2019-04-04T00:00:00",
          "User": "idbonner"
         },
         {
          "Date": "2019-02-26T00:00:00",
          "User": "kjrusk"
         },
         {
          "Date": "2019-02-26T00:00:00",
          "User": "kjrusk"
         },
         {
          "Date": "2019-02-26T00:00:00",
          "User": "kjrusk"
         },
         {
          "Date": "2019-02-27T00:00:00",
          "User": "kjrusk"
         },
         {
          "Date": "2019-01-07T00:00:00",
          "User": "jwraduege"
         },
         {
          "Date": "2019-01-08T00:00:00",
          "User": "jwraduege"
         },
         {
          "Date": "2019-01-08T00:00:00",
          "User": "jwraduege"
         },
         {
          "Date": "2019-01-09T00:00:00",
          "User": "jwraduege"
         },
         {
          "Date": "2019-01-10T00:00:00",
          "User": "jwraduege"
         },
         {
          "Date": "2019-01-11T00:00:00",
          "User": "jwraduege"
         },
         {
          "Date": "2019-01-14T00:00:00",
          "User": "jwraduege"
         },
         {
          "Date": "2019-01-16T00:00:00",
          "User": "jwraduege"
         },
         {
          "Date": "2019-01-17T00:00:00",
          "User": "jwraduege"
         },
         {
          "Date": "2019-01-18T00:00:00",
          "User": "jwraduege"
         },
         {
          "Date": "2019-01-21T00:00:00",
          "User": "jwraduege"
         },
         {
          "Date": "2019-01-23T00:00:00",
          "User": "jwraduege"
         },
         {
          "Date": "2019-01-23T00:00:00",
          "User": "jwraduege"
         },
         {
          "Date": "2019-01-24T00:00:00",
          "User": "jwraduege"
         },
         {
          "Date": "2019-01-25T00:00:00",
          "User": "jwraduege"
         },
         {
          "Date": "2019-01-28T00:00:00",
          "User": "jwraduege"
         },
         {
          "Date": "2019-01-29T00:00:00",
          "User": "jwraduege"
         },
         {
          "Date": "2019-01-30T00:00:00",
          "User": "jwraduege"
         },
         {
          "Date": "2019-01-31T00:00:00",
          "User": "jwraduege"
         },
         {
          "Date": "2019-02-01T00:00:00",
          "User": "jwraduege"
         },
         {
          "Date": "2019-02-04T00:00:00",
          "User": "jwraduege"
         },
         {
          "Date": "2019-02-06T00:00:00",
          "User": "jwraduege"
         },
         {
          "Date": "2019-02-07T00:00:00",
          "User": "jwraduege"
         },
         {
          "Date": "2019-02-08T00:00:00",
          "User": "jwraduege"
         },
         {
          "Date": "2019-02-11T00:00:00",
          "User": "jwraduege"
         },
         {
          "Date": "2019-02-13T00:00:00",
          "User": "jwraduege"
         },
         {
          "Date": "2019-02-14T00:00:00",
          "User": "jwraduege"
         },
         {
          "Date": "2019-02-15T00:00:00",
          "User": "jwraduege"
         },
         {
          "Date": "2019-02-18T00:00:00",
          "User": "jwraduege"
         },
         {
          "Date": "2019-02-20T00:00:00",
          "User": "jwraduege"
         },
         {
          "Date": "2019-02-21T00:00:00",
          "User": "jwraduege"
         },
         {
          "Date": "2019-02-22T00:00:00",
          "User": "jwraduege"
         },
         {
          "Date": "2019-02-25T00:00:00",
          "User": "jwraduege"
         },
         {
          "Date": "2019-02-27T00:00:00",
          "User": "jwraduege"
         },
         {
          "Date": "2019-02-28T00:00:00",
          "User": "jwraduege"
         },
         {
          "Date": "2019-03-01T00:00:00",
          "User": "jwraduege"
         },
         {
          "Date": "2019-03-04T00:00:00",
          "User": "jwraduege"
         },
         {
          "Date": "2019-03-06T00:00:00",
          "User": "jwraduege"
         },
         {
          "Date": "2019-03-07T00:00:00",
          "User": "jwraduege"
         },
         {
          "Date": "2019-03-08T00:00:00",
          "User": "jwraduege"
         },
         {
          "Date": "2019-03-10T00:00:00",
          "User": "jwraduege"
         },
         {
          "Date": "2019-03-11T00:00:00",
          "User": "jwraduege"
         },
         {
          "Date": "2019-03-13T00:00:00",
          "User": "jwraduege"
         },
         {
          "Date": "2019-03-14T00:00:00",
          "User": "jwraduege"
         },
         {
          "Date": "2019-03-15T00:00:00",
          "User": "jwraduege"
         },
         {
          "Date": "2019-03-17T00:00:00",
          "User": "jwraduege"
         },
         {
          "Date": "2019-03-18T00:00:00",
          "User": "jwraduege"
         },
         {
          "Date": "2019-03-20T00:00:00",
          "User": "jwraduege"
         },
         {
          "Date": "2019-03-21T00:00:00",
          "User": "jwraduege"
         },
         {
          "Date": "2019-03-22T00:00:00",
          "User": "jwraduege"
         },
         {
          "Date": "2019-03-25T00:00:00",
          "User": "jwraduege"
         },
         {
          "Date": "2019-03-27T00:00:00",
          "User": "jwraduege"
         },
         {
          "Date": "2019-03-28T00:00:00",
          "User": "jwraduege"
         },
         {
          "Date": "2019-03-29T00:00:00",
          "User": "jwraduege"
         },
         {
          "Date": "2019-04-01T00:00:00",
          "User": "jwraduege"
         },
         {
          "Date": "2019-04-01T00:00:00",
          "User": "jwraduege"
         },
         {
          "Date": "2019-04-03T00:00:00",
          "User": "jwraduege"
         },
         {
          "Date": "2019-04-04T00:00:00",
          "User": "jwraduege"
         },
         {
          "Date": "2019-04-05T00:00:00",
          "User": "jwraduege"
         },
         {
          "Date": "2019-04-08T00:00:00",
          "User": "jwraduege"
         },
         {
          "Date": "2019-02-01T00:00:00",
          "User": "rbnolan"
         },
         {
          "Date": "2019-02-06T00:00:00",
          "User": "rbnolan"
         },
         {
          "Date": "2019-02-07T00:00:00",
          "User": "rbnolan"
         },
         {
          "Date": "2019-02-10T00:00:00",
          "User": "rbnolan"
         },
         {
          "Date": "2019-02-10T00:00:00",
          "User": "rbnolan"
         },
         {
          "Date": "2019-02-14T00:00:00",
          "User": "rbnolan"
         },
         {
          "Date": "2019-02-19T00:00:00",
          "User": "rbnolan"
         },
         {
          "Date": "2019-02-22T00:00:00",
          "User": "rbnolan"
         },
         {
          "Date": "2019-02-23T00:00:00",
          "User": "rbnolan"
         },
         {
          "Date": "2019-02-23T00:00:00",
          "User": "rbnolan"
         },
         {
          "Date": "2019-02-25T00:00:00",
          "User": "rbnolan"
         },
         {
          "Date": "2019-02-26T00:00:00",
          "User": "rbnolan"
         },
         {
          "Date": "2019-02-26T00:00:00",
          "User": "rbnolan"
         },
         {
          "Date": "2019-02-28T00:00:00",
          "User": "rbnolan"
         },
         {
          "Date": "2019-02-28T00:00:00",
          "User": "rbnolan"
         },
         {
          "Date": "2019-02-28T00:00:00",
          "User": "rbnolan"
         },
         {
          "Date": "2019-03-01T00:00:00",
          "User": "rbnolan"
         },
         {
          "Date": "2019-03-06T00:00:00",
          "User": "rbnolan"
         },
         {
          "Date": "2019-03-07T00:00:00",
          "User": "rbnolan"
         },
         {
          "Date": "2019-03-14T00:00:00",
          "User": "rbnolan"
         },
         {
          "Date": "2019-03-16T00:00:00",
          "User": "rbnolan"
         },
         {
          "Date": "2019-03-24T00:00:00",
          "User": "rbnolan"
         },
         {
          "Date": "2019-04-02T00:00:00",
          "User": "rbnolan"
         },
         {
          "Date": "2019-04-02T00:00:00",
          "User": "rbnolan"
         },
         {
          "Date": "2019-01-10T00:00:00",
          "User": "ahfloyd"
         },
         {
          "Date": "2019-01-11T00:00:00",
          "User": "ahfloyd"
         },
         {
          "Date": "2019-01-18T00:00:00",
          "User": "ahfloyd"
         },
         {
          "Date": "2019-01-18T00:00:00",
          "User": "ahfloyd"
         },
         {
          "Date": "2019-01-21T00:00:00",
          "User": "ahfloyd"
         },
         {
          "Date": "2019-01-23T00:00:00",
          "User": "ahfloyd"
         },
         {
          "Date": "2019-01-23T00:00:00",
          "User": "ahfloyd"
         },
         {
          "Date": "2019-01-24T00:00:00",
          "User": "ahfloyd"
         },
         {
          "Date": "2019-01-28T00:00:00",
          "User": "ahfloyd"
         },
         {
          "Date": "2019-01-29T00:00:00",
          "User": "ahfloyd"
         },
         {
          "Date": "2019-01-29T00:00:00",
          "User": "ahfloyd"
         },
         {
          "Date": "2019-01-30T00:00:00",
          "User": "ahfloyd"
         },
         {
          "Date": "2019-01-31T00:00:00",
          "User": "ahfloyd"
         },
         {
          "Date": "2019-02-11T00:00:00",
          "User": "ahfloyd"
         },
         {
          "Date": "2019-02-12T00:00:00",
          "User": "ahfloyd"
         },
         {
          "Date": "2019-02-14T00:00:00",
          "User": "ahfloyd"
         },
         {
          "Date": "2019-02-19T00:00:00",
          "User": "ahfloyd"
         },
         {
          "Date": "2019-02-21T00:00:00",
          "User": "ahfloyd"
         },
         {
          "Date": "2019-02-25T00:00:00",
          "User": "ahfloyd"
         },
         {
          "Date": "2019-02-26T00:00:00",
          "User": "ahfloyd"
         },
         {
          "Date": "2019-02-28T00:00:00",
          "User": "ahfloyd"
         },
         {
          "Date": "2019-02-28T00:00:00",
          "User": "ahfloyd"
         },
         {
          "Date": "2019-03-07T00:00:00",
          "User": "ahfloyd"
         },
         {
          "Date": "2019-03-12T00:00:00",
          "User": "ahfloyd"
         },
         {
          "Date": "2019-03-17T00:00:00",
          "User": "ahfloyd"
         },
         {
          "Date": "2019-03-18T00:00:00",
          "User": "ahfloyd"
         },
         {
          "Date": "2019-03-19T00:00:00",
          "User": "ahfloyd"
         },
         {
          "Date": "2019-03-20T00:00:00",
          "User": "ahfloyd"
         },
         {
          "Date": "2019-04-03T00:00:00",
          "User": "ahfloyd"
         },
         {
          "Date": "2019-04-04T00:00:00",
          "User": "ahfloyd"
         },
         {
          "Date": "2019-03-31T00:00:00",
          "User": "kjtaylor"
         },
         {
          "Date": "2019-04-08T00:00:00",
          "User": "ealeblanc"
         },
         {
          "Date": "2019-04-08T00:00:00",
          "User": "ealeblanc"
         },
         {
          "Date": "2019-04-08T00:00:00",
          "User": "ealeblanc"
         },
         {
          "Date": "2019-01-09T00:00:00",
          "User": "mrshapiro"
         },
         {
          "Date": "2019-01-09T00:00:00",
          "User": "mrshapiro"
         },
         {
          "Date": "2019-01-09T00:00:00",
          "User": "mrshapiro"
         },
         {
          "Date": "2019-01-09T00:00:00",
          "User": "mrshapiro"
         },
         {
          "Date": "2019-01-09T00:00:00",
          "User": "mrshapiro"
         },
         {
          "Date": "2019-01-09T00:00:00",
          "User": "mrshapiro"
         },
         {
          "Date": "2019-01-09T00:00:00",
          "User": "mrshapiro"
         },
         {
          "Date": "2019-01-09T00:00:00",
          "User": "mrshapiro"
         },
         {
          "Date": "2019-01-09T00:00:00",
          "User": "mrshapiro"
         },
         {
          "Date": "2019-01-09T00:00:00",
          "User": "mrshapiro"
         },
         {
          "Date": "2019-01-09T00:00:00",
          "User": "mrshapiro"
         },
         {
          "Date": "2019-01-09T00:00:00",
          "User": "mrshapiro"
         },
         {
          "Date": "2019-01-09T00:00:00",
          "User": "mrshapiro"
         },
         {
          "Date": "2019-01-09T00:00:00",
          "User": "mrshapiro"
         },
         {
          "Date": "2019-01-09T00:00:00",
          "User": "mrshapiro"
         },
         {
          "Date": "2019-01-09T00:00:00",
          "User": "mrshapiro"
         },
         {
          "Date": "2019-01-09T00:00:00",
          "User": "mrshapiro"
         },
         {
          "Date": "2019-01-09T00:00:00",
          "User": "mrshapiro"
         },
         {
          "Date": "2019-01-10T00:00:00",
          "User": "mrshapiro"
         },
         {
          "Date": "2019-01-10T00:00:00",
          "User": "mrshapiro"
         },
         {
          "Date": "2019-01-10T00:00:00",
          "User": "mrshapiro"
         },
         {
          "Date": "2019-01-10T00:00:00",
          "User": "mrshapiro"
         },
         {
          "Date": "2019-01-10T00:00:00",
          "User": "mrshapiro"
         },
         {
          "Date": "2019-01-10T00:00:00",
          "User": "mrshapiro"
         },
         {
          "Date": "2019-01-11T00:00:00",
          "User": "mrshapiro"
         },
         {
          "Date": "2019-01-14T00:00:00",
          "User": "mrshapiro"
         },
         {
          "Date": "2019-01-14T00:00:00",
          "User": "mrshapiro"
         },
         {
          "Date": "2019-01-14T00:00:00",
          "User": "mrshapiro"
         },
         {
          "Date": "2019-01-14T00:00:00",
          "User": "mrshapiro"
         },
         {
          "Date": "2019-01-15T00:00:00",
          "User": "mrshapiro"
         },
         {
          "Date": "2019-01-16T00:00:00",
          "User": "mrshapiro"
         },
         {
          "Date": "2019-01-17T00:00:00",
          "User": "mrshapiro"
         },
         {
          "Date": "2019-01-17T00:00:00",
          "User": "mrshapiro"
         },
         {
          "Date": "2019-01-18T00:00:00",
          "User": "mrshapiro"
         },
         {
          "Date": "2019-01-18T00:00:00",
          "User": "mrshapiro"
         },
         {
          "Date": "2019-01-21T00:00:00",
          "User": "mrshapiro"
         },
         {
          "Date": "2019-01-22T00:00:00",
          "User": "mrshapiro"
         },
         {
          "Date": "2019-01-23T00:00:00",
          "User": "mrshapiro"
         },
         {
          "Date": "2019-01-23T00:00:00",
          "User": "mrshapiro"
         },
         {
          "Date": "2019-01-24T00:00:00",
          "User": "mrshapiro"
         },
         {
          "Date": "2019-01-24T00:00:00",
          "User": "mrshapiro"
         },
         {
          "Date": "2019-01-24T00:00:00",
          "User": "mrshapiro"
         },
         {
          "Date": "2019-01-25T00:00:00",
          "User": "mrshapiro"
         },
         {
          "Date": "2019-01-25T00:00:00",
          "User": "mrshapiro"
         },
         {
          "Date": "2019-01-25T00:00:00",
          "User": "mrshapiro"
         },
         {
          "Date": "2019-01-25T00:00:00",
          "User": "mrshapiro"
         },
         {
          "Date": "2019-01-25T00:00:00",
          "User": "mrshapiro"
         },
         {
          "Date": "2019-01-26T00:00:00",
          "User": "mrshapiro"
         },
         {
          "Date": "2019-01-27T00:00:00",
          "User": "mrshapiro"
         },
         {
          "Date": "2019-01-28T00:00:00",
          "User": "mrshapiro"
         },
         {
          "Date": "2019-01-30T00:00:00",
          "User": "mrshapiro"
         },
         {
          "Date": "2019-01-31T00:00:00",
          "User": "mrshapiro"
         },
         {
          "Date": "2019-01-31T00:00:00",
          "User": "mrshapiro"
         },
         {
          "Date": "2019-01-31T00:00:00",
          "User": "mrshapiro"
         },
         {
          "Date": "2019-01-31T00:00:00",
          "User": "mrshapiro"
         },
         {
          "Date": "2019-01-31T00:00:00",
          "User": "mrshapiro"
         },
         {
          "Date": "2019-02-01T00:00:00",
          "User": "mrshapiro"
         },
         {
          "Date": "2019-02-01T00:00:00",
          "User": "mrshapiro"
         },
         {
          "Date": "2019-02-01T00:00:00",
          "User": "mrshapiro"
         },
         {
          "Date": "2019-02-01T00:00:00",
          "User": "mrshapiro"
         },
         {
          "Date": "2019-02-01T00:00:00",
          "User": "mrshapiro"
         },
         {
          "Date": "2019-02-02T00:00:00",
          "User": "mrshapiro"
         },
         {
          "Date": "2019-02-02T00:00:00",
          "User": "mrshapiro"
         },
         {
          "Date": "2019-02-04T00:00:00",
          "User": "mrshapiro"
         },
         {
          "Date": "2019-02-06T00:00:00",
          "User": "mrshapiro"
         },
         {
          "Date": "2019-02-06T00:00:00",
          "User": "mrshapiro"
         },
         {
          "Date": "2019-02-06T00:00:00",
          "User": "mrshapiro"
         },
         {
          "Date": "2019-02-06T00:00:00",
          "User": "mrshapiro"
         },
         {
          "Date": "2019-02-06T00:00:00",
          "User": "mrshapiro"
         },
         {
          "Date": "2019-02-11T00:00:00",
          "User": "mrshapiro"
         },
         {
          "Date": "2019-02-11T00:00:00",
          "User": "mrshapiro"
         },
         {
          "Date": "2019-02-12T00:00:00",
          "User": "mrshapiro"
         },
         {
          "Date": "2019-02-12T00:00:00",
          "User": "mrshapiro"
         },
         {
          "Date": "2019-02-13T00:00:00",
          "User": "mrshapiro"
         },
         {
          "Date": "2019-02-13T00:00:00",
          "User": "mrshapiro"
         },
         {
          "Date": "2019-02-14T00:00:00",
          "User": "mrshapiro"
         },
         {
          "Date": "2019-02-15T00:00:00",
          "User": "mrshapiro"
         },
         {
          "Date": "2019-02-15T00:00:00",
          "User": "mrshapiro"
         },
         {
          "Date": "2019-02-15T00:00:00",
          "User": "mrshapiro"
         },
         {
          "Date": "2019-02-18T00:00:00",
          "User": "mrshapiro"
         },
         {
          "Date": "2019-02-18T00:00:00",
          "User": "mrshapiro"
         },
         {
          "Date": "2019-02-18T00:00:00",
          "User": "mrshapiro"
         },
         {
          "Date": "2019-02-18T00:00:00",
          "User": "mrshapiro"
         },
         {
          "Date": "2019-02-19T00:00:00",
          "User": "mrshapiro"
         },
         {
          "Date": "2019-02-20T00:00:00",
          "User": "mrshapiro"
         },
         {
          "Date": "2019-02-21T00:00:00",
          "User": "mrshapiro"
         },
         {
          "Date": "2019-02-22T00:00:00",
          "User": "mrshapiro"
         },
         {
          "Date": "2019-02-22T00:00:00",
          "User": "mrshapiro"
         },
         {
          "Date": "2019-02-23T00:00:00",
          "User": "mrshapiro"
         },
         {
          "Date": "2019-02-23T00:00:00",
          "User": "mrshapiro"
         },
         {
          "Date": "2019-02-24T00:00:00",
          "User": "mrshapiro"
         },
         {
          "Date": "2019-02-25T00:00:00",
          "User": "mrshapiro"
         },
         {
          "Date": "2019-02-25T00:00:00",
          "User": "mrshapiro"
         },
         {
          "Date": "2019-02-25T00:00:00",
          "User": "mrshapiro"
         },
         {
          "Date": "2019-02-25T00:00:00",
          "User": "mrshapiro"
         },
         {
          "Date": "2019-02-25T00:00:00",
          "User": "mrshapiro"
         },
         {
          "Date": "2019-02-27T00:00:00",
          "User": "mrshapiro"
         },
         {
          "Date": "2019-02-27T00:00:00",
          "User": "mrshapiro"
         },
         {
          "Date": "2019-02-27T00:00:00",
          "User": "mrshapiro"
         },
         {
          "Date": "2019-02-27T00:00:00",
          "User": "mrshapiro"
         },
         {
          "Date": "2019-02-27T00:00:00",
          "User": "mrshapiro"
         },
         {
          "Date": "2019-02-27T00:00:00",
          "User": "mrshapiro"
         },
         {
          "Date": "2019-02-28T00:00:00",
          "User": "mrshapiro"
         },
         {
          "Date": "2019-02-28T00:00:00",
          "User": "mrshapiro"
         },
         {
          "Date": "2019-02-28T00:00:00",
          "User": "mrshapiro"
         },
         {
          "Date": "2019-02-28T00:00:00",
          "User": "mrshapiro"
         },
         {
          "Date": "2019-03-01T00:00:00",
          "User": "mrshapiro"
         },
         {
          "Date": "2019-03-01T00:00:00",
          "User": "mrshapiro"
         },
         {
          "Date": "2019-03-01T00:00:00",
          "User": "mrshapiro"
         },
         {
          "Date": "2019-03-04T00:00:00",
          "User": "mrshapiro"
         },
         {
          "Date": "2019-03-05T00:00:00",
          "User": "mrshapiro"
         },
         {
          "Date": "2019-03-05T00:00:00",
          "User": "mrshapiro"
         },
         {
          "Date": "2019-03-06T00:00:00",
          "User": "mrshapiro"
         },
         {
          "Date": "2019-03-06T00:00:00",
          "User": "mrshapiro"
         },
         {
          "Date": "2019-03-07T00:00:00",
          "User": "mrshapiro"
         },
         {
          "Date": "2019-03-07T00:00:00",
          "User": "mrshapiro"
         },
         {
          "Date": "2019-03-08T00:00:00",
          "User": "mrshapiro"
         },
         {
          "Date": "2019-03-08T00:00:00",
          "User": "mrshapiro"
         },
         {
          "Date": "2019-03-11T00:00:00",
          "User": "mrshapiro"
         },
         {
          "Date": "2019-03-11T00:00:00",
          "User": "mrshapiro"
         },
         {
          "Date": "2019-03-11T00:00:00",
          "User": "mrshapiro"
         },
         {
          "Date": "2019-03-12T00:00:00",
          "User": "mrshapiro"
         },
         {
          "Date": "2019-03-13T00:00:00",
          "User": "mrshapiro"
         },
         {
          "Date": "2019-03-14T00:00:00",
          "User": "mrshapiro"
         },
         {
          "Date": "2019-03-14T00:00:00",
          "User": "mrshapiro"
         },
         {
          "Date": "2019-03-14T00:00:00",
          "User": "mrshapiro"
         },
         {
          "Date": "2019-03-15T00:00:00",
          "User": "mrshapiro"
         },
         {
          "Date": "2019-03-15T00:00:00",
          "User": "mrshapiro"
         },
         {
          "Date": "2019-03-15T00:00:00",
          "User": "mrshapiro"
         },
         {
          "Date": "2019-03-17T00:00:00",
          "User": "mrshapiro"
         },
         {
          "Date": "2019-03-17T00:00:00",
          "User": "mrshapiro"
         },
         {
          "Date": "2019-03-18T00:00:00",
          "User": "mrshapiro"
         },
         {
          "Date": "2019-03-18T00:00:00",
          "User": "mrshapiro"
         },
         {
          "Date": "2019-03-19T00:00:00",
          "User": "mrshapiro"
         },
         {
          "Date": "2019-03-20T00:00:00",
          "User": "mrshapiro"
         },
         {
          "Date": "2019-03-20T00:00:00",
          "User": "mrshapiro"
         },
         {
          "Date": "2019-03-20T00:00:00",
          "User": "mrshapiro"
         },
         {
          "Date": "2019-03-20T00:00:00",
          "User": "mrshapiro"
         },
         {
          "Date": "2019-03-20T00:00:00",
          "User": "mrshapiro"
         },
         {
          "Date": "2019-03-21T00:00:00",
          "User": "mrshapiro"
         },
         {
          "Date": "2019-03-21T00:00:00",
          "User": "mrshapiro"
         },
         {
          "Date": "2019-03-21T00:00:00",
          "User": "mrshapiro"
         },
         {
          "Date": "2019-03-22T00:00:00",
          "User": "mrshapiro"
         },
         {
          "Date": "2019-03-23T00:00:00",
          "User": "mrshapiro"
         },
         {
          "Date": "2019-03-23T00:00:00",
          "User": "mrshapiro"
         },
         {
          "Date": "2019-03-23T00:00:00",
          "User": "mrshapiro"
         },
         {
          "Date": "2019-03-23T00:00:00",
          "User": "mrshapiro"
         },
         {
          "Date": "2019-03-23T00:00:00",
          "User": "mrshapiro"
         },
         {
          "Date": "2019-03-24T00:00:00",
          "User": "mrshapiro"
         },
         {
          "Date": "2019-03-24T00:00:00",
          "User": "mrshapiro"
         },
         {
          "Date": "2019-03-24T00:00:00",
          "User": "mrshapiro"
         },
         {
          "Date": "2019-03-24T00:00:00",
          "User": "mrshapiro"
         },
         {
          "Date": "2019-03-25T00:00:00",
          "User": "mrshapiro"
         },
         {
          "Date": "2019-03-25T00:00:00",
          "User": "mrshapiro"
         },
         {
          "Date": "2019-03-25T00:00:00",
          "User": "mrshapiro"
         },
         {
          "Date": "2019-03-26T00:00:00",
          "User": "mrshapiro"
         },
         {
          "Date": "2019-03-26T00:00:00",
          "User": "mrshapiro"
         },
         {
          "Date": "2019-03-26T00:00:00",
          "User": "mrshapiro"
         },
         {
          "Date": "2019-03-27T00:00:00",
          "User": "mrshapiro"
         },
         {
          "Date": "2019-03-28T00:00:00",
          "User": "mrshapiro"
         },
         {
          "Date": "2019-03-29T00:00:00",
          "User": "mrshapiro"
         },
         {
          "Date": "2019-03-29T00:00:00",
          "User": "mrshapiro"
         },
         {
          "Date": "2019-03-31T00:00:00",
          "User": "mrshapiro"
         },
         {
          "Date": "2019-04-02T00:00:00",
          "User": "mrshapiro"
         },
         {
          "Date": "2019-04-05T00:00:00",
          "User": "mrshapiro"
         },
         {
          "Date": "2019-04-07T00:00:00",
          "User": "mrshapiro"
         },
         {
          "Date": "2019-04-08T00:00:00",
          "User": "mrshapiro"
         },
         {
          "Date": "2019-04-08T00:00:00",
          "User": "mrshapiro"
         },
         {
          "Date": "2019-04-08T00:00:00",
          "User": "mrshapiro"
         },
         {
          "Date": "2019-04-08T00:00:00",
          "User": "mrshapiro"
         },
         {
          "Date": "2019-04-08T00:00:00",
          "User": "mrshapiro"
         },
         {
          "Date": "2019-01-20T00:00:00",
          "User": "jlklassen"
         },
         {
          "Date": "2019-01-20T00:00:00",
          "User": "jlklassen"
         },
         {
          "Date": "2019-01-21T00:00:00",
          "User": "jlklassen"
         },
         {
          "Date": "2019-01-22T00:00:00",
          "User": "jlklassen"
         },
         {
          "Date": "2019-01-22T00:00:00",
          "User": "jlklassen"
         },
         {
          "Date": "2019-01-22T00:00:00",
          "User": "jlklassen"
         },
         {
          "Date": "2019-01-23T00:00:00",
          "User": "jlklassen"
         },
         {
          "Date": "2019-01-23T00:00:00",
          "User": "jlklassen"
         },
         {
          "Date": "2019-01-23T00:00:00",
          "User": "jlklassen"
         },
         {
          "Date": "2019-01-23T00:00:00",
          "User": "jlklassen"
         },
         {
          "Date": "2019-01-28T00:00:00",
          "User": "jlklassen"
         },
         {
          "Date": "2019-01-30T00:00:00",
          "User": "jlklassen"
         },
         {
          "Date": "2019-01-30T00:00:00",
          "User": "jlklassen"
         },
         {
          "Date": "2019-01-30T00:00:00",
          "User": "jlklassen"
         },
         {
          "Date": "2019-02-04T00:00:00",
          "User": "jlklassen"
         },
         {
          "Date": "2019-02-06T00:00:00",
          "User": "jlklassen"
         },
         {
          "Date": "2019-02-09T00:00:00",
          "User": "jlklassen"
         },
         {
          "Date": "2019-02-14T00:00:00",
          "User": "jlklassen"
         },
         {
          "Date": "2019-02-17T00:00:00",
          "User": "jlklassen"
         },
         {
          "Date": "2019-02-18T00:00:00",
          "User": "jlklassen"
         },
         {
          "Date": "2019-02-18T00:00:00",
          "User": "jlklassen"
         },
         {
          "Date": "2019-02-19T00:00:00",
          "User": "jlklassen"
         },
         {
          "Date": "2019-02-20T00:00:00",
          "User": "jlklassen"
         },
         {
          "Date": "2019-02-20T00:00:00",
          "User": "jlklassen"
         },
         {
          "Date": "2019-02-20T00:00:00",
          "User": "jlklassen"
         },
         {
          "Date": "2019-02-22T00:00:00",
          "User": "jlklassen"
         },
         {
          "Date": "2019-02-22T00:00:00",
          "User": "jlklassen"
         },
         {
          "Date": "2019-02-23T00:00:00",
          "User": "jlklassen"
         },
         {
          "Date": "2019-02-27T00:00:00",
          "User": "jlklassen"
         },
         {
          "Date": "2019-03-01T00:00:00",
          "User": "jlklassen"
         },
         {
          "Date": "2019-03-01T00:00:00",
          "User": "jlklassen"
         },
         {
          "Date": "2019-03-03T00:00:00",
          "User": "jlklassen"
         },
         {
          "Date": "2019-03-06T00:00:00",
          "User": "jlklassen"
         },
         {
          "Date": "2019-03-08T00:00:00",
          "User": "jlklassen"
         },
         {
          "Date": "2019-03-08T00:00:00",
          "User": "jlklassen"
         },
         {
          "Date": "2019-03-11T00:00:00",
          "User": "jlklassen"
         },
         {
          "Date": "2019-03-11T00:00:00",
          "User": "jlklassen"
         },
         {
          "Date": "2019-03-11T00:00:00",
          "User": "jlklassen"
         },
         {
          "Date": "2019-03-12T00:00:00",
          "User": "jlklassen"
         },
         {
          "Date": "2019-03-12T00:00:00",
          "User": "jlklassen"
         },
         {
          "Date": "2019-03-13T00:00:00",
          "User": "jlklassen"
         },
         {
          "Date": "2019-03-13T00:00:00",
          "User": "jlklassen"
         },
         {
          "Date": "2019-03-14T00:00:00",
          "User": "jlklassen"
         },
         {
          "Date": "2019-03-15T00:00:00",
          "User": "jlklassen"
         },
         {
          "Date": "2019-03-15T00:00:00",
          "User": "jlklassen"
         },
         {
          "Date": "2019-03-18T00:00:00",
          "User": "jlklassen"
         },
         {
          "Date": "2019-03-20T00:00:00",
          "User": "jlklassen"
         },
         {
          "Date": "2019-01-15T00:00:00",
          "User": "ergaylord"
         },
         {
          "Date": "2019-01-25T00:00:00",
          "User": "ergaylord"
         },
         {
          "Date": "2019-01-28T00:00:00",
          "User": "ergaylord"
         },
         {
          "Date": "2019-01-29T00:00:00",
          "User": "ergaylord"
         },
         {
          "Date": "2019-01-31T00:00:00",
          "User": "ergaylord"
         },
         {
          "Date": "2019-02-01T00:00:00",
          "User": "ergaylord"
         },
         {
          "Date": "2019-02-04T00:00:00",
          "User": "ergaylord"
         },
         {
          "Date": "2019-02-08T00:00:00",
          "User": "ergaylord"
         },
         {
          "Date": "2019-02-18T00:00:00",
          "User": "ergaylord"
         },
         {
          "Date": "2019-02-19T00:00:00",
          "User": "ergaylord"
         },
         {
          "Date": "2019-02-21T00:00:00",
          "User": "ergaylord"
         },
         {
          "Date": "2019-02-22T00:00:00",
          "User": "ergaylord"
         },
         {
          "Date": "2019-02-25T00:00:00",
          "User": "ergaylord"
         },
         {
          "Date": "2019-02-26T00:00:00",
          "User": "ergaylord"
         },
         {
          "Date": "2019-02-28T00:00:00",
          "User": "ergaylord"
         },
         {
          "Date": "2019-03-04T00:00:00",
          "User": "ergaylord"
         },
         {
          "Date": "2019-03-05T00:00:00",
          "User": "ergaylord"
         },
         {
          "Date": "2019-03-07T00:00:00",
          "User": "ergaylord"
         },
         {
          "Date": "2019-03-08T00:00:00",
          "User": "ergaylord"
         },
         {
          "Date": "2019-03-11T00:00:00",
          "User": "ergaylord"
         },
         {
          "Date": "2019-03-12T00:00:00",
          "User": "ergaylord"
         },
         {
          "Date": "2019-03-14T00:00:00",
          "User": "ergaylord"
         },
         {
          "Date": "2019-03-15T00:00:00",
          "User": "ergaylord"
         },
         {
          "Date": "2019-03-18T00:00:00",
          "User": "ergaylord"
         },
         {
          "Date": "2019-03-19T00:00:00",
          "User": "ergaylord"
         },
         {
          "Date": "2019-03-19T00:00:00",
          "User": "ergaylord"
         },
         {
          "Date": "2019-03-19T00:00:00",
          "User": "ergaylord"
         },
         {
          "Date": "2019-03-20T00:00:00",
          "User": "ergaylord"
         },
         {
          "Date": "2019-03-21T00:00:00",
          "User": "ergaylord"
         },
         {
          "Date": "2019-03-22T00:00:00",
          "User": "ergaylord"
         },
         {
          "Date": "2019-03-25T00:00:00",
          "User": "ergaylord"
         },
         {
          "Date": "2019-03-26T00:00:00",
          "User": "ergaylord"
         },
         {
          "Date": "2019-03-28T00:00:00",
          "User": "ergaylord"
         },
         {
          "Date": "2019-03-29T00:00:00",
          "User": "ergaylord"
         },
         {
          "Date": "2019-04-01T00:00:00",
          "User": "ergaylord"
         },
         {
          "Date": "2019-04-02T00:00:00",
          "User": "ergaylord"
         },
         {
          "Date": "2019-04-04T00:00:00",
          "User": "ergaylord"
         },
         {
          "Date": "2019-04-08T00:00:00",
          "User": "ergaylord"
         },
         {
          "Date": "2019-04-09T00:00:00",
          "User": "ergaylord"
         },
         {
          "Date": "2019-02-06T00:00:00",
          "User": "samcpherson"
         },
         {
          "Date": "2019-02-08T00:00:00",
          "User": "samcpherson"
         },
         {
          "Date": "2019-03-09T00:00:00",
          "User": "samcpherson"
         },
         {
          "Date": "2019-01-08T00:00:00",
          "User": "rprieger"
         },
         {
          "Date": "2019-01-10T00:00:00",
          "User": "rprieger"
         },
         {
          "Date": "2019-02-02T00:00:00",
          "User": "rprieger"
         },
         {
          "Date": "2019-02-06T00:00:00",
          "User": "rprieger"
         },
         {
          "Date": "2019-02-19T00:00:00",
          "User": "rprieger"
         },
         {
          "Date": "2019-03-05T00:00:00",
          "User": "rprieger"
         },
         {
          "Date": "2019-03-05T00:00:00",
          "User": "rprieger"
         },
         {
          "Date": "2019-03-06T00:00:00",
          "User": "rprieger"
         },
         {
          "Date": "2019-03-18T00:00:00",
          "User": "rprieger"
         },
         {
          "Date": "2019-03-19T00:00:00",
          "User": "rprieger"
         },
         {
          "Date": "2019-02-07T00:00:00",
          "User": "kupper"
         },
         {
          "Date": "2019-01-08T00:00:00",
          "User": "febjorseth"
         },
         {
          "Date": "2019-01-08T00:00:00",
          "User": "febjorseth"
         },
         {
          "Date": "2019-02-28T00:00:00",
          "User": "febjorseth"
         },
         {
          "Date": "2019-03-12T00:00:00",
          "User": "ffm19"
         },
         {
          "Date": "2019-03-13T00:00:00",
          "User": "ffm19"
         },
         {
          "Date": "2019-03-18T00:00:00",
          "User": "ffm19"
         },
         {
          "Date": "2019-03-19T00:00:00",
          "User": "ffm19"
         },
         {
          "Date": "2019-03-25T00:00:00",
          "User": "ffm19"
         },
         {
          "Date": "2019-02-08T00:00:00",
          "User": "fha11"
         },
         {
          "Date": "2019-02-15T00:00:00",
          "User": "fha11"
         },
         {
          "Date": "2019-02-22T00:00:00",
          "User": "FHA11"
         },
         {
          "Date": "2019-02-26T00:00:00",
          "User": "fha11"
         },
         {
          "Date": "2019-03-04T00:00:00",
          "User": "fha11"
         },
         {
          "Date": "2019-03-08T00:00:00",
          "User": "fha11"
         },
         {
          "Date": "2019-03-08T00:00:00",
          "User": "fha11"
         },
         {
          "Date": "2019-03-11T00:00:00",
          "User": "fha11"
         },
         {
          "Date": "2019-03-22T00:00:00",
          "User": "fha11"
         },
         {
          "Date": "2019-03-26T00:00:00",
          "User": "bcpelletier"
         },
         {
          "Date": "2019-03-27T00:00:00",
          "User": "bcpelletier"
         },
         {
          "Date": "2019-03-28T00:00:00",
          "User": "bcpelletier"
         },
         {
          "Date": "2019-03-29T00:00:00",
          "User": "bcpelletier"
         },
         {
          "Date": "2019-04-02T00:00:00",
          "User": "bcpelletier"
         },
         {
          "Date": "2019-04-02T00:00:00",
          "User": "bcpelletier"
         },
         {
          "Date": "2019-04-02T00:00:00",
          "User": "bcpelletier"
         },
         {
          "Date": "2019-04-02T00:00:00",
          "User": "bcpelletier"
         },
         {
          "Date": "2019-04-02T00:00:00",
          "User": "bcpelletier"
         },
         {
          "Date": "2019-04-02T00:00:00",
          "User": "bcpelletier"
         },
         {
          "Date": "2019-04-02T00:00:00",
          "User": "bcpelletier"
         },
         {
          "Date": "2019-04-02T00:00:00",
          "User": "bcpelletier"
         },
         {
          "Date": "2019-04-02T00:00:00",
          "User": "bcpelletier"
         },
         {
          "Date": "2019-03-26T00:00:00",
          "User": "dhschauer"
         },
         {
          "Date": "2019-03-26T00:00:00",
          "User": "dhschauer"
         },
         {
          "Date": "2019-03-27T00:00:00",
          "User": "dhschauer"
         },
         {
          "Date": "2019-03-28T00:00:00",
          "User": "dhschauer"
         },
         {
          "Date": "2019-03-28T00:00:00",
          "User": "dhschauer"
         },
         {
          "Date": "2019-04-03T00:00:00",
          "User": "dhschauer"
         },
         {
          "Date": "2019-04-04T00:00:00",
          "User": "dhschauer"
         },
         {
          "Date": "2019-01-22T00:00:00",
          "User": "lvfox"
         },
         {
          "Date": "2019-02-01T00:00:00",
          "User": "lvfox"
         },
         {
          "Date": "2019-02-05T00:00:00",
          "User": "lvfox"
         },
         {
          "Date": "2019-02-06T00:00:00",
          "User": "lvfox"
         },
         {
          "Date": "2019-02-06T00:00:00",
          "User": "lvfox"
         },
         {
          "Date": "2019-02-08T00:00:00",
          "User": "lvfox"
         },
         {
          "Date": "2019-02-08T00:00:00",
          "User": "lvfox"
         },
         {
          "Date": "2019-02-20T00:00:00",
          "User": "lvfox"
         },
         {
          "Date": "2019-02-20T00:00:00",
          "User": "lvfox"
         },
         {
          "Date": "2019-02-20T00:00:00",
          "User": "lvfox"
         },
         {
          "Date": "2019-02-22T00:00:00",
          "User": "lvfox"
         },
         {
          "Date": "2019-04-02T00:00:00",
          "User": "lvfox"
         },
         {
          "Date": "2019-04-09T00:00:00",
          "User": "lvfox"
         },
         {
          "Date": "2019-01-31T00:00:00",
          "User": "mkschimke"
         },
         {
          "Date": "2019-02-23T00:00:00",
          "User": "mkschimke"
         },
         {
          "Date": "2019-04-07T00:00:00",
          "User": "mkschimke"
         },
         {
          "Date": "2019-04-02T00:00:00",
          "User": "smgallegos"
         },
         {
          "Date": "2019-01-08T00:00:00",
          "User": "shein"
         },
         {
          "Date": "2019-01-09T00:00:00",
          "User": "shein"
         },
         {
          "Date": "2019-01-10T00:00:00",
          "User": "shein"
         },
         {
          "Date": "2019-01-14T00:00:00",
          "User": "shein"
         },
         {
          "Date": "2019-01-15T00:00:00",
          "User": "shein"
         },
         {
          "Date": "2019-01-16T00:00:00",
          "User": "shein"
         },
         {
          "Date": "2019-01-17T00:00:00",
          "User": "shein"
         },
         {
          "Date": "2019-01-28T00:00:00",
          "User": "shein"
         },
         {
          "Date": "2019-01-30T00:00:00",
          "User": "shein"
         },
         {
          "Date": "2019-02-07T00:00:00",
          "User": "shein"
         },
         {
          "Date": "2019-02-13T00:00:00",
          "User": "shein"
         },
         {
          "Date": "2019-02-14T00:00:00",
          "User": "shein"
         },
         {
          "Date": "2019-02-18T00:00:00",
          "User": "shein"
         },
         {
          "Date": "2019-02-18T00:00:00",
          "User": "shein"
         },
         {
          "Date": "2019-02-27T00:00:00",
          "User": "shein"
         },
         {
          "Date": "2019-02-28T00:00:00",
          "User": "shein"
         },
         {
          "Date": "2019-03-04T00:00:00",
          "User": "shein"
         },
         {
          "Date": "2019-03-06T00:00:00",
          "User": "shein"
         },
         {
          "Date": "2019-03-07T00:00:00",
          "User": "shein"
         },
         {
          "Date": "2019-03-18T00:00:00",
          "User": "shein"
         },
         {
          "Date": "2019-03-21T00:00:00",
          "User": "shein"
         },
         {
          "Date": "2019-03-25T00:00:00",
          "User": "shein"
         },
         {
          "Date": "2019-03-27T00:00:00",
          "User": "shein"
         },
         {
          "Date": "2019-03-27T00:00:00",
          "User": "shein"
         },
         {
          "Date": "2019-04-08T00:00:00",
          "User": "shein"
         },
         {
          "Date": "2019-04-08T00:00:00",
          "User": "shein"
         },
         {
          "Date": "2019-01-11T00:00:00",
          "User": "fha10"
         },
         {
          "Date": "2019-02-04T00:00:00",
          "User": "fha10"
         },
         {
          "Date": "2019-02-08T00:00:00",
          "User": "fha10"
         },
         {
          "Date": "2019-02-15T00:00:00",
          "User": "fha10"
         },
         {
          "Date": "2019-02-22T00:00:00",
          "User": "FHA10"
         },
         {
          "Date": "2019-03-04T00:00:00",
          "User": "fha10"
         },
         {
          "Date": "2019-03-08T00:00:00",
          "User": "fha10"
         },
         {
          "Date": "2019-03-11T00:00:00",
          "User": "fha10"
         },
         {
          "Date": "2019-03-22T00:00:00",
          "User": "fha10"
         },
         {
          "Date": "2019-04-08T00:00:00",
          "User": "fha10"
         },
         {
          "Date": "2019-03-19T00:00:00",
          "User": "ffm18"
         },
         {
          "Date": "2019-04-03T00:00:00",
          "User": "hjsirmans"
         },
         {
          "Date": "2019-04-03T00:00:00",
          "User": "hjsirmans"
         },
         {
          "Date": "2019-04-04T00:00:00",
          "User": "hjsirmans"
         },
         {
          "Date": "2019-03-14T00:00:00",
          "User": "ssandhu"
         },
         {
          "Date": "2019-03-26T00:00:00",
          "User": "vdpotts"
         },
         {
          "Date": "2019-03-26T00:00:00",
          "User": "vdpotts"
         },
         {
          "Date": "2019-02-14T00:00:00",
          "User": "fha14"
         },
         {
          "Date": "2019-03-01T00:00:00",
          "User": "fha14"
         },
         {
          "Date": "2019-03-01T00:00:00",
          "User": "fha14"
         },
         {
          "Date": "2019-03-18T00:00:00",
          "User": "fha14"
         },
         {
          "Date": "2019-03-21T00:00:00",
          "User": "fha14"
         },
         {
          "Date": "2019-04-05T00:00:00",
          "User": "fha14"
         },
         {
          "Date": "2019-04-09T00:00:00",
          "User": "fha14"
         },
         {
          "Date": "2019-04-09T00:00:00",
          "User": "fha14"
         },
         {
          "Date": "2019-01-09T00:00:00",
          "User": "hcviereck"
         },
         {
          "Date": "2019-01-31T00:00:00",
          "User": "hcviereck"
         },
         {
          "Date": "2019-02-13T00:00:00",
          "User": "hcviereck"
         },
         {
          "Date": "2019-04-09T00:00:00",
          "User": "kadahmer"
         },
         {
          "Date": "2019-04-09T00:00:00",
          "User": "kadahmer"
         },
         {
          "Date": "2019-02-09T00:00:00",
          "User": "cfgambs"
         },
         {
          "Date": "2019-02-12T00:00:00",
          "User": "cfgambs"
         },
         {
          "Date": "2019-02-25T00:00:00",
          "User": "cfgambs"
         },
         {
          "Date": "2019-02-26T00:00:00",
          "User": "cfgambs"
         },
         {
          "Date": "2019-02-28T00:00:00",
          "User": "cfgambs"
         },
         {
          "Date": "2019-03-07T00:00:00",
          "User": "cfgambs"
         },
         {
          "Date": "2019-03-11T00:00:00",
          "User": "cfgambs"
         },
         {
          "Date": "2019-03-12T00:00:00",
          "User": "cfgambs"
         },
         {
          "Date": "2019-03-13T00:00:00",
          "User": "cfgambs"
         },
         {
          "Date": "2019-03-14T00:00:00",
          "User": "cfgambs"
         },
         {
          "Date": "2019-03-18T00:00:00",
          "User": "cfgambs"
         },
         {
          "Date": "2019-03-19T00:00:00",
          "User": "cfgambs"
         },
         {
          "Date": "2019-03-20T00:00:00",
          "User": "cfgambs"
         },
         {
          "Date": "2019-03-21T00:00:00",
          "User": "cfgambs"
         },
         {
          "Date": "2019-03-21T00:00:00",
          "User": "cfgambs"
         },
         {
          "Date": "2019-03-21T00:00:00",
          "User": "cfgambs"
         },
         {
          "Date": "2019-03-25T00:00:00",
          "User": "cfgambs"
         },
         {
          "Date": "2019-03-26T00:00:00",
          "User": "cfgambs"
         },
         {
          "Date": "2019-03-28T00:00:00",
          "User": "cfgambs"
         },
         {
          "Date": "2019-04-02T00:00:00",
          "User": "cfgambs"
         },
         {
          "Date": "2019-04-03T00:00:00",
          "User": "cfgambs"
         },
         {
          "Date": "2019-04-04T00:00:00",
          "User": "cfgambs"
         },
         {
          "Date": "2019-04-08T00:00:00",
          "User": "cfgambs"
         },
         {
          "Date": "2019-04-09T00:00:00",
          "User": "cfgambs"
         },
         {
          "Date": "2019-01-22T00:00:00",
          "User": "arsnyder"
         },
         {
          "Date": "2019-03-11T00:00:00",
          "User": "arsnyder"
         },
         {
          "Date": "2019-03-11T00:00:00",
          "User": "arsnyder"
         },
         {
          "Date": "2019-03-11T00:00:00",
          "User": "arsnyder"
         },
         {
          "Date": "2019-03-11T00:00:00",
          "User": "arsnyder"
         },
         {
          "Date": "2019-03-11T00:00:00",
          "User": "arsnyder"
         },
         {
          "Date": "2019-03-11T00:00:00",
          "User": "arsnyder"
         },
         {
          "Date": "2019-03-12T00:00:00",
          "User": "arsnyder"
         },
         {
          "Date": "2019-03-12T00:00:00",
          "User": "arsnyder"
         },
         {
          "Date": "2019-03-13T00:00:00",
          "User": "arsnyder"
         },
         {
          "Date": "2019-03-14T00:00:00",
          "User": "arsnyder"
         },
         {
          "Date": "2019-03-17T00:00:00",
          "User": "arsnyder"
         },
         {
          "Date": "2019-03-17T00:00:00",
          "User": "arsnyder"
         },
         {
          "Date": "2019-03-19T00:00:00",
          "User": "arsnyder"
         },
         {
          "Date": "2019-03-19T00:00:00",
          "User": "arsnyder"
         },
         {
          "Date": "2019-03-19T00:00:00",
          "User": "arsnyder"
         },
         {
          "Date": "2019-03-20T00:00:00",
          "User": "arsnyder"
         },
         {
          "Date": "2019-03-21T00:00:00",
          "User": "arsnyder"
         },
         {
          "Date": "2019-03-25T00:00:00",
          "User": "arsnyder"
         },
         {
          "Date": "2019-03-25T00:00:00",
          "User": "arsnyder"
         },
         {
          "Date": "2019-03-26T00:00:00",
          "User": "arsnyder"
         },
         {
          "Date": "2019-03-27T00:00:00",
          "User": "arsnyder"
         },
         {
          "Date": "2019-03-28T00:00:00",
          "User": "arsnyder"
         },
         {
          "Date": "2019-03-29T00:00:00",
          "User": "arsnyder"
         },
         {
          "Date": "2019-03-30T00:00:00",
          "User": "arsnyder"
         },
         {
          "Date": "2019-04-01T00:00:00",
          "User": "arsnyder"
         },
         {
          "Date": "2019-04-03T00:00:00",
          "User": "arsnyder"
         },
         {
          "Date": "2019-04-04T00:00:00",
          "User": "arsnyder"
         },
         {
          "Date": "2019-04-05T00:00:00",
          "User": "arsnyder"
         },
         {
          "Date": "2019-04-08T00:00:00",
          "User": "arsnyder"
         },
         {
          "Date": "2019-04-08T00:00:00",
          "User": "arsnyder"
         },
         {
          "Date": "2019-04-08T00:00:00",
          "User": "arsnyder"
         },
         {
          "Date": "2019-04-08T00:00:00",
          "User": "arsnyder"
         },
         {
          "Date": "2019-02-21T00:00:00",
          "User": "amcdevitt"
         },
         {
          "Date": "2019-02-21T00:00:00",
          "User": "amcdevitt"
         },
         {
          "Date": "2019-03-20T00:00:00",
          "User": "cproche"
         },
         {
          "Date": "2019-03-01T00:00:00",
          "User": "fha15"
         },
         {
          "Date": "2019-03-21T00:00:00",
          "User": "fha15"
         },
         {
          "Date": "2019-04-05T00:00:00",
          "User": "fha15"
         },
         {
          "Date": "2019-04-09T00:00:00",
          "User": "fha15"
         },
         {
          "Date": "2019-03-13T00:00:00",
          "User": "ffm21"
         },
         {
          "Date": "2019-01-23T00:00:00",
          "User": "mgboyd"
         },
         {
          "Date": "2019-01-25T00:00:00",
          "User": "mgboyd"
         },
         {
          "Date": "2019-01-25T00:00:00",
          "User": "mgboyd"
         },
         {
          "Date": "2019-01-25T00:00:00",
          "User": "mgboyd"
         },
         {
          "Date": "2019-01-28T00:00:00",
          "User": "mgboyd"
         },
         {
          "Date": "2019-01-28T00:00:00",
          "User": "mgboyd"
         },
         {
          "Date": "2019-01-28T00:00:00",
          "User": "mgboyd"
         },
         {
          "Date": "2019-01-29T00:00:00",
          "User": "mgboyd"
         },
         {
          "Date": "2019-02-13T00:00:00",
          "User": "mgboyd"
         },
         {
          "Date": "2019-02-22T00:00:00",
          "User": "mgboyd"
         },
         {
          "Date": "2019-04-02T00:00:00",
          "User": "blschroyer"
         },
         {
          "Date": "2019-01-06T00:00:00",
          "User": "kdokeefe"
         },
         {
          "Date": "2019-01-06T00:00:00",
          "User": "kdokeefe"
         },
         {
          "Date": "2019-01-07T00:00:00",
          "User": "kdokeefe"
         },
         {
          "Date": "2019-01-08T00:00:00",
          "User": "kdokeefe"
         },
         {
          "Date": "2019-01-08T00:00:00",
          "User": "kdokeefe"
         },
         {
          "Date": "2019-01-09T00:00:00",
          "User": "kdokeefe"
         },
         {
          "Date": "2019-01-09T00:00:00",
          "User": "kdokeefe"
         },
         {
          "Date": "2019-01-10T00:00:00",
          "User": "kdokeefe"
         },
         {
          "Date": "2019-01-13T00:00:00",
          "User": "kdokeefe"
         },
         {
          "Date": "2019-01-14T00:00:00",
          "User": "kdokeefe"
         },
         {
          "Date": "2019-01-14T00:00:00",
          "User": "kdokeefe"
         },
         {
          "Date": "2019-01-15T00:00:00",
          "User": "kdokeefe"
         },
         {
          "Date": "2019-01-17T00:00:00",
          "User": "kdokeefe"
         },
         {
          "Date": "2019-01-19T00:00:00",
          "User": "kdokeefe"
         },
         {
          "Date": "2019-01-20T00:00:00",
          "User": "kdokeefe"
         },
         {
          "Date": "2019-01-21T00:00:00",
          "User": "kdokeefe"
         },
         {
          "Date": "2019-01-21T00:00:00",
          "User": "kdokeefe"
         },
         {
          "Date": "2019-01-22T00:00:00",
          "User": "kdokeefe"
         },
         {
          "Date": "2019-01-23T00:00:00",
          "User": "kdokeefe"
         },
         {
          "Date": "2019-01-24T00:00:00",
          "User": "kdokeefe"
         },
         {
          "Date": "2019-01-24T00:00:00",
          "User": "kdokeefe"
         },
         {
          "Date": "2019-01-25T00:00:00",
          "User": "kdokeefe"
         },
         {
          "Date": "2019-01-25T00:00:00",
          "User": "kdokeefe"
         },
         {
          "Date": "2019-01-25T00:00:00",
          "User": "kdokeefe"
         },
         {
          "Date": "2019-01-27T00:00:00",
          "User": "kdokeefe"
         },
         {
          "Date": "2019-01-27T00:00:00",
          "User": "kdokeefe"
         },
         {
          "Date": "2019-01-28T00:00:00",
          "User": "kdokeefe"
         },
         {
          "Date": "2019-01-30T00:00:00",
          "User": "kdokeefe"
         },
         {
          "Date": "2019-01-31T00:00:00",
          "User": "kdokeefe"
         },
         {
          "Date": "2019-02-02T00:00:00",
          "User": "kdokeefe"
         },
         {
          "Date": "2019-02-02T00:00:00",
          "User": "kdokeefe"
         },
         {
          "Date": "2019-02-02T00:00:00",
          "User": "kdokeefe"
         },
         {
          "Date": "2019-02-03T00:00:00",
          "User": "kdokeefe"
         },
         {
          "Date": "2019-02-04T00:00:00",
          "User": "kdokeefe"
         },
         {
          "Date": "2019-02-04T00:00:00",
          "User": "kdokeefe"
         },
         {
          "Date": "2019-02-05T00:00:00",
          "User": "kdokeefe"
         },
         {
          "Date": "2019-02-06T00:00:00",
          "User": "kdokeefe"
         },
         {
          "Date": "2019-02-07T00:00:00",
          "User": "kdokeefe"
         },
         {
          "Date": "2019-02-07T00:00:00",
          "User": "kdokeefe"
         },
         {
          "Date": "2019-02-10T00:00:00",
          "User": "kdokeefe"
         },
         {
          "Date": "2019-02-10T00:00:00",
          "User": "kdokeefe"
         },
         {
          "Date": "2019-02-10T00:00:00",
          "User": "kdokeefe"
         },
         {
          "Date": "2019-02-10T00:00:00",
          "User": "kdokeefe"
         },
         {
          "Date": "2019-02-11T00:00:00",
          "User": "kdokeefe"
         },
         {
          "Date": "2019-02-11T00:00:00",
          "User": "kdokeefe"
         },
         {
          "Date": "2019-02-12T00:00:00",
          "User": "kdokeefe"
         },
         {
          "Date": "2019-02-12T00:00:00",
          "User": "kdokeefe"
         },
         {
          "Date": "2019-02-13T00:00:00",
          "User": "kdokeefe"
         },
         {
          "Date": "2019-02-13T00:00:00",
          "User": "kdokeefe"
         },
         {
          "Date": "2019-02-14T00:00:00",
          "User": "kdokeefe"
         },
         {
          "Date": "2019-02-18T00:00:00",
          "User": "kdokeefe"
         },
         {
          "Date": "2019-02-19T00:00:00",
          "User": "kdokeefe"
         },
         {
          "Date": "2019-02-20T00:00:00",
          "User": "kdokeefe"
         },
         {
          "Date": "2019-02-20T00:00:00",
          "User": "kdokeefe"
         },
         {
          "Date": "2019-02-20T00:00:00",
          "User": "kdokeefe"
         },
         {
          "Date": "2019-02-20T00:00:00",
          "User": "kdokeefe"
         },
         {
          "Date": "2019-02-25T00:00:00",
          "User": "kdokeefe"
         },
         {
          "Date": "2019-02-25T00:00:00",
          "User": "kdokeefe"
         },
         {
          "Date": "2019-02-27T00:00:00",
          "User": "kdokeefe"
         },
         {
          "Date": "2019-03-03T00:00:00",
          "User": "kdokeefe"
         },
         {
          "Date": "2019-03-04T00:00:00",
          "User": "kdokeefe"
         },
         {
          "Date": "2019-03-04T00:00:00",
          "User": "kdokeefe"
         },
         {
          "Date": "2019-03-05T00:00:00",
          "User": "kdokeefe"
         },
         {
          "Date": "2019-03-06T00:00:00",
          "User": "kdokeefe"
         },
         {
          "Date": "2019-03-06T00:00:00",
          "User": "kdokeefe"
         },
         {
          "Date": "2019-03-08T00:00:00",
          "User": "kdokeefe"
         },
         {
          "Date": "2019-03-08T00:00:00",
          "User": "kdokeefe"
         },
         {
          "Date": "2019-03-08T00:00:00",
          "User": "kdokeefe"
         },
         {
          "Date": "2019-03-11T00:00:00",
          "User": "kdokeefe"
         },
         {
          "Date": "2019-03-12T00:00:00",
          "User": "kdokeefe"
         },
         {
          "Date": "2019-03-12T00:00:00",
          "User": "kdokeefe"
         },
         {
          "Date": "2019-03-12T00:00:00",
          "User": "kdokeefe"
         },
         {
          "Date": "2019-03-13T00:00:00",
          "User": "kdokeefe"
         },
         {
          "Date": "2019-03-13T00:00:00",
          "User": "kdokeefe"
         },
         {
          "Date": "2019-03-14T00:00:00",
          "User": "kdokeefe"
         },
         {
          "Date": "2019-03-16T00:00:00",
          "User": "kdokeefe"
         },
         {
          "Date": "2019-03-17T00:00:00",
          "User": "kdokeefe"
         },
         {
          "Date": "2019-03-17T00:00:00",
          "User": "kdokeefe"
         },
         {
          "Date": "2019-03-18T00:00:00",
          "User": "kdokeefe"
         },
         {
          "Date": "2019-03-18T00:00:00",
          "User": "kdokeefe"
         },
         {
          "Date": "2019-03-18T00:00:00",
          "User": "kdokeefe"
         },
         {
          "Date": "2019-03-19T00:00:00",
          "User": "kdokeefe"
         },
         {
          "Date": "2019-03-20T00:00:00",
          "User": "kdokeefe"
         },
         {
          "Date": "2019-03-20T00:00:00",
          "User": "kdokeefe"
         },
         {
          "Date": "2019-03-21T00:00:00",
          "User": "kdokeefe"
         },
         {
          "Date": "2019-03-21T00:00:00",
          "User": "kdokeefe"
         },
         {
          "Date": "2019-03-21T00:00:00",
          "User": "kdokeefe"
         },
         {
          "Date": "2019-03-23T00:00:00",
          "User": "kdokeefe"
         },
         {
          "Date": "2019-03-23T00:00:00",
          "User": "kdokeefe"
         },
         {
          "Date": "2019-03-24T00:00:00",
          "User": "kdokeefe"
         },
         {
          "Date": "2019-03-24T00:00:00",
          "User": "kdokeefe"
         },
         {
          "Date": "2019-03-25T00:00:00",
          "User": "kdokeefe"
         },
         {
          "Date": "2019-03-26T00:00:00",
          "User": "kdokeefe"
         },
         {
          "Date": "2019-03-26T00:00:00",
          "User": "kdokeefe"
         },
         {
          "Date": "2019-03-27T00:00:00",
          "User": "kdokeefe"
         },
         {
          "Date": "2019-03-28T00:00:00",
          "User": "kdokeefe"
         },
         {
          "Date": "2019-03-28T00:00:00",
          "User": "kdokeefe"
         },
         {
          "Date": "2019-03-28T00:00:00",
          "User": "kdokeefe"
         },
         {
          "Date": "2019-03-28T00:00:00",
          "User": "kdokeefe"
         },
         {
          "Date": "2019-04-01T00:00:00",
          "User": "kdokeefe"
         },
         {
          "Date": "2019-04-04T00:00:00",
          "User": "kdokeefe"
         },
         {
          "Date": "2019-04-06T00:00:00",
          "User": "kdokeefe"
         },
         {
          "Date": "2019-04-06T00:00:00",
          "User": "kdokeefe"
         },
         {
          "Date": "2019-04-07T00:00:00",
          "User": "kdokeefe"
         },
         {
          "Date": "2019-04-08T00:00:00",
          "User": "kdokeefe"
         },
         {
          "Date": "2019-04-08T00:00:00",
          "User": "kdokeefe"
         },
         {
          "Date": "2019-04-09T00:00:00",
          "User": "kdokeefe"
         },
         {
          "Date": "2019-03-05T00:00:00",
          "User": "bhsafford"
         },
         {
          "Date": "2019-03-13T00:00:00",
          "User": "bhsafford"
         },
         {
          "Date": "2019-01-28T00:00:00",
          "User": "crrey"
         },
         {
          "Date": "2019-02-06T00:00:00",
          "User": "crrey"
         },
         {
          "Date": "2019-02-07T00:00:00",
          "User": "crrey"
         },
         {
          "Date": "2019-02-08T00:00:00",
          "User": "crrey"
         },
         {
          "Date": "2019-02-11T00:00:00",
          "User": "crrey"
         },
         {
          "Date": "2019-02-15T00:00:00",
          "User": "crrey"
         },
         {
          "Date": "2019-02-20T00:00:00",
          "User": "crrey"
         },
         {
          "Date": "2019-02-22T00:00:00",
          "User": "crrey"
         },
         {
          "Date": "2019-02-23T00:00:00",
          "User": "crrey"
         },
         {
          "Date": "2019-02-23T00:00:00",
          "User": "crrey"
         },
         {
          "Date": "2019-02-24T00:00:00",
          "User": "crrey"
         },
         {
          "Date": "2019-02-25T00:00:00",
          "User": "crrey"
         },
         {
          "Date": "2019-02-25T00:00:00",
          "User": "crrey"
         },
         {
          "Date": "2019-02-28T00:00:00",
          "User": "crrey"
         },
         {
          "Date": "2019-03-01T00:00:00",
          "User": "crrey"
         },
         {
          "Date": "2019-03-03T00:00:00",
          "User": "crrey"
         },
         {
          "Date": "2019-03-03T00:00:00",
          "User": "crrey"
         },
         {
          "Date": "2019-03-04T00:00:00",
          "User": "crrey"
         },
         {
          "Date": "2019-03-05T00:00:00",
          "User": "crrey"
         },
         {
          "Date": "2019-03-05T00:00:00",
          "User": "crrey"
         },
         {
          "Date": "2019-03-06T00:00:00",
          "User": "crrey"
         },
         {
          "Date": "2019-03-06T00:00:00",
          "User": "crrey"
         },
         {
          "Date": "2019-03-07T00:00:00",
          "User": "crrey"
         },
         {
          "Date": "2019-03-10T00:00:00",
          "User": "crrey"
         },
         {
          "Date": "2019-03-12T00:00:00",
          "User": "crrey"
         },
         {
          "Date": "2019-03-12T00:00:00",
          "User": "crrey"
         },
         {
          "Date": "2019-03-12T00:00:00",
          "User": "crrey"
         },
         {
          "Date": "2019-03-13T00:00:00",
          "User": "crrey"
         },
         {
          "Date": "2019-03-15T00:00:00",
          "User": "crrey"
         },
         {
          "Date": "2019-03-15T00:00:00",
          "User": "crrey"
         },
         {
          "Date": "2019-03-15T00:00:00",
          "User": "crrey"
         },
         {
          "Date": "2019-03-17T00:00:00",
          "User": "crrey"
         },
         {
          "Date": "2019-03-18T00:00:00",
          "User": "crrey"
         },
         {
          "Date": "2019-03-19T00:00:00",
          "User": "crrey"
         },
         {
          "Date": "2019-03-20T00:00:00",
          "User": "crrey"
         },
         {
          "Date": "2019-03-20T00:00:00",
          "User": "crrey"
         },
         {
          "Date": "2019-03-20T00:00:00",
          "User": "crrey"
         },
         {
          "Date": "2019-03-20T00:00:00",
          "User": "crrey"
         },
         {
          "Date": "2019-03-21T00:00:00",
          "User": "crrey"
         },
         {
          "Date": "2019-03-21T00:00:00",
          "User": "crrey"
         },
         {
          "Date": "2019-03-21T00:00:00",
          "User": "crrey"
         },
         {
          "Date": "2019-03-23T00:00:00",
          "User": "crrey"
         },
         {
          "Date": "2019-03-24T00:00:00",
          "User": "crrey"
         },
         {
          "Date": "2019-03-26T00:00:00",
          "User": "crrey"
         },
         {
          "Date": "2019-03-26T00:00:00",
          "User": "crrey"
         },
         {
          "Date": "2019-03-26T00:00:00",
          "User": "crrey"
         },
         {
          "Date": "2019-03-28T00:00:00",
          "User": "crrey"
         },
         {
          "Date": "2019-03-28T00:00:00",
          "User": "crrey"
         },
         {
          "Date": "2019-03-28T00:00:00",
          "User": "crrey"
         },
         {
          "Date": "2019-03-31T00:00:00",
          "User": "crrey"
         },
         {
          "Date": "2019-01-08T00:00:00",
          "User": "ljhartwell"
         },
         {
          "Date": "2019-01-08T00:00:00",
          "User": "ljhartwell"
         },
         {
          "Date": "2019-01-08T00:00:00",
          "User": "ljhartwell"
         },
         {
          "Date": "2019-01-08T00:00:00",
          "User": "ljhartwell"
         },
         {
          "Date": "2019-01-24T00:00:00",
          "User": "ljhartwell"
         },
         {
          "Date": "2019-01-24T00:00:00",
          "User": "ljhartwell"
         },
         {
          "Date": "2019-01-24T00:00:00",
          "User": "ljhartwell"
         },
         {
          "Date": "2019-01-24T00:00:00",
          "User": "ljhartwell"
         },
         {
          "Date": "2019-01-24T00:00:00",
          "User": "ljhartwell"
         },
         {
          "Date": "2019-01-24T00:00:00",
          "User": "ljhartwell"
         },
         {
          "Date": "2019-01-24T00:00:00",
          "User": "ljhartwell"
         },
         {
          "Date": "2019-01-25T00:00:00",
          "User": "ljhartwell"
         },
         {
          "Date": "2019-01-30T00:00:00",
          "User": "ljhartwell"
         },
         {
          "Date": "2019-01-30T00:00:00",
          "User": "ljhartwell"
         },
         {
          "Date": "2019-01-30T00:00:00",
          "User": "ljhartwell"
         },
         {
          "Date": "2019-02-05T00:00:00",
          "User": "ljhartwell"
         },
         {
          "Date": "2019-03-11T00:00:00",
          "User": "ljhartwell"
         },
         {
          "Date": "2019-03-11T00:00:00",
          "User": "ljhartwell"
         },
         {
          "Date": "2019-03-11T00:00:00",
          "User": "ljhartwell"
         },
         {
          "Date": "2019-03-12T00:00:00",
          "User": "ljhartwell"
         },
         {
          "Date": "2019-03-13T00:00:00",
          "User": "ljhartwell"
         },
         {
          "Date": "2019-03-13T00:00:00",
          "User": "ljhartwell"
         },
         {
          "Date": "2019-03-14T00:00:00",
          "User": "ljhartwell"
         },
         {
          "Date": "2019-03-14T00:00:00",
          "User": "ljhartwell"
         },
         {
          "Date": "2019-03-14T00:00:00",
          "User": "ljhartwell"
         },
         {
          "Date": "2019-03-14T00:00:00",
          "User": "ljhartwell"
         },
         {
          "Date": "2019-03-14T00:00:00",
          "User": "ljhartwell"
         },
         {
          "Date": "2019-03-14T00:00:00",
          "User": "ljhartwell"
         },
         {
          "Date": "2019-03-15T00:00:00",
          "User": "ljhartwell"
         },
         {
          "Date": "2019-03-15T00:00:00",
          "User": "ljhartwell"
         },
         {
          "Date": "2019-03-15T00:00:00",
          "User": "ljhartwell"
         },
         {
          "Date": "2019-03-15T00:00:00",
          "User": "ljhartwell"
         },
         {
          "Date": "2019-03-15T00:00:00",
          "User": "ljhartwell"
         },
         {
          "Date": "2019-03-15T00:00:00",
          "User": "ljhartwell"
         },
         {
          "Date": "2019-03-18T00:00:00",
          "User": "ljhartwell"
         },
         {
          "Date": "2019-03-19T00:00:00",
          "User": "ljhartwell"
         },
         {
          "Date": "2019-03-20T00:00:00",
          "User": "ljhartwell"
         },
         {
          "Date": "2019-03-21T00:00:00",
          "User": "ljhartwell"
         },
         {
          "Date": "2019-03-22T00:00:00",
          "User": "ljhartwell"
         },
         {
          "Date": "2019-03-24T00:00:00",
          "User": "ljhartwell"
         },
         {
          "Date": "2019-03-25T00:00:00",
          "User": "ljhartwell"
         },
         {
          "Date": "2019-03-25T00:00:00",
          "User": "ljhartwell"
         },
         {
          "Date": "2019-03-26T00:00:00",
          "User": "ljhartwell"
         },
         {
          "Date": "2019-03-26T00:00:00",
          "User": "ljhartwell"
         },
         {
          "Date": "2019-03-26T00:00:00",
          "User": "ljhartwell"
         },
         {
          "Date": "2019-03-27T00:00:00",
          "User": "ljhartwell"
         },
         {
          "Date": "2019-03-28T00:00:00",
          "User": "ljhartwell"
         },
         {
          "Date": "2019-03-28T00:00:00",
          "User": "ljhartwell"
         },
         {
          "Date": "2019-03-29T00:00:00",
          "User": "ljhartwell"
         },
         {
          "Date": "2019-03-29T00:00:00",
          "User": "ljhartwell"
         },
         {
          "Date": "2019-04-02T00:00:00",
          "User": "ljhartwell"
         },
         {
          "Date": "2019-04-02T00:00:00",
          "User": "ljhartwell"
         },
         {
          "Date": "2019-04-05T00:00:00",
          "User": "ljhartwell"
         },
         {
          "Date": "2019-04-05T00:00:00",
          "User": "ljhartwell"
         },
         {
          "Date": "2019-04-06T00:00:00",
          "User": "ljhartwell"
         },
         {
          "Date": "2019-01-28T00:00:00",
          "User": "sskerlin"
         },
         {
          "Date": "2019-01-28T00:00:00",
          "User": "sskerlin"
         },
         {
          "Date": "2019-01-30T00:00:00",
          "User": "sskerlin"
         },
         {
          "Date": "2019-01-31T00:00:00",
          "User": "sskerlin"
         },
         {
          "Date": "2019-01-31T00:00:00",
          "User": "sskerlin"
         },
         {
          "Date": "2019-02-04T00:00:00",
          "User": "sskerlin"
         },
         {
          "Date": "2019-02-06T00:00:00",
          "User": "sskerlin"
         },
         {
          "Date": "2019-02-07T00:00:00",
          "User": "sskerlin"
         },
         {
          "Date": "2019-02-13T00:00:00",
          "User": "sskerlin"
         },
         {
          "Date": "2019-02-18T00:00:00",
          "User": "sskerlin"
         },
         {
          "Date": "2019-02-21T00:00:00",
          "User": "sskerlin"
         },
         {
          "Date": "2019-02-21T00:00:00",
          "User": "sskerlin"
         },
         {
          "Date": "2019-02-27T00:00:00",
          "User": "sskerlin"
         },
         {
          "Date": "2019-02-28T00:00:00",
          "User": "sskerlin"
         },
         {
          "Date": "2019-03-11T00:00:00",
          "User": "sskerlin"
         },
         {
          "Date": "2019-04-03T00:00:00",
          "User": "sskerlin"
         },
         {
          "Date": "2019-03-29T00:00:00",
          "User": "almalcomb"
         },
         {
          "Date": "2019-03-29T00:00:00",
          "User": "almalcomb"
         },
         {
          "Date": "2019-03-29T00:00:00",
          "User": "almalcomb"
         },
         {
          "Date": "2019-03-29T00:00:00",
          "User": "almalcomb"
         },
         {
          "Date": "2019-03-29T00:00:00",
          "User": "almalcomb"
         },
         {
          "Date": "2019-03-29T00:00:00",
          "User": "almalcomb"
         },
         {
          "Date": "2019-03-29T00:00:00",
          "User": "almalcomb"
         },
         {
          "Date": "2019-03-29T00:00:00",
          "User": "almalcomb"
         },
         {
          "Date": "2019-03-29T00:00:00",
          "User": "almalcomb"
         },
         {
          "Date": "2019-03-29T00:00:00",
          "User": "almalcomb"
         },
         {
          "Date": "2019-03-29T00:00:00",
          "User": "almalcomb"
         },
         {
          "Date": "2019-03-29T00:00:00",
          "User": "almalcomb"
         },
         {
          "Date": "2019-03-29T00:00:00",
          "User": "almalcomb"
         },
         {
          "Date": "2019-03-29T00:00:00",
          "User": "almalcomb"
         },
         {
          "Date": "2019-03-29T00:00:00",
          "User": "almalcomb"
         },
         {
          "Date": "2019-03-29T00:00:00",
          "User": "almalcomb"
         },
         {
          "Date": "2019-03-29T00:00:00",
          "User": "almalcomb"
         },
         {
          "Date": "2019-03-29T00:00:00",
          "User": "almalcomb"
         },
         {
          "Date": "2019-03-29T00:00:00",
          "User": "almalcomb"
         },
         {
          "Date": "2019-04-01T00:00:00",
          "User": "almalcomb"
         },
         {
          "Date": "2019-04-01T00:00:00",
          "User": "almalcomb"
         },
         {
          "Date": "2019-04-01T00:00:00",
          "User": "almalcomb"
         },
         {
          "Date": "2019-04-01T00:00:00",
          "User": "almalcomb"
         },
         {
          "Date": "2019-04-01T00:00:00",
          "User": "almalcomb"
         },
         {
          "Date": "2019-04-01T00:00:00",
          "User": "almalcomb"
         },
         {
          "Date": "2019-04-01T00:00:00",
          "User": "almalcomb"
         },
         {
          "Date": "2019-04-02T00:00:00",
          "User": "almalcomb"
         },
         {
          "Date": "2019-04-02T00:00:00",
          "User": "almalcomb"
         },
         {
          "Date": "2019-04-03T00:00:00",
          "User": "almalcomb"
         },
         {
          "Date": "2019-04-03T00:00:00",
          "User": "almalcomb"
         },
         {
          "Date": "2019-04-03T00:00:00",
          "User": "almalcomb"
         },
         {
          "Date": "2019-04-03T00:00:00",
          "User": "almalcomb"
         },
         {
          "Date": "2019-04-04T00:00:00",
          "User": "almalcomb"
         },
         {
          "Date": "2019-04-04T00:00:00",
          "User": "almalcomb"
         },
         {
          "Date": "2019-04-04T00:00:00",
          "User": "almalcomb"
         },
         {
          "Date": "2019-04-04T00:00:00",
          "User": "almalcomb"
         },
         {
          "Date": "2019-04-04T00:00:00",
          "User": "almalcomb"
         },
         {
          "Date": "2019-04-04T00:00:00",
          "User": "almalcomb"
         },
         {
          "Date": "2019-04-04T00:00:00",
          "User": "almalcomb"
         },
         {
          "Date": "2019-04-04T00:00:00",
          "User": "almalcomb"
         },
         {
          "Date": "2019-04-04T00:00:00",
          "User": "almalcomb"
         },
         {
          "Date": "2019-04-04T00:00:00",
          "User": "almalcomb"
         },
         {
          "Date": "2019-04-04T00:00:00",
          "User": "almalcomb"
         },
         {
          "Date": "2019-04-04T00:00:00",
          "User": "almalcomb"
         },
         {
          "Date": "2019-04-04T00:00:00",
          "User": "almalcomb"
         },
         {
          "Date": "2019-04-05T00:00:00",
          "User": "almalcomb"
         },
         {
          "Date": "2019-04-08T00:00:00",
          "User": "almalcomb"
         },
         {
          "Date": "2019-04-09T00:00:00",
          "User": "almalcomb"
         },
         {
          "Date": "2019-02-08T00:00:00",
          "User": "amboehm"
         },
         {
          "Date": "2019-01-08T00:00:00",
          "User": "sjalexande"
         },
         {
          "Date": "2019-03-20T00:00:00",
          "User": "sjalexande"
         },
         {
          "Date": "2019-04-03T00:00:00",
          "User": "rdbiemold"
         },
         {
          "Date": "2019-03-01T00:00:00",
          "User": "fha16"
         },
         {
          "Date": "2019-03-01T00:00:00",
          "User": "fha16"
         },
         {
          "Date": "2019-03-21T00:00:00",
          "User": "fha16"
         },
         {
          "Date": "2019-04-05T00:00:00",
          "User": "fha16"
         },
         {
          "Date": "2019-01-11T00:00:00",
          "User": "mmlelonek"
         },
         {
          "Date": "2019-01-11T00:00:00",
          "User": "mmlelonek"
         },
         {
          "Date": "2019-01-11T00:00:00",
          "User": "mmlelonek"
         },
         {
          "Date": "2019-01-11T00:00:00",
          "User": "mmlelonek"
         },
         {
          "Date": "2019-01-25T00:00:00",
          "User": "mmlelonek"
         },
         {
          "Date": "2019-01-28T00:00:00",
          "User": "mmlelonek"
         },
         {
          "Date": "2019-01-29T00:00:00",
          "User": "mmlelonek"
         },
         {
          "Date": "2019-01-30T00:00:00",
          "User": "mmlelonek"
         },
         {
          "Date": "2019-02-01T00:00:00",
          "User": "mmlelonek"
         },
         {
          "Date": "2019-02-04T00:00:00",
          "User": "mmlelonek"
         },
         {
          "Date": "2019-02-05T00:00:00",
          "User": "mmlelonek"
         },
         {
          "Date": "2019-02-05T00:00:00",
          "User": "mmlelonek"
         },
         {
          "Date": "2019-02-06T00:00:00",
          "User": "mmlelonek"
         },
         {
          "Date": "2019-02-07T00:00:00",
          "User": "mmlelonek"
         },
         {
          "Date": "2019-02-08T00:00:00",
          "User": "mmlelonek"
         },
         {
          "Date": "2019-02-18T00:00:00",
          "User": "mmlelonek"
         },
         {
          "Date": "2019-02-19T00:00:00",
          "User": "mmlelonek"
         },
         {
          "Date": "2019-02-20T00:00:00",
          "User": "mmlelonek"
         },
         {
          "Date": "2019-02-20T00:00:00",
          "User": "mmlelonek"
         },
         {
          "Date": "2019-02-21T00:00:00",
          "User": "mmlelonek"
         },
         {
          "Date": "2019-02-22T00:00:00",
          "User": "mmlelonek"
         },
         {
          "Date": "2019-02-24T00:00:00",
          "User": "mmlelonek"
         },
         {
          "Date": "2019-02-25T00:00:00",
          "User": "mmlelonek"
         },
         {
          "Date": "2019-02-26T00:00:00",
          "User": "mmlelonek"
         },
         {
          "Date": "2019-02-27T00:00:00",
          "User": "mmlelonek"
         },
         {
          "Date": "2019-02-28T00:00:00",
          "User": "mmlelonek"
         },
         {
          "Date": "2019-03-01T00:00:00",
          "User": "mmlelonek"
         },
         {
          "Date": "2019-03-03T00:00:00",
          "User": "mmlelonek"
         },
         {
          "Date": "2019-03-04T00:00:00",
          "User": "mmlelonek"
         },
         {
          "Date": "2019-03-05T00:00:00",
          "User": "mmlelonek"
         },
         {
          "Date": "2019-03-06T00:00:00",
          "User": "mmlelonek"
         },
         {
          "Date": "2019-03-08T00:00:00",
          "User": "mmlelonek"
         },
         {
          "Date": "2019-03-10T00:00:00",
          "User": "mmlelonek"
         },
         {
          "Date": "2019-03-11T00:00:00",
          "User": "mmlelonek"
         },
         {
          "Date": "2019-03-12T00:00:00",
          "User": "mmlelonek"
         },
         {
          "Date": "2019-03-13T00:00:00",
          "User": "mmlelonek"
         },
         {
          "Date": "2019-03-13T00:00:00",
          "User": "mmlelonek"
         },
         {
          "Date": "2019-03-14T00:00:00",
          "User": "mmlelonek"
         },
         {
          "Date": "2019-03-14T00:00:00",
          "User": "mmlelonek"
         },
         {
          "Date": "2019-03-15T00:00:00",
          "User": "mmlelonek"
         },
         {
          "Date": "2019-03-15T00:00:00",
          "User": "mmlelonek"
         },
         {
          "Date": "2019-03-15T00:00:00",
          "User": "mmlelonek"
         },
         {
          "Date": "2019-03-18T00:00:00",
          "User": "mmlelonek"
         },
         {
          "Date": "2019-03-19T00:00:00",
          "User": "mmlelonek"
         },
         {
          "Date": "2019-03-20T00:00:00",
          "User": "mmlelonek"
         },
         {
          "Date": "2019-03-21T00:00:00",
          "User": "mmlelonek"
         },
         {
          "Date": "2019-03-22T00:00:00",
          "User": "mmlelonek"
         },
         {
          "Date": "2019-03-25T00:00:00",
          "User": "mmlelonek"
         },
         {
          "Date": "2019-03-26T00:00:00",
          "User": "mmlelonek"
         },
         {
          "Date": "2019-03-27T00:00:00",
          "User": "mmlelonek"
         },
         {
          "Date": "2019-03-28T00:00:00",
          "User": "mmlelonek"
         },
         {
          "Date": "2019-03-29T00:00:00",
          "User": "mmlelonek"
         },
         {
          "Date": "2019-03-31T00:00:00",
          "User": "mmlelonek"
         },
         {
          "Date": "2019-04-02T00:00:00",
          "User": "mmlelonek"
         },
         {
          "Date": "2019-04-03T00:00:00",
          "User": "mmlelonek"
         },
         {
          "Date": "2019-04-03T00:00:00",
          "User": "mmlelonek"
         },
         {
          "Date": "2019-04-04T00:00:00",
          "User": "mmlelonek"
         },
         {
          "Date": "2019-04-05T00:00:00",
          "User": "mmlelonek"
         },
         {
          "Date": "2019-04-05T00:00:00",
          "User": "mmlelonek"
         },
         {
          "Date": "2019-04-07T00:00:00",
          "User": "mmlelonek"
         },
         {
          "Date": "2019-04-08T00:00:00",
          "User": "mmlelonek"
         },
         {
          "Date": "2019-04-09T00:00:00",
          "User": "mmlelonek"
         },
         {
          "Date": "2019-01-30T00:00:00",
          "User": "ffm13"
         },
         {
          "Date": "2019-02-20T00:00:00",
          "User": "ffm13"
         },
         {
          "Date": "2019-02-21T00:00:00",
          "User": "ffm13"
         },
         {
          "Date": "2019-03-05T00:00:00",
          "User": "ffm13"
         },
         {
          "Date": "2019-03-06T00:00:00",
          "User": "ffm13"
         },
         {
          "Date": "2019-03-06T00:00:00",
          "User": "ffm13"
         },
         {
          "Date": "2019-03-13T00:00:00",
          "User": "ffm13"
         },
         {
          "Date": "2019-03-13T00:00:00",
          "User": "ffm13"
         },
         {
          "Date": "2019-03-20T00:00:00",
          "User": "ffm13"
         },
         {
          "Date": "2019-03-21T00:00:00",
          "User": "ffm13"
         },
         {
          "Date": "2019-03-27T00:00:00",
          "User": "ffm13"
         },
         {
          "Date": "2019-02-26T00:00:00",
          "User": "mwwerner"
         },
         {
          "Date": "2019-02-26T00:00:00",
          "User": "mwwerner"
         },
         {
          "Date": "2019-01-09T00:00:00",
          "User": "amwalls"
         },
         {
          "Date": "2019-01-10T00:00:00",
          "User": "amwalls"
         },
         {
          "Date": "2019-01-11T00:00:00",
          "User": "amwalls"
         },
         {
          "Date": "2019-01-13T00:00:00",
          "User": "amwalls"
         },
         {
          "Date": "2019-01-14T00:00:00",
          "User": "amwalls"
         },
         {
          "Date": "2019-01-14T00:00:00",
          "User": "amwalls"
         },
         {
          "Date": "2019-01-16T00:00:00",
          "User": "amwalls"
         },
         {
          "Date": "2019-01-17T00:00:00",
          "User": "amwalls"
         },
         {
          "Date": "2019-01-18T00:00:00",
          "User": "amwalls"
         },
         {
          "Date": "2019-01-21T00:00:00",
          "User": "amwalls"
         },
         {
          "Date": "2019-01-21T00:00:00",
          "User": "amwalls"
         },
         {
          "Date": "2019-01-23T00:00:00",
          "User": "amwalls"
         },
         {
          "Date": "2019-01-23T00:00:00",
          "User": "amwalls"
         },
         {
          "Date": "2019-01-24T00:00:00",
          "User": "amwalls"
         },
         {
          "Date": "2019-01-24T00:00:00",
          "User": "amwalls"
         },
         {
          "Date": "2019-01-25T00:00:00",
          "User": "amwalls"
         },
         {
          "Date": "2019-01-28T00:00:00",
          "User": "amwalls"
         },
         {
          "Date": "2019-01-30T00:00:00",
          "User": "amwalls"
         },
         {
          "Date": "2019-02-03T00:00:00",
          "User": "amwalls"
         },
         {
          "Date": "2019-02-07T00:00:00",
          "User": "amwalls"
         },
         {
          "Date": "2019-02-12T00:00:00",
          "User": "amwalls"
         },
         {
          "Date": "2019-02-13T00:00:00",
          "User": "amwalls"
         },
         {
          "Date": "2019-02-13T00:00:00",
          "User": "amwalls"
         },
         {
          "Date": "2019-02-15T00:00:00",
          "User": "amwalls"
         },
         {
          "Date": "2019-02-18T00:00:00",
          "User": "amwalls"
         },
         {
          "Date": "2019-02-18T00:00:00",
          "User": "amwalls"
         },
         {
          "Date": "2019-02-20T00:00:00",
          "User": "amwalls"
         },
         {
          "Date": "2019-02-21T00:00:00",
          "User": "amwalls"
         },
         {
          "Date": "2019-02-22T00:00:00",
          "User": "amwalls"
         },
         {
          "Date": "2019-02-22T00:00:00",
          "User": "amwalls"
         },
         {
          "Date": "2019-02-24T00:00:00",
          "User": "amwalls"
         },
         {
          "Date": "2019-02-27T00:00:00",
          "User": "amwalls"
         },
         {
          "Date": "2019-02-27T00:00:00",
          "User": "amwalls"
         },
         {
          "Date": "2019-03-05T00:00:00",
          "User": "amwalls"
         },
         {
          "Date": "2019-03-06T00:00:00",
          "User": "amwalls"
         },
         {
          "Date": "2019-03-12T00:00:00",
          "User": "amwalls"
         },
         {
          "Date": "2019-03-13T00:00:00",
          "User": "amwalls"
         },
         {
          "Date": "2019-03-13T00:00:00",
          "User": "amwalls"
         },
         {
          "Date": "2019-03-14T00:00:00",
          "User": "amwalls"
         },
         {
          "Date": "2019-03-15T00:00:00",
          "User": "amwalls"
         },
         {
          "Date": "2019-03-18T00:00:00",
          "User": "amwalls"
         },
         {
          "Date": "2019-03-20T00:00:00",
          "User": "amwalls"
         },
         {
          "Date": "2019-03-21T00:00:00",
          "User": "amwalls"
         },
         {
          "Date": "2019-03-22T00:00:00",
          "User": "amwalls"
         },
         {
          "Date": "2019-03-23T00:00:00",
          "User": "amwalls"
         },
         {
          "Date": "2019-03-25T00:00:00",
          "User": "amwalls"
         },
         {
          "Date": "2019-03-27T00:00:00",
          "User": "amwalls"
         },
         {
          "Date": "2019-03-28T00:00:00",
          "User": "amwalls"
         },
         {
          "Date": "2019-03-29T00:00:00",
          "User": "amwalls"
         },
         {
          "Date": "2019-03-30T00:00:00",
          "User": "amwalls"
         },
         {
          "Date": "2019-04-05T00:00:00",
          "User": "amwalls"
         },
         {
          "Date": "2019-04-07T00:00:00",
          "User": "amwalls"
         },
         {
          "Date": "2019-04-08T00:00:00",
          "User": "amwalls"
         },
         {
          "Date": "2019-02-22T00:00:00",
          "User": "mlgonzalez"
         },
         {
          "Date": "2019-01-08T00:00:00",
          "User": "lmvanhofwegen"
         },
         {
          "Date": "2019-01-10T00:00:00",
          "User": "lmvanhofwegen"
         },
         {
          "Date": "2019-01-10T00:00:00",
          "User": "lmvanhofwegen"
         },
         {
          "Date": "2019-01-14T00:00:00",
          "User": "lmvanhofwegen"
         },
         {
          "Date": "2019-01-14T00:00:00",
          "User": "lmvanhofwegen"
         },
         {
          "Date": "2019-01-15T00:00:00",
          "User": "lmvanhofwegen"
         },
         {
          "Date": "2019-01-17T00:00:00",
          "User": "lmvanhofwegen"
         },
         {
          "Date": "2019-01-21T00:00:00",
          "User": "lmvanhofwegen"
         },
         {
          "Date": "2019-01-22T00:00:00",
          "User": "lmvanhofwegen"
         },
         {
          "Date": "2019-01-22T00:00:00",
          "User": "lmvanhofwegen"
         },
         {
          "Date": "2019-01-24T00:00:00",
          "User": "lmvanhofwegen"
         },
         {
          "Date": "2019-01-24T00:00:00",
          "User": "lmvanhofwegen"
         },
         {
          "Date": "2019-01-28T00:00:00",
          "User": "lmvanhofwegen"
         },
         {
          "Date": "2019-01-28T00:00:00",
          "User": "lmvanhofwegen"
         },
         {
          "Date": "2019-01-29T00:00:00",
          "User": "lmvanhofwegen"
         },
         {
          "Date": "2019-01-31T00:00:00",
          "User": "lmvanhofwegen"
         },
         {
          "Date": "2019-02-04T00:00:00",
          "User": "lmvanhofwegen"
         },
         {
          "Date": "2019-02-05T00:00:00",
          "User": "lmvanhofwegen"
         },
         {
          "Date": "2019-02-07T00:00:00",
          "User": "lmvanhofwegen"
         },
         {
          "Date": "2019-02-07T00:00:00",
          "User": "lmvanhofwegen"
         },
         {
          "Date": "2019-02-07T00:00:00",
          "User": "lmvanhofwegen"
         },
         {
          "Date": "2019-02-09T00:00:00",
          "User": "lmvanhofwegen"
         },
         {
          "Date": "2019-02-11T00:00:00",
          "User": "lmvanhofwegen"
         },
         {
          "Date": "2019-02-11T00:00:00",
          "User": "lmvanhofwegen"
         },
         {
          "Date": "2019-02-12T00:00:00",
          "User": "lmvanhofwegen"
         },
         {
          "Date": "2019-02-13T00:00:00",
          "User": "lmvanhofwegen"
         },
         {
          "Date": "2019-02-24T00:00:00",
          "User": "lmvanhofwegen"
         },
         {
          "Date": "2019-02-25T00:00:00",
          "User": "lmvanhofwegen"
         },
         {
          "Date": "2019-02-25T00:00:00",
          "User": "lmvanhofwegen"
         },
         {
          "Date": "2019-02-25T00:00:00",
          "User": "lmvanhofwegen"
         },
         {
          "Date": "2019-02-26T00:00:00",
          "User": "lmvanhofwegen"
         },
         {
          "Date": "2019-02-28T00:00:00",
          "User": "lmvanhofwegen"
         },
         {
          "Date": "2019-03-01T00:00:00",
          "User": "lmvanhofwegen"
         },
         {
          "Date": "2019-03-03T00:00:00",
          "User": "lmvanhofwegen"
         },
         {
          "Date": "2019-03-04T00:00:00",
          "User": "lmvanhofwegen"
         },
         {
          "Date": "2019-03-05T00:00:00",
          "User": "lmvanhofwegen"
         },
         {
          "Date": "2019-03-06T00:00:00",
          "User": "lmvanhofwegen"
         },
         {
          "Date": "2019-03-10T00:00:00",
          "User": "lmvanhofwegen"
         },
         {
          "Date": "2019-03-11T00:00:00",
          "User": "lmvanhofwegen"
         },
         {
          "Date": "2019-03-11T00:00:00",
          "User": "lmvanhofwegen"
         },
         {
          "Date": "2019-03-12T00:00:00",
          "User": "lmvanhofwegen"
         },
         {
          "Date": "2019-03-14T00:00:00",
          "User": "lmvanhofwegen"
         },
         {
          "Date": "2019-03-18T00:00:00",
          "User": "lmvanhofwegen"
         },
         {
          "Date": "2019-03-18T00:00:00",
          "User": "lmvanhofwegen"
         },
         {
          "Date": "2019-03-19T00:00:00",
          "User": "lmvanhofwegen"
         },
         {
          "Date": "2019-03-21T00:00:00",
          "User": "lmvanhofwegen"
         },
         {
          "Date": "2019-03-21T00:00:00",
          "User": "lmvanhofwegen"
         },
         {
          "Date": "2019-03-25T00:00:00",
          "User": "lmvanhofwegen"
         },
         {
          "Date": "2019-03-25T00:00:00",
          "User": "lmvanhofwegen"
         },
         {
          "Date": "2019-03-26T00:00:00",
          "User": "lmvanhofwegen"
         },
         {
          "Date": "2019-03-28T00:00:00",
          "User": "lmvanhofwegen"
         },
         {
          "Date": "2019-04-01T00:00:00",
          "User": "lmvanhofwegen"
         },
         {
          "Date": "2019-04-01T00:00:00",
          "User": "lmvanhofwegen"
         },
         {
          "Date": "2019-04-02T00:00:00",
          "User": "lmvanhofwegen"
         },
         {
          "Date": "2019-04-02T00:00:00",
          "User": "lmvanhofwegen"
         },
         {
          "Date": "2019-04-02T00:00:00",
          "User": "lmvanhofwegen"
         },
         {
          "Date": "2019-04-02T00:00:00",
          "User": "lmvanhofwegen"
         },
         {
          "Date": "2019-04-02T00:00:00",
          "User": "lmvanhofwegen"
         },
         {
          "Date": "2019-04-02T00:00:00",
          "User": "lmvanhofwegen"
         },
         {
          "Date": "2019-04-02T00:00:00",
          "User": "lmvanhofwegen"
         },
         {
          "Date": "2019-04-02T00:00:00",
          "User": "lmvanhofwegen"
         },
         {
          "Date": "2019-04-03T00:00:00",
          "User": "lmvanhofwegen"
         },
         {
          "Date": "2019-04-03T00:00:00",
          "User": "lmvanhofwegen"
         },
         {
          "Date": "2019-04-04T00:00:00",
          "User": "lmvanhofwegen"
         },
         {
          "Date": "2019-04-04T00:00:00",
          "User": "lmvanhofwegen"
         },
         {
          "Date": "2019-04-08T00:00:00",
          "User": "lmvanhofwegen"
         },
         {
          "Date": "2019-04-08T00:00:00",
          "User": "lmvanhofwegen"
         },
         {
          "Date": "2019-04-08T00:00:00",
          "User": "lmvanhofwegen"
         },
         {
          "Date": "2019-04-09T00:00:00",
          "User": "lmvanhofwegen"
         },
         {
          "Date": "2019-02-09T00:00:00",
          "User": "rwcaldwell"
         },
         {
          "Date": "2019-02-09T00:00:00",
          "User": "rwcaldwell"
         },
         {
          "Date": "2019-03-11T00:00:00",
          "User": "rwcaldwell"
         },
         {
          "Date": "2019-03-12T00:00:00",
          "User": "rwcaldwell"
         },
         {
          "Date": "2019-03-12T00:00:00",
          "User": "rwcaldwell"
         },
         {
          "Date": "2019-03-12T00:00:00",
          "User": "rwcaldwell"
         },
         {
          "Date": "2019-03-13T00:00:00",
          "User": "rwcaldwell"
         },
         {
          "Date": "2019-03-13T00:00:00",
          "User": "rwcaldwell"
         },
         {
          "Date": "2019-03-14T00:00:00",
          "User": "rwcaldwell"
         },
         {
          "Date": "2019-03-15T00:00:00",
          "User": "rwcaldwell"
         },
         {
          "Date": "2019-03-15T00:00:00",
          "User": "rwcaldwell"
         },
         {
          "Date": "2019-03-17T00:00:00",
          "User": "rwcaldwell"
         },
         {
          "Date": "2019-03-18T00:00:00",
          "User": "rwcaldwell"
         },
         {
          "Date": "2019-03-19T00:00:00",
          "User": "rwcaldwell"
         },
         {
          "Date": "2019-03-20T00:00:00",
          "User": "rwcaldwell"
         },
         {
          "Date": "2019-03-20T00:00:00",
          "User": "rwcaldwell"
         },
         {
          "Date": "2019-03-20T00:00:00",
          "User": "rwcaldwell"
         },
         {
          "Date": "2019-03-21T00:00:00",
          "User": "rwcaldwell"
         },
         {
          "Date": "2019-03-22T00:00:00",
          "User": "rwcaldwell"
         },
         {
          "Date": "2019-03-22T00:00:00",
          "User": "rwcaldwell"
         },
         {
          "Date": "2019-03-23T00:00:00",
          "User": "rwcaldwell"
         },
         {
          "Date": "2019-03-25T00:00:00",
          "User": "rwcaldwell"
         },
         {
          "Date": "2019-03-26T00:00:00",
          "User": "rwcaldwell"
         },
         {
          "Date": "2019-03-27T00:00:00",
          "User": "rwcaldwell"
         },
         {
          "Date": "2019-03-27T00:00:00",
          "User": "rwcaldwell"
         },
         {
          "Date": "2019-03-28T00:00:00",
          "User": "rwcaldwell"
         },
         {
          "Date": "2019-03-29T00:00:00",
          "User": "rwcaldwell"
         },
         {
          "Date": "2019-03-29T00:00:00",
          "User": "rwcaldwell"
         },
         {
          "Date": "2019-03-30T00:00:00",
          "User": "rwcaldwell"
         },
         {
          "Date": "2019-03-31T00:00:00",
          "User": "rwcaldwell"
         },
         {
          "Date": "2019-04-01T00:00:00",
          "User": "rwcaldwell"
         },
         {
          "Date": "2019-04-02T00:00:00",
          "User": "rwcaldwell"
         },
         {
          "Date": "2019-04-03T00:00:00",
          "User": "rwcaldwell"
         },
         {
          "Date": "2019-04-03T00:00:00",
          "User": "rwcaldwell"
         },
         {
          "Date": "2019-04-04T00:00:00",
          "User": "rwcaldwell"
         },
         {
          "Date": "2019-04-04T00:00:00",
          "User": "rwcaldwell"
         },
         {
          "Date": "2019-04-04T00:00:00",
          "User": "rwcaldwell"
         },
         {
          "Date": "2019-04-05T00:00:00",
          "User": "rwcaldwell"
         },
         {
          "Date": "2019-04-05T00:00:00",
          "User": "rwcaldwell"
         },
         {
          "Date": "2019-04-05T00:00:00",
          "User": "rwcaldwell"
         },
         {
          "Date": "2019-04-07T00:00:00",
          "User": "rwcaldwell"
         },
         {
          "Date": "2019-04-08T00:00:00",
          "User": "rwcaldwell"
         },
         {
          "Date": "2019-04-09T00:00:00",
          "User": "rwcaldwell"
         },
         {
          "Date": "2019-01-08T00:00:00",
          "User": "masweeney"
         },
         {
          "Date": "2019-02-13T00:00:00",
          "User": "masweeney"
         },
         {
          "Date": "2019-02-13T00:00:00",
          "User": "masweeney"
         },
         {
          "Date": "2019-02-13T00:00:00",
          "User": "masweeney"
         },
         {
          "Date": "2019-03-20T00:00:00",
          "User": "kreyes2"
         },
         {
          "Date": "2019-01-25T00:00:00",
          "User": "ardegouveia"
         },
         {
          "Date": "2019-01-29T00:00:00",
          "User": "ardegouveia"
         },
         {
          "Date": "2019-01-30T00:00:00",
          "User": "linfante1"
         },
         {
          "Date": "2019-01-23T00:00:00",
          "User": "hmcoe"
         },
         {
          "Date": "2019-01-24T00:00:00",
          "User": "hmcoe"
         },
         {
          "Date": "2019-02-26T00:00:00",
          "User": "hmcoe"
         },
         {
          "Date": "2019-02-26T00:00:00",
          "User": "hmcoe"
         },
         {
          "Date": "2019-02-26T00:00:00",
          "User": "hmcoe"
         },
         {
          "Date": "2019-03-26T00:00:00",
          "User": "hmcoe"
         },
         {
          "Date": "2019-03-26T00:00:00",
          "User": "hmcoe"
         },
         {
          "Date": "2019-03-29T00:00:00",
          "User": "hmcoe"
         },
         {
          "Date": "2019-03-29T00:00:00",
          "User": "hmcoe"
         },
         {
          "Date": "2019-03-29T00:00:00",
          "User": "hmcoe"
         },
         {
          "Date": "2019-03-29T00:00:00",
          "User": "hmcoe"
         },
         {
          "Date": "2019-03-29T00:00:00",
          "User": "hmcoe"
         },
         {
          "Date": "2019-03-29T00:00:00",
          "User": "hmcoe"
         },
         {
          "Date": "2019-03-29T00:00:00",
          "User": "hmcoe"
         },
         {
          "Date": "2019-03-29T00:00:00",
          "User": "hmcoe"
         },
         {
          "Date": "2019-03-29T00:00:00",
          "User": "hmcoe"
         },
         {
          "Date": "2019-03-29T00:00:00",
          "User": "hmcoe"
         },
         {
          "Date": "2019-03-29T00:00:00",
          "User": "hmcoe"
         },
         {
          "Date": "2019-03-29T00:00:00",
          "User": "hmcoe"
         },
         {
          "Date": "2019-01-06T00:00:00",
          "User": "rrhoney"
         },
         {
          "Date": "2019-01-07T00:00:00",
          "User": "rrhoney"
         },
         {
          "Date": "2019-01-07T00:00:00",
          "User": "rrhoney"
         },
         {
          "Date": "2019-01-08T00:00:00",
          "User": "rrhoney"
         },
         {
          "Date": "2019-01-10T00:00:00",
          "User": "rrhoney"
         },
         {
          "Date": "2019-01-10T00:00:00",
          "User": "rrhoney"
         },
         {
          "Date": "2019-01-10T00:00:00",
          "User": "rrhoney"
         },
         {
          "Date": "2019-01-11T00:00:00",
          "User": "rrhoney"
         },
         {
          "Date": "2019-01-11T00:00:00",
          "User": "rrhoney"
         },
         {
          "Date": "2019-01-14T00:00:00",
          "User": "rrhoney"
         },
         {
          "Date": "2019-01-15T00:00:00",
          "User": "rrhoney"
         },
         {
          "Date": "2019-01-16T00:00:00",
          "User": "rrhoney"
         },
         {
          "Date": "2019-01-16T00:00:00",
          "User": "rrhoney"
         },
         {
          "Date": "2019-01-16T00:00:00",
          "User": "rrhoney"
         },
         {
          "Date": "2019-01-17T00:00:00",
          "User": "rrhoney"
         },
         {
          "Date": "2019-01-18T00:00:00",
          "User": "rrhoney"
         },
         {
          "Date": "2019-01-18T00:00:00",
          "User": "rrhoney"
         },
         {
          "Date": "2019-01-21T00:00:00",
          "User": "rrhoney"
         },
         {
          "Date": "2019-01-28T00:00:00",
          "User": "rrhoney"
         },
         {
          "Date": "2019-01-28T00:00:00",
          "User": "rrhoney"
         },
         {
          "Date": "2019-01-29T00:00:00",
          "User": "rrhoney"
         },
         {
          "Date": "2019-01-29T00:00:00",
          "User": "rrhoney"
         },
         {
          "Date": "2019-01-29T00:00:00",
          "User": "rrhoney"
         },
         {
          "Date": "2019-01-30T00:00:00",
          "User": "rrhoney"
         },
         {
          "Date": "2019-01-30T00:00:00",
          "User": "rrhoney"
         },
         {
          "Date": "2019-01-31T00:00:00",
          "User": "rrhoney"
         },
         {
          "Date": "2019-02-01T00:00:00",
          "User": "rrhoney"
         },
         {
          "Date": "2019-02-04T00:00:00",
          "User": "rrhoney"
         },
         {
          "Date": "2019-02-05T00:00:00",
          "User": "rrhoney"
         },
         {
          "Date": "2019-02-07T00:00:00",
          "User": "rrhoney"
         },
         {
          "Date": "2019-02-08T00:00:00",
          "User": "rrhoney"
         },
         {
          "Date": "2019-02-08T00:00:00",
          "User": "rrhoney"
         },
         {
          "Date": "2019-02-09T00:00:00",
          "User": "rrhoney"
         },
         {
          "Date": "2019-02-10T00:00:00",
          "User": "rrhoney"
         },
         {
          "Date": "2019-02-11T00:00:00",
          "User": "rrhoney"
         },
         {
          "Date": "2019-02-12T00:00:00",
          "User": "rrhoney"
         },
         {
          "Date": "2019-02-13T00:00:00",
          "User": "rrhoney"
         },
         {
          "Date": "2019-02-14T00:00:00",
          "User": "rrhoney"
         },
         {
          "Date": "2019-02-14T00:00:00",
          "User": "rrhoney"
         },
         {
          "Date": "2019-02-15T00:00:00",
          "User": "rrhoney"
         },
         {
          "Date": "2019-02-15T00:00:00",
          "User": "rrhoney"
         },
         {
          "Date": "2019-02-20T00:00:00",
          "User": "rrhoney"
         },
         {
          "Date": "2019-02-21T00:00:00",
          "User": "rrhoney"
         },
         {
          "Date": "2019-02-21T00:00:00",
          "User": "rrhoney"
         },
         {
          "Date": "2019-02-22T00:00:00",
          "User": "rrhoney"
         },
         {
          "Date": "2019-02-22T00:00:00",
          "User": "rrhoney"
         },
         {
          "Date": "2019-02-25T00:00:00",
          "User": "rrhoney"
         },
         {
          "Date": "2019-02-28T00:00:00",
          "User": "rrhoney"
         },
         {
          "Date": "2019-03-01T00:00:00",
          "User": "rrhoney"
         },
         {
          "Date": "2019-03-03T00:00:00",
          "User": "rrhoney"
         },
         {
          "Date": "2019-03-04T00:00:00",
          "User": "rrhoney"
         },
         {
          "Date": "2019-03-05T00:00:00",
          "User": "rrhoney"
         },
         {
          "Date": "2019-03-05T00:00:00",
          "User": "rrhoney"
         },
         {
          "Date": "2019-03-07T00:00:00",
          "User": "rrhoney"
         },
         {
          "Date": "2019-03-07T00:00:00",
          "User": "rrhoney"
         },
         {
          "Date": "2019-03-08T00:00:00",
          "User": "rrhoney"
         },
         {
          "Date": "2019-03-09T00:00:00",
          "User": "rrhoney"
         },
         {
          "Date": "2019-03-10T00:00:00",
          "User": "rrhoney"
         },
         {
          "Date": "2019-03-11T00:00:00",
          "User": "rrhoney"
         },
         {
          "Date": "2019-03-11T00:00:00",
          "User": "rrhoney"
         },
         {
          "Date": "2019-03-12T00:00:00",
          "User": "rrhoney"
         },
         {
          "Date": "2019-03-13T00:00:00",
          "User": "rrhoney"
         },
         {
          "Date": "2019-03-14T00:00:00",
          "User": "rrhoney"
         },
         {
          "Date": "2019-03-14T00:00:00",
          "User": "rrhoney"
         },
         {
          "Date": "2019-03-14T00:00:00",
          "User": "rrhoney"
         },
         {
          "Date": "2019-03-15T00:00:00",
          "User": "rrhoney"
         },
         {
          "Date": "2019-03-18T00:00:00",
          "User": "rrhoney"
         },
         {
          "Date": "2019-03-19T00:00:00",
          "User": "rrhoney"
         },
         {
          "Date": "2019-03-20T00:00:00",
          "User": "rrhoney"
         },
         {
          "Date": "2019-03-20T00:00:00",
          "User": "rrhoney"
         },
         {
          "Date": "2019-03-21T00:00:00",
          "User": "rrhoney"
         },
         {
          "Date": "2019-03-22T00:00:00",
          "User": "rrhoney"
         },
         {
          "Date": "2019-03-22T00:00:00",
          "User": "rrhoney"
         },
         {
          "Date": "2019-04-04T00:00:00",
          "User": "rrhoney"
         },
         {
          "Date": "2019-04-05T00:00:00",
          "User": "rrhoney"
         },
         {
          "Date": "2019-04-05T00:00:00",
          "User": "rrhoney"
         },
         {
          "Date": "2019-04-07T00:00:00",
          "User": "rrhoney"
         },
         {
          "Date": "2019-04-07T00:00:00",
          "User": "rrhoney"
         },
         {
          "Date": "2019-04-08T00:00:00",
          "User": "rrhoney"
         },
         {
          "Date": "2019-04-08T00:00:00",
          "User": "rrhoney"
         },
         {
          "Date": "2019-04-09T00:00:00",
          "User": "rrhoney"
         },
         {
          "Date": "2019-03-21T00:00:00",
          "User": "ffm10"
         },
         {
          "Date": "2019-04-08T00:00:00",
          "User": "fha18"
         },
         {
          "Date": "2019-01-09T00:00:00",
          "User": "sgyengich"
         },
         {
          "Date": "2019-01-24T00:00:00",
          "User": "sgyengich"
         },
         {
          "Date": "2019-04-04T00:00:00",
          "User": "sgyengich"
         },
         {
          "Date": "2019-03-22T00:00:00",
          "User": "ershreve"
         },
         {
          "Date": "2019-03-27T00:00:00",
          "User": "ershreve"
         },
         {
          "Date": "2019-04-01T00:00:00",
          "User": "ershreve"
         },
         {
          "Date": "2019-04-02T00:00:00",
          "User": "ershreve"
         },
         {
          "Date": "2019-03-27T00:00:00",
          "User": "FHA19"
         },
         {
          "Date": "2019-03-28T00:00:00",
          "User": "FHA19"
         },
         {
          "Date": "2019-04-04T00:00:00",
          "User": "FHA19"
         },
         {
          "Date": "2019-04-08T00:00:00",
          "User": "FHA19"
         },
         {
          "Date": "2019-02-13T00:00:00",
          "User": "amdykstra"
         },
         {
          "Date": "2019-01-30T00:00:00",
          "User": "ffm15"
         },
         {
          "Date": "2019-02-21T00:00:00",
          "User": "ffm15"
         },
         {
          "Date": "2019-02-21T00:00:00",
          "User": "ffm15"
         },
         {
          "Date": "2019-02-21T00:00:00",
          "User": "ffm15"
         },
         {
          "Date": "2019-03-04T00:00:00",
          "User": "ffm15"
         },
         {
          "Date": "2019-03-04T00:00:00",
          "User": "ffm15"
         },
         {
          "Date": "2019-03-11T00:00:00",
          "User": "ffm15"
         },
         {
          "Date": "2019-01-08T00:00:00",
          "User": "slfalkowski"
         },
         {
          "Date": "2019-01-23T00:00:00",
          "User": "slfalkowski"
         },
         {
          "Date": "2019-01-23T00:00:00",
          "User": "slfalkowski"
         },
         {
          "Date": "2019-01-23T00:00:00",
          "User": "slfalkowski"
         },
         {
          "Date": "2019-01-23T00:00:00",
          "User": "slfalkowski"
         },
         {
          "Date": "2019-01-23T00:00:00",
          "User": "slfalkowski"
         },
         {
          "Date": "2019-01-23T00:00:00",
          "User": "slfalkowski"
         },
         {
          "Date": "2019-01-07T00:00:00",
          "User": "llsauve"
         },
         {
          "Date": "2019-01-08T00:00:00",
          "User": "llsauve"
         },
         {
          "Date": "2019-01-08T00:00:00",
          "User": "llsauve"
         },
         {
          "Date": "2019-01-09T00:00:00",
          "User": "llsauve"
         },
         {
          "Date": "2019-01-10T00:00:00",
          "User": "llsauve"
         },
         {
          "Date": "2019-01-11T00:00:00",
          "User": "llsauve"
         },
         {
          "Date": "2019-01-12T00:00:00",
          "User": "llsauve"
         },
         {
          "Date": "2019-01-12T00:00:00",
          "User": "llsauve"
         },
         {
          "Date": "2019-01-13T00:00:00",
          "User": "llsauve"
         },
         {
          "Date": "2019-01-14T00:00:00",
          "User": "llsauve"
         },
         {
          "Date": "2019-01-14T00:00:00",
          "User": "llsauve"
         },
         {
          "Date": "2019-01-15T00:00:00",
          "User": "llsauve"
         },
         {
          "Date": "2019-01-16T00:00:00",
          "User": "llsauve"
         },
         {
          "Date": "2019-01-17T00:00:00",
          "User": "llsauve"
         },
         {
          "Date": "2019-01-18T00:00:00",
          "User": "llsauve"
         },
         {
          "Date": "2019-01-19T00:00:00",
          "User": "llsauve"
         },
         {
          "Date": "2019-01-20T00:00:00",
          "User": "llsauve"
         },
         {
          "Date": "2019-01-21T00:00:00",
          "User": "llsauve"
         },
         {
          "Date": "2019-01-21T00:00:00",
          "User": "llsauve"
         },
         {
          "Date": "2019-01-22T00:00:00",
          "User": "llsauve"
         },
         {
          "Date": "2019-01-23T00:00:00",
          "User": "llsauve"
         },
         {
          "Date": "2019-01-23T00:00:00",
          "User": "llsauve"
         },
         {
          "Date": "2019-01-24T00:00:00",
          "User": "llsauve"
         },
         {
          "Date": "2019-01-25T00:00:00",
          "User": "llsauve"
         },
         {
          "Date": "2019-01-26T00:00:00",
          "User": "llsauve"
         },
         {
          "Date": "2019-01-26T00:00:00",
          "User": "llsauve"
         },
         {
          "Date": "2019-01-27T00:00:00",
          "User": "llsauve"
         },
         {
          "Date": "2019-01-27T00:00:00",
          "User": "llsauve"
         },
         {
          "Date": "2019-01-28T00:00:00",
          "User": "llsauve"
         },
         {
          "Date": "2019-01-29T00:00:00",
          "User": "llsauve"
         },
         {
          "Date": "2019-01-30T00:00:00",
          "User": "llsauve"
         },
         {
          "Date": "2019-01-31T00:00:00",
          "User": "llsauve"
         },
         {
          "Date": "2019-02-01T00:00:00",
          "User": "llsauve"
         },
         {
          "Date": "2019-02-02T00:00:00",
          "User": "llsauve"
         },
         {
          "Date": "2019-02-02T00:00:00",
          "User": "llsauve"
         },
         {
          "Date": "2019-02-03T00:00:00",
          "User": "llsauve"
         },
         {
          "Date": "2019-02-03T00:00:00",
          "User": "llsauve"
         },
         {
          "Date": "2019-02-04T00:00:00",
          "User": "llsauve"
         },
         {
          "Date": "2019-02-04T00:00:00",
          "User": "llsauve"
         },
         {
          "Date": "2019-02-05T00:00:00",
          "User": "llsauve"
         },
         {
          "Date": "2019-02-06T00:00:00",
          "User": "llsauve"
         },
         {
          "Date": "2019-02-07T00:00:00",
          "User": "llsauve"
         },
         {
          "Date": "2019-02-07T00:00:00",
          "User": "llsauve"
         },
         {
          "Date": "2019-02-07T00:00:00",
          "User": "llsauve"
         },
         {
          "Date": "2019-02-10T00:00:00",
          "User": "llsauve"
         },
         {
          "Date": "2019-02-10T00:00:00",
          "User": "llsauve"
         },
         {
          "Date": "2019-02-10T00:00:00",
          "User": "llsauve"
         },
         {
          "Date": "2019-02-11T00:00:00",
          "User": "llsauve"
         },
         {
          "Date": "2019-02-13T00:00:00",
          "User": "llsauve"
         },
         {
          "Date": "2019-02-15T00:00:00",
          "User": "llsauve"
         },
         {
          "Date": "2019-02-16T00:00:00",
          "User": "llsauve"
         },
         {
          "Date": "2019-02-17T00:00:00",
          "User": "llsauve"
         },
         {
          "Date": "2019-02-17T00:00:00",
          "User": "llsauve"
         },
         {
          "Date": "2019-02-17T00:00:00",
          "User": "llsauve"
         },
         {
          "Date": "2019-02-18T00:00:00",
          "User": "llsauve"
         },
         {
          "Date": "2019-02-19T00:00:00",
          "User": "llsauve"
         },
         {
          "Date": "2019-02-20T00:00:00",
          "User": "llsauve"
         },
         {
          "Date": "2019-02-20T00:00:00",
          "User": "llsauve"
         },
         {
          "Date": "2019-02-21T00:00:00",
          "User": "llsauve"
         },
         {
          "Date": "2019-02-21T00:00:00",
          "User": "llsauve"
         },
         {
          "Date": "2019-02-22T00:00:00",
          "User": "llsauve"
         },
         {
          "Date": "2019-02-23T00:00:00",
          "User": "llsauve"
         },
         {
          "Date": "2019-02-24T00:00:00",
          "User": "llsauve"
         },
         {
          "Date": "2019-02-26T00:00:00",
          "User": "llsauve"
         },
         {
          "Date": "2019-02-27T00:00:00",
          "User": "llsauve"
         },
         {
          "Date": "2019-02-28T00:00:00",
          "User": "llsauve"
         },
         {
          "Date": "2019-03-01T00:00:00",
          "User": "llsauve"
         },
         {
          "Date": "2019-03-01T00:00:00",
          "User": "llsauve"
         },
         {
          "Date": "2019-03-04T00:00:00",
          "User": "llsauve"
         },
         {
          "Date": "2019-03-05T00:00:00",
          "User": "llsauve"
         },
         {
          "Date": "2019-03-06T00:00:00",
          "User": "llsauve"
         },
         {
          "Date": "2019-03-07T00:00:00",
          "User": "llsauve"
         },
         {
          "Date": "2019-03-07T00:00:00",
          "User": "llsauve"
         },
         {
          "Date": "2019-03-08T00:00:00",
          "User": "llsauve"
         },
         {
          "Date": "2019-03-09T00:00:00",
          "User": "llsauve"
         },
         {
          "Date": "2019-03-10T00:00:00",
          "User": "llsauve"
         },
         {
          "Date": "2019-03-11T00:00:00",
          "User": "llsauve"
         },
         {
          "Date": "2019-03-12T00:00:00",
          "User": "llsauve"
         },
         {
          "Date": "2019-03-12T00:00:00",
          "User": "llsauve"
         },
         {
          "Date": "2019-03-13T00:00:00",
          "User": "llsauve"
         },
         {
          "Date": "2019-03-13T00:00:00",
          "User": "llsauve"
         },
         {
          "Date": "2019-03-14T00:00:00",
          "User": "llsauve"
         },
         {
          "Date": "2019-03-14T00:00:00",
          "User": "llsauve"
         },
         {
          "Date": "2019-03-15T00:00:00",
          "User": "llsauve"
         },
         {
          "Date": "2019-03-17T00:00:00",
          "User": "llsauve"
         },
         {
          "Date": "2019-03-18T00:00:00",
          "User": "llsauve"
         },
         {
          "Date": "2019-03-19T00:00:00",
          "User": "llsauve"
         },
         {
          "Date": "2019-03-20T00:00:00",
          "User": "llsauve"
         },
         {
          "Date": "2019-03-21T00:00:00",
          "User": "llsauve"
         },
         {
          "Date": "2019-03-22T00:00:00",
          "User": "llsauve"
         },
         {
          "Date": "2019-03-23T00:00:00",
          "User": "llsauve"
         },
         {
          "Date": "2019-03-23T00:00:00",
          "User": "llsauve"
         },
         {
          "Date": "2019-03-24T00:00:00",
          "User": "llsauve"
         },
         {
          "Date": "2019-03-24T00:00:00",
          "User": "llsauve"
         },
         {
          "Date": "2019-03-25T00:00:00",
          "User": "llsauve"
         },
         {
          "Date": "2019-03-26T00:00:00",
          "User": "llsauve"
         },
         {
          "Date": "2019-03-26T00:00:00",
          "User": "llsauve"
         },
         {
          "Date": "2019-03-27T00:00:00",
          "User": "llsauve"
         },
         {
          "Date": "2019-03-28T00:00:00",
          "User": "llsauve"
         },
         {
          "Date": "2019-03-29T00:00:00",
          "User": "llsauve"
         },
         {
          "Date": "2019-03-29T00:00:00",
          "User": "llsauve"
         },
         {
          "Date": "2019-03-31T00:00:00",
          "User": "llsauve"
         },
         {
          "Date": "2019-03-31T00:00:00",
          "User": "llsauve"
         },
         {
          "Date": "2019-04-02T00:00:00",
          "User": "llsauve"
         },
         {
          "Date": "2019-04-02T00:00:00",
          "User": "llsauve"
         },
         {
          "Date": "2019-04-03T00:00:00",
          "User": "llsauve"
         },
         {
          "Date": "2019-04-03T00:00:00",
          "User": "llsauve"
         },
         {
          "Date": "2019-04-04T00:00:00",
          "User": "llsauve"
         },
         {
          "Date": "2019-04-05T00:00:00",
          "User": "llsauve"
         },
         {
          "Date": "2019-04-06T00:00:00",
          "User": "llsauve"
         },
         {
          "Date": "2019-04-06T00:00:00",
          "User": "llsauve"
         },
         {
          "Date": "2019-04-07T00:00:00",
          "User": "llsauve"
         },
         {
          "Date": "2019-04-08T00:00:00",
          "User": "llsauve"
         },
         {
          "Date": "2019-04-09T00:00:00",
          "User": "llsauve"
         },
         {
          "Date": "2019-04-01T00:00:00",
          "User": "lbrodsky"
         },
         {
          "Date": "2019-04-02T00:00:00",
          "User": "lbrodsky"
         },
         {
          "Date": "2019-04-05T00:00:00",
          "User": "lbrodsky"
         },
         {
          "Date": "2019-04-06T00:00:00",
          "User": "lbrodsky"
         },
         {
          "Date": "2019-04-08T00:00:00",
          "User": "lbrodsky"
         },
         {
          "Date": "2019-03-26T00:00:00",
          "User": "klevans"
         },
         {
          "Date": "2019-04-04T00:00:00",
          "User": "klevans"
         },
         {
          "Date": "2019-03-11T00:00:00",
          "User": "ljembree"
         },
         {
          "Date": "2019-03-11T00:00:00",
          "User": "ljembree"
         },
         {
          "Date": "2019-03-11T00:00:00",
          "User": "ljembree"
         },
         {
          "Date": "2019-03-11T00:00:00",
          "User": "ljembree"
         },
         {
          "Date": "2019-03-12T00:00:00",
          "User": "ljembree"
         },
         {
          "Date": "2019-03-13T00:00:00",
          "User": "ljembree"
         },
         {
          "Date": "2019-03-15T00:00:00",
          "User": "ljembree"
         },
         {
          "Date": "2019-03-18T00:00:00",
          "User": "ljembree"
         },
         {
          "Date": "2019-03-19T00:00:00",
          "User": "ljembree"
         },
         {
          "Date": "2019-03-19T00:00:00",
          "User": "ljembree"
         },
         {
          "Date": "2019-03-20T00:00:00",
          "User": "ljembree"
         },
         {
          "Date": "2019-03-20T00:00:00",
          "User": "ljembree"
         },
         {
          "Date": "2019-03-20T00:00:00",
          "User": "ljembree"
         },
         {
          "Date": "2019-03-21T00:00:00",
          "User": "ljembree"
         },
         {
          "Date": "2019-03-22T00:00:00",
          "User": "ljembree"
         },
         {
          "Date": "2019-03-24T00:00:00",
          "User": "ljembree"
         },
         {
          "Date": "2019-03-25T00:00:00",
          "User": "ljembree"
         },
         {
          "Date": "2019-03-25T00:00:00",
          "User": "ljembree"
         },
         {
          "Date": "2019-03-25T00:00:00",
          "User": "ljembree"
         },
         {
          "Date": "2019-03-26T00:00:00",
          "User": "ljembree"
         },
         {
          "Date": "2019-03-26T00:00:00",
          "User": "ljembree"
         },
         {
          "Date": "2019-03-26T00:00:00",
          "User": "ljembree"
         },
         {
          "Date": "2019-03-27T00:00:00",
          "User": "ljembree"
         },
         {
          "Date": "2019-03-27T00:00:00",
          "User": "ljembree"
         },
         {
          "Date": "2019-03-28T00:00:00",
          "User": "ljembree"
         },
         {
          "Date": "2019-03-31T00:00:00",
          "User": "ljembree"
         },
         {
          "Date": "2019-04-01T00:00:00",
          "User": "ljembree"
         },
         {
          "Date": "2019-04-01T00:00:00",
          "User": "ljembree"
         },
         {
          "Date": "2019-04-01T00:00:00",
          "User": "ljembree"
         },
         {
          "Date": "2019-04-01T00:00:00",
          "User": "ljembree"
         },
         {
          "Date": "2019-04-01T00:00:00",
          "User": "ljembree"
         },
         {
          "Date": "2019-04-02T00:00:00",
          "User": "ljembree"
         },
         {
          "Date": "2019-04-02T00:00:00",
          "User": "ljembree"
         },
         {
          "Date": "2019-04-03T00:00:00",
          "User": "ljembree"
         },
         {
          "Date": "2019-04-03T00:00:00",
          "User": "ljembree"
         },
         {
          "Date": "2019-04-03T00:00:00",
          "User": "ljembree"
         },
         {
          "Date": "2019-04-03T00:00:00",
          "User": "ljembree"
         },
         {
          "Date": "2019-04-03T00:00:00",
          "User": "ljembree"
         },
         {
          "Date": "2019-04-03T00:00:00",
          "User": "ljembree"
         },
         {
          "Date": "2019-04-03T00:00:00",
          "User": "ljembree"
         },
         {
          "Date": "2019-04-04T00:00:00",
          "User": "ljembree"
         },
         {
          "Date": "2019-04-05T00:00:00",
          "User": "ljembree"
         },
         {
          "Date": "2019-04-06T00:00:00",
          "User": "ljembree"
         },
         {
          "Date": "2019-04-07T00:00:00",
          "User": "ljembree"
         },
         {
          "Date": "2019-04-08T00:00:00",
          "User": "ljembree"
         },
         {
          "Date": "2019-04-08T00:00:00",
          "User": "ljembree"
         },
         {
          "Date": "2019-04-08T00:00:00",
          "User": "ljembree"
         },
         {
          "Date": "2019-04-09T00:00:00",
          "User": "ljembree"
         },
         {
          "Date": "2019-01-23T00:00:00",
          "User": "healthco"
         },
         {
          "Date": "2019-01-31T00:00:00",
          "User": "sblasco"
         },
         {
          "Date": "2019-02-26T00:00:00",
          "User": "sblasco"
         },
         {
          "Date": "2019-01-28T00:00:00",
          "User": "ffm14"
         },
         {
          "Date": "2019-02-21T00:00:00",
          "User": "ffm14"
         },
         {
          "Date": "2019-02-27T00:00:00",
          "User": "ffm14"
         },
         {
          "Date": "2019-02-28T00:00:00",
          "User": "ffm14"
         },
         {
          "Date": "2019-03-20T00:00:00",
          "User": "ffm14"
         },
         {
          "Date": "2019-03-25T00:00:00",
          "User": "ffm14"
         },
         {
          "Date": "2019-03-25T00:00:00",
          "User": "ffm14"
         },
         {
          "Date": "2019-02-06T00:00:00",
          "User": "hsherdman"
         },
         {
          "Date": "2019-03-19T00:00:00",
          "User": "hsherdman"
         },
         {
          "Date": "2019-03-19T00:00:00",
          "User": "hsherdman"
         },
         {
          "Date": "2019-03-19T00:00:00",
          "User": "hsherdman"
         },
         {
          "Date": "2019-02-07T00:00:00",
          "User": "jmjohnson"
         },
         {
          "Date": "2019-02-07T00:00:00",
          "User": "jmjohnson"
         },
         {
          "Date": "2019-02-07T00:00:00",
          "User": "jmjohnson"
         },
         {
          "Date": "2019-02-07T00:00:00",
          "User": "jmjohnson"
         },
         {
          "Date": "2019-01-08T00:00:00",
          "User": "rjanderson"
         },
         {
          "Date": "2019-01-08T00:00:00",
          "User": "rjanderson"
         },
         {
          "Date": "2019-01-15T00:00:00",
          "User": "rjanderson"
         },
         {
          "Date": "2019-01-22T00:00:00",
          "User": "rjanderson"
         },
         {
          "Date": "2019-01-22T00:00:00",
          "User": "rjanderson"
         },
         {
          "Date": "2019-01-23T00:00:00",
          "User": "rjanderson"
         },
         {
          "Date": "2019-01-24T00:00:00",
          "User": "rjanderson"
         },
         {
          "Date": "2019-01-24T00:00:00",
          "User": "rjanderson"
         },
         {
          "Date": "2019-01-26T00:00:00",
          "User": "rjanderson"
         },
         {
          "Date": "2019-01-29T00:00:00",
          "User": "rjanderson"
         },
         {
          "Date": "2019-01-29T00:00:00",
          "User": "rjanderson"
         },
         {
          "Date": "2019-01-30T00:00:00",
          "User": "rjanderson"
         },
         {
          "Date": "2019-02-01T00:00:00",
          "User": "rjanderson"
         },
         {
          "Date": "2019-02-04T00:00:00",
          "User": "rjanderson"
         },
         {
          "Date": "2019-02-05T00:00:00",
          "User": "rjanderson"
         },
         {
          "Date": "2019-02-05T00:00:00",
          "User": "rjanderson"
         },
         {
          "Date": "2019-02-06T00:00:00",
          "User": "rjanderson"
         },
         {
          "Date": "2019-02-07T00:00:00",
          "User": "rjanderson"
         },
         {
          "Date": "2019-02-11T00:00:00",
          "User": "rjanderson"
         },
         {
          "Date": "2019-02-14T00:00:00",
          "User": "rjanderson"
         },
         {
          "Date": "2019-02-19T00:00:00",
          "User": "rjanderson"
         },
         {
          "Date": "2019-02-21T00:00:00",
          "User": "rjanderson"
         },
         {
          "Date": "2019-03-12T00:00:00",
          "User": "rjanderson"
         },
         {
          "Date": "2019-03-21T00:00:00",
          "User": "rjanderson"
         },
         {
          "Date": "2019-03-21T00:00:00",
          "User": "rjanderson"
         },
         {
          "Date": "2019-03-24T00:00:00",
          "User": "rjanderson"
         },
         {
          "Date": "2019-03-25T00:00:00",
          "User": "rjanderson"
         },
         {
          "Date": "2019-03-26T00:00:00",
          "User": "rjanderson"
         },
         {
          "Date": "2019-03-28T00:00:00",
          "User": "rjanderson"
         },
         {
          "Date": "2019-04-09T00:00:00",
          "User": "rjanderson"
         },
         {
          "Date": "2019-01-10T00:00:00",
          "User": "akwakefield"
         },
         {
          "Date": "2019-01-24T00:00:00",
          "User": "akwakefield"
         },
         {
          "Date": "2019-01-28T00:00:00",
          "User": "akwakefield"
         },
         {
          "Date": "2019-01-29T00:00:00",
          "User": "akwakefield"
         },
         {
          "Date": "2019-01-30T00:00:00",
          "User": "akwakefield"
         },
         {
          "Date": "2019-01-30T00:00:00",
          "User": "akwakefield"
         },
         {
          "Date": "2019-01-31T00:00:00",
          "User": "akwakefield"
         },
         {
          "Date": "2019-02-01T00:00:00",
          "User": "akwakefield"
         },
         {
          "Date": "2019-02-04T00:00:00",
          "User": "akwakefield"
         },
         {
          "Date": "2019-02-06T00:00:00",
          "User": "akwakefield"
         },
         {
          "Date": "2019-02-07T00:00:00",
          "User": "akwakefield"
         },
         {
          "Date": "2019-02-10T00:00:00",
          "User": "akwakefield"
         },
         {
          "Date": "2019-02-12T00:00:00",
          "User": "akwakefield"
         },
         {
          "Date": "2019-02-13T00:00:00",
          "User": "akwakefield"
         },
         {
          "Date": "2019-02-14T00:00:00",
          "User": "akwakefield"
         },
         {
          "Date": "2019-02-18T00:00:00",
          "User": "akwakefield"
         },
         {
          "Date": "2019-02-19T00:00:00",
          "User": "akwakefield"
         },
         {
          "Date": "2019-02-20T00:00:00",
          "User": "akwakefield"
         },
         {
          "Date": "2019-02-21T00:00:00",
          "User": "akwakefield"
         },
         {
          "Date": "2019-02-21T00:00:00",
          "User": "akwakefield"
         },
         {
          "Date": "2019-02-23T00:00:00",
          "User": "akwakefield"
         },
         {
          "Date": "2019-02-24T00:00:00",
          "User": "akwakefield"
         },
         {
          "Date": "2019-02-25T00:00:00",
          "User": "akwakefield"
         },
         {
          "Date": "2019-02-26T00:00:00",
          "User": "akwakefield"
         },
         {
          "Date": "2019-02-27T00:00:00",
          "User": "akwakefield"
         },
         {
          "Date": "2019-02-28T00:00:00",
          "User": "akwakefield"
         },
         {
          "Date": "2019-03-03T00:00:00",
          "User": "akwakefield"
         },
         {
          "Date": "2019-03-04T00:00:00",
          "User": "akwakefield"
         },
         {
          "Date": "2019-03-05T00:00:00",
          "User": "akwakefield"
         },
         {
          "Date": "2019-03-05T00:00:00",
          "User": "akwakefield"
         },
         {
          "Date": "2019-03-06T00:00:00",
          "User": "akwakefield"
         },
         {
          "Date": "2019-03-07T00:00:00",
          "User": "akwakefield"
         },
         {
          "Date": "2019-03-11T00:00:00",
          "User": "akwakefield"
         },
         {
          "Date": "2019-03-12T00:00:00",
          "User": "akwakefield"
         },
         {
          "Date": "2019-03-12T00:00:00",
          "User": "akwakefield"
         },
         {
          "Date": "2019-03-13T00:00:00",
          "User": "akwakefield"
         },
         {
          "Date": "2019-03-14T00:00:00",
          "User": "akwakefield"
         },
         {
          "Date": "2019-03-18T00:00:00",
          "User": "akwakefield"
         },
         {
          "Date": "2019-03-18T00:00:00",
          "User": "akwakefield"
         },
         {
          "Date": "2019-03-19T00:00:00",
          "User": "akwakefield"
         },
         {
          "Date": "2019-03-19T00:00:00",
          "User": "akwakefield"
         },
         {
          "Date": "2019-03-19T00:00:00",
          "User": "akwakefield"
         },
         {
          "Date": "2019-03-20T00:00:00",
          "User": "akwakefield"
         },
         {
          "Date": "2019-03-21T00:00:00",
          "User": "akwakefield"
         },
         {
          "Date": "2019-03-24T00:00:00",
          "User": "akwakefield"
         },
         {
          "Date": "2019-03-25T00:00:00",
          "User": "akwakefield"
         },
         {
          "Date": "2019-03-26T00:00:00",
          "User": "akwakefield"
         },
         {
          "Date": "2019-03-27T00:00:00",
          "User": "akwakefield"
         },
         {
          "Date": "2019-03-27T00:00:00",
          "User": "akwakefield"
         },
         {
          "Date": "2019-03-29T00:00:00",
          "User": "akwakefield"
         },
         {
          "Date": "2019-03-29T00:00:00",
          "User": "akwakefield"
         },
         {
          "Date": "2019-03-31T00:00:00",
          "User": "akwakefield"
         },
         {
          "Date": "2019-03-31T00:00:00",
          "User": "akwakefield"
         },
         {
          "Date": "2019-03-31T00:00:00",
          "User": "akwakefield"
         },
         {
          "Date": "2019-03-31T00:00:00",
          "User": "akwakefield"
         },
         {
          "Date": "2019-04-01T00:00:00",
          "User": "akwakefield"
         },
         {
          "Date": "2019-04-01T00:00:00",
          "User": "akwakefield"
         },
         {
          "Date": "2019-04-02T00:00:00",
          "User": "akwakefield"
         },
         {
          "Date": "2019-04-03T00:00:00",
          "User": "akwakefield"
         },
         {
          "Date": "2019-04-03T00:00:00",
          "User": "akwakefield"
         },
         {
          "Date": "2019-04-04T00:00:00",
          "User": "akwakefield"
         },
         {
          "Date": "2019-04-05T00:00:00",
          "User": "akwakefield"
         },
         {
          "Date": "2019-04-06T00:00:00",
          "User": "akwakefield"
         },
         {
          "Date": "2019-04-07T00:00:00",
          "User": "akwakefield"
         },
         {
          "Date": "2019-04-08T00:00:00",
          "User": "akwakefield"
         },
         {
          "Date": "2019-04-09T00:00:00",
          "User": "akwakefield"
         },
         {
          "Date": "2019-04-09T00:00:00",
          "User": "akwakefield"
         },
         {
          "Date": "2019-02-18T00:00:00",
          "User": "rmlarrabee"
         },
         {
          "Date": "2019-03-28T00:00:00",
          "User": "Klmatthews"
         },
         {
          "Date": "2019-04-05T00:00:00",
          "User": "archarvet"
         },
         {
          "Date": "2019-04-05T00:00:00",
          "User": "archarvet"
         },
         {
          "Date": "2019-03-15T00:00:00",
          "User": "kjcruz"
         },
         {
          "Date": "2019-03-13T00:00:00",
          "User": "smbriceno"
         },
         {
          "Date": "2019-04-04T00:00:00",
          "User": "rdbradt"
         },
         {
          "Date": "2019-04-05T00:00:00",
          "User": "rdbradt"
         },
         {
          "Date": "2019-04-06T00:00:00",
          "User": "rdbradt"
         },
         {
          "Date": "2019-02-01T00:00:00",
          "User": "jlhammon"
         },
         {
          "Date": "2019-02-01T00:00:00",
          "User": "jlhammon"
         },
         {
          "Date": "2019-01-24T00:00:00",
          "User": "mburgos"
         },
         {
          "Date": "2019-01-31T00:00:00",
          "User": "stmcallister"
         },
         {
          "Date": "2019-01-31T00:00:00",
          "User": "stmcallister"
         },
         {
          "Date": "2019-02-01T00:00:00",
          "User": "stmcallister"
         },
         {
          "Date": "2019-02-02T00:00:00",
          "User": "stmcallister"
         },
         {
          "Date": "2019-02-04T00:00:00",
          "User": "stmcallister"
         },
         {
          "Date": "2019-02-05T00:00:00",
          "User": "stmcallister"
         },
         {
          "Date": "2019-02-05T00:00:00",
          "User": "stmcallister"
         },
         {
          "Date": "2019-02-05T00:00:00",
          "User": "stmcallister"
         },
         {
          "Date": "2019-02-06T00:00:00",
          "User": "stmcallister"
         },
         {
          "Date": "2019-02-06T00:00:00",
          "User": "stmcallister"
         },
         {
          "Date": "2019-02-06T00:00:00",
          "User": "stmcallister"
         },
         {
          "Date": "2019-02-06T00:00:00",
          "User": "stmcallister"
         },
         {
          "Date": "2019-02-07T00:00:00",
          "User": "stmcallister"
         },
         {
          "Date": "2019-02-08T00:00:00",
          "User": "stmcallister"
         },
         {
          "Date": "2019-02-08T00:00:00",
          "User": "stmcallister"
         },
         {
          "Date": "2019-02-18T00:00:00",
          "User": "stmcallister"
         },
         {
          "Date": "2019-02-18T00:00:00",
          "User": "stmcallister"
         },
         {
          "Date": "2019-02-19T00:00:00",
          "User": "stmcallister"
         },
         {
          "Date": "2019-02-19T00:00:00",
          "User": "stmcallister"
         },
         {
          "Date": "2019-02-20T00:00:00",
          "User": "stmcallister"
         },
         {
          "Date": "2019-02-20T00:00:00",
          "User": "stmcallister"
         },
         {
          "Date": "2019-02-20T00:00:00",
          "User": "stmcallister"
         },
         {
          "Date": "2019-02-20T00:00:00",
          "User": "stmcallister"
         },
         {
          "Date": "2019-02-20T00:00:00",
          "User": "stmcallister"
         },
         {
          "Date": "2019-02-21T00:00:00",
          "User": "stmcallister"
         },
         {
          "Date": "2019-02-21T00:00:00",
          "User": "stmcallister"
         },
         {
          "Date": "2019-02-21T00:00:00",
          "User": "stmcallister"
         },
         {
          "Date": "2019-02-22T00:00:00",
          "User": "stmcallister"
         },
         {
          "Date": "2019-02-22T00:00:00",
          "User": "stmcallister"
         },
         {
          "Date": "2019-02-22T00:00:00",
          "User": "stmcallister"
         },
         {
          "Date": "2019-02-22T00:00:00",
          "User": "stmcallister"
         },
         {
          "Date": "2019-02-24T00:00:00",
          "User": "stmcallister"
         },
         {
          "Date": "2019-02-25T00:00:00",
          "User": "stmcallister"
         },
         {
          "Date": "2019-02-26T00:00:00",
          "User": "stmcallister"
         },
         {
          "Date": "2019-02-26T00:00:00",
          "User": "stmcallister"
         },
         {
          "Date": "2019-02-26T00:00:00",
          "User": "stmcallister"
         },
         {
          "Date": "2019-02-26T00:00:00",
          "User": "stmcallister"
         },
         {
          "Date": "2019-02-27T00:00:00",
          "User": "stmcallister"
         },
         {
          "Date": "2019-02-27T00:00:00",
          "User": "stmcallister"
         },
         {
          "Date": "2019-02-27T00:00:00",
          "User": "stmcallister"
         },
         {
          "Date": "2019-02-28T00:00:00",
          "User": "stmcallister"
         },
         {
          "Date": "2019-03-01T00:00:00",
          "User": "stmcallister"
         },
         {
          "Date": "2019-03-01T00:00:00",
          "User": "stmcallister"
         },
         {
          "Date": "2019-03-01T00:00:00",
          "User": "stmcallister"
         },
         {
          "Date": "2019-03-04T00:00:00",
          "User": "stmcallister"
         },
         {
          "Date": "2019-03-05T00:00:00",
          "User": "stmcallister"
         },
         {
          "Date": "2019-03-05T00:00:00",
          "User": "stmcallister"
         },
         {
          "Date": "2019-03-06T00:00:00",
          "User": "stmcallister"
         },
         {
          "Date": "2019-03-06T00:00:00",
          "User": "stmcallister"
         },
         {
          "Date": "2019-03-07T00:00:00",
          "User": "stmcallister"
         },
         {
          "Date": "2019-03-07T00:00:00",
          "User": "stmcallister"
         },
         {
          "Date": "2019-03-07T00:00:00",
          "User": "stmcallister"
         },
         {
          "Date": "2019-03-08T00:00:00",
          "User": "stmcallister"
         },
         {
          "Date": "2019-03-08T00:00:00",
          "User": "stmcallister"
         },
         {
          "Date": "2019-03-10T00:00:00",
          "User": "stmcallister"
         },
         {
          "Date": "2019-03-12T00:00:00",
          "User": "stmcallister"
         },
         {
          "Date": "2019-03-12T00:00:00",
          "User": "stmcallister"
         },
         {
          "Date": "2019-03-13T00:00:00",
          "User": "stmcallister"
         },
         {
          "Date": "2019-03-14T00:00:00",
          "User": "stmcallister"
         },
         {
          "Date": "2019-03-14T00:00:00",
          "User": "stmcallister"
         },
         {
          "Date": "2019-03-14T00:00:00",
          "User": "stmcallister"
         },
         {
          "Date": "2019-03-14T00:00:00",
          "User": "stmcallister"
         },
         {
          "Date": "2019-03-15T00:00:00",
          "User": "stmcallister"
         },
         {
          "Date": "2019-03-15T00:00:00",
          "User": "stmcallister"
         },
         {
          "Date": "2019-03-17T00:00:00",
          "User": "stmcallister"
         },
         {
          "Date": "2019-03-18T00:00:00",
          "User": "stmcallister"
         },
         {
          "Date": "2019-03-19T00:00:00",
          "User": "stmcallister"
         },
         {
          "Date": "2019-03-19T00:00:00",
          "User": "stmcallister"
         },
         {
          "Date": "2019-03-20T00:00:00",
          "User": "stmcallister"
         },
         {
          "Date": "2019-03-21T00:00:00",
          "User": "stmcallister"
         },
         {
          "Date": "2019-03-22T00:00:00",
          "User": "stmcallister"
         },
         {
          "Date": "2019-03-22T00:00:00",
          "User": "stmcallister"
         },
         {
          "Date": "2019-03-24T00:00:00",
          "User": "stmcallister"
         },
         {
          "Date": "2019-03-25T00:00:00",
          "User": "stmcallister"
         },
         {
          "Date": "2019-03-26T00:00:00",
          "User": "stmcallister"
         },
         {
          "Date": "2019-03-26T00:00:00",
          "User": "stmcallister"
         },
         {
          "Date": "2019-03-27T00:00:00",
          "User": "stmcallister"
         },
         {
          "Date": "2019-03-28T00:00:00",
          "User": "stmcallister"
         },
         {
          "Date": "2019-03-28T00:00:00",
          "User": "stmcallister"
         },
         {
          "Date": "2019-03-29T00:00:00",
          "User": "stmcallister"
         },
         {
          "Date": "2019-03-30T00:00:00",
          "User": "stmcallister"
         },
         {
          "Date": "2019-03-30T00:00:00",
          "User": "stmcallister"
         },
         {
          "Date": "2019-04-04T00:00:00",
          "User": "stmcallister"
         },
         {
          "Date": "2019-04-05T00:00:00",
          "User": "stmcallister"
         },
         {
          "Date": "2019-04-05T00:00:00",
          "User": "stmcallister"
         },
         {
          "Date": "2019-04-08T00:00:00",
          "User": "stmcallister"
         },
         {
          "Date": "2019-04-09T00:00:00",
          "User": "stmcallister"
         },
         {
          "Date": "2019-01-21T00:00:00",
          "User": "eprieger"
         },
         {
          "Date": "2019-01-22T00:00:00",
          "User": "eprieger"
         },
         {
          "Date": "2019-01-23T00:00:00",
          "User": "eprieger"
         },
         {
          "Date": "2019-01-29T00:00:00",
          "User": "eprieger"
         },
         {
          "Date": "2019-01-30T00:00:00",
          "User": "eprieger"
         },
         {
          "Date": "2019-02-04T00:00:00",
          "User": "eprieger"
         },
         {
          "Date": "2019-02-06T00:00:00",
          "User": "eprieger"
         },
         {
          "Date": "2019-02-06T00:00:00",
          "User": "eprieger"
         },
         {
          "Date": "2019-02-19T00:00:00",
          "User": "eprieger"
         },
         {
          "Date": "2019-02-27T00:00:00",
          "User": "eprieger"
         },
         {
          "Date": "2019-02-27T00:00:00",
          "User": "eprieger"
         },
         {
          "Date": "2019-03-04T00:00:00",
          "User": "eprieger"
         },
         {
          "Date": "2019-03-04T00:00:00",
          "User": "eprieger"
         },
         {
          "Date": "2019-03-05T00:00:00",
          "User": "eprieger"
         },
         {
          "Date": "2019-03-06T00:00:00",
          "User": "eprieger"
         },
         {
          "Date": "2019-03-07T00:00:00",
          "User": "eprieger"
         },
         {
          "Date": "2019-03-18T00:00:00",
          "User": "eprieger"
         },
         {
          "Date": "2019-03-18T00:00:00",
          "User": "eprieger"
         },
         {
          "Date": "2019-03-18T00:00:00",
          "User": "eprieger"
         },
         {
          "Date": "2019-03-19T00:00:00",
          "User": "eprieger"
         },
         {
          "Date": "2019-03-19T00:00:00",
          "User": "eprieger"
         },
         {
          "Date": "2019-03-20T00:00:00",
          "User": "eprieger"
         },
         {
          "Date": "2019-03-20T00:00:00",
          "User": "eprieger"
         },
         {
          "Date": "2019-03-25T00:00:00",
          "User": "eprieger"
         },
         {
          "Date": "2019-03-26T00:00:00",
          "User": "eprieger"
         },
         {
          "Date": "2019-03-27T00:00:00",
          "User": "eprieger"
         },
         {
          "Date": "2019-04-01T00:00:00",
          "User": "eprieger"
         },
         {
          "Date": "2019-04-02T00:00:00",
          "User": "eprieger"
         },
         {
          "Date": "2019-04-03T00:00:00",
          "User": "eprieger"
         },
         {
          "Date": "2019-04-08T00:00:00",
          "User": "eprieger"
         },
         {
          "Date": "2019-04-09T00:00:00",
          "User": "eprieger"
         },
         {
          "Date": "2019-04-09T00:00:00",
          "User": "eprieger"
         },
         {
          "Date": "2019-01-16T00:00:00",
          "User": "fha4"
         },
         {
          "Date": "2019-03-05T00:00:00",
          "User": "fha4"
         },
         {
          "Date": "2019-03-05T00:00:00",
          "User": "fha4"
         },
         {
          "Date": "2019-01-15T00:00:00",
          "User": "tldingle"
         },
         {
          "Date": "2019-01-23T00:00:00",
          "User": "aabogaards"
         },
         {
          "Date": "2019-03-28T00:00:00",
          "User": "dbecerra"
         },
         {
          "Date": "2019-03-28T00:00:00",
          "User": "dbecerra"
         },
         {
          "Date": "2019-03-28T00:00:00",
          "User": "dbecerra"
         },
         {
          "Date": "2019-03-28T00:00:00",
          "User": "dbecerra"
         },
         {
          "Date": "2019-03-28T00:00:00",
          "User": "dbecerra"
         },
         {
          "Date": "2019-03-29T00:00:00",
          "User": "dbecerra"
         },
         {
          "Date": "2019-04-01T00:00:00",
          "User": "dbecerra"
         },
         {
          "Date": "2019-04-02T00:00:00",
          "User": "dbecerra"
         },
         {
          "Date": "2019-04-03T00:00:00",
          "User": "dbecerra"
         },
         {
          "Date": "2019-04-04T00:00:00",
          "User": "dbecerra"
         },
         {
          "Date": "2019-04-04T00:00:00",
          "User": "dbecerra"
         },
         {
          "Date": "2019-04-05T00:00:00",
          "User": "dbecerra"
         },
         {
          "Date": "2019-04-08T00:00:00",
          "User": "dbecerra"
         },
         {
          "Date": "2019-04-09T00:00:00",
          "User": "dbecerra"
         },
         {
          "Date": "2019-04-09T00:00:00",
          "User": "dbecerra"
         },
         {
          "Date": "2019-01-08T00:00:00",
          "User": "mafleming"
         },
         {
          "Date": "2019-01-17T00:00:00",
          "User": "mafleming"
         },
         {
          "Date": "2019-01-21T00:00:00",
          "User": "mafleming"
         },
         {
          "Date": "2019-01-22T00:00:00",
          "User": "mafleming"
         },
         {
          "Date": "2019-01-22T00:00:00",
          "User": "mafleming"
         },
         {
          "Date": "2019-01-22T00:00:00",
          "User": "mafleming"
         },
         {
          "Date": "2019-01-23T00:00:00",
          "User": "mafleming"
         },
         {
          "Date": "2019-01-23T00:00:00",
          "User": "mafleming"
         },
         {
          "Date": "2019-01-24T00:00:00",
          "User": "mafleming"
         },
         {
          "Date": "2019-01-24T00:00:00",
          "User": "mafleming"
         },
         {
          "Date": "2019-01-25T00:00:00",
          "User": "mafleming"
         },
         {
          "Date": "2019-01-25T00:00:00",
          "User": "mafleming"
         },
         {
          "Date": "2019-01-25T00:00:00",
          "User": "mafleming"
         },
         {
          "Date": "2019-01-26T00:00:00",
          "User": "mafleming"
         },
         {
          "Date": "2019-01-27T00:00:00",
          "User": "mafleming"
         },
         {
          "Date": "2019-01-28T00:00:00",
          "User": "mafleming"
         },
         {
          "Date": "2019-01-28T00:00:00",
          "User": "mafleming"
         },
         {
          "Date": "2019-01-28T00:00:00",
          "User": "mafleming"
         },
         {
          "Date": "2019-01-28T00:00:00",
          "User": "mafleming"
         },
         {
          "Date": "2019-01-29T00:00:00",
          "User": "mafleming"
         },
         {
          "Date": "2019-01-30T00:00:00",
          "User": "mafleming"
         },
         {
          "Date": "2019-01-30T00:00:00",
          "User": "mafleming"
         },
         {
          "Date": "2019-01-30T00:00:00",
          "User": "mafleming"
         },
         {
          "Date": "2019-01-31T00:00:00",
          "User": "mafleming"
         },
         {
          "Date": "2019-01-31T00:00:00",
          "User": "mafleming"
         },
         {
          "Date": "2019-02-01T00:00:00",
          "User": "mafleming"
         },
         {
          "Date": "2019-02-01T00:00:00",
          "User": "mafleming"
         },
         {
          "Date": "2019-02-01T00:00:00",
          "User": "mafleming"
         },
         {
          "Date": "2019-02-01T00:00:00",
          "User": "mafleming"
         },
         {
          "Date": "2019-02-01T00:00:00",
          "User": "mafleming"
         },
         {
          "Date": "2019-02-03T00:00:00",
          "User": "mafleming"
         },
         {
          "Date": "2019-02-04T00:00:00",
          "User": "mafleming"
         },
         {
          "Date": "2019-02-04T00:00:00",
          "User": "mafleming"
         },
         {
          "Date": "2019-02-04T00:00:00",
          "User": "mafleming"
         },
         {
          "Date": "2019-02-05T00:00:00",
          "User": "mafleming"
         },
         {
          "Date": "2019-02-06T00:00:00",
          "User": "mafleming"
         },
         {
          "Date": "2019-02-06T00:00:00",
          "User": "mafleming"
         },
         {
          "Date": "2019-02-07T00:00:00",
          "User": "mafleming"
         },
         {
          "Date": "2019-02-07T00:00:00",
          "User": "mafleming"
         },
         {
          "Date": "2019-02-07T00:00:00",
          "User": "mafleming"
         },
         {
          "Date": "2019-02-07T00:00:00",
          "User": "mafleming"
         },
         {
          "Date": "2019-02-08T00:00:00",
          "User": "mafleming"
         },
         {
          "Date": "2019-02-08T00:00:00",
          "User": "mafleming"
         },
         {
          "Date": "2019-02-09T00:00:00",
          "User": "mafleming"
         },
         {
          "Date": "2019-02-11T00:00:00",
          "User": "mafleming"
         },
         {
          "Date": "2019-02-11T00:00:00",
          "User": "mafleming"
         },
         {
          "Date": "2019-02-11T00:00:00",
          "User": "mafleming"
         },
         {
          "Date": "2019-02-13T00:00:00",
          "User": "mafleming"
         },
         {
          "Date": "2019-02-14T00:00:00",
          "User": "mafleming"
         },
         {
          "Date": "2019-02-14T00:00:00",
          "User": "mafleming"
         },
         {
          "Date": "2019-02-15T00:00:00",
          "User": "mafleming"
         },
         {
          "Date": "2019-02-15T00:00:00",
          "User": "mafleming"
         },
         {
          "Date": "2019-02-17T00:00:00",
          "User": "mafleming"
         },
         {
          "Date": "2019-02-18T00:00:00",
          "User": "mafleming"
         },
         {
          "Date": "2019-02-18T00:00:00",
          "User": "mafleming"
         },
         {
          "Date": "2019-02-19T00:00:00",
          "User": "mafleming"
         },
         {
          "Date": "2019-02-20T00:00:00",
          "User": "mafleming"
         },
         {
          "Date": "2019-02-21T00:00:00",
          "User": "mafleming"
         },
         {
          "Date": "2019-02-21T00:00:00",
          "User": "mafleming"
         },
         {
          "Date": "2019-02-22T00:00:00",
          "User": "mafleming"
         },
         {
          "Date": "2019-02-22T00:00:00",
          "User": "mafleming"
         },
         {
          "Date": "2019-02-22T00:00:00",
          "User": "mafleming"
         },
         {
          "Date": "2019-02-23T00:00:00",
          "User": "mafleming"
         },
         {
          "Date": "2019-02-23T00:00:00",
          "User": "mafleming"
         },
         {
          "Date": "2019-02-24T00:00:00",
          "User": "mafleming"
         },
         {
          "Date": "2019-02-24T00:00:00",
          "User": "mafleming"
         },
         {
          "Date": "2019-02-25T00:00:00",
          "User": "mafleming"
         },
         {
          "Date": "2019-02-25T00:00:00",
          "User": "mafleming"
         },
         {
          "Date": "2019-02-26T00:00:00",
          "User": "mafleming"
         },
         {
          "Date": "2019-02-27T00:00:00",
          "User": "mafleming"
         },
         {
          "Date": "2019-02-28T00:00:00",
          "User": "mafleming"
         },
         {
          "Date": "2019-02-28T00:00:00",
          "User": "mafleming"
         },
         {
          "Date": "2019-03-01T00:00:00",
          "User": "mafleming"
         },
         {
          "Date": "2019-03-01T00:00:00",
          "User": "mafleming"
         },
         {
          "Date": "2019-03-01T00:00:00",
          "User": "mafleming"
         },
         {
          "Date": "2019-03-04T00:00:00",
          "User": "mafleming"
         },
         {
          "Date": "2019-03-05T00:00:00",
          "User": "mafleming"
         },
         {
          "Date": "2019-03-06T00:00:00",
          "User": "mafleming"
         },
         {
          "Date": "2019-03-06T00:00:00",
          "User": "mafleming"
         },
         {
          "Date": "2019-03-07T00:00:00",
          "User": "mafleming"
         },
         {
          "Date": "2019-03-07T00:00:00",
          "User": "mafleming"
         },
         {
          "Date": "2019-03-07T00:00:00",
          "User": "mafleming"
         },
         {
          "Date": "2019-03-07T00:00:00",
          "User": "mafleming"
         },
         {
          "Date": "2019-03-08T00:00:00",
          "User": "mafleming"
         },
         {
          "Date": "2019-03-08T00:00:00",
          "User": "mafleming"
         },
         {
          "Date": "2019-03-09T00:00:00",
          "User": "mafleming"
         },
         {
          "Date": "2019-03-09T00:00:00",
          "User": "mafleming"
         },
         {
          "Date": "2019-03-09T00:00:00",
          "User": "mafleming"
         },
         {
          "Date": "2019-03-11T00:00:00",
          "User": "mafleming"
         },
         {
          "Date": "2019-03-12T00:00:00",
          "User": "mafleming"
         },
         {
          "Date": "2019-03-13T00:00:00",
          "User": "mafleming"
         },
         {
          "Date": "2019-03-13T00:00:00",
          "User": "mafleming"
         },
         {
          "Date": "2019-03-14T00:00:00",
          "User": "mafleming"
         },
         {
          "Date": "2019-03-15T00:00:00",
          "User": "mafleming"
         },
         {
          "Date": "2019-03-15T00:00:00",
          "User": "mafleming"
         },
         {
          "Date": "2019-03-16T00:00:00",
          "User": "mafleming"
         },
         {
          "Date": "2019-03-16T00:00:00",
          "User": "mafleming"
         },
         {
          "Date": "2019-03-16T00:00:00",
          "User": "mafleming"
         },
         {
          "Date": "2019-03-16T00:00:00",
          "User": "mafleming"
         },
         {
          "Date": "2019-03-18T00:00:00",
          "User": "mafleming"
         },
         {
          "Date": "2019-03-18T00:00:00",
          "User": "mafleming"
         },
         {
          "Date": "2019-03-19T00:00:00",
          "User": "mafleming"
         },
         {
          "Date": "2019-03-19T00:00:00",
          "User": "mafleming"
         },
         {
          "Date": "2019-03-20T00:00:00",
          "User": "mafleming"
         },
         {
          "Date": "2019-03-20T00:00:00",
          "User": "mafleming"
         },
         {
          "Date": "2019-03-21T00:00:00",
          "User": "mafleming"
         },
         {
          "Date": "2019-03-21T00:00:00",
          "User": "mafleming"
         },
         {
          "Date": "2019-03-22T00:00:00",
          "User": "mafleming"
         },
         {
          "Date": "2019-03-22T00:00:00",
          "User": "mafleming"
         },
         {
          "Date": "2019-03-25T00:00:00",
          "User": "mafleming"
         },
         {
          "Date": "2019-03-25T00:00:00",
          "User": "mafleming"
         },
         {
          "Date": "2019-03-25T00:00:00",
          "User": "mafleming"
         },
         {
          "Date": "2019-03-26T00:00:00",
          "User": "mafleming"
         },
         {
          "Date": "2019-03-26T00:00:00",
          "User": "mafleming"
         },
         {
          "Date": "2019-03-27T00:00:00",
          "User": "mafleming"
         },
         {
          "Date": "2019-03-27T00:00:00",
          "User": "mafleming"
         },
         {
          "Date": "2019-03-27T00:00:00",
          "User": "mafleming"
         },
         {
          "Date": "2019-03-28T00:00:00",
          "User": "mafleming"
         },
         {
          "Date": "2019-03-29T00:00:00",
          "User": "mafleming"
         },
         {
          "Date": "2019-03-29T00:00:00",
          "User": "mafleming"
         },
         {
          "Date": "2019-03-31T00:00:00",
          "User": "mafleming"
         },
         {
          "Date": "2019-04-01T00:00:00",
          "User": "mafleming"
         },
         {
          "Date": "2019-04-01T00:00:00",
          "User": "mafleming"
         },
         {
          "Date": "2019-04-01T00:00:00",
          "User": "mafleming"
         },
         {
          "Date": "2019-04-02T00:00:00",
          "User": "mafleming"
         },
         {
          "Date": "2019-04-03T00:00:00",
          "User": "mafleming"
         },
         {
          "Date": "2019-04-04T00:00:00",
          "User": "mafleming"
         },
         {
          "Date": "2019-04-04T00:00:00",
          "User": "mafleming"
         },
         {
          "Date": "2019-04-05T00:00:00",
          "User": "mafleming"
         },
         {
          "Date": "2019-04-05T00:00:00",
          "User": "mafleming"
         },
         {
          "Date": "2019-04-06T00:00:00",
          "User": "mafleming"
         },
         {
          "Date": "2019-04-07T00:00:00",
          "User": "mafleming"
         },
         {
          "Date": "2019-04-08T00:00:00",
          "User": "mafleming"
         },
         {
          "Date": "2019-04-09T00:00:00",
          "User": "mafleming"
         },
         {
          "Date": "2019-04-09T00:00:00",
          "User": "mafleming"
         },
         {
          "Date": "2019-01-16T00:00:00",
          "User": "fha5"
         },
         {
          "Date": "2019-02-03T00:00:00",
          "User": "wreiford"
         },
         {
          "Date": "2019-04-02T00:00:00",
          "User": "treesman"
         },
         {
          "Date": "2019-04-03T00:00:00",
          "User": "treesman"
         },
         {
          "Date": "2019-03-04T00:00:00",
          "User": "nssharma"
         },
         {
          "Date": "2019-01-23T00:00:00",
          "User": "jtshort"
         },
         {
          "Date": "2019-01-24T00:00:00",
          "User": "jtshort"
         },
         {
          "Date": "2019-01-24T00:00:00",
          "User": "jtshort"
         },
         {
          "Date": "2019-01-25T00:00:00",
          "User": "jtshort"
         },
         {
          "Date": "2019-01-29T00:00:00",
          "User": "jtshort"
         },
         {
          "Date": "2019-01-30T00:00:00",
          "User": "jtshort"
         },
         {
          "Date": "2019-01-31T00:00:00",
          "User": "jtshort"
         },
         {
          "Date": "2019-02-01T00:00:00",
          "User": "jtshort"
         },
         {
          "Date": "2019-02-01T00:00:00",
          "User": "jtshort"
         },
         {
          "Date": "2019-02-02T00:00:00",
          "User": "jtshort"
         },
         {
          "Date": "2019-02-03T00:00:00",
          "User": "jtshort"
         },
         {
          "Date": "2019-02-05T00:00:00",
          "User": "jtshort"
         },
         {
          "Date": "2019-02-06T00:00:00",
          "User": "jtshort"
         },
         {
          "Date": "2019-02-07T00:00:00",
          "User": "jtshort"
         },
         {
          "Date": "2019-02-08T00:00:00",
          "User": "jtshort"
         },
         {
          "Date": "2019-02-13T00:00:00",
          "User": "jtshort"
         },
         {
          "Date": "2019-02-14T00:00:00",
          "User": "jtshort"
         },
         {
          "Date": "2019-02-15T00:00:00",
          "User": "jtshort"
         },
         {
          "Date": "2019-02-19T00:00:00",
          "User": "jtshort"
         },
         {
          "Date": "2019-02-20T00:00:00",
          "User": "jtshort"
         },
         {
          "Date": "2019-02-21T00:00:00",
          "User": "jtshort"
         },
         {
          "Date": "2019-02-22T00:00:00",
          "User": "jtshort"
         },
         {
          "Date": "2019-02-26T00:00:00",
          "User": "jtshort"
         },
         {
          "Date": "2019-02-27T00:00:00",
          "User": "jtshort"
         },
         {
          "Date": "2019-02-28T00:00:00",
          "User": "jtshort"
         },
         {
          "Date": "2019-03-01T00:00:00",
          "User": "jtshort"
         },
         {
          "Date": "2019-03-05T00:00:00",
          "User": "jtshort"
         },
         {
          "Date": "2019-03-05T00:00:00",
          "User": "jtshort"
         },
         {
          "Date": "2019-03-06T00:00:00",
          "User": "jtshort"
         },
         {
          "Date": "2019-03-07T00:00:00",
          "User": "jtshort"
         },
         {
          "Date": "2019-03-08T00:00:00",
          "User": "jtshort"
         },
         {
          "Date": "2019-03-09T00:00:00",
          "User": "jtshort"
         },
         {
          "Date": "2019-03-12T00:00:00",
          "User": "jtshort"
         },
         {
          "Date": "2019-03-13T00:00:00",
          "User": "jtshort"
         },
         {
          "Date": "2019-03-14T00:00:00",
          "User": "jtshort"
         },
         {
          "Date": "2019-03-15T00:00:00",
          "User": "jtshort"
         },
         {
          "Date": "2019-03-19T00:00:00",
          "User": "jtshort"
         },
         {
          "Date": "2019-03-20T00:00:00",
          "User": "jtshort"
         },
         {
          "Date": "2019-03-21T00:00:00",
          "User": "jtshort"
         },
         {
          "Date": "2019-03-22T00:00:00",
          "User": "jtshort"
         },
         {
          "Date": "2019-03-26T00:00:00",
          "User": "jtshort"
         },
         {
          "Date": "2019-03-26T00:00:00",
          "User": "jtshort"
         },
         {
          "Date": "2019-03-26T00:00:00",
          "User": "jtshort"
         },
         {
          "Date": "2019-03-27T00:00:00",
          "User": "jtshort"
         },
         {
          "Date": "2019-03-28T00:00:00",
          "User": "jtshort"
         },
         {
          "Date": "2019-03-29T00:00:00",
          "User": "jtshort"
         },
         {
          "Date": "2019-04-09T00:00:00",
          "User": "jtshort"
         },
         {
          "Date": "2019-01-08T00:00:00",
          "User": "avlittle"
         },
         {
          "Date": "2019-01-09T00:00:00",
          "User": "avlittle"
         },
         {
          "Date": "2019-01-10T00:00:00",
          "User": "avlittle"
         },
         {
          "Date": "2019-01-11T00:00:00",
          "User": "avlittle"
         },
         {
          "Date": "2019-01-11T00:00:00",
          "User": "avlittle"
         },
         {
          "Date": "2019-01-13T00:00:00",
          "User": "avlittle"
         },
         {
          "Date": "2019-01-14T00:00:00",
          "User": "avlittle"
         },
         {
          "Date": "2019-01-15T00:00:00",
          "User": "avlittle"
         },
         {
          "Date": "2019-01-16T00:00:00",
          "User": "avlittle"
         },
         {
          "Date": "2019-01-18T00:00:00",
          "User": "avlittle"
         },
         {
          "Date": "2019-01-18T00:00:00",
          "User": "avlittle"
         },
         {
          "Date": "2019-01-20T00:00:00",
          "User": "avlittle"
         },
         {
          "Date": "2019-01-22T00:00:00",
          "User": "avlittle"
         },
         {
          "Date": "2019-01-22T00:00:00",
          "User": "avlittle"
         },
         {
          "Date": "2019-01-23T00:00:00",
          "User": "avlittle"
         },
         {
          "Date": "2019-01-23T00:00:00",
          "User": "avlittle"
         },
         {
          "Date": "2019-01-24T00:00:00",
          "User": "avlittle"
         },
         {
          "Date": "2019-01-25T00:00:00",
          "User": "avlittle"
         },
         {
          "Date": "2019-01-25T00:00:00",
          "User": "avlittle"
         },
         {
          "Date": "2019-01-26T00:00:00",
          "User": "avlittle"
         },
         {
          "Date": "2019-01-27T00:00:00",
          "User": "avlittle"
         },
         {
          "Date": "2019-01-27T00:00:00",
          "User": "avlittle"
         },
         {
          "Date": "2019-01-28T00:00:00",
          "User": "avlittle"
         },
         {
          "Date": "2019-01-29T00:00:00",
          "User": "avlittle"
         },
         {
          "Date": "2019-01-30T00:00:00",
          "User": "avlittle"
         },
         {
          "Date": "2019-01-30T00:00:00",
          "User": "avlittle"
         },
         {
          "Date": "2019-01-31T00:00:00",
          "User": "avlittle"
         },
         {
          "Date": "2019-02-01T00:00:00",
          "User": "avlittle"
         },
         {
          "Date": "2019-02-03T00:00:00",
          "User": "avlittle"
         },
         {
          "Date": "2019-02-05T00:00:00",
          "User": "avlittle"
         },
         {
          "Date": "2019-02-06T00:00:00",
          "User": "avlittle"
         },
         {
          "Date": "2019-02-06T00:00:00",
          "User": "avlittle"
         },
         {
          "Date": "2019-02-07T00:00:00",
          "User": "avlittle"
         },
         {
          "Date": "2019-02-08T00:00:00",
          "User": "avlittle"
         },
         {
          "Date": "2019-02-12T00:00:00",
          "User": "avlittle"
         },
         {
          "Date": "2019-02-15T00:00:00",
          "User": "avlittle"
         },
         {
          "Date": "2019-02-15T00:00:00",
          "User": "avlittle"
         },
         {
          "Date": "2019-02-16T00:00:00",
          "User": "avlittle"
         },
         {
          "Date": "2019-02-19T00:00:00",
          "User": "avlittle"
         },
         {
          "Date": "2019-02-19T00:00:00",
          "User": "avlittle"
         },
         {
          "Date": "2019-02-20T00:00:00",
          "User": "avlittle"
         },
         {
          "Date": "2019-02-20T00:00:00",
          "User": "avlittle"
         },
         {
          "Date": "2019-02-21T00:00:00",
          "User": "avlittle"
         },
         {
          "Date": "2019-02-22T00:00:00",
          "User": "avlittle"
         },
         {
          "Date": "2019-02-22T00:00:00",
          "User": "avlittle"
         },
         {
          "Date": "2019-02-23T00:00:00",
          "User": "avlittle"
         },
         {
          "Date": "2019-02-26T00:00:00",
          "User": "avlittle"
         },
         {
          "Date": "2019-02-27T00:00:00",
          "User": "avlittle"
         },
         {
          "Date": "2019-02-27T00:00:00",
          "User": "avlittle"
         },
         {
          "Date": "2019-03-01T00:00:00",
          "User": "avlittle"
         },
         {
          "Date": "2019-03-01T00:00:00",
          "User": "avlittle"
         },
         {
          "Date": "2019-03-04T00:00:00",
          "User": "avlittle"
         },
         {
          "Date": "2019-03-04T00:00:00",
          "User": "avlittle"
         },
         {
          "Date": "2019-03-05T00:00:00",
          "User": "avlittle"
         },
         {
          "Date": "2019-03-05T00:00:00",
          "User": "avlittle"
         },
         {
          "Date": "2019-03-05T00:00:00",
          "User": "avlittle"
         },
         {
          "Date": "2019-03-06T00:00:00",
          "User": "avlittle"
         },
         {
          "Date": "2019-03-08T00:00:00",
          "User": "avlittle"
         },
         {
          "Date": "2019-03-10T00:00:00",
          "User": "avlittle"
         },
         {
          "Date": "2019-03-12T00:00:00",
          "User": "avlittle"
         },
         {
          "Date": "2019-03-13T00:00:00",
          "User": "avlittle"
         },
         {
          "Date": "2019-03-13T00:00:00",
          "User": "avlittle"
         },
         {
          "Date": "2019-03-13T00:00:00",
          "User": "avlittle"
         },
         {
          "Date": "2019-03-13T00:00:00",
          "User": "avlittle"
         },
         {
          "Date": "2019-03-14T00:00:00",
          "User": "avlittle"
         },
         {
          "Date": "2019-03-14T00:00:00",
          "User": "avlittle"
         },
         {
          "Date": "2019-03-14T00:00:00",
          "User": "avlittle"
         },
         {
          "Date": "2019-03-15T00:00:00",
          "User": "avlittle"
         },
         {
          "Date": "2019-03-18T00:00:00",
          "User": "avlittle"
         },
         {
          "Date": "2019-03-19T00:00:00",
          "User": "avlittle"
         },
         {
          "Date": "2019-03-20T00:00:00",
          "User": "avlittle"
         },
         {
          "Date": "2019-03-22T00:00:00",
          "User": "avlittle"
         },
         {
          "Date": "2019-03-22T00:00:00",
          "User": "avlittle"
         },
         {
          "Date": "2019-03-22T00:00:00",
          "User": "avlittle"
         },
         {
          "Date": "2019-03-22T00:00:00",
          "User": "avlittle"
         },
         {
          "Date": "2019-03-25T00:00:00",
          "User": "avlittle"
         },
         {
          "Date": "2019-03-27T00:00:00",
          "User": "avlittle"
         },
         {
          "Date": "2019-03-28T00:00:00",
          "User": "avlittle"
         },
         {
          "Date": "2019-03-28T00:00:00",
          "User": "avlittle"
         },
         {
          "Date": "2019-03-29T00:00:00",
          "User": "avlittle"
         },
         {
          "Date": "2019-03-29T00:00:00",
          "User": "avlittle"
         },
         {
          "Date": "2019-03-31T00:00:00",
          "User": "avlittle"
         },
         {
          "Date": "2019-04-02T00:00:00",
          "User": "avlittle"
         },
         {
          "Date": "2019-04-03T00:00:00",
          "User": "avlittle"
         },
         {
          "Date": "2019-04-04T00:00:00",
          "User": "avlittle"
         },
         {
          "Date": "2019-04-05T00:00:00",
          "User": "avlittle"
         },
         {
          "Date": "2019-04-05T00:00:00",
          "User": "avlittle"
         },
         {
          "Date": "2019-04-06T00:00:00",
          "User": "avlittle"
         },
         {
          "Date": "2019-04-06T00:00:00",
          "User": "avlittle"
         },
         {
          "Date": "2019-04-07T00:00:00",
          "User": "avlittle"
         },
         {
          "Date": "2019-04-07T00:00:00",
          "User": "avlittle"
         },
         {
          "Date": "2019-04-08T00:00:00",
          "User": "avlittle"
         },
         {
          "Date": "2019-04-09T00:00:00",
          "User": "avlittle"
         },
         {
          "Date": "2019-04-09T00:00:00",
          "User": "avlittle"
         },
         {
          "Date": "2019-04-09T00:00:00",
          "User": "avlittle"
         },
         {
          "Date": "2019-01-25T00:00:00",
          "User": "salewis"
         },
         {
          "Date": "2019-01-30T00:00:00",
          "User": "salewis"
         },
         {
          "Date": "2019-01-31T00:00:00",
          "User": "salewis"
         },
         {
          "Date": "2019-01-31T00:00:00",
          "User": "salewis"
         },
         {
          "Date": "2019-02-03T00:00:00",
          "User": "salewis"
         },
         {
          "Date": "2019-02-04T00:00:00",
          "User": "salewis"
         },
         {
          "Date": "2019-02-05T00:00:00",
          "User": "salewis"
         },
         {
          "Date": "2019-02-07T00:00:00",
          "User": "salewis"
         },
         {
          "Date": "2019-02-08T00:00:00",
          "User": "salewis"
         },
         {
          "Date": "2019-02-11T00:00:00",
          "User": "salewis"
         },
         {
          "Date": "2019-02-11T00:00:00",
          "User": "salewis"
         },
         {
          "Date": "2019-02-13T00:00:00",
          "User": "salewis"
         },
         {
          "Date": "2019-02-17T00:00:00",
          "User": "salewis"
         },
         {
          "Date": "2019-02-17T00:00:00",
          "User": "salewis"
         },
         {
          "Date": "2019-02-18T00:00:00",
          "User": "salewis"
         },
         {
          "Date": "2019-02-21T00:00:00",
          "User": "salewis"
         },
         {
          "Date": "2019-02-22T00:00:00",
          "User": "salewis"
         },
         {
          "Date": "2019-02-24T00:00:00",
          "User": "salewis"
         },
         {
          "Date": "2019-02-25T00:00:00",
          "User": "salewis"
         },
         {
          "Date": "2019-02-25T00:00:00",
          "User": "salewis"
         },
         {
          "Date": "2019-02-28T00:00:00",
          "User": "salewis"
         },
         {
          "Date": "2019-03-01T00:00:00",
          "User": "salewis"
         },
         {
          "Date": "2019-03-03T00:00:00",
          "User": "salewis"
         },
         {
          "Date": "2019-03-04T00:00:00",
          "User": "salewis"
         },
         {
          "Date": "2019-03-05T00:00:00",
          "User": "salewis"
         },
         {
          "Date": "2019-03-05T00:00:00",
          "User": "salewis"
         },
         {
          "Date": "2019-03-07T00:00:00",
          "User": "salewis"
         },
         {
          "Date": "2019-03-07T00:00:00",
          "User": "salewis"
         },
         {
          "Date": "2019-03-07T00:00:00",
          "User": "salewis"
         },
         {
          "Date": "2019-03-07T00:00:00",
          "User": "salewis"
         },
         {
          "Date": "2019-03-08T00:00:00",
          "User": "salewis"
         },
         {
          "Date": "2019-03-10T00:00:00",
          "User": "salewis"
         },
         {
          "Date": "2019-04-07T00:00:00",
          "User": "salewis"
         },
         {
          "Date": "2019-01-06T00:00:00",
          "User": "jkploudre"
         },
         {
          "Date": "2019-01-06T00:00:00",
          "User": "jkploudre"
         },
         {
          "Date": "2019-01-08T00:00:00",
          "User": "jkploudre"
         },
         {
          "Date": "2019-01-08T00:00:00",
          "User": "jkploudre"
         },
         {
          "Date": "2019-01-09T00:00:00",
          "User": "jkploudre"
         },
         {
          "Date": "2019-01-10T00:00:00",
          "User": "jkploudre"
         },
         {
          "Date": "2019-01-11T00:00:00",
          "User": "jkploudre"
         },
         {
          "Date": "2019-01-15T00:00:00",
          "User": "jkploudre"
         },
         {
          "Date": "2019-01-16T00:00:00",
          "User": "jkploudre"
         },
         {
          "Date": "2019-01-17T00:00:00",
          "User": "jkploudre"
         },
         {
          "Date": "2019-01-17T00:00:00",
          "User": "jkploudre"
         },
         {
          "Date": "2019-01-17T00:00:00",
          "User": "jkploudre"
         },
         {
          "Date": "2019-01-17T00:00:00",
          "User": "jkploudre"
         },
         {
          "Date": "2019-01-18T00:00:00",
          "User": "jkploudre"
         },
         {
          "Date": "2019-01-20T00:00:00",
          "User": "jkploudre"
         },
         {
          "Date": "2019-01-20T00:00:00",
          "User": "jkploudre"
         },
         {
          "Date": "2019-01-22T00:00:00",
          "User": "jkploudre"
         },
         {
          "Date": "2019-01-23T00:00:00",
          "User": "jkploudre"
         },
         {
          "Date": "2019-01-23T00:00:00",
          "User": "jkploudre"
         },
         {
          "Date": "2019-01-24T00:00:00",
          "User": "jkploudre"
         },
         {
          "Date": "2019-01-24T00:00:00",
          "User": "jkploudre"
         },
         {
          "Date": "2019-01-25T00:00:00",
          "User": "jkploudre"
         },
         {
          "Date": "2019-01-27T00:00:00",
          "User": "jkploudre"
         },
         {
          "Date": "2019-01-27T00:00:00",
          "User": "jkploudre"
         },
         {
          "Date": "2019-01-29T00:00:00",
          "User": "jkploudre"
         },
         {
          "Date": "2019-01-29T00:00:00",
          "User": "jkploudre"
         },
         {
          "Date": "2019-01-30T00:00:00",
          "User": "jkploudre"
         },
         {
          "Date": "2019-01-30T00:00:00",
          "User": "jkploudre"
         },
         {
          "Date": "2019-01-31T00:00:00",
          "User": "jkploudre"
         },
         {
          "Date": "2019-01-31T00:00:00",
          "User": "jkploudre"
         },
         {
          "Date": "2019-01-31T00:00:00",
          "User": "jkploudre"
         },
         {
          "Date": "2019-02-01T00:00:00",
          "User": "jkploudre"
         },
         {
          "Date": "2019-02-01T00:00:00",
          "User": "jkploudre"
         },
         {
          "Date": "2019-02-01T00:00:00",
          "User": "jkploudre"
         },
         {
          "Date": "2019-02-01T00:00:00",
          "User": "jkploudre"
         },
         {
          "Date": "2019-02-03T00:00:00",
          "User": "jkploudre"
         },
         {
          "Date": "2019-02-05T00:00:00",
          "User": "jkploudre"
         },
         {
          "Date": "2019-02-05T00:00:00",
          "User": "jkploudre"
         },
         {
          "Date": "2019-02-06T00:00:00",
          "User": "jkploudre"
         },
         {
          "Date": "2019-02-07T00:00:00",
          "User": "jkploudre"
         },
         {
          "Date": "2019-02-07T00:00:00",
          "User": "jkploudre"
         },
         {
          "Date": "2019-02-07T00:00:00",
          "User": "jkploudre"
         },
         {
          "Date": "2019-02-07T00:00:00",
          "User": "jkploudre"
         },
         {
          "Date": "2019-02-08T00:00:00",
          "User": "jkploudre"
         },
         {
          "Date": "2019-02-10T00:00:00",
          "User": "jkploudre"
         },
         {
          "Date": "2019-02-10T00:00:00",
          "User": "jkploudre"
         },
         {
          "Date": "2019-02-12T00:00:00",
          "User": "jkploudre"
         },
         {
          "Date": "2019-02-14T00:00:00",
          "User": "jkploudre"
         },
         {
          "Date": "2019-02-15T00:00:00",
          "User": "jkploudre"
         },
         {
          "Date": "2019-02-15T00:00:00",
          "User": "jkploudre"
         },
         {
          "Date": "2019-02-15T00:00:00",
          "User": "jkploudre"
         },
         {
          "Date": "2019-02-17T00:00:00",
          "User": "jkploudre"
         },
         {
          "Date": "2019-02-19T00:00:00",
          "User": "jkploudre"
         },
         {
          "Date": "2019-02-20T00:00:00",
          "User": "jkploudre"
         },
         {
          "Date": "2019-02-21T00:00:00",
          "User": "jkploudre"
         },
         {
          "Date": "2019-02-22T00:00:00",
          "User": "jkploudre"
         },
         {
          "Date": "2019-02-22T00:00:00",
          "User": "jkploudre"
         },
         {
          "Date": "2019-02-24T00:00:00",
          "User": "jkploudre"
         },
         {
          "Date": "2019-02-25T00:00:00",
          "User": "jkploudre"
         },
         {
          "Date": "2019-02-25T00:00:00",
          "User": "jkploudre"
         },
         {
          "Date": "2019-02-25T00:00:00",
          "User": "jkploudre"
         },
         {
          "Date": "2019-02-25T00:00:00",
          "User": "jkploudre"
         },
         {
          "Date": "2019-02-26T00:00:00",
          "User": "jkploudre"
         },
         {
          "Date": "2019-02-26T00:00:00",
          "User": "jkploudre"
         },
         {
          "Date": "2019-02-26T00:00:00",
          "User": "jkploudre"
         },
         {
          "Date": "2019-02-26T00:00:00",
          "User": "jkploudre"
         },
         {
          "Date": "2019-02-27T00:00:00",
          "User": "jkploudre"
         },
         {
          "Date": "2019-02-27T00:00:00",
          "User": "jkploudre"
         },
         {
          "Date": "2019-02-27T00:00:00",
          "User": "jkploudre"
         },
         {
          "Date": "2019-02-27T00:00:00",
          "User": "jkploudre"
         },
         {
          "Date": "2019-02-27T00:00:00",
          "User": "jkploudre"
         },
         {
          "Date": "2019-02-28T00:00:00",
          "User": "jkploudre"
         },
         {
          "Date": "2019-02-28T00:00:00",
          "User": "jkploudre"
         },
         {
          "Date": "2019-03-01T00:00:00",
          "User": "jkploudre"
         },
         {
          "Date": "2019-03-03T00:00:00",
          "User": "jkploudre"
         },
         {
          "Date": "2019-03-03T00:00:00",
          "User": "jkploudre"
         },
         {
          "Date": "2019-03-05T00:00:00",
          "User": "jkploudre"
         },
         {
          "Date": "2019-03-05T00:00:00",
          "User": "jkploudre"
         },
         {
          "Date": "2019-03-06T00:00:00",
          "User": "jkploudre"
         },
         {
          "Date": "2019-03-07T00:00:00",
          "User": "jkploudre"
         },
         {
          "Date": "2019-03-07T00:00:00",
          "User": "jkploudre"
         },
         {
          "Date": "2019-03-08T00:00:00",
          "User": "jkploudre"
         },
         {
          "Date": "2019-03-09T00:00:00",
          "User": "jkploudre"
         },
         {
          "Date": "2019-03-10T00:00:00",
          "User": "jkploudre"
         },
         {
          "Date": "2019-03-11T00:00:00",
          "User": "jkploudre"
         },
         {
          "Date": "2019-03-12T00:00:00",
          "User": "jkploudre"
         },
         {
          "Date": "2019-03-12T00:00:00",
          "User": "jkploudre"
         },
         {
          "Date": "2019-03-13T00:00:00",
          "User": "jkploudre"
         },
         {
          "Date": "2019-03-14T00:00:00",
          "User": "jkploudre"
         },
         {
          "Date": "2019-03-15T00:00:00",
          "User": "jkploudre"
         },
         {
          "Date": "2019-03-17T00:00:00",
          "User": "jkploudre"
         },
         {
          "Date": "2019-03-17T00:00:00",
          "User": "jkploudre"
         },
         {
          "Date": "2019-03-19T00:00:00",
          "User": "jkploudre"
         },
         {
          "Date": "2019-03-21T00:00:00",
          "User": "jkploudre"
         },
         {
          "Date": "2019-03-22T00:00:00",
          "User": "jkploudre"
         },
         {
          "Date": "2019-03-23T00:00:00",
          "User": "jkploudre"
         },
         {
          "Date": "2019-03-23T00:00:00",
          "User": "jkploudre"
         },
         {
          "Date": "2019-03-23T00:00:00",
          "User": "jkploudre"
         },
         {
          "Date": "2019-03-23T00:00:00",
          "User": "jkploudre"
         },
         {
          "Date": "2019-03-23T00:00:00",
          "User": "jkploudre"
         },
         {
          "Date": "2019-03-23T00:00:00",
          "User": "jkploudre"
         },
         {
          "Date": "2019-03-23T00:00:00",
          "User": "jkploudre"
         },
         {
          "Date": "2019-03-23T00:00:00",
          "User": "jkploudre"
         },
         {
          "Date": "2019-03-24T00:00:00",
          "User": "jkploudre"
         },
         {
          "Date": "2019-03-24T00:00:00",
          "User": "jkploudre"
         },
         {
          "Date": "2019-03-24T00:00:00",
          "User": "jkploudre"
         },
         {
          "Date": "2019-03-24T00:00:00",
          "User": "jkploudre"
         },
         {
          "Date": "2019-03-24T00:00:00",
          "User": "jkploudre"
         },
         {
          "Date": "2019-03-24T00:00:00",
          "User": "jkploudre"
         },
         {
          "Date": "2019-03-24T00:00:00",
          "User": "jkploudre"
         },
         {
          "Date": "2019-03-24T00:00:00",
          "User": "jkploudre"
         },
         {
          "Date": "2019-03-24T00:00:00",
          "User": "jkploudre"
         },
         {
          "Date": "2019-03-24T00:00:00",
          "User": "jkploudre"
         },
         {
          "Date": "2019-03-24T00:00:00",
          "User": "jkploudre"
         },
         {
          "Date": "2019-03-24T00:00:00",
          "User": "jkploudre"
         },
         {
          "Date": "2019-03-24T00:00:00",
          "User": "jkploudre"
         },
         {
          "Date": "2019-03-24T00:00:00",
          "User": "jkploudre"
         },
         {
          "Date": "2019-03-24T00:00:00",
          "User": "jkploudre"
         },
         {
          "Date": "2019-03-24T00:00:00",
          "User": "jkploudre"
         },
         {
          "Date": "2019-03-24T00:00:00",
          "User": "jkploudre"
         },
         {
          "Date": "2019-03-24T00:00:00",
          "User": "jkploudre"
         },
         {
          "Date": "2019-03-24T00:00:00",
          "User": "jkploudre"
         },
         {
          "Date": "2019-03-24T00:00:00",
          "User": "jkploudre"
         },
         {
          "Date": "2019-03-24T00:00:00",
          "User": "jkploudre"
         },
         {
          "Date": "2019-03-24T00:00:00",
          "User": "jkploudre"
         },
         {
          "Date": "2019-03-24T00:00:00",
          "User": "jkploudre"
         },
         {
          "Date": "2019-03-24T00:00:00",
          "User": "jkploudre"
         },
         {
          "Date": "2019-03-24T00:00:00",
          "User": "jkploudre"
         },
         {
          "Date": "2019-03-24T00:00:00",
          "User": "jkploudre"
         },
         {
          "Date": "2019-03-24T00:00:00",
          "User": "jkploudre"
         },
         {
          "Date": "2019-03-24T00:00:00",
          "User": "jkploudre"
         },
         {
          "Date": "2019-03-25T00:00:00",
          "User": "jkploudre"
         },
         {
          "Date": "2019-03-25T00:00:00",
          "User": "jkploudre"
         },
         {
          "Date": "2019-03-25T00:00:00",
          "User": "jkploudre"
         },
         {
          "Date": "2019-03-25T00:00:00",
          "User": "jkploudre"
         },
         {
          "Date": "2019-03-25T00:00:00",
          "User": "jkploudre"
         },
         {
          "Date": "2019-03-25T00:00:00",
          "User": "jkploudre"
         },
         {
          "Date": "2019-03-25T00:00:00",
          "User": "jkploudre"
         },
         {
          "Date": "2019-03-26T00:00:00",
          "User": "jkploudre"
         },
         {
          "Date": "2019-03-26T00:00:00",
          "User": "jkploudre"
         },
         {
          "Date": "2019-03-26T00:00:00",
          "User": "jkploudre"
         },
         {
          "Date": "2019-03-26T00:00:00",
          "User": "jkploudre"
         },
         {
          "Date": "2019-03-26T00:00:00",
          "User": "jkploudre"
         },
         {
          "Date": "2019-03-26T00:00:00",
          "User": "jkploudre"
         },
         {
          "Date": "2019-03-27T00:00:00",
          "User": "jkploudre"
         },
         {
          "Date": "2019-03-27T00:00:00",
          "User": "jkploudre"
         },
         {
          "Date": "2019-03-28T00:00:00",
          "User": "jkploudre"
         },
         {
          "Date": "2019-03-29T00:00:00",
          "User": "jkploudre"
         },
         {
          "Date": "2019-03-29T00:00:00",
          "User": "jkploudre"
         },
         {
          "Date": "2019-03-29T00:00:00",
          "User": "jkploudre"
         },
         {
          "Date": "2019-03-31T00:00:00",
          "User": "jkploudre"
         },
         {
          "Date": "2019-03-31T00:00:00",
          "User": "jkploudre"
         },
         {
          "Date": "2019-04-02T00:00:00",
          "User": "jkploudre"
         },
         {
          "Date": "2019-04-02T00:00:00",
          "User": "jkploudre"
         },
         {
          "Date": "2019-04-02T00:00:00",
          "User": "jkploudre"
         },
         {
          "Date": "2019-04-02T00:00:00",
          "User": "jkploudre"
         },
         {
          "Date": "2019-04-02T00:00:00",
          "User": "jkploudre"
         },
         {
          "Date": "2019-04-02T00:00:00",
          "User": "jkploudre"
         },
         {
          "Date": "2019-04-02T00:00:00",
          "User": "jkploudre"
         },
         {
          "Date": "2019-04-02T00:00:00",
          "User": "jkploudre"
         },
         {
          "Date": "2019-04-02T00:00:00",
          "User": "jkploudre"
         },
         {
          "Date": "2019-04-02T00:00:00",
          "User": "jkploudre"
         },
         {
          "Date": "2019-04-02T00:00:00",
          "User": "jkploudre"
         },
         {
          "Date": "2019-04-02T00:00:00",
          "User": "jkploudre"
         },
         {
          "Date": "2019-04-02T00:00:00",
          "User": "jkploudre"
         },
         {
          "Date": "2019-04-02T00:00:00",
          "User": "jkploudre"
         },
         {
          "Date": "2019-04-02T00:00:00",
          "User": "jkploudre"
         },
         {
          "Date": "2019-04-02T00:00:00",
          "User": "jkploudre"
         },
         {
          "Date": "2019-04-02T00:00:00",
          "User": "jkploudre"
         },
         {
          "Date": "2019-04-02T00:00:00",
          "User": "jkploudre"
         },
         {
          "Date": "2019-04-02T00:00:00",
          "User": "jkploudre"
         },
         {
          "Date": "2019-04-02T00:00:00",
          "User": "jkploudre"
         },
         {
          "Date": "2019-04-02T00:00:00",
          "User": "jkploudre"
         },
         {
          "Date": "2019-04-02T00:00:00",
          "User": "jkploudre"
         },
         {
          "Date": "2019-04-02T00:00:00",
          "User": "jkploudre"
         },
         {
          "Date": "2019-04-02T00:00:00",
          "User": "jkploudre"
         },
         {
          "Date": "2019-04-02T00:00:00",
          "User": "jkploudre"
         },
         {
          "Date": "2019-04-02T00:00:00",
          "User": "jkploudre"
         },
         {
          "Date": "2019-04-02T00:00:00",
          "User": "jkploudre"
         },
         {
          "Date": "2019-04-02T00:00:00",
          "User": "jkploudre"
         },
         {
          "Date": "2019-04-02T00:00:00",
          "User": "jkploudre"
         },
         {
          "Date": "2019-04-02T00:00:00",
          "User": "jkploudre"
         },
         {
          "Date": "2019-04-02T00:00:00",
          "User": "jkploudre"
         },
         {
          "Date": "2019-04-02T00:00:00",
          "User": "jkploudre"
         },
         {
          "Date": "2019-04-02T00:00:00",
          "User": "jkploudre"
         },
         {
          "Date": "2019-04-02T00:00:00",
          "User": "jkploudre"
         },
         {
          "Date": "2019-04-02T00:00:00",
          "User": "jkploudre"
         },
         {
          "Date": "2019-04-02T00:00:00",
          "User": "jkploudre"
         },
         {
          "Date": "2019-04-02T00:00:00",
          "User": "jkploudre"
         },
         {
          "Date": "2019-04-02T00:00:00",
          "User": "jkploudre"
         },
         {
          "Date": "2019-04-02T00:00:00",
          "User": "jkploudre"
         },
         {
          "Date": "2019-04-02T00:00:00",
          "User": "jkploudre"
         },
         {
          "Date": "2019-04-02T00:00:00",
          "User": "jkploudre"
         },
         {
          "Date": "2019-04-02T00:00:00",
          "User": "jkploudre"
         },
         {
          "Date": "2019-04-02T00:00:00",
          "User": "jkploudre"
         },
         {
          "Date": "2019-04-02T00:00:00",
          "User": "jkploudre"
         },
         {
          "Date": "2019-04-02T00:00:00",
          "User": "jkploudre"
         },
         {
          "Date": "2019-04-02T00:00:00",
          "User": "jkploudre"
         },
         {
          "Date": "2019-04-02T00:00:00",
          "User": "jkploudre"
         },
         {
          "Date": "2019-04-02T00:00:00",
          "User": "jkploudre"
         },
         {
          "Date": "2019-04-02T00:00:00",
          "User": "jkploudre"
         },
         {
          "Date": "2019-04-02T00:00:00",
          "User": "jkploudre"
         },
         {
          "Date": "2019-04-02T00:00:00",
          "User": "jkploudre"
         },
         {
          "Date": "2019-04-02T00:00:00",
          "User": "jkploudre"
         },
         {
          "Date": "2019-04-02T00:00:00",
          "User": "jkploudre"
         },
         {
          "Date": "2019-04-02T00:00:00",
          "User": "jkploudre"
         },
         {
          "Date": "2019-04-02T00:00:00",
          "User": "jkploudre"
         },
         {
          "Date": "2019-04-02T00:00:00",
          "User": "jkploudre"
         },
         {
          "Date": "2019-04-02T00:00:00",
          "User": "jkploudre"
         },
         {
          "Date": "2019-04-02T00:00:00",
          "User": "jkploudre"
         },
         {
          "Date": "2019-04-02T00:00:00",
          "User": "jkploudre"
         },
         {
          "Date": "2019-04-02T00:00:00",
          "User": "jkploudre"
         },
         {
          "Date": "2019-04-02T00:00:00",
          "User": "jkploudre"
         },
         {
          "Date": "2019-04-02T00:00:00",
          "User": "jkploudre"
         },
         {
          "Date": "2019-04-02T00:00:00",
          "User": "jkploudre"
         },
         {
          "Date": "2019-04-02T00:00:00",
          "User": "jkploudre"
         },
         {
          "Date": "2019-04-02T00:00:00",
          "User": "jkploudre"
         },
         {
          "Date": "2019-04-02T00:00:00",
          "User": "jkploudre"
         },
         {
          "Date": "2019-04-02T00:00:00",
          "User": "jkploudre"
         },
         {
          "Date": "2019-04-02T00:00:00",
          "User": "jkploudre"
         },
         {
          "Date": "2019-04-02T00:00:00",
          "User": "jkploudre"
         },
         {
          "Date": "2019-04-02T00:00:00",
          "User": "jkploudre"
         },
         {
          "Date": "2019-04-02T00:00:00",
          "User": "jkploudre"
         },
         {
          "Date": "2019-04-02T00:00:00",
          "User": "jkploudre"
         },
         {
          "Date": "2019-04-02T00:00:00",
          "User": "jkploudre"
         },
         {
          "Date": "2019-04-02T00:00:00",
          "User": "jkploudre"
         },
         {
          "Date": "2019-04-02T00:00:00",
          "User": "jkploudre"
         },
         {
          "Date": "2019-04-02T00:00:00",
          "User": "jkploudre"
         },
         {
          "Date": "2019-04-02T00:00:00",
          "User": "jkploudre"
         },
         {
          "Date": "2019-04-02T00:00:00",
          "User": "jkploudre"
         },
         {
          "Date": "2019-04-02T00:00:00",
          "User": "jkploudre"
         },
         {
          "Date": "2019-04-02T00:00:00",
          "User": "jkploudre"
         },
         {
          "Date": "2019-04-03T00:00:00",
          "User": "jkploudre"
         },
         {
          "Date": "2019-04-03T00:00:00",
          "User": "jkploudre"
         },
         {
          "Date": "2019-04-04T00:00:00",
          "User": "jkploudre"
         },
         {
          "Date": "2019-04-05T00:00:00",
          "User": "jkploudre"
         },
         {
          "Date": "2019-04-06T00:00:00",
          "User": "jkploudre"
         },
         {
          "Date": "2019-04-06T00:00:00",
          "User": "jkploudre"
         },
         {
          "Date": "2019-04-06T00:00:00",
          "User": "jkploudre"
         },
         {
          "Date": "2019-04-06T00:00:00",
          "User": "jkploudre"
         },
         {
          "Date": "2019-04-06T00:00:00",
          "User": "jkploudre"
         },
         {
          "Date": "2019-04-06T00:00:00",
          "User": "jkploudre"
         },
         {
          "Date": "2019-04-06T00:00:00",
          "User": "jkploudre"
         },
         {
          "Date": "2019-04-06T00:00:00",
          "User": "jkploudre"
         },
         {
          "Date": "2019-04-06T00:00:00",
          "User": "jkploudre"
         },
         {
          "Date": "2019-04-06T00:00:00",
          "User": "jkploudre"
         },
         {
          "Date": "2019-04-06T00:00:00",
          "User": "jkploudre"
         },
         {
          "Date": "2019-04-06T00:00:00",
          "User": "jkploudre"
         },
         {
          "Date": "2019-04-06T00:00:00",
          "User": "jkploudre"
         },
         {
          "Date": "2019-04-06T00:00:00",
          "User": "jkploudre"
         },
         {
          "Date": "2019-04-07T00:00:00",
          "User": "jkploudre"
         },
         {
          "Date": "2019-04-07T00:00:00",
          "User": "jkploudre"
         },
         {
          "Date": "2019-04-07T00:00:00",
          "User": "jkploudre"
         },
         {
          "Date": "2019-04-07T00:00:00",
          "User": "jkploudre"
         },
         {
          "Date": "2019-04-09T00:00:00",
          "User": "jkploudre"
         },
         {
          "Date": "2019-04-09T00:00:00",
          "User": "jkploudre"
         },
         {
          "Date": "2019-02-04T00:00:00",
          "User": "rlwatson"
         },
         {
          "Date": "2019-02-04T00:00:00",
          "User": "rlwatson"
         },
         {
          "Date": "2019-02-04T00:00:00",
          "User": "rlwatson"
         },
         {
          "Date": "2019-02-04T00:00:00",
          "User": "rlwatson"
         },
         {
          "Date": "2019-02-04T00:00:00",
          "User": "rlwatson"
         },
         {
          "Date": "2019-02-04T00:00:00",
          "User": "rlwatson"
         },
         {
          "Date": "2019-01-31T00:00:00",
          "User": "FHA7"
         },
         {
          "Date": "2019-02-01T00:00:00",
          "User": "fha7"
         },
         {
          "Date": "2019-02-07T00:00:00",
          "User": "fha7"
         },
         {
          "Date": "2019-02-12T00:00:00",
          "User": "fha7"
         },
         {
          "Date": "2019-02-14T00:00:00",
          "User": "fha7"
         },
         {
          "Date": "2019-02-21T00:00:00",
          "User": "FHA7"
         },
         {
          "Date": "2019-02-28T00:00:00",
          "User": "FHA7"
         },
         {
          "Date": "2019-03-05T00:00:00",
          "User": "fha7"
         },
         {
          "Date": "2019-03-07T00:00:00",
          "User": "fha7"
         },
         {
          "Date": "2019-03-12T00:00:00",
          "User": "fha7"
         },
         {
          "Date": "2019-03-14T00:00:00",
          "User": "fha7"
         },
         {
          "Date": "2019-03-15T00:00:00",
          "User": "fha7"
         },
         {
          "Date": "2019-03-15T00:00:00",
          "User": "fha7"
         },
         {
          "Date": "2019-03-18T00:00:00",
          "User": "fha7"
         },
         {
          "Date": "2019-03-19T00:00:00",
          "User": "fha7"
         },
         {
          "Date": "2019-03-15T00:00:00",
          "User": "mjwestergard"
         },
         {
          "Date": "2019-04-02T00:00:00",
          "User": "mjwestergard"
         },
         {
          "Date": "2019-01-22T00:00:00",
          "User": "dmroessler"
         },
         {
          "Date": "2019-01-23T00:00:00",
          "User": "dmroessler"
         },
         {
          "Date": "2019-01-30T00:00:00",
          "User": "dmroessler"
         },
         {
          "Date": "2019-02-05T00:00:00",
          "User": "dmroessler"
         },
         {
          "Date": "2019-02-05T00:00:00",
          "User": "dmroessler"
         },
         {
          "Date": "2019-02-06T00:00:00",
          "User": "dmroessler"
         },
         {
          "Date": "2019-02-07T00:00:00",
          "User": "dmroessler"
         },
         {
          "Date": "2019-02-15T00:00:00",
          "User": "dmroessler"
         },
         {
          "Date": "2019-02-17T00:00:00",
          "User": "dmroessler"
         },
         {
          "Date": "2019-02-18T00:00:00",
          "User": "dmroessler"
         },
         {
          "Date": "2019-02-18T00:00:00",
          "User": "dmroessler"
         },
         {
          "Date": "2019-02-18T00:00:00",
          "User": "dmroessler"
         },
         {
          "Date": "2019-02-19T00:00:00",
          "User": "dmroessler"
         },
         {
          "Date": "2019-02-19T00:00:00",
          "User": "dmroessler"
         },
         {
          "Date": "2019-02-20T00:00:00",
          "User": "dmroessler"
         },
         {
          "Date": "2019-02-21T00:00:00",
          "User": "dmroessler"
         },
         {
          "Date": "2019-02-24T00:00:00",
          "User": "dmroessler"
         },
         {
          "Date": "2019-02-25T00:00:00",
          "User": "dmroessler"
         },
         {
          "Date": "2019-02-25T00:00:00",
          "User": "dmroessler"
         },
         {
          "Date": "2019-02-26T00:00:00",
          "User": "dmroessler"
         },
         {
          "Date": "2019-02-26T00:00:00",
          "User": "dmroessler"
         },
         {
          "Date": "2019-02-26T00:00:00",
          "User": "dmroessler"
         },
         {
          "Date": "2019-02-27T00:00:00",
          "User": "dmroessler"
         },
         {
          "Date": "2019-02-27T00:00:00",
          "User": "dmroessler"
         },
         {
          "Date": "2019-02-28T00:00:00",
          "User": "dmroessler"
         },
         {
          "Date": "2019-03-01T00:00:00",
          "User": "dmroessler"
         },
         {
          "Date": "2019-03-03T00:00:00",
          "User": "dmroessler"
         },
         {
          "Date": "2019-03-04T00:00:00",
          "User": "dmroessler"
         },
         {
          "Date": "2019-03-04T00:00:00",
          "User": "dmroessler"
         },
         {
          "Date": "2019-03-04T00:00:00",
          "User": "dmroessler"
         },
         {
          "Date": "2019-03-05T00:00:00",
          "User": "dmroessler"
         },
         {
          "Date": "2019-03-05T00:00:00",
          "User": "dmroessler"
         },
         {
          "Date": "2019-03-05T00:00:00",
          "User": "dmroessler"
         },
         {
          "Date": "2019-03-06T00:00:00",
          "User": "dmroessler"
         },
         {
          "Date": "2019-03-06T00:00:00",
          "User": "dmroessler"
         },
         {
          "Date": "2019-03-07T00:00:00",
          "User": "dmroessler"
         },
         {
          "Date": "2019-03-08T00:00:00",
          "User": "dmroessler"
         },
         {
          "Date": "2019-03-10T00:00:00",
          "User": "dmroessler"
         },
         {
          "Date": "2019-03-10T00:00:00",
          "User": "dmroessler"
         },
         {
          "Date": "2019-03-11T00:00:00",
          "User": "dmroessler"
         },
         {
          "Date": "2019-03-11T00:00:00",
          "User": "dmroessler"
         },
         {
          "Date": "2019-03-11T00:00:00",
          "User": "dmroessler"
         },
         {
          "Date": "2019-03-12T00:00:00",
          "User": "dmroessler"
         },
         {
          "Date": "2019-03-12T00:00:00",
          "User": "dmroessler"
         },
         {
          "Date": "2019-03-13T00:00:00",
          "User": "dmroessler"
         },
         {
          "Date": "2019-03-13T00:00:00",
          "User": "dmroessler"
         },
         {
          "Date": "2019-03-14T00:00:00",
          "User": "dmroessler"
         },
         {
          "Date": "2019-03-14T00:00:00",
          "User": "dmroessler"
         },
         {
          "Date": "2019-03-17T00:00:00",
          "User": "dmroessler"
         },
         {
          "Date": "2019-03-18T00:00:00",
          "User": "dmroessler"
         },
         {
          "Date": "2019-03-18T00:00:00",
          "User": "dmroessler"
         },
         {
          "Date": "2019-03-19T00:00:00",
          "User": "dmroessler"
         },
         {
          "Date": "2019-03-19T00:00:00",
          "User": "dmroessler"
         },
         {
          "Date": "2019-03-20T00:00:00",
          "User": "dmroessler"
         },
         {
          "Date": "2019-03-20T00:00:00",
          "User": "dmroessler"
         },
         {
          "Date": "2019-03-21T00:00:00",
          "User": "dmroessler"
         },
         {
          "Date": "2019-03-21T00:00:00",
          "User": "dmroessler"
         },
         {
          "Date": "2019-03-21T00:00:00",
          "User": "dmroessler"
         },
         {
          "Date": "2019-03-22T00:00:00",
          "User": "dmroessler"
         },
         {
          "Date": "2019-03-25T00:00:00",
          "User": "dmroessler"
         },
         {
          "Date": "2019-03-25T00:00:00",
          "User": "dmroessler"
         },
         {
          "Date": "2019-03-26T00:00:00",
          "User": "dmroessler"
         },
         {
          "Date": "2019-03-27T00:00:00",
          "User": "dmroessler"
         },
         {
          "Date": "2019-03-27T00:00:00",
          "User": "dmroessler"
         },
         {
          "Date": "2019-03-28T00:00:00",
          "User": "dmroessler"
         },
         {
          "Date": "2019-03-28T00:00:00",
          "User": "dmroessler"
         },
         {
          "Date": "2019-03-29T00:00:00",
          "User": "dmroessler"
         },
         {
          "Date": "2019-04-07T00:00:00",
          "User": "dmroessler"
         },
         {
          "Date": "2019-04-08T00:00:00",
          "User": "dmroessler"
         },
         {
          "Date": "2019-04-08T00:00:00",
          "User": "dmroessler"
         },
         {
          "Date": "2019-04-09T00:00:00",
          "User": "dmroessler"
         },
         {
          "Date": "2019-01-22T00:00:00",
          "User": "arybak"
         },
         {
          "Date": "2019-01-25T00:00:00",
          "User": "ammontour"
         },
         {
          "Date": "2019-04-02T00:00:00",
          "User": "ajnansel"
         },
         {
          "Date": "2019-04-02T00:00:00",
          "User": "ajnansel"
         },
         {
          "Date": "2019-04-02T00:00:00",
          "User": "ajnansel"
         },
         {
          "Date": "2019-04-02T00:00:00",
          "User": "ajnansel"
         },
         {
          "Date": "2019-04-02T00:00:00",
          "User": "ajnansel"
         },
         {
          "Date": "2019-01-06T00:00:00",
          "User": "gjanderson"
         },
         {
          "Date": "2019-01-07T00:00:00",
          "User": "gjanderson"
         },
         {
          "Date": "2019-01-07T00:00:00",
          "User": "gjanderson"
         },
         {
          "Date": "2019-01-08T00:00:00",
          "User": "gjanderson"
         },
         {
          "Date": "2019-01-08T00:00:00",
          "User": "gjanderson"
         },
         {
          "Date": "2019-01-09T00:00:00",
          "User": "gjanderson"
         },
         {
          "Date": "2019-01-09T00:00:00",
          "User": "gjanderson"
         },
         {
          "Date": "2019-01-09T00:00:00",
          "User": "gjanderson"
         },
         {
          "Date": "2019-01-10T00:00:00",
          "User": "gjanderson"
         },
         {
          "Date": "2019-01-10T00:00:00",
          "User": "gjanderson"
         },
         {
          "Date": "2019-01-10T00:00:00",
          "User": "gjanderson"
         },
         {
          "Date": "2019-01-11T00:00:00",
          "User": "gjanderson"
         },
         {
          "Date": "2019-01-12T00:00:00",
          "User": "gjanderson"
         },
         {
          "Date": "2019-01-13T00:00:00",
          "User": "gjanderson"
         },
         {
          "Date": "2019-01-14T00:00:00",
          "User": "gjanderson"
         },
         {
          "Date": "2019-01-14T00:00:00",
          "User": "gjanderson"
         },
         {
          "Date": "2019-01-15T00:00:00",
          "User": "gjanderson"
         },
         {
          "Date": "2019-01-16T00:00:00",
          "User": "gjanderson"
         },
         {
          "Date": "2019-01-16T00:00:00",
          "User": "gjanderson"
         },
         {
          "Date": "2019-01-17T00:00:00",
          "User": "gjanderson"
         },
         {
          "Date": "2019-01-17T00:00:00",
          "User": "gjanderson"
         },
         {
          "Date": "2019-01-17T00:00:00",
          "User": "gjanderson"
         },
         {
          "Date": "2019-01-17T00:00:00",
          "User": "gjanderson"
         },
         {
          "Date": "2019-01-17T00:00:00",
          "User": "gjanderson"
         },
         {
          "Date": "2019-01-17T00:00:00",
          "User": "gjanderson"
         },
         {
          "Date": "2019-01-18T00:00:00",
          "User": "gjanderson"
         },
         {
          "Date": "2019-01-19T00:00:00",
          "User": "gjanderson"
         },
         {
          "Date": "2019-01-19T00:00:00",
          "User": "gjanderson"
         },
         {
          "Date": "2019-01-19T00:00:00",
          "User": "gjanderson"
         },
         {
          "Date": "2019-01-20T00:00:00",
          "User": "gjanderson"
         },
         {
          "Date": "2019-01-20T00:00:00",
          "User": "gjanderson"
         },
         {
          "Date": "2019-01-21T00:00:00",
          "User": "gjanderson"
         },
         {
          "Date": "2019-01-21T00:00:00",
          "User": "gjanderson"
         },
         {
          "Date": "2019-01-21T00:00:00",
          "User": "gjanderson"
         },
         {
          "Date": "2019-01-21T00:00:00",
          "User": "gjanderson"
         },
         {
          "Date": "2019-01-22T00:00:00",
          "User": "gjanderson"
         },
         {
          "Date": "2019-01-22T00:00:00",
          "User": "gjanderson"
         },
         {
          "Date": "2019-01-23T00:00:00",
          "User": "gjanderson"
         },
         {
          "Date": "2019-01-23T00:00:00",
          "User": "gjanderson"
         },
         {
          "Date": "2019-01-24T00:00:00",
          "User": "gjanderson"
         },
         {
          "Date": "2019-01-24T00:00:00",
          "User": "gjanderson"
         },
         {
          "Date": "2019-01-25T00:00:00",
          "User": "gjanderson"
         },
         {
          "Date": "2019-01-26T00:00:00",
          "User": "gjanderson"
         },
         {
          "Date": "2019-01-26T00:00:00",
          "User": "gjanderson"
         },
         {
          "Date": "2019-01-26T00:00:00",
          "User": "gjanderson"
         },
         {
          "Date": "2019-01-27T00:00:00",
          "User": "gjanderson"
         },
         {
          "Date": "2019-01-27T00:00:00",
          "User": "gjanderson"
         },
         {
          "Date": "2019-01-27T00:00:00",
          "User": "gjanderson"
         },
         {
          "Date": "2019-01-27T00:00:00",
          "User": "gjanderson"
         },
         {
          "Date": "2019-01-27T00:00:00",
          "User": "gjanderson"
         },
         {
          "Date": "2019-01-28T00:00:00",
          "User": "gjanderson"
         },
         {
          "Date": "2019-01-28T00:00:00",
          "User": "gjanderson"
         },
         {
          "Date": "2019-01-29T00:00:00",
          "User": "gjanderson"
         },
         {
          "Date": "2019-01-29T00:00:00",
          "User": "gjanderson"
         },
         {
          "Date": "2019-01-30T00:00:00",
          "User": "gjanderson"
         },
         {
          "Date": "2019-01-30T00:00:00",
          "User": "gjanderson"
         },
         {
          "Date": "2019-01-31T00:00:00",
          "User": "gjanderson"
         },
         {
          "Date": "2019-01-31T00:00:00",
          "User": "gjanderson"
         },
         {
          "Date": "2019-01-31T00:00:00",
          "User": "gjanderson"
         },
         {
          "Date": "2019-01-31T00:00:00",
          "User": "gjanderson"
         },
         {
          "Date": "2019-02-01T00:00:00",
          "User": "gjanderson"
         },
         {
          "Date": "2019-02-02T00:00:00",
          "User": "gjanderson"
         },
         {
          "Date": "2019-02-03T00:00:00",
          "User": "gjanderson"
         },
         {
          "Date": "2019-02-03T00:00:00",
          "User": "gjanderson"
         },
         {
          "Date": "2019-02-03T00:00:00",
          "User": "gjanderson"
         },
         {
          "Date": "2019-02-04T00:00:00",
          "User": "gjanderson"
         },
         {
          "Date": "2019-02-04T00:00:00",
          "User": "gjanderson"
         },
         {
          "Date": "2019-02-05T00:00:00",
          "User": "gjanderson"
         },
         {
          "Date": "2019-02-05T00:00:00",
          "User": "gjanderson"
         },
         {
          "Date": "2019-02-06T00:00:00",
          "User": "gjanderson"
         },
         {
          "Date": "2019-02-06T00:00:00",
          "User": "gjanderson"
         },
         {
          "Date": "2019-02-06T00:00:00",
          "User": "gjanderson"
         },
         {
          "Date": "2019-02-07T00:00:00",
          "User": "gjanderson"
         },
         {
          "Date": "2019-02-07T00:00:00",
          "User": "gjanderson"
         },
         {
          "Date": "2019-02-08T00:00:00",
          "User": "gjanderson"
         },
         {
          "Date": "2019-02-08T00:00:00",
          "User": "gjanderson"
         },
         {
          "Date": "2019-02-09T00:00:00",
          "User": "gjanderson"
         },
         {
          "Date": "2019-02-09T00:00:00",
          "User": "gjanderson"
         },
         {
          "Date": "2019-02-09T00:00:00",
          "User": "gjanderson"
         },
         {
          "Date": "2019-02-10T00:00:00",
          "User": "gjanderson"
         },
         {
          "Date": "2019-02-10T00:00:00",
          "User": "gjanderson"
         },
         {
          "Date": "2019-02-11T00:00:00",
          "User": "gjanderson"
         },
         {
          "Date": "2019-02-11T00:00:00",
          "User": "gjanderson"
         },
         {
          "Date": "2019-02-12T00:00:00",
          "User": "gjanderson"
         },
         {
          "Date": "2019-02-12T00:00:00",
          "User": "gjanderson"
         },
         {
          "Date": "2019-02-12T00:00:00",
          "User": "gjanderson"
         },
         {
          "Date": "2019-02-13T00:00:00",
          "User": "gjanderson"
         },
         {
          "Date": "2019-02-13T00:00:00",
          "User": "gjanderson"
         },
         {
          "Date": "2019-02-14T00:00:00",
          "User": "gjanderson"
         },
         {
          "Date": "2019-02-14T00:00:00",
          "User": "gjanderson"
         },
         {
          "Date": "2019-02-15T00:00:00",
          "User": "gjanderson"
         },
         {
          "Date": "2019-02-15T00:00:00",
          "User": "gjanderson"
         },
         {
          "Date": "2019-02-16T00:00:00",
          "User": "gjanderson"
         },
         {
          "Date": "2019-02-16T00:00:00",
          "User": "gjanderson"
         },
         {
          "Date": "2019-02-16T00:00:00",
          "User": "gjanderson"
         },
         {
          "Date": "2019-02-16T00:00:00",
          "User": "gjanderson"
         },
         {
          "Date": "2019-02-16T00:00:00",
          "User": "gjanderson"
         },
         {
          "Date": "2019-02-17T00:00:00",
          "User": "gjanderson"
         },
         {
          "Date": "2019-02-17T00:00:00",
          "User": "gjanderson"
         },
         {
          "Date": "2019-02-17T00:00:00",
          "User": "gjanderson"
         },
         {
          "Date": "2019-02-17T00:00:00",
          "User": "gjanderson"
         },
         {
          "Date": "2019-02-17T00:00:00",
          "User": "gjanderson"
         },
         {
          "Date": "2019-02-17T00:00:00",
          "User": "gjanderson"
         },
         {
          "Date": "2019-02-17T00:00:00",
          "User": "gjanderson"
         },
         {
          "Date": "2019-02-18T00:00:00",
          "User": "gjanderson"
         },
         {
          "Date": "2019-02-19T00:00:00",
          "User": "gjanderson"
         },
         {
          "Date": "2019-02-19T00:00:00",
          "User": "gjanderson"
         },
         {
          "Date": "2019-02-19T00:00:00",
          "User": "gjanderson"
         },
         {
          "Date": "2019-02-20T00:00:00",
          "User": "gjanderson"
         },
         {
          "Date": "2019-02-20T00:00:00",
          "User": "gjanderson"
         },
         {
          "Date": "2019-02-21T00:00:00",
          "User": "gjanderson"
         },
         {
          "Date": "2019-02-22T00:00:00",
          "User": "gjanderson"
         },
         {
          "Date": "2019-02-22T00:00:00",
          "User": "gjanderson"
         },
         {
          "Date": "2019-02-22T00:00:00",
          "User": "gjanderson"
         },
         {
          "Date": "2019-02-22T00:00:00",
          "User": "gjanderson"
         },
         {
          "Date": "2019-02-23T00:00:00",
          "User": "gjanderson"
         },
         {
          "Date": "2019-02-24T00:00:00",
          "User": "gjanderson"
         },
         {
          "Date": "2019-02-24T00:00:00",
          "User": "gjanderson"
         },
         {
          "Date": "2019-02-25T00:00:00",
          "User": "gjanderson"
         },
         {
          "Date": "2019-02-25T00:00:00",
          "User": "gjanderson"
         },
         {
          "Date": "2019-02-26T00:00:00",
          "User": "gjanderson"
         },
         {
          "Date": "2019-02-26T00:00:00",
          "User": "gjanderson"
         },
         {
          "Date": "2019-02-26T00:00:00",
          "User": "gjanderson"
         },
         {
          "Date": "2019-02-26T00:00:00",
          "User": "gjanderson"
         },
         {
          "Date": "2019-02-27T00:00:00",
          "User": "gjanderson"
         },
         {
          "Date": "2019-02-27T00:00:00",
          "User": "gjanderson"
         },
         {
          "Date": "2019-02-28T00:00:00",
          "User": "gjanderson"
         },
         {
          "Date": "2019-02-28T00:00:00",
          "User": "gjanderson"
         },
         {
          "Date": "2019-03-01T00:00:00",
          "User": "gjanderson"
         },
         {
          "Date": "2019-03-01T00:00:00",
          "User": "gjanderson"
         },
         {
          "Date": "2019-03-01T00:00:00",
          "User": "gjanderson"
         },
         {
          "Date": "2019-03-02T00:00:00",
          "User": "gjanderson"
         },
         {
          "Date": "2019-03-03T00:00:00",
          "User": "gjanderson"
         },
         {
          "Date": "2019-03-04T00:00:00",
          "User": "gjanderson"
         },
         {
          "Date": "2019-03-04T00:00:00",
          "User": "gjanderson"
         },
         {
          "Date": "2019-03-05T00:00:00",
          "User": "gjanderson"
         },
         {
          "Date": "2019-03-05T00:00:00",
          "User": "gjanderson"
         },
         {
          "Date": "2019-03-06T00:00:00",
          "User": "gjanderson"
         },
         {
          "Date": "2019-03-06T00:00:00",
          "User": "gjanderson"
         },
         {
          "Date": "2019-03-07T00:00:00",
          "User": "gjanderson"
         },
         {
          "Date": "2019-03-07T00:00:00",
          "User": "gjanderson"
         },
         {
          "Date": "2019-03-07T00:00:00",
          "User": "gjanderson"
         },
         {
          "Date": "2019-03-07T00:00:00",
          "User": "gjanderson"
         },
         {
          "Date": "2019-03-08T00:00:00",
          "User": "gjanderson"
         },
         {
          "Date": "2019-03-08T00:00:00",
          "User": "gjanderson"
         },
         {
          "Date": "2019-03-09T00:00:00",
          "User": "gjanderson"
         },
         {
          "Date": "2019-03-09T00:00:00",
          "User": "gjanderson"
         },
         {
          "Date": "2019-03-09T00:00:00",
          "User": "gjanderson"
         },
         {
          "Date": "2019-03-10T00:00:00",
          "User": "gjanderson"
         },
         {
          "Date": "2019-03-10T00:00:00",
          "User": "gjanderson"
         },
         {
          "Date": "2019-03-10T00:00:00",
          "User": "gjanderson"
         },
         {
          "Date": "2019-03-11T00:00:00",
          "User": "gjanderson"
         },
         {
          "Date": "2019-03-11T00:00:00",
          "User": "gjanderson"
         },
         {
          "Date": "2019-03-13T00:00:00",
          "User": "gjanderson"
         },
         {
          "Date": "2019-03-13T00:00:00",
          "User": "gjanderson"
         },
         {
          "Date": "2019-03-13T00:00:00",
          "User": "gjanderson"
         },
         {
          "Date": "2019-03-13T00:00:00",
          "User": "gjanderson"
         },
         {
          "Date": "2019-03-14T00:00:00",
          "User": "gjanderson"
         },
         {
          "Date": "2019-03-14T00:00:00",
          "User": "gjanderson"
         },
         {
          "Date": "2019-03-14T00:00:00",
          "User": "gjanderson"
         },
         {
          "Date": "2019-03-14T00:00:00",
          "User": "gjanderson"
         },
         {
          "Date": "2019-03-15T00:00:00",
          "User": "gjanderson"
         },
         {
          "Date": "2019-03-15T00:00:00",
          "User": "gjanderson"
         },
         {
          "Date": "2019-03-15T00:00:00",
          "User": "gjanderson"
         },
         {
          "Date": "2019-03-15T00:00:00",
          "User": "gjanderson"
         },
         {
          "Date": "2019-03-15T00:00:00",
          "User": "gjanderson"
         },
         {
          "Date": "2019-03-15T00:00:00",
          "User": "gjanderson"
         },
         {
          "Date": "2019-03-15T00:00:00",
          "User": "gjanderson"
         },
         {
          "Date": "2019-03-15T00:00:00",
          "User": "gjanderson"
         },
         {
          "Date": "2019-03-16T00:00:00",
          "User": "gjanderson"
         },
         {
          "Date": "2019-03-16T00:00:00",
          "User": "gjanderson"
         },
         {
          "Date": "2019-03-16T00:00:00",
          "User": "gjanderson"
         },
         {
          "Date": "2019-03-16T00:00:00",
          "User": "gjanderson"
         },
         {
          "Date": "2019-03-17T00:00:00",
          "User": "gjanderson"
         },
         {
          "Date": "2019-03-17T00:00:00",
          "User": "gjanderson"
         },
         {
          "Date": "2019-03-17T00:00:00",
          "User": "gjanderson"
         },
         {
          "Date": "2019-03-18T00:00:00",
          "User": "gjanderson"
         },
         {
          "Date": "2019-03-18T00:00:00",
          "User": "gjanderson"
         },
         {
          "Date": "2019-03-18T00:00:00",
          "User": "gjanderson"
         },
         {
          "Date": "2019-03-18T00:00:00",
          "User": "gjanderson"
         },
         {
          "Date": "2019-03-19T00:00:00",
          "User": "gjanderson"
         },
         {
          "Date": "2019-03-19T00:00:00",
          "User": "gjanderson"
         },
         {
          "Date": "2019-03-20T00:00:00",
          "User": "gjanderson"
         },
         {
          "Date": "2019-03-20T00:00:00",
          "User": "gjanderson"
         },
         {
          "Date": "2019-03-21T00:00:00",
          "User": "gjanderson"
         },
         {
          "Date": "2019-03-21T00:00:00",
          "User": "gjanderson"
         },
         {
          "Date": "2019-03-22T00:00:00",
          "User": "gjanderson"
         },
         {
          "Date": "2019-03-22T00:00:00",
          "User": "gjanderson"
         },
         {
          "Date": "2019-03-23T00:00:00",
          "User": "gjanderson"
         },
         {
          "Date": "2019-03-23T00:00:00",
          "User": "gjanderson"
         },
         {
          "Date": "2019-03-24T00:00:00",
          "User": "gjanderson"
         },
         {
          "Date": "2019-03-25T00:00:00",
          "User": "gjanderson"
         },
         {
          "Date": "2019-03-25T00:00:00",
          "User": "gjanderson"
         },
         {
          "Date": "2019-03-26T00:00:00",
          "User": "gjanderson"
         },
         {
          "Date": "2019-03-26T00:00:00",
          "User": "gjanderson"
         },
         {
          "Date": "2019-03-26T00:00:00",
          "User": "gjanderson"
         },
         {
          "Date": "2019-03-27T00:00:00",
          "User": "gjanderson"
         },
         {
          "Date": "2019-03-28T00:00:00",
          "User": "gjanderson"
         },
         {
          "Date": "2019-03-29T00:00:00",
          "User": "gjanderson"
         },
         {
          "Date": "2019-03-29T00:00:00",
          "User": "gjanderson"
         },
         {
          "Date": "2019-03-29T00:00:00",
          "User": "gjanderson"
         },
         {
          "Date": "2019-03-30T00:00:00",
          "User": "gjanderson"
         },
         {
          "Date": "2019-03-31T00:00:00",
          "User": "gjanderson"
         },
         {
          "Date": "2019-03-31T00:00:00",
          "User": "gjanderson"
         },
         {
          "Date": "2019-04-01T00:00:00",
          "User": "gjanderson"
         },
         {
          "Date": "2019-04-01T00:00:00",
          "User": "gjanderson"
         },
         {
          "Date": "2019-04-01T00:00:00",
          "User": "gjanderson"
         },
         {
          "Date": "2019-04-02T00:00:00",
          "User": "gjanderson"
         },
         {
          "Date": "2019-04-02T00:00:00",
          "User": "gjanderson"
         },
         {
          "Date": "2019-04-03T00:00:00",
          "User": "gjanderson"
         },
         {
          "Date": "2019-04-03T00:00:00",
          "User": "gjanderson"
         },
         {
          "Date": "2019-04-04T00:00:00",
          "User": "gjanderson"
         },
         {
          "Date": "2019-04-05T00:00:00",
          "User": "gjanderson"
         },
         {
          "Date": "2019-04-06T00:00:00",
          "User": "gjanderson"
         },
         {
          "Date": "2019-04-07T00:00:00",
          "User": "gjanderson"
         },
         {
          "Date": "2019-04-07T00:00:00",
          "User": "gjanderson"
         },
         {
          "Date": "2019-04-07T00:00:00",
          "User": "gjanderson"
         },
         {
          "Date": "2019-04-08T00:00:00",
          "User": "gjanderson"
         },
         {
          "Date": "2019-04-08T00:00:00",
          "User": "gjanderson"
         },
         {
          "Date": "2019-04-08T00:00:00",
          "User": "gjanderson"
         },
         {
          "Date": "2019-04-09T00:00:00",
          "User": "gjanderson"
         },
         {
          "Date": "2019-04-09T00:00:00",
          "User": "gjanderson"
         },
         {
          "Date": "2019-03-05T00:00:00",
          "User": "fha6"
         },
         {
          "Date": "2019-01-22T00:00:00",
          "User": "kjcampbell"
         },
         {
          "Date": "2019-02-18T00:00:00",
          "User": "kjcampbell"
         },
         {
          "Date": "2019-02-22T00:00:00",
          "User": "kjcampbell"
         },
         {
          "Date": "2019-02-26T00:00:00",
          "User": "eebaumann"
         },
         {
          "Date": "2019-02-26T00:00:00",
          "User": "eebaumann"
         },
         {
          "Date": "2019-02-27T00:00:00",
          "User": "eebaumann"
         },
         {
          "Date": "2019-02-28T00:00:00",
          "User": "eebaumann"
         },
         {
          "Date": "2019-03-04T00:00:00",
          "User": "eebaumann"
         },
         {
          "Date": "2019-03-04T00:00:00",
          "User": "eebaumann"
         },
         {
          "Date": "2019-03-05T00:00:00",
          "User": "eebaumann"
         },
         {
          "Date": "2019-03-07T00:00:00",
          "User": "eebaumann"
         },
         {
          "Date": "2019-03-08T00:00:00",
          "User": "eebaumann"
         },
         {
          "Date": "2019-03-11T00:00:00",
          "User": "eebaumann"
         },
         {
          "Date": "2019-03-12T00:00:00",
          "User": "eebaumann"
         },
         {
          "Date": "2019-03-14T00:00:00",
          "User": "eebaumann"
         },
         {
          "Date": "2019-03-15T00:00:00",
          "User": "eebaumann"
         },
         {
          "Date": "2019-03-18T00:00:00",
          "User": "eebaumann"
         },
         {
          "Date": "2019-03-19T00:00:00",
          "User": "eebaumann"
         },
         {
          "Date": "2019-03-21T00:00:00",
          "User": "eebaumann"
         },
         {
          "Date": "2019-03-22T00:00:00",
          "User": "eebaumann"
         },
         {
          "Date": "2019-03-25T00:00:00",
          "User": "eebaumann"
         },
         {
          "Date": "2019-03-26T00:00:00",
          "User": "eebaumann"
         },
         {
          "Date": "2019-03-28T00:00:00",
          "User": "eebaumann"
         },
         {
          "Date": "2019-03-29T00:00:00",
          "User": "eebaumann"
         },
         {
          "Date": "2019-04-01T00:00:00",
          "User": "eebaumann"
         },
         {
          "Date": "2019-04-02T00:00:00",
          "User": "eebaumann"
         },
         {
          "Date": "2019-04-04T00:00:00",
          "User": "eebaumann"
         },
         {
          "Date": "2019-04-05T00:00:00",
          "User": "eebaumann"
         },
         {
          "Date": "2019-04-08T00:00:00",
          "User": "eebaumann"
         },
         {
          "Date": "2019-04-09T00:00:00",
          "User": "eebaumann"
         },
         {
          "Date": "2019-02-28T00:00:00",
          "User": "clking"
         },
         {
          "Date": "2019-01-23T00:00:00",
          "User": "amtripp"
         },
         {
          "Date": "2019-01-23T00:00:00",
          "User": "amtripp"
         },
         {
          "Date": "2019-01-23T00:00:00",
          "User": "amtripp"
         },
         {
          "Date": "2019-01-23T00:00:00",
          "User": "amtripp"
         },
         {
          "Date": "2019-01-23T00:00:00",
          "User": "amtripp"
         },
         {
          "Date": "2019-01-23T00:00:00",
          "User": "amtripp"
         },
         {
          "Date": "2019-01-23T00:00:00",
          "User": "amtripp"
         },
         {
          "Date": "2019-01-23T00:00:00",
          "User": "amtripp"
         },
         {
          "Date": "2019-01-07T00:00:00",
          "User": "wsnyder"
         },
         {
          "Date": "2019-01-08T00:00:00",
          "User": "wsnyder"
         },
         {
          "Date": "2019-01-09T00:00:00",
          "User": "wsnyder"
         },
         {
          "Date": "2019-01-09T00:00:00",
          "User": "wsnyder"
         },
         {
          "Date": "2019-01-09T00:00:00",
          "User": "wsnyder"
         },
         {
          "Date": "2019-01-09T00:00:00",
          "User": "wsnyder"
         },
         {
          "Date": "2019-01-10T00:00:00",
          "User": "wsnyder"
         },
         {
          "Date": "2019-01-10T00:00:00",
          "User": "wsnyder"
         },
         {
          "Date": "2019-01-11T00:00:00",
          "User": "wsnyder"
         },
         {
          "Date": "2019-01-13T00:00:00",
          "User": "wsnyder"
         },
         {
          "Date": "2019-01-14T00:00:00",
          "User": "wsnyder"
         },
         {
          "Date": "2019-01-14T00:00:00",
          "User": "wsnyder"
         },
         {
          "Date": "2019-01-15T00:00:00",
          "User": "wsnyder"
         },
         {
          "Date": "2019-01-15T00:00:00",
          "User": "wsnyder"
         },
         {
          "Date": "2019-01-16T00:00:00",
          "User": "wsnyder"
         },
         {
          "Date": "2019-01-17T00:00:00",
          "User": "wsnyder"
         },
         {
          "Date": "2019-01-18T00:00:00",
          "User": "wsnyder"
         },
         {
          "Date": "2019-01-18T00:00:00",
          "User": "wsnyder"
         },
         {
          "Date": "2019-01-18T00:00:00",
          "User": "wsnyder"
         },
         {
          "Date": "2019-01-18T00:00:00",
          "User": "wsnyder"
         },
         {
          "Date": "2019-01-19T00:00:00",
          "User": "wsnyder"
         },
         {
          "Date": "2019-01-28T00:00:00",
          "User": "wsnyder"
         },
         {
          "Date": "2019-01-28T00:00:00",
          "User": "wsnyder"
         },
         {
          "Date": "2019-01-28T00:00:00",
          "User": "wsnyder"
         },
         {
          "Date": "2019-01-29T00:00:00",
          "User": "wsnyder"
         },
         {
          "Date": "2019-01-29T00:00:00",
          "User": "wsnyder"
         },
         {
          "Date": "2019-01-30T00:00:00",
          "User": "wsnyder"
         },
         {
          "Date": "2019-01-30T00:00:00",
          "User": "wsnyder"
         },
         {
          "Date": "2019-01-31T00:00:00",
          "User": "wsnyder"
         },
         {
          "Date": "2019-02-01T00:00:00",
          "User": "wsnyder"
         },
         {
          "Date": "2019-02-02T00:00:00",
          "User": "wsnyder"
         },
         {
          "Date": "2019-02-03T00:00:00",
          "User": "wsnyder"
         },
         {
          "Date": "2019-02-04T00:00:00",
          "User": "wsnyder"
         },
         {
          "Date": "2019-02-04T00:00:00",
          "User": "wsnyder"
         },
         {
          "Date": "2019-02-05T00:00:00",
          "User": "wsnyder"
         },
         {
          "Date": "2019-02-06T00:00:00",
          "User": "wsnyder"
         },
         {
          "Date": "2019-02-06T00:00:00",
          "User": "wsnyder"
         },
         {
          "Date": "2019-02-06T00:00:00",
          "User": "wsnyder"
         },
         {
          "Date": "2019-02-07T00:00:00",
          "User": "wsnyder"
         },
         {
          "Date": "2019-02-08T00:00:00",
          "User": "wsnyder"
         },
         {
          "Date": "2019-02-08T00:00:00",
          "User": "wsnyder"
         },
         {
          "Date": "2019-02-08T00:00:00",
          "User": "wsnyder"
         },
         {
          "Date": "2019-02-08T00:00:00",
          "User": "wsnyder"
         },
         {
          "Date": "2019-02-08T00:00:00",
          "User": "wsnyder"
         },
         {
          "Date": "2019-02-08T00:00:00",
          "User": "wsnyder"
         },
         {
          "Date": "2019-02-08T00:00:00",
          "User": "wsnyder"
         },
         {
          "Date": "2019-02-09T00:00:00",
          "User": "wsnyder"
         },
         {
          "Date": "2019-02-10T00:00:00",
          "User": "wsnyder"
         },
         {
          "Date": "2019-02-11T00:00:00",
          "User": "wsnyder"
         },
         {
          "Date": "2019-02-11T00:00:00",
          "User": "wsnyder"
         },
         {
          "Date": "2019-02-11T00:00:00",
          "User": "wsnyder"
         },
         {
          "Date": "2019-02-12T00:00:00",
          "User": "wsnyder"
         },
         {
          "Date": "2019-02-12T00:00:00",
          "User": "wsnyder"
         },
         {
          "Date": "2019-02-12T00:00:00",
          "User": "wsnyder"
         },
         {
          "Date": "2019-02-13T00:00:00",
          "User": "wsnyder"
         },
         {
          "Date": "2019-02-19T00:00:00",
          "User": "wsnyder"
         },
         {
          "Date": "2019-02-20T00:00:00",
          "User": "wsnyder"
         },
         {
          "Date": "2019-02-20T00:00:00",
          "User": "wsnyder"
         },
         {
          "Date": "2019-02-21T00:00:00",
          "User": "wsnyder"
         },
         {
          "Date": "2019-02-21T00:00:00",
          "User": "wsnyder"
         },
         {
          "Date": "2019-02-22T00:00:00",
          "User": "wsnyder"
         },
         {
          "Date": "2019-02-22T00:00:00",
          "User": "wsnyder"
         },
         {
          "Date": "2019-02-22T00:00:00",
          "User": "wsnyder"
         },
         {
          "Date": "2019-02-24T00:00:00",
          "User": "wsnyder"
         },
         {
          "Date": "2019-02-24T00:00:00",
          "User": "wsnyder"
         },
         {
          "Date": "2019-02-25T00:00:00",
          "User": "wsnyder"
         },
         {
          "Date": "2019-02-25T00:00:00",
          "User": "wsnyder"
         },
         {
          "Date": "2019-02-26T00:00:00",
          "User": "wsnyder"
         },
         {
          "Date": "2019-02-26T00:00:00",
          "User": "wsnyder"
         },
         {
          "Date": "2019-02-26T00:00:00",
          "User": "wsnyder"
         },
         {
          "Date": "2019-02-26T00:00:00",
          "User": "wsnyder"
         },
         {
          "Date": "2019-02-27T00:00:00",
          "User": "wsnyder"
         },
         {
          "Date": "2019-02-27T00:00:00",
          "User": "wsnyder"
         },
         {
          "Date": "2019-02-28T00:00:00",
          "User": "wsnyder"
         },
         {
          "Date": "2019-02-28T00:00:00",
          "User": "wsnyder"
         },
         {
          "Date": "2019-03-01T00:00:00",
          "User": "wsnyder"
         },
         {
          "Date": "2019-03-03T00:00:00",
          "User": "wsnyder"
         },
         {
          "Date": "2019-03-04T00:00:00",
          "User": "wsnyder"
         },
         {
          "Date": "2019-03-04T00:00:00",
          "User": "wsnyder"
         },
         {
          "Date": "2019-03-05T00:00:00",
          "User": "wsnyder"
         },
         {
          "Date": "2019-03-06T00:00:00",
          "User": "wsnyder"
         },
         {
          "Date": "2019-03-07T00:00:00",
          "User": "wsnyder"
         },
         {
          "Date": "2019-03-07T00:00:00",
          "User": "wsnyder"
         },
         {
          "Date": "2019-03-08T00:00:00",
          "User": "wsnyder"
         },
         {
          "Date": "2019-03-08T00:00:00",
          "User": "wsnyder"
         },
         {
          "Date": "2019-03-09T00:00:00",
          "User": "wsnyder"
         },
         {
          "Date": "2019-03-09T00:00:00",
          "User": "wsnyder"
         },
         {
          "Date": "2019-03-10T00:00:00",
          "User": "wsnyder"
         },
         {
          "Date": "2019-03-11T00:00:00",
          "User": "wsnyder"
         },
         {
          "Date": "2019-03-11T00:00:00",
          "User": "wsnyder"
         },
         {
          "Date": "2019-03-11T00:00:00",
          "User": "wsnyder"
         },
         {
          "Date": "2019-03-12T00:00:00",
          "User": "wsnyder"
         },
         {
          "Date": "2019-03-12T00:00:00",
          "User": "wsnyder"
         },
         {
          "Date": "2019-03-12T00:00:00",
          "User": "wsnyder"
         },
         {
          "Date": "2019-03-13T00:00:00",
          "User": "wsnyder"
         },
         {
          "Date": "2019-03-13T00:00:00",
          "User": "wsnyder"
         },
         {
          "Date": "2019-03-14T00:00:00",
          "User": "wsnyder"
         },
         {
          "Date": "2019-03-14T00:00:00",
          "User": "wsnyder"
         },
         {
          "Date": "2019-03-14T00:00:00",
          "User": "wsnyder"
         },
         {
          "Date": "2019-03-14T00:00:00",
          "User": "wsnyder"
         },
         {
          "Date": "2019-03-16T00:00:00",
          "User": "wsnyder"
         },
         {
          "Date": "2019-03-17T00:00:00",
          "User": "wsnyder"
         },
         {
          "Date": "2019-03-17T00:00:00",
          "User": "wsnyder"
         },
         {
          "Date": "2019-03-18T00:00:00",
          "User": "wsnyder"
         },
         {
          "Date": "2019-03-18T00:00:00",
          "User": "wsnyder"
         },
         {
          "Date": "2019-03-19T00:00:00",
          "User": "wsnyder"
         },
         {
          "Date": "2019-03-19T00:00:00",
          "User": "wsnyder"
         },
         {
          "Date": "2019-03-19T00:00:00",
          "User": "wsnyder"
         },
         {
          "Date": "2019-03-21T00:00:00",
          "User": "wsnyder"
         },
         {
          "Date": "2019-03-21T00:00:00",
          "User": "wsnyder"
         },
         {
          "Date": "2019-03-21T00:00:00",
          "User": "wsnyder"
         },
         {
          "Date": "2019-03-21T00:00:00",
          "User": "wsnyder"
         },
         {
          "Date": "2019-03-21T00:00:00",
          "User": "wsnyder"
         },
         {
          "Date": "2019-03-22T00:00:00",
          "User": "wsnyder"
         },
         {
          "Date": "2019-03-22T00:00:00",
          "User": "wsnyder"
         },
         {
          "Date": "2019-03-24T00:00:00",
          "User": "wsnyder"
         },
         {
          "Date": "2019-03-24T00:00:00",
          "User": "wsnyder"
         },
         {
          "Date": "2019-03-24T00:00:00",
          "User": "wsnyder"
         },
         {
          "Date": "2019-03-25T00:00:00",
          "User": "wsnyder"
         },
         {
          "Date": "2019-03-25T00:00:00",
          "User": "wsnyder"
         },
         {
          "Date": "2019-03-25T00:00:00",
          "User": "wsnyder"
         },
         {
          "Date": "2019-03-25T00:00:00",
          "User": "wsnyder"
         },
         {
          "Date": "2019-03-26T00:00:00",
          "User": "wsnyder"
         },
         {
          "Date": "2019-03-26T00:00:00",
          "User": "wsnyder"
         },
         {
          "Date": "2019-03-27T00:00:00",
          "User": "wsnyder"
         },
         {
          "Date": "2019-03-28T00:00:00",
          "User": "wsnyder"
         },
         {
          "Date": "2019-03-31T00:00:00",
          "User": "wsnyder"
         },
         {
          "Date": "2019-04-01T00:00:00",
          "User": "wsnyder"
         },
         {
          "Date": "2019-04-02T00:00:00",
          "User": "wsnyder"
         },
         {
          "Date": "2019-04-02T00:00:00",
          "User": "wsnyder"
         },
         {
          "Date": "2019-04-02T00:00:00",
          "User": "wsnyder"
         },
         {
          "Date": "2019-04-02T00:00:00",
          "User": "wsnyder"
         },
         {
          "Date": "2019-04-02T00:00:00",
          "User": "wsnyder"
         },
         {
          "Date": "2019-04-03T00:00:00",
          "User": "wsnyder"
         },
         {
          "Date": "2019-04-03T00:00:00",
          "User": "wsnyder"
         },
         {
          "Date": "2019-04-03T00:00:00",
          "User": "wsnyder"
         },
         {
          "Date": "2019-04-03T00:00:00",
          "User": "wsnyder"
         },
         {
          "Date": "2019-04-03T00:00:00",
          "User": "wsnyder"
         },
         {
          "Date": "2019-04-03T00:00:00",
          "User": "wsnyder"
         },
         {
          "Date": "2019-04-03T00:00:00",
          "User": "wsnyder"
         },
         {
          "Date": "2019-04-03T00:00:00",
          "User": "wsnyder"
         },
         {
          "Date": "2019-04-04T00:00:00",
          "User": "wsnyder"
         },
         {
          "Date": "2019-04-04T00:00:00",
          "User": "wsnyder"
         },
         {
          "Date": "2019-04-04T00:00:00",
          "User": "wsnyder"
         },
         {
          "Date": "2019-04-05T00:00:00",
          "User": "wsnyder"
         },
         {
          "Date": "2019-04-07T00:00:00",
          "User": "wsnyder"
         },
         {
          "Date": "2019-04-07T00:00:00",
          "User": "wsnyder"
         },
         {
          "Date": "2019-04-08T00:00:00",
          "User": "wsnyder"
         },
         {
          "Date": "2019-04-08T00:00:00",
          "User": "wsnyder"
         },
         {
          "Date": "2019-04-08T00:00:00",
          "User": "wsnyder"
         },
         {
          "Date": "2019-04-08T00:00:00",
          "User": "wsnyder"
         },
         {
          "Date": "2019-04-08T00:00:00",
          "User": "wsnyder"
         },
         {
          "Date": "2019-04-09T00:00:00",
          "User": "wsnyder"
         },
         {
          "Date": "2019-04-09T00:00:00",
          "User": "wsnyder"
         },
         {
          "Date": "2019-04-09T00:00:00",
          "User": "wsnyder"
         },
         {
          "Date": "2019-01-24T00:00:00",
          "User": "hllockwood"
         },
         {
          "Date": "2019-01-24T00:00:00",
          "User": "hllockwood"
         },
         {
          "Date": "2019-01-24T00:00:00",
          "User": "hllockwood"
         },
         {
          "Date": "2019-01-28T00:00:00",
          "User": "hllockwood"
         },
         {
          "Date": "2019-02-20T00:00:00",
          "User": "hllockwood"
         },
         {
          "Date": "2019-01-30T00:00:00",
          "User": "fha2"
         },
         {
          "Date": "2019-02-28T00:00:00",
          "User": "fha2"
         },
         {
          "Date": "2019-02-28T00:00:00",
          "User": "fha2"
         },
         {
          "Date": "2019-02-28T00:00:00",
          "User": "fha2"
         },
         {
          "Date": "2019-03-18T00:00:00",
          "User": "fha2"
         },
         {
          "Date": "2019-04-04T00:00:00",
          "User": "fha2"
         },
         {
          "Date": "2019-03-12T00:00:00",
          "User": "erwynn"
         },
         {
          "Date": "2019-03-28T00:00:00",
          "User": "FHA3"
         },
         {
          "Date": "2019-01-21T00:00:00",
          "User": "lclark"
         },
         {
          "Date": "2019-01-23T00:00:00",
          "User": "lclark"
         },
         {
          "Date": "2019-01-23T00:00:00",
          "User": "lclark"
         },
         {
          "Date": "2019-01-24T00:00:00",
          "User": "lclark"
         },
         {
          "Date": "2019-01-25T00:00:00",
          "User": "lclark"
         },
         {
          "Date": "2019-01-31T00:00:00",
          "User": "lclark"
         },
         {
          "Date": "2019-02-01T00:00:00",
          "User": "lclark"
         },
         {
          "Date": "2019-04-04T00:00:00",
          "User": "lclark"
         },
         {
          "Date": "2019-03-26T00:00:00",
          "User": "vcgleason"
         },
         {
          "Date": "2019-03-26T00:00:00",
          "User": "vcgleason"
         },
         {
          "Date": "2019-03-26T00:00:00",
          "User": "vcgleason"
         },
         {
          "Date": "2019-03-26T00:00:00",
          "User": "vcgleason"
         },
         {
          "Date": "2019-03-26T00:00:00",
          "User": "vcgleason"
         },
         {
          "Date": "2019-03-26T00:00:00",
          "User": "vcgleason"
         },
         {
          "Date": "2019-03-26T00:00:00",
          "User": "vcgleason"
         },
         {
          "Date": "2019-03-27T00:00:00",
          "User": "vcgleason"
         },
         {
          "Date": "2019-03-27T00:00:00",
          "User": "vcgleason"
         },
         {
          "Date": "2019-03-29T00:00:00",
          "User": "vcgleason"
         },
         {
          "Date": "2019-03-29T00:00:00",
          "User": "vcgleason"
         },
         {
          "Date": "2019-01-15T00:00:00",
          "User": "jcgamson"
         },
         {
          "Date": "2019-01-21T00:00:00",
          "User": "jcgamson"
         },
         {
          "Date": "2019-01-23T00:00:00",
          "User": "jcgamson"
         },
         {
          "Date": "2019-01-24T00:00:00",
          "User": "jcgamson"
         },
         {
          "Date": "2019-01-28T00:00:00",
          "User": "jcgamson"
         },
         {
          "Date": "2019-01-28T00:00:00",
          "User": "jcgamson"
         },
         {
          "Date": "2019-01-31T00:00:00",
          "User": "jcgamson"
         },
         {
          "Date": "2019-02-01T00:00:00",
          "User": "jcgamson"
         },
         {
          "Date": "2019-02-05T00:00:00",
          "User": "jcgamson"
         },
         {
          "Date": "2019-02-08T00:00:00",
          "User": "jcgamson"
         },
         {
          "Date": "2019-02-10T00:00:00",
          "User": "jcgamson"
         },
         {
          "Date": "2019-02-11T00:00:00",
          "User": "jcgamson"
         },
         {
          "Date": "2019-02-11T00:00:00",
          "User": "jcgamson"
         },
         {
          "Date": "2019-02-12T00:00:00",
          "User": "jcgamson"
         },
         {
          "Date": "2019-02-12T00:00:00",
          "User": "jcgamson"
         },
         {
          "Date": "2019-02-12T00:00:00",
          "User": "jcgamson"
         },
         {
          "Date": "2019-02-13T00:00:00",
          "User": "jcgamson"
         },
         {
          "Date": "2019-02-14T00:00:00",
          "User": "jcgamson"
         },
         {
          "Date": "2019-02-18T00:00:00",
          "User": "jcgamson"
         },
         {
          "Date": "2019-02-19T00:00:00",
          "User": "jcgamson"
         },
         {
          "Date": "2019-02-19T00:00:00",
          "User": "jcgamson"
         },
         {
          "Date": "2019-02-20T00:00:00",
          "User": "jcgamson"
         },
         {
          "Date": "2019-02-20T00:00:00",
          "User": "jcgamson"
         },
         {
          "Date": "2019-02-21T00:00:00",
          "User": "jcgamson"
         },
         {
          "Date": "2019-02-21T00:00:00",
          "User": "jcgamson"
         },
         {
          "Date": "2019-02-22T00:00:00",
          "User": "jcgamson"
         },
         {
          "Date": "2019-02-22T00:00:00",
          "User": "jcgamson"
         },
         {
          "Date": "2019-02-25T00:00:00",
          "User": "jcgamson"
         },
         {
          "Date": "2019-02-25T00:00:00",
          "User": "jcgamson"
         },
         {
          "Date": "2019-02-26T00:00:00",
          "User": "jcgamson"
         },
         {
          "Date": "2019-02-27T00:00:00",
          "User": "jcgamson"
         },
         {
          "Date": "2019-02-28T00:00:00",
          "User": "jcgamson"
         },
         {
          "Date": "2019-02-28T00:00:00",
          "User": "jcgamson"
         },
         {
          "Date": "2019-03-01T00:00:00",
          "User": "jcgamson"
         },
         {
          "Date": "2019-03-02T00:00:00",
          "User": "jcgamson"
         },
         {
          "Date": "2019-03-04T00:00:00",
          "User": "jcgamson"
         },
         {
          "Date": "2019-03-04T00:00:00",
          "User": "jcgamson"
         },
         {
          "Date": "2019-03-05T00:00:00",
          "User": "jcgamson"
         },
         {
          "Date": "2019-03-05T00:00:00",
          "User": "jcgamson"
         },
         {
          "Date": "2019-03-05T00:00:00",
          "User": "jcgamson"
         },
         {
          "Date": "2019-03-06T00:00:00",
          "User": "jcgamson"
         },
         {
          "Date": "2019-03-06T00:00:00",
          "User": "jcgamson"
         },
         {
          "Date": "2019-03-06T00:00:00",
          "User": "jcgamson"
         },
         {
          "Date": "2019-03-07T00:00:00",
          "User": "jcgamson"
         },
         {
          "Date": "2019-03-07T00:00:00",
          "User": "jcgamson"
         },
         {
          "Date": "2019-03-07T00:00:00",
          "User": "jcgamson"
         },
         {
          "Date": "2019-03-08T00:00:00",
          "User": "jcgamson"
         },
         {
          "Date": "2019-03-08T00:00:00",
          "User": "jcgamson"
         },
         {
          "Date": "2019-03-08T00:00:00",
          "User": "jcgamson"
         },
         {
          "Date": "2019-03-09T00:00:00",
          "User": "jcgamson"
         },
         {
          "Date": "2019-03-10T00:00:00",
          "User": "jcgamson"
         },
         {
          "Date": "2019-03-11T00:00:00",
          "User": "jcgamson"
         },
         {
          "Date": "2019-03-11T00:00:00",
          "User": "jcgamson"
         },
         {
          "Date": "2019-03-12T00:00:00",
          "User": "jcgamson"
         },
         {
          "Date": "2019-03-14T00:00:00",
          "User": "jcgamson"
         },
         {
          "Date": "2019-03-14T00:00:00",
          "User": "jcgamson"
         },
         {
          "Date": "2019-03-14T00:00:00",
          "User": "jcgamson"
         },
         {
          "Date": "2019-03-15T00:00:00",
          "User": "jcgamson"
         },
         {
          "Date": "2019-03-15T00:00:00",
          "User": "jcgamson"
         },
         {
          "Date": "2019-03-15T00:00:00",
          "User": "jcgamson"
         },
         {
          "Date": "2019-03-15T00:00:00",
          "User": "jcgamson"
         },
         {
          "Date": "2019-03-15T00:00:00",
          "User": "jcgamson"
         },
         {
          "Date": "2019-03-16T00:00:00",
          "User": "jcgamson"
         },
         {
          "Date": "2019-03-18T00:00:00",
          "User": "jcgamson"
         },
         {
          "Date": "2019-03-18T00:00:00",
          "User": "jcgamson"
         },
         {
          "Date": "2019-03-19T00:00:00",
          "User": "jcgamson"
         },
         {
          "Date": "2019-03-20T00:00:00",
          "User": "jcgamson"
         },
         {
          "Date": "2019-03-21T00:00:00",
          "User": "jcgamson"
         },
         {
          "Date": "2019-03-21T00:00:00",
          "User": "jcgamson"
         },
         {
          "Date": "2019-03-22T00:00:00",
          "User": "jcgamson"
         },
         {
          "Date": "2019-03-22T00:00:00",
          "User": "jcgamson"
         },
         {
          "Date": "2019-03-23T00:00:00",
          "User": "jcgamson"
         },
         {
          "Date": "2019-03-23T00:00:00",
          "User": "jcgamson"
         },
         {
          "Date": "2019-03-23T00:00:00",
          "User": "jcgamson"
         },
         {
          "Date": "2019-03-25T00:00:00",
          "User": "jcgamson"
         },
         {
          "Date": "2019-03-26T00:00:00",
          "User": "jcgamson"
         },
         {
          "Date": "2019-03-28T00:00:00",
          "User": "jcgamson"
         },
         {
          "Date": "2019-03-28T00:00:00",
          "User": "jcgamson"
         },
         {
          "Date": "2019-03-28T00:00:00",
          "User": "jcgamson"
         },
         {
          "Date": "2019-03-28T00:00:00",
          "User": "jcgamson"
         },
         {
          "Date": "2019-03-29T00:00:00",
          "User": "jcgamson"
         },
         {
          "Date": "2019-03-29T00:00:00",
          "User": "jcgamson"
         },
         {
          "Date": "2019-03-29T00:00:00",
          "User": "jcgamson"
         },
         {
          "Date": "2019-03-29T00:00:00",
          "User": "jcgamson"
         },
         {
          "Date": "2019-03-29T00:00:00",
          "User": "jcgamson"
         },
         {
          "Date": "2019-04-07T00:00:00",
          "User": "jcgamson"
         },
         {
          "Date": "2019-04-08T00:00:00",
          "User": "jcgamson"
         },
         {
          "Date": "2019-04-08T00:00:00",
          "User": "jcgamson"
         },
         {
          "Date": "2019-01-08T00:00:00",
          "User": "djgavaresk"
         },
         {
          "Date": "2019-02-18T00:00:00",
          "User": "djgavaresk"
         },
         {
          "Date": "2019-02-18T00:00:00",
          "User": "djgavaresk"
         },
         {
          "Date": "2019-02-19T00:00:00",
          "User": "djgavaresk"
         },
         {
          "Date": "2019-02-19T00:00:00",
          "User": "djgavaresk"
         },
         {
          "Date": "2019-03-05T00:00:00",
          "User": "djgavaresk"
         },
         {
          "Date": "2019-03-05T00:00:00",
          "User": "djgavaresk"
         },
         {
          "Date": "2019-03-06T00:00:00",
          "User": "djgavaresk"
         },
         {
          "Date": "2019-03-06T00:00:00",
          "User": "djgavaresk"
         },
         {
          "Date": "2019-03-06T00:00:00",
          "User": "djgavaresk"
         },
         {
          "Date": "2019-03-06T00:00:00",
          "User": "djgavaresk"
         },
         {
          "Date": "2019-03-06T00:00:00",
          "User": "djgavaresk"
         },
         {
          "Date": "2019-03-06T00:00:00",
          "User": "djgavaresk"
         },
         {
          "Date": "2019-03-06T00:00:00",
          "User": "djgavaresk"
         },
         {
          "Date": "2019-03-07T00:00:00",
          "User": "djgavaresk"
         },
         {
          "Date": "2019-03-15T00:00:00",
          "User": "djgavaresk"
         },
         {
          "Date": "2019-03-15T00:00:00",
          "User": "djgavaresk"
         },
         {
          "Date": "2019-03-25T00:00:00",
          "User": "djgavaresk"
         },
         {
          "Date": "2019-03-25T00:00:00",
          "User": "djgavaresk"
         },
         {
          "Date": "2019-03-27T00:00:00",
          "User": "djgavaresk"
         },
         {
          "Date": "2019-03-28T00:00:00",
          "User": "djgavaresk"
         },
         {
          "Date": "2019-03-29T00:00:00",
          "User": "djgavaresk"
         },
         {
          "Date": "2019-03-29T00:00:00",
          "User": "djgavaresk"
         },
         {
          "Date": "2019-04-01T00:00:00",
          "User": "djgavaresk"
         },
         {
          "Date": "2019-04-01T00:00:00",
          "User": "djgavaresk"
         },
         {
          "Date": "2019-04-02T00:00:00",
          "User": "djgavaresk"
         },
         {
          "Date": "2019-04-02T00:00:00",
          "User": "djgavaresk"
         },
         {
          "Date": "2019-04-03T00:00:00",
          "User": "djgavaresk"
         },
         {
          "Date": "2019-04-04T00:00:00",
          "User": "djgavaresk"
         },
         {
          "Date": "2019-04-04T00:00:00",
          "User": "djgavaresk"
         },
         {
          "Date": "2019-04-04T00:00:00",
          "User": "djgavaresk"
         },
         {
          "Date": "2019-01-14T00:00:00",
          "User": "fha1"
         },
         {
          "Date": "2019-01-30T00:00:00",
          "User": "fha1"
         },
         {
          "Date": "2019-02-28T00:00:00",
          "User": "fha1"
         },
         {
          "Date": "2019-04-04T00:00:00",
          "User": "fha1"
         },
         {
          "Date": "2019-04-04T00:00:00",
          "User": "fha1"
         },
         {
          "Date": "2019-04-08T00:00:00",
          "User": "fha1"
         },
         {
          "Date": "2019-01-08T00:00:00",
          "User": "dmjacobson"
         },
         {
          "Date": "2019-01-08T00:00:00",
          "User": "clwoodard"
         },
         {
          "Date": "2019-03-27T00:00:00",
          "User": "clwoodard"
         }
        ]
       },
       "encoding": {
        "x": {
         "field": "Date",
         "type": "temporal"
        },
        "y": {
         "aggregate": "distinct",
         "field": "User",
         "type": "nominal"
        }
       },
       "mark": "bar"
      },
      "image/png": "[encoded data removed]",
      "text/plain": [
       "<VegaLite 2 object>\n",
       "\n",
       "If you see this message, it means the renderer has not been properly enabled\n",
       "for the frontend that you are using. For more information, see\n",
       "https://altair-viz.github.io/user_guide/troubleshooting.html\n"
      ]
     },
     "execution_count": 3,
     "metadata": {},
     "output_type": "execute_result"
    }
   ],
   "source": [
    "alt.Chart(df).mark_bar().encode(\n",
    "    x='Date:T',\n",
    "    y='distinct(User)'\n",
    ")"
   ]
  },
  {
   "cell_type": "code",
   "execution_count": null,
   "metadata": {},
   "outputs": [],
   "source": []
  },
  {
   "cell_type": "code",
   "execution_count": null,
   "metadata": {},
   "outputs": [],
   "source": []
  },
  {
   "cell_type": "code",
   "execution_count": null,
   "metadata": {},
   "outputs": [],
   "source": []
  }
 ],
 "metadata": {
  "kernelspec": {
   "display_name": "Python 3",
   "language": "python",
   "name": "python3"
  },
  "language_info": {
   "codemirror_mode": {
    "name": "ipython",
    "version": 3
   },
   "file_extension": ".py",
   "mimetype": "text/x-python",
   "name": "python",
   "nbconvert_exporter": "python",
   "pygments_lexer": "ipython3",
   "version": "3.7.1"
  }
 },
 "nbformat": 4,
 "nbformat_minor": 2
}
